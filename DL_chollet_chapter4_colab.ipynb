{
  "nbformat": 4,
  "nbformat_minor": 0,
  "metadata": {
    "colab": {
      "provenance": [],
      "authorship_tag": "ABX9TyN7q2C+Bzxzu1PLpbvzt6bn",
      "include_colab_link": true
    },
    "kernelspec": {
      "name": "python3",
      "display_name": "Python 3"
    },
    "language_info": {
      "name": "python"
    },
    "accelerator": "GPU",
    "gpuClass": "standard"
  },
  "cells": [
    {
      "cell_type": "markdown",
      "metadata": {
        "id": "view-in-github",
        "colab_type": "text"
      },
      "source": [
        "<a href=\"https://colab.research.google.com/github/DietzscheNostoevsky/Deep_Learning_Chollet/blob/main/DL_chollet_chapter4_colab.ipynb\" target=\"_parent\"><img src=\"https://colab.research.google.com/assets/colab-badge.svg\" alt=\"Open In Colab\"/></a>"
      ]
    },
    {
      "cell_type": "code",
      "source": [
        "# Timing Code\n",
        "import pytz\n",
        "import time\n",
        "import datetime\n",
        "\n",
        "t0 = time.time()\n",
        "now_utc = datetime.datetime.utcnow()\n",
        "ist_tz = pytz.timezone('Asia/Kolkata')\n",
        "now_ist = now_utc.astimezone(ist_tz)\n",
        "print(\"Current time in IST:\", now_ist.strftime(\"%Y-%m-%d %H:%M:%S %Z%z\"))"
      ],
      "metadata": {
        "colab": {
          "base_uri": "https://localhost:8080/"
        },
        "id": "tUH9cTWFBr_2",
        "outputId": "6c33904d-8bf6-4800-ac22-c29d93fcb8a1"
      },
      "execution_count": 1,
      "outputs": [
        {
          "output_type": "stream",
          "name": "stdout",
          "text": [
            "Current time in IST: 2023-04-17 20:55:16 IST+0530\n"
          ]
        }
      ]
    },
    {
      "cell_type": "markdown",
      "source": [
        "#Classification and Regression with NNs"
      ],
      "metadata": {
        "id": "0a6L-QE09od6"
      }
    },
    {
      "cell_type": "markdown",
      "source": [
        "#Binary Classification\n",
        "IMDB Dataset"
      ],
      "metadata": {
        "id": "nLfJiqErzP9d"
      }
    },
    {
      "cell_type": "markdown",
      "source": [
        "### Loading the dataset"
      ],
      "metadata": {
        "id": "Go84BSJs0TzH"
      }
    },
    {
      "cell_type": "code",
      "source": [
        "import tensorflow as tf\n",
        "from tensorflow.keras.datasets import imdb\n",
        "\n",
        "(train_data, train_labels), (test_data, test_labels) = imdb.load_data(num_words=10000) \n",
        "#num_words = 1000 means only keeping top 10000 words in the data "
      ],
      "metadata": {
        "colab": {
          "base_uri": "https://localhost:8080/"
        },
        "id": "KA_6dnT40Y8n",
        "outputId": "46281107-fdb4-4c66-9634-f5612ecf47ba"
      },
      "execution_count": 2,
      "outputs": [
        {
          "output_type": "stream",
          "name": "stdout",
          "text": [
            "Downloading data from https://storage.googleapis.com/tensorflow/tf-keras-datasets/imdb.npz\n",
            "17464789/17464789 [==============================] - 0s 0us/step\n"
          ]
        }
      ]
    },
    {
      "cell_type": "code",
      "source": [
        "len(train_data)\n"
      ],
      "metadata": {
        "colab": {
          "base_uri": "https://localhost:8080/"
        },
        "id": "W9f0yTNm09G4",
        "outputId": "5851b335-4e9c-479c-d99c-9932169ca672"
      },
      "execution_count": 3,
      "outputs": [
        {
          "output_type": "execute_result",
          "data": {
            "text/plain": [
              "25000"
            ]
          },
          "metadata": {},
          "execution_count": 3
        }
      ]
    },
    {
      "cell_type": "code",
      "source": [
        "# train_data : list of reviews, each review containing a list of word indices ( encoding a sequence of words)\n",
        "train_data[0]"
      ],
      "metadata": {
        "id": "5rzh28xeBzpG"
      },
      "execution_count": null,
      "outputs": []
    },
    {
      "cell_type": "code",
      "source": [
        "# train_labels, 0 , 1 , -ve, +ve review \n",
        "train_labels[0]"
      ],
      "metadata": {
        "colab": {
          "base_uri": "https://localhost:8080/"
        },
        "id": "I0-PO0LP52dr",
        "outputId": "e0d16592-4f9e-44ef-ad76-0fa85de7bb20"
      },
      "execution_count": 7,
      "outputs": [
        {
          "output_type": "execute_result",
          "data": {
            "text/plain": [
              "1"
            ]
          },
          "metadata": {},
          "execution_count": 7
        }
      ]
    },
    {
      "cell_type": "code",
      "source": [
        "# word index should not exceed 10000, since we are only using top 10000 wods \n",
        "max([max(sequence) for sequence in train_data])"
      ],
      "metadata": {
        "colab": {
          "base_uri": "https://localhost:8080/"
        },
        "id": "DHjJMbWv6NhO",
        "outputId": "22688151-d47e-4825-d96a-6b4538278836"
      },
      "execution_count": 8,
      "outputs": [
        {
          "output_type": "execute_result",
          "data": {
            "text/plain": [
              "9999"
            ]
          },
          "metadata": {},
          "execution_count": 8
        }
      ]
    },
    {
      "cell_type": "code",
      "source": [
        "# Decoding the reviews to text \n",
        "\n",
        "word_index = imdb.get_word_index() # word_index is a dictionary mapping words to an integer index.\n",
        "reverse_word_index = dict([(value,key) for key,value in word_index.items()]) # This gives us a dictionary that maps integer indices to words, which we can use to decode the reviews.\n",
        "\n",
        "# The imdb.get_word_index() function returns a dictionary that maps words to integer indices. \n",
        "# In the returned dictionary, each key is a word and each value is its corresponding index. \n",
        "# However, we need a mapping from indices to words, which is what the second line of code accomplishes.\n",
        "\n",
        "decoded_review = \" \".join([reverse_word_index.get(i-3, \"?\") for i in train_data[0]]) # indices are offset by 3 because 0, 1, and 2 are reserved indices for “padding,” “start of sequence,” and “unknown.”\n",
        "\n",
        "# \"?\" is the second parameter foe default value to be returned if not found in dict "
      ],
      "metadata": {
        "colab": {
          "base_uri": "https://localhost:8080/"
        },
        "id": "jzOnWt8v6q1w",
        "outputId": "34d40d86-e773-4351-c04e-638fad94b213"
      },
      "execution_count": 9,
      "outputs": [
        {
          "output_type": "stream",
          "name": "stdout",
          "text": [
            "Downloading data from https://storage.googleapis.com/tensorflow/tf-keras-datasets/imdb_word_index.json\n",
            "1641221/1641221 [==============================] - 0s 0us/step\n"
          ]
        }
      ]
    },
    {
      "cell_type": "code",
      "source": [
        "decoded_review"
      ],
      "metadata": {
        "colab": {
          "base_uri": "https://localhost:8080/",
          "height": 157
        },
        "id": "nXiOhXFY9png",
        "outputId": "2a45583d-88ff-46c7-d153-868a1d23bef4"
      },
      "execution_count": 10,
      "outputs": [
        {
          "output_type": "execute_result",
          "data": {
            "text/plain": [
              "\"? this film was just brilliant casting location scenery story direction everyone's really suited the part they played and you could just imagine being there robert ? is an amazing actor and now the same being director ? father came from the same scottish island as myself so i loved the fact there was a real connection with this film the witty remarks throughout the film were great it was just brilliant so much that i bought the film as soon as it was released for ? and would recommend it to everyone to watch and the fly fishing was amazing really cried at the end it was so sad and you know what they say if you cry at a film it must have been good and this definitely was also ? to the two little boy's that played the ? of norman and paul they were just brilliant children are often left out of the ? list i think because the stars that play them all grown up are such a big profile for the whole film but these children are amazing and should be praised for what they have done don't you think the whole story was so lovely because it was true and was someone's life after all that was shared with us all\""
            ],
            "application/vnd.google.colaboratory.intrinsic+json": {
              "type": "string"
            }
          },
          "metadata": {},
          "execution_count": 10
        }
      ]
    }
  ]
}