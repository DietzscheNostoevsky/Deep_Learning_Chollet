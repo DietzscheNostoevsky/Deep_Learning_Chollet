{
  "nbformat": 4,
  "nbformat_minor": 0,
  "metadata": {
    "colab": {
      "provenance": [],
      "collapsed_sections": [
        "Go84BSJs0TzH",
        "kJcLoec0-QgK"
      ],
      "toc_visible": true,
      "authorship_tag": "ABX9TyNX+qnoJh2GG0hOs373unF+",
      "include_colab_link": true
    },
    "kernelspec": {
      "name": "python3",
      "display_name": "Python 3"
    },
    "language_info": {
      "name": "python"
    },
    "accelerator": "GPU",
    "gpuClass": "standard"
  },
  "cells": [
    {
      "cell_type": "markdown",
      "metadata": {
        "id": "view-in-github",
        "colab_type": "text"
      },
      "source": [
        "<a href=\"https://colab.research.google.com/github/DietzscheNostoevsky/Deep_Learning_Chollet/blob/main/DL_chollet_chapter4_colab.ipynb\" target=\"_parent\"><img src=\"https://colab.research.google.com/assets/colab-badge.svg\" alt=\"Open In Colab\"/></a>"
      ]
    },
    {
      "cell_type": "code",
      "source": [
        "# Timing Code\n",
        "import pytz\n",
        "import time\n",
        "import datetime\n",
        "\n",
        "t0 = time.time()\n",
        "now_utc = datetime.datetime.utcnow()\n",
        "ist_tz = pytz.timezone('Asia/Kolkata')\n",
        "now_ist = now_utc.astimezone(ist_tz)\n",
        "print(\"Current time in IST:\", now_ist.strftime(\"%Y-%m-%d %H:%M:%S %Z%z\"))"
      ],
      "metadata": {
        "colab": {
          "base_uri": "https://localhost:8080/"
        },
        "id": "tUH9cTWFBr_2",
        "outputId": "6c33904d-8bf6-4800-ac22-c29d93fcb8a1"
      },
      "execution_count": 1,
      "outputs": [
        {
          "output_type": "stream",
          "name": "stdout",
          "text": [
            "Current time in IST: 2023-04-17 20:55:16 IST+0530\n"
          ]
        }
      ]
    },
    {
      "cell_type": "markdown",
      "source": [
        "# Classification and Regression with NNs"
      ],
      "metadata": {
        "id": "0a6L-QE09od6"
      }
    },
    {
      "cell_type": "markdown",
      "source": [
        "# Binary Classification\n",
        "IMDB Dataset"
      ],
      "metadata": {
        "id": "nLfJiqErzP9d"
      }
    },
    {
      "cell_type": "markdown",
      "source": [
        "### Loading the dataset"
      ],
      "metadata": {
        "id": "Go84BSJs0TzH"
      }
    },
    {
      "cell_type": "code",
      "source": [
        "import tensorflow as tf\n",
        "from tensorflow.keras.datasets import imdb\n",
        "\n",
        "(train_data, train_labels), (test_data, test_labels) = imdb.load_data(num_words=10000) \n",
        "#num_words = 1000 means only keeping top 10000 words in the data "
      ],
      "metadata": {
        "colab": {
          "base_uri": "https://localhost:8080/"
        },
        "id": "KA_6dnT40Y8n",
        "outputId": "46281107-fdb4-4c66-9634-f5612ecf47ba"
      },
      "execution_count": 2,
      "outputs": [
        {
          "output_type": "stream",
          "name": "stdout",
          "text": [
            "Downloading data from https://storage.googleapis.com/tensorflow/tf-keras-datasets/imdb.npz\n",
            "17464789/17464789 [==============================] - 0s 0us/step\n"
          ]
        }
      ]
    },
    {
      "cell_type": "code",
      "source": [
        "len(train_data)\n"
      ],
      "metadata": {
        "colab": {
          "base_uri": "https://localhost:8080/"
        },
        "id": "W9f0yTNm09G4",
        "outputId": "5851b335-4e9c-479c-d99c-9932169ca672"
      },
      "execution_count": 3,
      "outputs": [
        {
          "output_type": "execute_result",
          "data": {
            "text/plain": [
              "25000"
            ]
          },
          "metadata": {},
          "execution_count": 3
        }
      ]
    },
    {
      "cell_type": "code",
      "source": [
        "# train_data : list of reviews, each review containing a list of word indices ( encoding a sequence of words)\n",
        "train_data[0]"
      ],
      "metadata": {
        "id": "5rzh28xeBzpG"
      },
      "execution_count": null,
      "outputs": []
    },
    {
      "cell_type": "code",
      "source": [
        "# train_labels, 0 , 1 , -ve, +ve review \n",
        "train_labels[0]"
      ],
      "metadata": {
        "colab": {
          "base_uri": "https://localhost:8080/"
        },
        "id": "I0-PO0LP52dr",
        "outputId": "e0d16592-4f9e-44ef-ad76-0fa85de7bb20"
      },
      "execution_count": 7,
      "outputs": [
        {
          "output_type": "execute_result",
          "data": {
            "text/plain": [
              "1"
            ]
          },
          "metadata": {},
          "execution_count": 7
        }
      ]
    },
    {
      "cell_type": "code",
      "source": [
        "# word index should not exceed 10000, since we are only using top 10000 wods \n",
        "max([max(sequence) for sequence in train_data])"
      ],
      "metadata": {
        "colab": {
          "base_uri": "https://localhost:8080/"
        },
        "id": "DHjJMbWv6NhO",
        "outputId": "22688151-d47e-4825-d96a-6b4538278836"
      },
      "execution_count": 8,
      "outputs": [
        {
          "output_type": "execute_result",
          "data": {
            "text/plain": [
              "9999"
            ]
          },
          "metadata": {},
          "execution_count": 8
        }
      ]
    },
    {
      "cell_type": "markdown",
      "source": [
        "#### Decoding the review as text"
      ],
      "metadata": {
        "id": "wqPzqn-Y-LX3"
      }
    },
    {
      "cell_type": "code",
      "source": [
        "# Decoding the reviews to text \n",
        "\n",
        "word_index = imdb.get_word_index() # word_index is a dictionary mapping words to an integer index.\n",
        "reverse_word_index = dict([(value,key) for key,value in word_index.items()]) # This gives us a dictionary that maps integer indices to words, which we can use to decode the reviews.\n",
        "\n",
        "# The imdb.get_word_index() function returns a dictionary that maps words to integer indices. \n",
        "# In the returned dictionary, each key is a word and each value is its corresponding index. \n",
        "# However, we need a mapping from indices to words, which is what the second line of code accomplishes.\n",
        "\n",
        "decoded_review = \" \".join([reverse_word_index.get(i-3, \"?\") for i in train_data[0]]) # indices are offset by 3 because 0, 1, and 2 are reserved indices for “padding,” “start of sequence,” and “unknown.”\n",
        "\n",
        "# \"?\" is the second parameter foe default value to be returned if not found in dict "
      ],
      "metadata": {
        "colab": {
          "base_uri": "https://localhost:8080/"
        },
        "id": "jzOnWt8v6q1w",
        "outputId": "34d40d86-e773-4351-c04e-638fad94b213"
      },
      "execution_count": 9,
      "outputs": [
        {
          "output_type": "stream",
          "name": "stdout",
          "text": [
            "Downloading data from https://storage.googleapis.com/tensorflow/tf-keras-datasets/imdb_word_index.json\n",
            "1641221/1641221 [==============================] - 0s 0us/step\n"
          ]
        }
      ]
    },
    {
      "cell_type": "code",
      "source": [
        "decoded_review"
      ],
      "metadata": {
        "colab": {
          "base_uri": "https://localhost:8080/",
          "height": 192
        },
        "id": "nXiOhXFY9png",
        "outputId": "2a45583d-88ff-46c7-d153-868a1d23bef4"
      },
      "execution_count": 10,
      "outputs": [
        {
          "output_type": "execute_result",
          "data": {
            "text/plain": [
              "\"? this film was just brilliant casting location scenery story direction everyone's really suited the part they played and you could just imagine being there robert ? is an amazing actor and now the same being director ? father came from the same scottish island as myself so i loved the fact there was a real connection with this film the witty remarks throughout the film were great it was just brilliant so much that i bought the film as soon as it was released for ? and would recommend it to everyone to watch and the fly fishing was amazing really cried at the end it was so sad and you know what they say if you cry at a film it must have been good and this definitely was also ? to the two little boy's that played the ? of norman and paul they were just brilliant children are often left out of the ? list i think because the stars that play them all grown up are such a big profile for the whole film but these children are amazing and should be praised for what they have done don't you think the whole story was so lovely because it was true and was someone's life after all that was shared with us all\""
            ],
            "application/vnd.google.colaboratory.intrinsic+json": {
              "type": "string"
            }
          },
          "metadata": {},
          "execution_count": 10
        }
      ]
    },
    {
      "cell_type": "markdown",
      "source": [
        "### Preparing the Data"
      ],
      "metadata": {
        "id": "kJcLoec0-QgK"
      }
    },
    {
      "cell_type": "code",
      "source": [
        "train_data_review_len = [ len(i) for i in train_data]\n",
        "train_data_review_len[:10]"
      ],
      "metadata": {
        "colab": {
          "base_uri": "https://localhost:8080/"
        },
        "id": "Rcsl7Fl--ct8",
        "outputId": "401a117b-7d5c-48ce-aead-4db7f4461708"
      },
      "execution_count": 11,
      "outputs": [
        {
          "output_type": "execute_result",
          "data": {
            "text/plain": [
              "[218, 189, 141, 550, 147, 43, 123, 562, 233, 130]"
            ]
          },
          "metadata": {},
          "execution_count": 11
        }
      ]
    },
    {
      "cell_type": "markdown",
      "source": [
        "The reviews are of different length. \n",
        "\n",
        "You can’t directly feed lists of integers into a neural network. They all have different lengths, but a neural network expects to process contiguous batches of data. You have to turn your lists into tensors."
      ],
      "metadata": {
        "id": "1qSOinNx_sA0"
      }
    },
    {
      "cell_type": "markdown",
      "source": [
        "### Multi-Hot-Encoding"
      ],
      "metadata": {
        "id": "b-0ThXr1A1ik"
      }
    },
    {
      "cell_type": "markdown",
      "source": [
        "Converting the reviews to tensors \n",
        "\n",
        "\n",
        "Multi-hot encode your lists to turn them into vectors of 0s and 1s. This would mean, for instance, turning the sequence [8, 5] into a 10,000-dimensional vector that would be all 0s except for indices 8 and 5, which would be 1s. Then you could use a Dense layer, capable of handling floating-point vector data, as the first layer in your model."
      ],
      "metadata": {
        "id": "NMyRrSWoAZRj"
      }
    },
    {
      "cell_type": "code",
      "source": [
        "import numpy as np\n",
        "def vectorize_sequences(sequences, dimension=10000):\n",
        "  results = np.zeros((len(sequences), dimension))\n",
        "  for i,sequence in enumerate(sequences):\n",
        "    for j in sequence:\n",
        "      results[i,j] = 1.\n",
        "  return results \n",
        "\n",
        "x_train = vectorize_sequences(train_data)\n",
        "x_test = vectorize_sequences(test_data)\n"
      ],
      "metadata": {
        "id": "toX7bXNUA74-"
      },
      "execution_count": 14,
      "outputs": []
    },
    {
      "cell_type": "code",
      "source": [
        "x_train[0]"
      ],
      "metadata": {
        "colab": {
          "base_uri": "https://localhost:8080/"
        },
        "id": "rCDdbfo6Gqxn",
        "outputId": "ad0aadeb-be1a-460d-a907-a8c471dc9357"
      },
      "execution_count": 15,
      "outputs": [
        {
          "output_type": "execute_result",
          "data": {
            "text/plain": [
              "array([0., 1., 1., ..., 0., 0., 0.])"
            ]
          },
          "metadata": {},
          "execution_count": 15
        }
      ]
    },
    {
      "cell_type": "code",
      "source": [
        "# Vectorizing the labels  \n",
        "\n",
        "y_train = np.asarray(train_labels).astype(\"float32\")\n",
        "y_test = np.asarray(test_labels).astype(\"float32\")\n",
        "\n",
        "print(type(y_train))\n",
        "print(type(train_labels))"
      ],
      "metadata": {
        "colab": {
          "base_uri": "https://localhost:8080/"
        },
        "id": "MDfHFkw7G3b-",
        "outputId": "9b4b264f-7c5b-4158-f4e9-88c35799827e"
      },
      "execution_count": 16,
      "outputs": [
        {
          "output_type": "stream",
          "name": "stdout",
          "text": [
            "<class 'numpy.ndarray'>\n",
            "<class 'numpy.ndarray'>\n"
          ]
        }
      ]
    },
    {
      "cell_type": "markdown",
      "source": [
        "The data is ready to be fed into a NN"
      ],
      "metadata": {
        "id": "jPaxkHNMJIAz"
      }
    },
    {
      "cell_type": "markdown",
      "source": [
        "## Building the Model"
      ],
      "metadata": {
        "id": "CSw0V43RITPV"
      }
    },
    {
      "cell_type": "markdown",
      "source": [
        "**Keras Model**\n",
        "\n",
        "- following architecture choices:\n",
        "    Two intermediate layers with 16 units each\n",
        "\n",
        "    A third layer that will output the scalar prediction regarding the sentiment of the current review\n",
        "    "
      ],
      "metadata": {
        "id": "KVQPsAKzJjlA"
      }
    },
    {
      "cell_type": "markdown",
      "source": [
        "![3_layer_arch.png](data:image/png;base64,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)"
      ],
      "metadata": {
        "id": "bXK0qCwNLn95"
      }
    },
    {
      "cell_type": "markdown",
      "source": [
        "### Model Definition"
      ],
      "metadata": {
        "id": "szb3WMwHWNrA"
      }
    },
    {
      "cell_type": "code",
      "source": [
        "## NN model \n",
        "\n",
        "from tensorflow import keras\n",
        "from tensorflow.keras import layers \n",
        "\n",
        "model = keras.Sequential([\n",
        "    layers.Dense(16, activation=\"relu\"),\n",
        "    layers.Dense(16, activation=\"relu\"),\n",
        "    layers.Dense(1, activation=\"sigmoid\")    \n",
        "\n",
        "])\n"
      ],
      "metadata": {
        "id": "fTmum6kxJil0"
      },
      "execution_count": 22,
      "outputs": []
    },
    {
      "cell_type": "markdown",
      "source": [
        "### Model Compilation"
      ],
      "metadata": {
        "id": "zCU9g401WRbf"
      }
    },
    {
      "cell_type": "code",
      "source": [
        "model.compile(optimizer=\"rmsprop\",\n",
        "              loss=\"binary_crossentropy\",\n",
        "              metrics=[\"accuracy\"])"
      ],
      "metadata": {
        "id": "n0oI5bzCOesQ"
      },
      "execution_count": 23,
      "outputs": []
    },
    {
      "cell_type": "markdown",
      "source": [
        "## Validating the approach"
      ],
      "metadata": {
        "id": "pFTb-9E-W3jJ"
      }
    },
    {
      "cell_type": "markdown",
      "source": [
        "### Creating a validation set"
      ],
      "metadata": {
        "id": "d22bQ5zfW67O"
      }
    },
    {
      "cell_type": "code",
      "source": [
        "len(x_train)"
      ],
      "metadata": {
        "colab": {
          "base_uri": "https://localhost:8080/"
        },
        "id": "xxuUKgQ2YvXB",
        "outputId": "cfdc071e-0878-4665-a78b-72b15fb6202a"
      },
      "execution_count": 24,
      "outputs": [
        {
          "output_type": "execute_result",
          "data": {
            "text/plain": [
              "25000"
            ]
          },
          "metadata": {},
          "execution_count": 24
        }
      ]
    },
    {
      "cell_type": "code",
      "source": [
        "x_val = x_train[:10000]\n",
        "partial_x_train = x_train[10000:]\n",
        "y_val = y_train[:10000]\n",
        "partial_y_train = y_train[10000:]\n"
      ],
      "metadata": {
        "id": "gziN0xE4Yols"
      },
      "execution_count": 25,
      "outputs": []
    },
    {
      "cell_type": "markdown",
      "source": [
        "## Training the Model"
      ],
      "metadata": {
        "id": "SiFzlTpzZj8l"
      }
    },
    {
      "cell_type": "code",
      "source": [
        "t1 = time.time()\n",
        "history = model.fit(partial_x_train,\n",
        "                    partial_y_train,\n",
        "                    epochs=20,\n",
        "                    batch_size=512,\n",
        "                    validation_data=(x_val,y_val))\n",
        "\n",
        "print(\"Took:{0:.2f} secs to train\".format(time.time() - t1))"
      ],
      "metadata": {
        "colab": {
          "base_uri": "https://localhost:8080/"
        },
        "id": "rTGAnRxVZt06",
        "outputId": "56fd7807-a253-4b7f-f288-8a57c8dacc21"
      },
      "execution_count": 26,
      "outputs": [
        {
          "output_type": "stream",
          "name": "stdout",
          "text": [
            "Epoch 1/20\n",
            "30/30 [==============================] - 8s 62ms/step - loss: 0.5427 - accuracy: 0.7726 - val_loss: 0.4275 - val_accuracy: 0.8449\n",
            "Epoch 2/20\n",
            "30/30 [==============================] - 1s 23ms/step - loss: 0.3438 - accuracy: 0.8900 - val_loss: 0.3263 - val_accuracy: 0.8833\n",
            "Epoch 3/20\n",
            "30/30 [==============================] - 1s 25ms/step - loss: 0.2557 - accuracy: 0.9163 - val_loss: 0.3095 - val_accuracy: 0.8757\n",
            "Epoch 4/20\n",
            "30/30 [==============================] - 1s 22ms/step - loss: 0.2084 - accuracy: 0.9287 - val_loss: 0.2901 - val_accuracy: 0.8843\n",
            "Epoch 5/20\n",
            "30/30 [==============================] - 1s 24ms/step - loss: 0.1734 - accuracy: 0.9421 - val_loss: 0.2773 - val_accuracy: 0.8882\n",
            "Epoch 6/20\n",
            "30/30 [==============================] - 1s 21ms/step - loss: 0.1470 - accuracy: 0.9527 - val_loss: 0.3046 - val_accuracy: 0.8816\n",
            "Epoch 7/20\n",
            "30/30 [==============================] - 1s 22ms/step - loss: 0.1292 - accuracy: 0.9601 - val_loss: 0.3231 - val_accuracy: 0.8795\n",
            "Epoch 8/20\n",
            "30/30 [==============================] - 1s 25ms/step - loss: 0.1139 - accuracy: 0.9659 - val_loss: 0.3363 - val_accuracy: 0.8785\n",
            "Epoch 9/20\n",
            "30/30 [==============================] - 1s 22ms/step - loss: 0.0941 - accuracy: 0.9732 - val_loss: 0.3163 - val_accuracy: 0.8819\n",
            "Epoch 10/20\n",
            "30/30 [==============================] - 1s 22ms/step - loss: 0.0859 - accuracy: 0.9745 - val_loss: 0.3336 - val_accuracy: 0.8809\n",
            "Epoch 11/20\n",
            "30/30 [==============================] - 1s 25ms/step - loss: 0.0708 - accuracy: 0.9817 - val_loss: 0.3670 - val_accuracy: 0.8724\n",
            "Epoch 12/20\n",
            "30/30 [==============================] - 1s 22ms/step - loss: 0.0624 - accuracy: 0.9837 - val_loss: 0.3749 - val_accuracy: 0.8791\n",
            "Epoch 13/20\n",
            "30/30 [==============================] - 1s 22ms/step - loss: 0.0522 - accuracy: 0.9876 - val_loss: 0.3886 - val_accuracy: 0.8786\n",
            "Epoch 14/20\n",
            "30/30 [==============================] - 1s 24ms/step - loss: 0.0451 - accuracy: 0.9899 - val_loss: 0.4085 - val_accuracy: 0.8738\n",
            "Epoch 15/20\n",
            "30/30 [==============================] - 1s 37ms/step - loss: 0.0383 - accuracy: 0.9925 - val_loss: 0.4315 - val_accuracy: 0.8755\n",
            "Epoch 16/20\n",
            "30/30 [==============================] - 1s 30ms/step - loss: 0.0332 - accuracy: 0.9937 - val_loss: 0.4552 - val_accuracy: 0.8726\n",
            "Epoch 17/20\n",
            "30/30 [==============================] - 1s 27ms/step - loss: 0.0272 - accuracy: 0.9955 - val_loss: 0.5176 - val_accuracy: 0.8689\n",
            "Epoch 18/20\n",
            "30/30 [==============================] - 1s 22ms/step - loss: 0.0236 - accuracy: 0.9966 - val_loss: 0.4991 - val_accuracy: 0.8718\n",
            "Epoch 19/20\n",
            "30/30 [==============================] - 1s 22ms/step - loss: 0.0188 - accuracy: 0.9980 - val_loss: 0.5291 - val_accuracy: 0.8720\n",
            "Epoch 20/20\n",
            "30/30 [==============================] - 1s 24ms/step - loss: 0.0196 - accuracy: 0.9965 - val_loss: 0.5462 - val_accuracy: 0.8722\n",
            "Took:22.65 secs to train\n"
          ]
        }
      ]
    },
    {
      "cell_type": "code",
      "source": [
        "history_dict = history.history\n",
        "history_dict.keys()"
      ],
      "metadata": {
        "colab": {
          "base_uri": "https://localhost:8080/"
        },
        "id": "J_v0Pt1xdXbP",
        "outputId": "c699e83b-3f1d-4903-8c68-01813f68f1bd"
      },
      "execution_count": 27,
      "outputs": [
        {
          "output_type": "execute_result",
          "data": {
            "text/plain": [
              "dict_keys(['loss', 'accuracy', 'val_loss', 'val_accuracy'])"
            ]
          },
          "metadata": {},
          "execution_count": 27
        }
      ]
    },
    {
      "cell_type": "markdown",
      "source": [
        "### Plotting the training and validation loss"
      ],
      "metadata": {
        "id": "66z7n4AXdjA8"
      }
    },
    {
      "cell_type": "code",
      "source": [
        "import matplotlib.pyplot as plt\n",
        "history_dict = history.history\n",
        "loss_values = history_dict[\"loss\"]\n",
        "val_loss_values = history_dict[\"val_loss\"]\n",
        "epochs = range(1, len(loss_values) + 1)\n",
        "plt.plot(epochs, loss_values, \"bo\", label=\"Training loss\")\n",
        "plt.plot(epochs, val_loss_values, \"b\", label=\"Validation loss\")\n",
        "plt.title(\"Training and validation loss\")\n",
        "plt.xlabel(\"Epochs\")\n",
        "plt.ylabel(\"Loss\")\n",
        "plt.legend()\n",
        "plt.show()"
      ],
      "metadata": {
        "colab": {
          "base_uri": "https://localhost:8080/",
          "height": 472
        },
        "id": "G4Cq5oTNdpDm",
        "outputId": "657851b6-a8c1-4ade-a687-45097933afb3"
      },
      "execution_count": 28,
      "outputs": [
        {
          "output_type": "display_data",
          "data": {
            "text/plain": [
              "<Figure size 640x480 with 1 Axes>"
            ],
            "image/png": "[encoded data removed]"
          },
          "metadata": {}
        }
      ]
    },
    {
      "cell_type": "markdown",
      "source": [
        "### Plotting the training and validation loss"
      ],
      "metadata": {
        "id": "ZMPdIUGXf9UA"
      }
    },
    {
      "cell_type": "code",
      "source": [
        "plt.clf()\n",
        "acc = history_dict[\"accuracy\"]\n",
        "val_acc = history_dict[\"val_accuracy\"]\n",
        "plt.plot(epochs, acc, \"bo\", label=\"Training acc\")\n",
        "plt.plot(epochs, val_acc, \"b\", label=\"Validation acc\")\n",
        "plt.title(\"Training and validation accuracy\")\n",
        "plt.xlabel(\"Epochs\")\n",
        "plt.ylabel(\"Accuracy\")\n",
        "plt.legend()\n",
        "plt.show()"
      ],
      "metadata": {
        "colab": {
          "base_uri": "https://localhost:8080/",
          "height": 472
        },
        "id": "L7QA5j2Ef-op",
        "outputId": "eda6f83a-49ab-4ac9-c92f-23e1017f3c58"
      },
      "execution_count": 29,
      "outputs": [
        {
          "output_type": "display_data",
          "data": {
            "text/plain": [
              "<Figure size 640x480 with 1 Axes>"
            ],
            "image/png": "[encoded data removed]"
          },
          "metadata": {}
        }
      ]
    },
    {
      "cell_type": "markdown",
      "source": [
        "**Overfitting**\n",
        "\n",
        "the training loss decreases with every epoch, and the training accuracy increases with every epoch. That’s what you would expect when running gradient- descent optimization—the quantity you’re trying to minimize should be less with every iteration. But that isn’t the case for the validation loss and accuracy: they seem to peak at the fourth epoch. This is an example of what we warned against earlier: a model that performs better on the training data isn’t necessarily a model that will do better on data it has never seen before. In precise terms, what you’re seeing is overfitting: after the fourth epoch, you’re overoptimizing on the training data, and you end up learning representations that are specific to the training data and don’t gener- alize to data outside of the training set.\n",
        "In this case, to prevent overfitting, you could stop training after four epochs"
      ],
      "metadata": {
        "id": "lGeelRm6jjGM"
      }
    },
    {
      "cell_type": "markdown",
      "source": [
        "### Retraining a model from Scratch\n"
      ],
      "metadata": {
        "id": "K78E7VdNk8in"
      }
    },
    {
      "cell_type": "code",
      "source": [
        "model = keras.Sequential([\n",
        "    layers.Dense(16, activation=\"relu\"),\n",
        "    layers.Dense(16, activation=\"relu\"),\n",
        "    layers.Dense(1, activation=\"sigmoid\")\n",
        "])\n",
        "model.compile(optimizer=\"rmsprop\",\n",
        "              loss=\"binary_crossentropy\",\n",
        "              metrics=[\"accuracy\"],\n",
        "              )\n",
        "model.fit(x_train, y_train, epochs=4, batch_size=512, validation_data=(x_val,y_val))\n",
        "results = model.evaluate(x_test, y_test)"
      ],
      "metadata": {
        "colab": {
          "base_uri": "https://localhost:8080/"
        },
        "id": "O3AjE6jjlF6s",
        "outputId": "9108f39c-47a3-4327-b8ee-f8e25f8b2fb9"
      },
      "execution_count": 32,
      "outputs": [
        {
          "output_type": "stream",
          "name": "stdout",
          "text": [
            "Epoch 1/4\n",
            "49/49 [==============================] - 3s 43ms/step - loss: 0.4635 - accuracy: 0.8146 - val_loss: 0.2958 - val_accuracy: 0.9072\n",
            "Epoch 2/4\n",
            "49/49 [==============================] - 1s 20ms/step - loss: 0.2684 - accuracy: 0.9046 - val_loss: 0.2390 - val_accuracy: 0.9110\n",
            "Epoch 3/4\n",
            "49/49 [==============================] - 1s 20ms/step - loss: 0.2122 - accuracy: 0.9224 - val_loss: 0.1993 - val_accuracy: 0.9228\n",
            "Epoch 4/4\n",
            "49/49 [==============================] - 1s 19ms/step - loss: 0.1784 - accuracy: 0.9356 - val_loss: 0.1420 - val_accuracy: 0.9572\n",
            "782/782 [==============================] - 3s 3ms/step - loss: 0.2852 - accuracy: 0.8864\n"
          ]
        }
      ]
    },
    {
      "cell_type": "code",
      "source": [
        "results\n",
        "\n",
        "# The first number, 0.29, is the test loss, and the second number, 0.88, is the test accuracy."
      ],
      "metadata": {
        "colab": {
          "base_uri": "https://localhost:8080/"
        },
        "id": "bQ77aaHdmIz8",
        "outputId": "bf653704-0d1c-4d85-87a1-c1c2eb7a98fe"
      },
      "execution_count": 34,
      "outputs": [
        {
          "output_type": "execute_result",
          "data": {
            "text/plain": [
              "[0.28520873188972473, 0.8864399790763855]"
            ]
          },
          "metadata": {},
          "execution_count": 34
        }
      ]
    }
  ]
}