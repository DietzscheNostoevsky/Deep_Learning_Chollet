{
  "nbformat": 4,
  "nbformat_minor": 0,
  "metadata": {
    "colab": {
      "provenance": [],
      "collapsed_sections": [
        "nLfJiqErzP9d",
        "Go84BSJs0TzH",
        "kJcLoec0-QgK",
        "b-0ThXr1A1ik",
        "pFTb-9E-W3jJ",
        "SiFzlTpzZj8l",
        "fdMDkLo6mbDi",
        "l64NObmNoMIv",
        "XlHDIrjpynX9",
        "mBH2Otel00do",
        "dqNXtZFyFyJB",
        "BaYWdsD8K57c",
        "90ZRDNKFMj07"
      ],
      "toc_visible": true,
      "authorship_tag": "ABX9TyN7xFdw/mwGRmQQHUX28Yoo",
      "include_colab_link": true
    },
    "kernelspec": {
      "name": "python3",
      "display_name": "Python 3"
    },
    "language_info": {
      "name": "python"
    },
    "gpuClass": "standard"
  },
  "cells": [
    {
      "cell_type": "markdown",
      "metadata": {
        "id": "view-in-github",
        "colab_type": "text"
      },
      "source": [
        "<a href=\"https://colab.research.google.com/github/DietzscheNostoevsky/Deep_Learning_Chollet/blob/main/DL_chollet_chapter_4.ipynb\" target=\"_parent\"><img src=\"https://colab.research.google.com/assets/colab-badge.svg\" alt=\"Open In Colab\"/></a>"
      ]
    },
    {
      "cell_type": "code",
      "source": [
        "# Timing Code\n",
        "import pytz\n",
        "import time\n",
        "import datetime\n",
        "\n",
        "t0 = time.time()\n",
        "now_utc = datetime.datetime.utcnow()\n",
        "ist_tz = pytz.timezone('Asia/Kolkata')\n",
        "now_ist = now_utc.astimezone(ist_tz)\n",
        "print(\"Current time in IST:\", now_ist.strftime(\"%Y-%m-%d %H:%M:%S %Z%z\"))"
      ],
      "metadata": {
        "colab": {
          "base_uri": "https://localhost:8080/"
        },
        "id": "tUH9cTWFBr_2",
        "outputId": "bf88b9d9-b299-4221-8404-fcc93b96319e"
      },
      "execution_count": 1,
      "outputs": [
        {
          "output_type": "stream",
          "name": "stdout",
          "text": [
            "Current time in IST: 2023-04-18 02:35:49 IST+0530\n"
          ]
        }
      ]
    },
    {
      "cell_type": "markdown",
      "source": [
        "# Classification and Regression with NNs"
      ],
      "metadata": {
        "id": "0a6L-QE09od6"
      }
    },
    {
      "cell_type": "markdown",
      "source": [
        "# Binary Classification\n",
        "IMDB Dataset"
      ],
      "metadata": {
        "id": "nLfJiqErzP9d"
      }
    },
    {
      "cell_type": "markdown",
      "source": [
        "### Loading the dataset"
      ],
      "metadata": {
        "id": "Go84BSJs0TzH"
      }
    },
    {
      "cell_type": "code",
      "source": [
        "import tensorflow as tf\n",
        "from tensorflow.keras.datasets import imdb\n",
        "\n",
        "(train_data, train_labels), (test_data, test_labels) = imdb.load_data(num_words=10000) \n",
        "#num_words = 1000 means only keeping top 10000 words in the data "
      ],
      "metadata": {
        "id": "KA_6dnT40Y8n"
      },
      "execution_count": null,
      "outputs": []
    },
    {
      "cell_type": "code",
      "source": [
        "len(train_data)\n"
      ],
      "metadata": {
        "colab": {
          "base_uri": "https://localhost:8080/"
        },
        "id": "W9f0yTNm09G4",
        "outputId": "32a8b6c2-e648-466f-d70e-85d334c63ce8"
      },
      "execution_count": null,
      "outputs": [
        {
          "output_type": "execute_result",
          "data": {
            "text/plain": [
              "25000"
            ]
          },
          "metadata": {},
          "execution_count": 3
        }
      ]
    },
    {
      "cell_type": "code",
      "source": [
        "# train_data : list of reviews, each review containing a list of word indices ( encoding a sequence of words)\n",
        "train_data[0]"
      ],
      "metadata": {
        "colab": {
          "base_uri": "https://localhost:8080/"
        },
        "id": "5rzh28xeBzpG",
        "outputId": "d0fe9a7b-e3f4-415e-8eda-63aa6f455260"
      },
      "execution_count": null,
      "outputs": [
        {
          "output_type": "execute_result",
          "data": {
            "text/plain": [
              "[1,\n",
              " 14,\n",
              " 22,\n",
              " 16,\n",
              " 43,\n",
              " 530,\n",
              " 973,\n",
              " 1622,\n",
              " 1385,\n",
              " 65,\n",
              " 458,\n",
              " 4468,\n",
              " 66,\n",
              " 3941,\n",
              " 4,\n",
              " 173,\n",
              " 36,\n",
              " 256,\n",
              " 5,\n",
              " 25,\n",
              " 100,\n",
              " 43,\n",
              " 838,\n",
              " 112,\n",
              " 50,\n",
              " 670,\n",
              " 2,\n",
              " 9,\n",
              " 35,\n",
              " 480,\n",
              " 284,\n",
              " 5,\n",
              " 150,\n",
              " 4,\n",
              " 172,\n",
              " 112,\n",
              " 167,\n",
              " 2,\n",
              " 336,\n",
              " 385,\n",
              " 39,\n",
              " 4,\n",
              " 172,\n",
              " 4536,\n",
              " 1111,\n",
              " 17,\n",
              " 546,\n",
              " 38,\n",
              " 13,\n",
              " 447,\n",
              " 4,\n",
              " 192,\n",
              " 50,\n",
              " 16,\n",
              " 6,\n",
              " 147,\n",
              " 2025,\n",
              " 19,\n",
              " 14,\n",
              " 22,\n",
              " 4,\n",
              " 1920,\n",
              " 4613,\n",
              " 469,\n",
              " 4,\n",
              " 22,\n",
              " 71,\n",
              " 87,\n",
              " 12,\n",
              " 16,\n",
              " 43,\n",
              " 530,\n",
              " 38,\n",
              " 76,\n",
              " 15,\n",
              " 13,\n",
              " 1247,\n",
              " 4,\n",
              " 22,\n",
              " 17,\n",
              " 515,\n",
              " 17,\n",
              " 12,\n",
              " 16,\n",
              " 626,\n",
              " 18,\n",
              " 2,\n",
              " 5,\n",
              " 62,\n",
              " 386,\n",
              " 12,\n",
              " 8,\n",
              " 316,\n",
              " 8,\n",
              " 106,\n",
              " 5,\n",
              " 4,\n",
              " 2223,\n",
              " 5244,\n",
              " 16,\n",
              " 480,\n",
              " 66,\n",
              " 3785,\n",
              " 33,\n",
              " 4,\n",
              " 130,\n",
              " 12,\n",
              " 16,\n",
              " 38,\n",
              " 619,\n",
              " 5,\n",
              " 25,\n",
              " 124,\n",
              " 51,\n",
              " 36,\n",
              " 135,\n",
              " 48,\n",
              " 25,\n",
              " 1415,\n",
              " 33,\n",
              " 6,\n",
              " 22,\n",
              " 12,\n",
              " 215,\n",
              " 28,\n",
              " 77,\n",
              " 52,\n",
              " 5,\n",
              " 14,\n",
              " 407,\n",
              " 16,\n",
              " 82,\n",
              " 2,\n",
              " 8,\n",
              " 4,\n",
              " 107,\n",
              " 117,\n",
              " 5952,\n",
              " 15,\n",
              " 256,\n",
              " 4,\n",
              " 2,\n",
              " 7,\n",
              " 3766,\n",
              " 5,\n",
              " 723,\n",
              " 36,\n",
              " 71,\n",
              " 43,\n",
              " 530,\n",
              " 476,\n",
              " 26,\n",
              " 400,\n",
              " 317,\n",
              " 46,\n",
              " 7,\n",
              " 4,\n",
              " 2,\n",
              " 1029,\n",
              " 13,\n",
              " 104,\n",
              " 88,\n",
              " 4,\n",
              " 381,\n",
              " 15,\n",
              " 297,\n",
              " 98,\n",
              " 32,\n",
              " 2071,\n",
              " 56,\n",
              " 26,\n",
              " 141,\n",
              " 6,\n",
              " 194,\n",
              " 7486,\n",
              " 18,\n",
              " 4,\n",
              " 226,\n",
              " 22,\n",
              " 21,\n",
              " 134,\n",
              " 476,\n",
              " 26,\n",
              " 480,\n",
              " 5,\n",
              " 144,\n",
              " 30,\n",
              " 5535,\n",
              " 18,\n",
              " 51,\n",
              " 36,\n",
              " 28,\n",
              " 224,\n",
              " 92,\n",
              " 25,\n",
              " 104,\n",
              " 4,\n",
              " 226,\n",
              " 65,\n",
              " 16,\n",
              " 38,\n",
              " 1334,\n",
              " 88,\n",
              " 12,\n",
              " 16,\n",
              " 283,\n",
              " 5,\n",
              " 16,\n",
              " 4472,\n",
              " 113,\n",
              " 103,\n",
              " 32,\n",
              " 15,\n",
              " 16,\n",
              " 5345,\n",
              " 19,\n",
              " 178,\n",
              " 32]"
            ]
          },
          "metadata": {},
          "execution_count": 4
        }
      ]
    },
    {
      "cell_type": "code",
      "source": [
        "# train_labels, 0 , 1 , -ve, +ve review \n",
        "train_labels[0]"
      ],
      "metadata": {
        "colab": {
          "base_uri": "https://localhost:8080/"
        },
        "id": "I0-PO0LP52dr",
        "outputId": "c31d332f-45e6-4f3b-9f5b-0db62a49a89f"
      },
      "execution_count": null,
      "outputs": [
        {
          "output_type": "execute_result",
          "data": {
            "text/plain": [
              "1"
            ]
          },
          "metadata": {},
          "execution_count": 5
        }
      ]
    },
    {
      "cell_type": "code",
      "source": [
        "# word index should not exceed 10000, since we are only using top 10000 wods \n",
        "max([max(sequence) for sequence in train_data])"
      ],
      "metadata": {
        "colab": {
          "base_uri": "https://localhost:8080/"
        },
        "id": "DHjJMbWv6NhO",
        "outputId": "5169f25d-5be6-421a-aad9-ab5769106e69"
      },
      "execution_count": null,
      "outputs": [
        {
          "output_type": "execute_result",
          "data": {
            "text/plain": [
              "9999"
            ]
          },
          "metadata": {},
          "execution_count": 6
        }
      ]
    },
    {
      "cell_type": "markdown",
      "source": [
        "#### Decoding the review as text"
      ],
      "metadata": {
        "id": "wqPzqn-Y-LX3"
      }
    },
    {
      "cell_type": "code",
      "source": [
        "# Decoding the reviews to text \n",
        "\n",
        "word_index = imdb.get_word_index() # word_index is a dictionary mapping words to an integer index.\n",
        "reverse_word_index = dict([(value,key) for key,value in word_index.items()]) # This gives us a dictionary that maps integer indices to words, which we can use to decode the reviews.\n",
        "\n",
        "# The imdb.get_word_index() function returns a dictionary that maps words to integer indices. \n",
        "# In the returned dictionary, each key is a word and each value is its corresponding index. \n",
        "# However, we need a mapping from indices to words, which is what the second line of code accomplishes.\n",
        "\n",
        "decoded_review = \" \".join([reverse_word_index.get(i-3, \"?\") for i in train_data[0]]) # indices are offset by 3 because 0, 1, and 2 are reserved indices for “padding,” “start of sequence,” and “unknown.”\n",
        "\n",
        "# \"?\" is the second parameter foe default value to be returned if not found in dict "
      ],
      "metadata": {
        "id": "jzOnWt8v6q1w"
      },
      "execution_count": null,
      "outputs": []
    },
    {
      "cell_type": "code",
      "source": [
        "decoded_review"
      ],
      "metadata": {
        "colab": {
          "base_uri": "https://localhost:8080/"
        },
        "id": "nXiOhXFY9png",
        "outputId": "4f0e3057-50cf-4405-c52e-1a45793033ae"
      },
      "execution_count": null,
      "outputs": [
        {
          "output_type": "execute_result",
          "data": {
            "text/plain": [
              "\"? this film was just brilliant casting location scenery story direction everyone's really suited the part they played and you could just imagine being there robert ? is an amazing actor and now the same being director ? father came from the same scottish island as myself so i loved the fact there was a real connection with this film the witty remarks throughout the film were great it was just brilliant so much that i bought the film as soon as it was released for ? and would recommend it to everyone to watch and the fly fishing was amazing really cried at the end it was so sad and you know what they say if you cry at a film it must have been good and this definitely was also ? to the two little boy's that played the ? of norman and paul they were just brilliant children are often left out of the ? list i think because the stars that play them all grown up are such a big profile for the whole film but these children are amazing and should be praised for what they have done don't you think the whole story was so lovely because it was true and was someone's life after all that was shared with us all\""
            ],
            "application/vnd.google.colaboratory.intrinsic+json": {
              "type": "string"
            }
          },
          "metadata": {},
          "execution_count": 8
        }
      ]
    },
    {
      "cell_type": "markdown",
      "source": [
        "### Preparing the Data"
      ],
      "metadata": {
        "id": "kJcLoec0-QgK"
      }
    },
    {
      "cell_type": "code",
      "source": [
        "train_data_review_len = [ len(i) for i in train_data]\n",
        "train_data_review_len[:10]"
      ],
      "metadata": {
        "colab": {
          "base_uri": "https://localhost:8080/"
        },
        "id": "Rcsl7Fl--ct8",
        "outputId": "55de7d13-0c6f-4345-999c-20fb64031e43"
      },
      "execution_count": null,
      "outputs": [
        {
          "output_type": "execute_result",
          "data": {
            "text/plain": [
              "[218, 189, 141, 550, 147, 43, 123, 562, 233, 130]"
            ]
          },
          "metadata": {},
          "execution_count": 9
        }
      ]
    },
    {
      "cell_type": "markdown",
      "source": [
        "The reviews are of different length. \n",
        "\n",
        "You can’t directly feed lists of integers into a neural network. They all have different lengths, but a neural network expects to process contiguous batches of data. You have to turn your lists into tensors."
      ],
      "metadata": {
        "id": "1qSOinNx_sA0"
      }
    },
    {
      "cell_type": "markdown",
      "source": [
        "### Multi-Hot-Encoding"
      ],
      "metadata": {
        "id": "b-0ThXr1A1ik"
      }
    },
    {
      "cell_type": "markdown",
      "source": [
        "Converting the reviews to tensors \n",
        "\n",
        "\n",
        "Multi-hot encode your lists to turn them into vectors of 0s and 1s. This would mean, for instance, turning the sequence [8, 5] into a 10,000-dimensional vector that would be all 0s except for indices 8 and 5, which would be 1s. Then you could use a Dense layer, capable of handling floating-point vector data, as the first layer in your model."
      ],
      "metadata": {
        "id": "NMyRrSWoAZRj"
      }
    },
    {
      "cell_type": "code",
      "source": [
        "import numpy as np\n",
        "def vectorize_sequences(sequences, dimension=10000):\n",
        "  results = np.zeros((len(sequences), dimension))\n",
        "  for i,sequence in enumerate(sequences):\n",
        "    for j in sequence:\n",
        "      results[i,j] = 1.\n",
        "  return results \n",
        "\n",
        "x_train = vectorize_sequences(train_data)\n",
        "x_test = vectorize_sequences(test_data)\n"
      ],
      "metadata": {
        "id": "toX7bXNUA74-"
      },
      "execution_count": null,
      "outputs": []
    },
    {
      "cell_type": "code",
      "source": [
        "x_train[0]"
      ],
      "metadata": {
        "colab": {
          "base_uri": "https://localhost:8080/"
        },
        "id": "rCDdbfo6Gqxn",
        "outputId": "b1aeac28-0b92-49bf-b2c0-28907aa41767"
      },
      "execution_count": null,
      "outputs": [
        {
          "output_type": "execute_result",
          "data": {
            "text/plain": [
              "array([0., 1., 1., ..., 0., 0., 0.])"
            ]
          },
          "metadata": {},
          "execution_count": 11
        }
      ]
    },
    {
      "cell_type": "code",
      "source": [
        "# Vectorizing the labels  \n",
        "\n",
        "y_train = np.asarray(train_labels).astype(\"float32\")\n",
        "y_test = np.asarray(test_labels).astype(\"float32\")\n",
        "\n",
        "print(type(y_train))\n",
        "print(type(train_labels))"
      ],
      "metadata": {
        "colab": {
          "base_uri": "https://localhost:8080/"
        },
        "id": "MDfHFkw7G3b-",
        "outputId": "a7b11712-3d18-4f62-e987-ab238b25c3d4"
      },
      "execution_count": null,
      "outputs": [
        {
          "output_type": "stream",
          "name": "stdout",
          "text": [
            "<class 'numpy.ndarray'>\n",
            "<class 'numpy.ndarray'>\n"
          ]
        }
      ]
    },
    {
      "cell_type": "markdown",
      "source": [
        "The data is ready to be fed into a NN"
      ],
      "metadata": {
        "id": "jPaxkHNMJIAz"
      }
    },
    {
      "cell_type": "markdown",
      "source": [
        "## Building the Model"
      ],
      "metadata": {
        "id": "CSw0V43RITPV"
      }
    },
    {
      "cell_type": "markdown",
      "source": [
        "**Keras Model**\n",
        "\n",
        "- following architecture choices:\n",
        "    Two intermediate layers with 16 units each\n",
        "\n",
        "    A third layer that will output the scalar prediction regarding the sentiment of the current review\n",
        "    "
      ],
      "metadata": {
        "id": "KVQPsAKzJjlA"
      }
    },
    {
      "cell_type": "markdown",
      "source": [
        "![3_layer_arch.png](data:image/png;base64,iVBORw0KGgoAAAANSUhEUgAAANgAAAEOCAYAAADrMNlrAAAYe2lDQ1BJQ0MgUHJvZmlsZQAAWIWVeQc8le3//3WffY59jr33Jnvvvfcm4VjHimOGEkkZJRKiVJJZqRQqEWkoZfSQJJGMSqGiMvK7jXqe7/P9v/6/1+96va77ep/P9bk+61r359wAcI34RkaGIRgBCI+IoTqYGvC7uXvwY6cBBJCAGdAAel9ydKS+nZ0VgMvv9j/L0iDMDZfnMhuy/rv//1uI/gHRZAAgLxj7+UeTw2F8FwDUKXIkNQYAzAZdKD4mcgPvhzEzFTYQxgUbOGgLV29gvy3cssnj5GAI414AcLS+vtQgAOhHYDp/HDkIlkO/CvcRI/wpEQCwwJ5jdMjBvv4AcNnBPNLh4bs3cDKMxWH+SBhXwFjN7x8yg/5Dvt8f+b6+QX/wll+bBWdEiY4M893zfwzN/17Cw2J/6xCFK20w1cxhw384hkOhuy03MC2MZyP8bGw3Yg3jHxT/rbgDgCAEx5o5b/EjuMnRhnD8ACuM5fx9jSxhzA1jk4gwG6ttul8gxcQcxnDMEAmUGHMnGLPD+HBAtLHjNs9Z6m6HbV2IxkCqof42/ZEvdVPvhq7R2FBn/W35X4IDzLflI+kTg51cYUyAsXAcxcUGxvQwlo0OdbTc5tFKDDa0+c1DjXXYsF8Yxg4BEaYGW/KRcYFUE4dt/qzw6N/+Is8GU8xttvG1mGAns634IDvJvpv2w74gewMi9J1/ywmIdrP67Yt/gJHxlu/ImYAIZ8dtOT8iYwwctsaiCJFhdtv8KMGAMNMNuiCMlaLjHLfHolxi4MW5JR8VGBlj57RlJyoxxNfCbsse1DFgBQyBEeAHsXD1A7tBCKA8m22ahX9t9ZgAX0AFQSAAyGxTfo9w3eyJgJ+OIBF8glEAiP4zzmCzNwDEwfS1P9StpwwI3OyN2xwRCqZgHA4sQRj8O3ZzVMQfbS7gHUyh/Jd2X7iSYXvD4LrR//+m/6b+TdGHKVbblNjfGvkZfnNijDFGGDOMCUYCxYnSQWmirOCnHlwVUGoo9d9+/M2PnkL3od+iB9Bj6Je7KGnUf1lpDcZg+SbbsfD7ZyxQorBMZZQBShuWDktGsaI4gQxKCdajj9KFNSvDVMNtuzeiwv8v2f/hwT9mY5sPL4dH4Nnwenjxf4+kl6RX/iNlI9b/jM+WrX5/4m34p+ff+g3/EX1/uLX8NyfyMLIB+RDZjuxCtiCbAD+yDdmM7Ebe2cB/Vte7zdX1W5vDpj2hsBzKf+nz3da5EclouTq593KrW30xAQkxGxvPcHfkHiolKDiGXx++HQL4zSPIstL8CnIKigBs3DVbx9dXh807BGLt+ZtGPgiA6jwA+OW/aeFfAbgC731+679pIt7w9sMAUD1FjqXGbdFQGw80fEowwDuNA/ACISAO+6MAVIAm0APGwALYAifgDrzhKAfD65wK4kEySAUZIBscAydACTgDzoNqcAlcA02gBbSDB+AJ6AUD4BW8eibBRzAPlsAKBEFYiA4iQRwQHyQCSUEKkBqkAxlDVpAD5A75QEFQBBQLJUMHoGwoHyqBzkE10FXoJtQOdUF90EtoHHoPfYGWEUgELYIZwYMQRexAqCH0EZYIJ8RORBAiCpGISEccRRQjyhEXEY2IdsQTxABiDPERsYgESBokK1IAKYNUQxoibZEeyEAkFbkPmYUsRJYjLyNvwfP8HDmGnEX+RGFQJBQ/SgZewWYoZxQZFYXah8pBlaCqUY2oTtRz1DhqHvULTYfmRkuhNdDmaDd0EDoenYEuRFeib6Dvw3tpEr2EwWBYMWIYVXgvumNCMEmYHMxpTD3mLqYPM4FZxGKxHFgprDbWFuuLjcFmYE9iL2LbsP3YSewPHA2OD6eAM8F54CJwabhCXC2uFdePm8at4BnxIngNvC3eH78Hn4uvwN/C9+An8SsEJoIYQZvgRAghpBKKCZcJ9wkjhK80NDSCNOo09jQUmv00xTRXaB7RjNP8pCXSStIa0nrRxtIepa2ivUv7kvYrHR2dKJ0enQddDN1Ruhq6e3SjdD/oSfSy9Ob0/vQp9KX0jfT99J8Z8AwiDPoM3gyJDIUMDQw9DLOMeEZRRkNGX8Z9jKWMNxlfMC4ykZjkmWyZwplymGqZuphmiFiiKNGY6E9MJ54n3iNOkJAkIZIhiUw6QKog3SdNMmOYxZjNmUOYs5kvMT9jnmchsiixuLAksJSy3GEZY0WyirKas4ax5rJeYx1kXWbjYdNnC2DLZLvM1s/2nZ2LXY89gD2LvZ59gH2Zg5/DmCOUI4+jieM1J4pTktOeM56zjPM+5ywXM5cmF5kri+sa1zA3gluS24E7ifs8dzf3Ig8vjylPJM9Jnns8s7ysvHq8IbwFvK287/lIfDp8FL4Cvja+D/ws/Pr8YfzF/J388wLcAmYCsQLnBJ4JrAiKCToLpgnWC74WIgipCQUKFQh1CM0L8wlbCycL1wkPi+BF1ESCRYpEHop8FxUTdRU9JNokOiPGLmYulihWJzYiTieuKx4lXi7+lwRGQk0iVOK0RK8kQlJZMliyVLJHCiGlIkWROi3VJ42WVpeOkC6XfiFDK6MvEydTJzMuyyprJZsm2yT7eYfwDo8deTse7vglpywXJlch90qeKG8hnyZ/S/6LgqQCWaFU4S9FOkUTxRTFZsUFJSmlAKUypSFlkrK18iHlDuU1FVUVqspllfeqwqo+qqdUX6gxq9mp5ag9UkerG6inqLeo/9RQ0YjRuKYxpymjGapZqzmjJaYVoFWhNaEtqO2rfU57TIdfx0fnrM6YroCur2657ls9IT1/vUq9aX0J/RD9i/qfDeQMqAY3DL4bahjuNbxrhDQyNcoyemZMNHY2LjEeNRE0CTKpM5k3VTZNMr1rhjazNMsze2HOY042rzGft1C12GvRaUlr6WhZYvnWStKKanXLGmFtYX3cesRGxCbCpskW2JrbHrd9bSdmF2V32x5jb2dfaj/lIO+Q7PDQkeS4y7HWccnJwCnX6ZWzuHOsc4cLg4uXS43Ld1cj13zXMbcdbnvdnrhzulPcmz2wHi4elR6LnsaeJzwnvZS9MrwGd4rtTNjZ5c3pHeZ9ZxfDLt9dDT5oH1efWp9VX1vfct9FP3O/U37zZENyEfmjv55/gf/7AO2A/IDpQO3A/MCZIO2g40Hvg3WDC4NnKYaUEspCiFnImZDvobahVaHrYa5h9eG4cJ/wmxHEiNCIzt28uxN290VKRWZEjkVpRJ2ImqdaUiujoeid0c0xzPBLfXeseOzB2PE4nbjSuB/xLvENCUwJEQndeyT3ZO6ZTjRJvJCESiIndSQLJKcmj+/V33tuH7TPb19HilBKesrkftP91amE1NDUp2lyaflp3w64HriVzpO+P33ioOnBugz6DGrGi0Oah84cRh2mHH6WqZh5MvNXln/W42y57MLs1RxyzuMj8keKj6wfDTz6LFclt+wY5ljEscE83bzqfKb8xPyJ49bHGwv4C7IKvp3YdaKrUKnwTBGhKLZorNiquPmk8MljJ1dLgksGSg1K609xn8o89f20/+n+Mr2yy2d4zmSfWT5LOTt0zvRcY7loeeF5zPm481MVLhUPL6hdqKnkrMyuXKuKqBqrdqjurFGtqanlrs2tQ9TF1r2/6HWx95LRpebLMpfP1bPWZ18BV2KvfLjqc3XwmuW1jga1hsvXRa6fukG6kdUINe5pnG8Kbhprdm/uu2lxs+OW5q0bt2VvV7UItJTeYbmT20poTW9db0tsW7wbeXe2Pah9omNXx6t7bvf+6rTvfHbf8v6jByYP7j3Uf9j2SPtRS5dG183Hao+bnqg8aexW7r7xVPnpjWcqzxp7VHuae9V7b/Vp9bX26/a3Pzd6/uAv87+eDNgM9A06Dw698HoxNuQ/NPMy7OXCcNzwyqv9I+iRrNeMrwtHuUfL30i8qR9TGbszbjTe/dbx7asJ8sTHd9HvVifTp+imCqf5pmtmFGZa3pu87/3g+WHyY+THldmMT0yfTn0W/3x9Tm+ue95tfnKBurD+Jecrx9eqb0rfOhbtFkeXwpdWvmf94PhR/VPt58Nl1+XplfhV7GrxmsTarV+Wv0bWw9fXI32pvpuvAki4IgIDAfhSBQCdOwAkOG8jeG7lgtsFCb98IODWBZKFPiLS4Ru1B5WBNsEgMU+wxbgIvBVBggZLM0vbT9dEX8VQyVjP1EzsID1h7mUZYn3DNsP+kWOBc5lrjQfBi+Uj8NMJEAWJQqzC7CJsouxi3OI8EvyS/FKC0sIyorJiO6Tl5OQVFVQUNZR0lY1VzFXN1UzUTTRMNA219LW1dDR0lfRk9UUNeAyZjQhG68ZfTaZMX5p1m7dYVFset0qxDrFxszW2U7YXc+ByZHTCOSNdIFeEG8od78HoyeElvFPGW2KXsA+fL6cfC5nkTwwgBbIGcQULUqRDVENNwlzCKRHJu/MjK6LOUouj82JyYjPjsuKPJhTvqU5sTXq1F+yTTtm1/2TqqwOC6bsPth/CHBbKVMgyyHbMCTySeDQvt/rY3bzh/MUCphMyhRZFgcUHTpaV3CztP/Xu9OIZ7FmOc5LlWudtK/wuxFQerCqsrq65Wfu4bvjih0s/63FX2K6KX9NtcL8edSOz8XRTfXPbza5bPbd7W57c6Wi92lZ6N6V9V4fGPeK9qc6b92sfnHqY/Sihy++x+RPZbvru2af3n53qiew16CP1TfRfe576l/2AyCBq8P2L7qH6l/nDMa9cRtRec75eHR190z52YTzz7e4J53dak8LwKlua/mvm+vuiDykfw2bJn8ifI+ey528szH3V+3ZuifS9+KfU8rPVlF8a6+v/mH8F5AwqH22JYcG8xjbgcvBBBCMaSVoG2lW6afohhiHGN0zviJ9IX5mXWNZYV9jW2H9xrHEucX3lnuOZ4h3h6+e/L3BTsFIoWzhMxEpUUgwv9kG8S6JGMkuKIm0pIyNLJzu3o0/uunyRQrIiWcle2UBFQVVAjai2rv5ZY0SzS6tRu1wnRzdez0ffwkDBkNMIYfTe+JnJFdM8s2hzJwsVSzbLFas31vdsam3z7JLsAx0cHfWd5J0FXEiuWNdlt4/uIx7dnne86nee9T6+65BPsi/Vj0L29fcIcAq0D7IJtqRYhpiFaobJhgtEsOymiURErkb9oP6MXotFxxHjhRI09jglRicVJrfsnUqh2c+XKpOmfcAm3e9gfMaRQ5WH2zKHs77nMB9ROGqfG3HsSF5d/qPj7wrWCzmLlIvtToaWHCw9c6r5dG/ZzJlf55jLJc5rV9hdIFfGVh2qLobPue66uUvEy4r1jleiruZeq2vovD5y40sTppnjpuQtjdsWLW53Altj2lLuprYf6Dh4L6Pz0P3DD7Ie5jw60nXk8ZEnR7pznmY/y+w51Jvel9q/93ncX1EDuwcjX8QMJb08OHz8VflIw+sHoy/ffBoHb4kTgu/kJ3WmzKf9Zs6+//RReTbpU+vnX/OaC3FfLn99t8i+ZPk95UfDz+kV7lWHtaxfndvzb4zQR+5Afka1ow9hHLHi2AXcTXwGwYGGm2aU9jxdOL06A4KhnTGdyYLIQOwlHWO2ZWFgecqaxWbCDrE3c0RwCnEOcWVz63B/4inlNeP9xlfGb8b/WaBAUENwRGivML9wq4i3yKposZiSWLd4gPiqxHFJKck2KUepKelUGRGZIdmcHQY7vslVyXsq0Cm0KUYqCSj1K6epKKiMq+aqaat9Ui/VMNdY1DyvZa/1S7tOx10Xq3tDj6xP1L9rEGnIb9hrlGasZDxtUmJqC7933DaPspCyeGdZZuVhzWr93Cbf1sGOZDdof9LB21HY8YPTVedEF2NXBtdht0r3aA8DT1rPQa8zO4O9FbxXdt33yfP18pPwWyJ3+h8P8A1UDEIFDQbXUlJCnEKlw9Bhb8JvRRTvjo90jdKg8kajomdjBmLb4+rjyxJy96QmxieFJvvv3bnPLcVpv0OqfZr9AYd0p4PuGTsPBRwOzYzOSsk+nJN/pOxoTW7jsXt5ffmjxz+fQBVKFHkVHzt5v2TllOxpv7ITZx6fXS1XOB9QUXKhpwpVrVUTX1tf9/GS5OWQ+torc9dUGvZf727kaApr7rzFdzul5W2rVVtLu3zHxU6p+1cfGjwafpzQzfe0t+dIn9Nz0QEw+HHo3fCH1+CNyPiuidop9EziR/CpYp78VXdJ7afzavHG/G/9J7hRMCoAnDgEwMb/PA41AORcBEBsDwBscO5pRweAkzpACJgCaLEDQBbaf+4PCE48CYAEeIAkUANmcH4ZBueURaAedIEJsAaxQ8qQIxQNnYCaoddwzieNcEGkIuoRo0gGpAEyHnkJOQVnaV6oUtQrOBPzQV9Af8KoYFIxz7A82HBsG46Eo+Da8Zz4WHw/QZFQRFilIdM8pVWnraZjp8uhR9An0X9niGVYYkxkgpiyiKzECpIaqZc5hAXLcoHVmHWK7TC7FHsvRwwnB2crlz83Dfc1Hg9eJO8lPk84I+gTyBW0FWISei5cJOIpKiA6JXZRPFpCQxKS7JLKk/aEV+e8bP+OFrlK+XyFfYoUJUdlDRU+VUh1TK1FvUAjRFNbi15rRLtGJ0ZXVw+n16ffYHDdsMnolnGryT3TLrMe80GLUctpqwXrFVucHau9qIOao5UT2TnZpdi11W3Gg+Sp7xW5s9x7wIfgq++XRG72/x6oFpQU3B5CCHUOqwhf3G0WWRY1F60Vkx07Gq+UcGzPQpJr8oN92imtqZZpE+mZGdqHQWZf9pUjp3Lz88yOIwvuF+YVB5QYnpIuEzwrUq5UYVMZVV1a++QSqFe9atPgfiO4KfnmidvX7vS3LXXwdpo9iHl09vGz7rUemb6dz48O3B0iDZNHLo3OjnNPqE3qTcu/p//wYvbo5x1z7QtmXzq/KSyWLC3/sP95YXlhVWMt5dfdzfNja/6J8PxLAFVgAlxBCNgHCkAd6ASj4AdEguQgGygCOgY1QC8RACEBZ/lpiKuIt3Aeb4VMR7YhV1DaqAOobjQ7OhDdiMFjvDGNWEZsGPYJThqXi1vEe+EfEGQJRTRImiiacVpn2sd0hnSt9Fr0d+As9hGjPeMonKeuEwtIsqSnzBFw5tnM6stGw9bMHsjByvGQcw+XNNc4dxGPLS+Ot4NvP7+BAEbgqWChkK+wrPCqSLdomViUuLEEl8QXycdS56VTZDxlNXdIyLHL4+VXFeYUJ5ReKD9Wua16Ua1E/ZAGVdNTy1BbUodRZ1F3WK9Vv97gqmGDUZPxbZM2006zx+a9Fi8s31hNWy/YrNjh7FkdxBzVnayd/V32upa43XQf9ljzEtxp4R2z66xPjx9EVvGPCKgJnAoWpYSEXA1dDjeNKNw9E6VF3RvdFouKs4ovSphKVE86mjy9zzilOpU+bc+Bafg86T1skfkw2yyn+6hD7lheynHegruFgcX0J5tL/U+Tyh6c3Vuucv7LhatVsTVadZiLA5cvXEm+5nVdpZG+aeLm9dsH7ti0sd8d76jppD7QeoTtGnxS83R/j1efznORAabBR0POLydfJb5mHr025jS+OlE96T7NMNP14fCs5WfGuRcLZ7+GLKp8R/zoWS5dDfqluD3/SIABtJsngDhQgVeAGwgHB8EZcBsMw/tfELKAYqEKaBBBgzCCd34HEoe0R55BfkFZoKrQeDQV/QbjBO92G+wAjoz7iS8kqBMmaU7S6tGO0CXR89N3McQzSjJOMJ0h+pEkSN+ZH7KUsSaxebLrcUhxsnPRcCO4V3mWeVf5gQAWfgPlEZYV0RZ1EAsS3y9xUvIGnHfPyzLuUJBzld+nUKHYo7SiIqHqrpav3q/JrOWuXaEzp6etf8TgjZGicbbJuJmWeaHFFys760u2tHZh9o8dJZ2ynT+4WrjVeuA9KV4PvUV3HfSZ9DMkVwYgA/2D7lFEQzJCZ8KtIuojWaISqGMxRrGX49kT9u35mOQG71OVlKpUjrSj6aiDyRlfDntkXs1az3E6UnV0+Zhj3uXjhALKiQdFUsU5J+dKXU/dKRM9kwef/f7nuy9oVlZVM9Uk1k5ddLzUUi96JffqUoP39QeNMk3Hmudv2d++fIfQGtjW2k7sCLjXeB/1wO5h6aOJxxJPKN2VT8d7OHvt+w72X3/+doAwKPfCYYj68uhwzat7IwOvp0YX3qyOQ2+xE5h3mEkwuTz1aXp05un75g/lHw/PRnyy/iw1h517M9+8kPnF46vE1y/fWhbTloy+Y753/kj5qflzYfnCiscqYbVxjfyL7te1dfeN+Y8OVFTYvD4gWgMA0KPr619FAcDmA7CWt76+Ur6+vnYeTjZGALgbtvWdafOuYQTgLNcG6rvy5fO/v/FsfYP6Rx7z7xZs3kSbWuGbaLOFbyXwP1B75QPRDPAOAAAAVmVYSWZNTQAqAAAACAABh2kABAAAAAEAAAAaAAAAAAADkoYABwAAABIAAABEoAIABAAAAAEAAADYoAMABAAAAAEAAAEOAAAAAEFTQ0lJAAAAU2NyZWVuc2hvdGaxHCUAAAHWaVRYdFhNTDpjb20uYWRvYmUueG1wAAAAAAA8eDp4bXBtZXRhIHhtbG5zOng9ImFkb2JlOm5zOm1ldGEvIiB4OnhtcHRrPSJYTVAgQ29yZSA2LjAuMCI+CiAgIDxyZGY6UkRGIHhtbG5zOnJkZj0iaHR0cDovL3d3dy53My5vcmcvMTk5OS8wMi8yMi1yZGYtc3ludGF4LW5zIyI+CiAgICAgIDxyZGY6RGVzY3JpcHRpb24gcmRmOmFib3V0PSIiCiAgICAgICAgICAgIHhtbG5zOmV4aWY9Imh0dHA6Ly9ucy5hZG9iZS5jb20vZXhpZi8xLjAvIj4KICAgICAgICAgPGV4aWY6UGl4ZWxZRGltZW5zaW9uPjI3MDwvZXhpZjpQaXhlbFlEaW1lbnNpb24+CiAgICAgICAgIDxleGlmOlBpeGVsWERpbWVuc2lvbj4yMTY8L2V4aWY6UGl4ZWxYRGltZW5zaW9uPgogICAgICAgICA8ZXhpZjpVc2VyQ29tbWVudD5TY3JlZW5zaG90PC9leGlmOlVzZXJDb21tZW50PgogICAgICA8L3JkZjpEZXNjcmlwdGlvbj4KICAgPC9yZGY6UkRGPgo8L3g6eG1wbWV0YT4Kj+dUxQAANhdJREFUeAHtnQu8VdP2xydSHjeJkKhLKqJS/iLPyqNIUR5RKr0uxUWk5HnFJUkvREVJSCohj6IivQiJJAq9kPQQpfLK+o/vvK1lnX32Pmfv3dnnzHX2GJ/POXvv9Zhrrt+cvznHHHPMOXbxRIyKIqAIZASBXTOSqiaqCCgCFgElmFYERSCDCCjBMgiuJq0IKMG0DigCGURACZZBcDVpRUAJpnVAEcggAkqwDIKrSSsCSjCtA4pABhFQgmUQXE1aEVCCaR1QBDKIgBIsg+Bq0oqAEkzrgCKQQQSUYBkEN6+kK1eubJ5++um8Lkn73F9//WUGDBhgVq9enXYaemPBIKAEKxgcU07l559/Nn/88UfK9yVzw8aNG0337t3NL7/8kszlek0GEVCCZRDcZJP+73//a+bNm2d69eplrrrqKjNt2rTgVs7xu1u3buaWW24xn376qT23dOlSc/fddwfXfffdd+b222839F5Dhgyxx/v162dWrlwZXKNfCh8BJVjhY57riQMHDjSNGjUyP/74o9m0aZP9/tlnn9nrONesWTOzfft2s2TJEnPaaaeZL7/80ixbtsyqgX5ia9asMffee6/5888/zT777GMP77fffqZEiRL+JfpZBAgowYoA9HiP7Nmzpxk+fLh57rnnzAEHHGDmz58fXNapUyfz8MMPm4kTJ5ry5cubJ554IjgX70vbtm3tYe475JBD4l2ixwoJASVYIQGd32OOOeaY4BII9ttvvwW/zzzzzOB7/fr1zaJFi4Lf+sVtBJRgjpRPXqrc999/H+QS9bBChQpml112yUHCtWvXBtfoF3cQUIK5UxYJczJ69Gjz7bffmunTp5s5c+aYs88+26qRv/76q3n99dcNFsmhQ4cG9++11172O2TMlKUyeJh+yRMBJVie8LhxEiIdfvjhpnnz5qZHjx6mZcuW5rjjjjOtW7c2TZs2tWQrXbp0kNk999zT1KtXz56bNGlScFy/FD4Cu+iuUoUPeipP3H///c1TTz1lrYcQp2TJkjlux+q42267mb333jvHcTYL++mnn8y+++5r1ckcJ/VHoSGgNtxCg3rnHlSmTJm4Cfgm+diTjNHKli0be1h/FzICqiIWMuCpPu6ee+4xRx99dKq36fWOIKAqoiMFodkonghoDybliqUNS5zKziHwww8/7FwCxfBuJZgU6l133RX47xVkGc+aNcu88MILKSd5ww03WJ/ElG9McAOT2PHyASH69u2b4K78D8d67bdq1cq89dZb+d+YTVdgRcxmkfklT5aOeFu2bClwGM444wxPnHVTTnfGjBmeOPimfF+iGypVquSJC1au04899phXq1atXMeTPbB+/XriGnjiI2lv+eCDDzyZPvCEeMkmUeyv201a77uyqUGJfVe81I8//njTpEkTg/c5zrKHHXaYvezrr7+2DrW4J2GVw1yOT+DcuXPNEUccEVjp6AmGDRtmRo0aZbZt22aqVKliPeBZ77VhwwbrP1i1alXz1Vdf2Z5y7Nix1uv9yCOPtM/BKx5ze//+/U2pUqXsMhMhvMEsT56YYA7/Mce1++67J8wPeRg5cqSdfN68ebO9l8npGjVqBK/PxPUDDzxgHYg5eMopp9i8Pvjgg+bJJ580y5cvt3Ntv//+u+ndu7d9f+bicOHC8IJa/eKLLxppDAzzdMcee6w1xuBPyUQ3v1WMyWoVUZpPM2HCBDuBS2XAQz28BATSzJ49284zde3a1S4nOfDAA4201KZOnTpm1apVdq4JX8FnnnnGHHrooXZJCRXyH//4hyUBlW2PPfawy1GOOuoou9yESstkMYRCWBx5+eWXG1yiIOuUKVPMK6+8Yu+HZP4flRdy7rrrriZRfkivY8eOlgR4099xxx02nxwPC65Z/rwapn7WjjF5jWdIxYoVzaBBg6wXP/mHTJdeeqlZt26dufXWW82jjz5qpOeL67V/wQUXmPHjx4cfld3fi30fnccLrlixwqo4UnHsVbImy5PK66E2yvIQTzzRPemVPKn4nvRgnoxjgtSk1/Nuuukm79lnn/WkN/GkB7LnZNxlj/MjrCLK+MRr06ZNcL+s3fJkbsv+5lMUieBcly5dvHbt2gW/+SK9hieTxt7ixYvzzI+Q3r6T9Hj2ftQ3qeH5qojSM3tCNE96PHufNDb2PjCRXsurXbu293//938Wh5deesleE6sichBVFJVb5X8IZHUP9sUXX1jPiHLlytlW9oQTTjD0MiwZQSXDsnjxxRcbFjcKXEYqvWHCl7+PP/7YqlcLFy60KqbvqnTqqadatS622WapCWqaL6z/In3fSZceIZEIiW2PhKGievXqeeYHT3vU2ZNPPtkmV61aNescnCht/zhrzVBTWd7C+wmh7CneHe+RRx55xC6hQZWml0ok3C8Nl6GXVjEmqz05WFtFRaCiU6mQ9u3bmzFjxlhV7pJLLrEuSL63BGqbP45BPcRTAjJ+8803QV1CxYMIrMUKC+oa4xpfUEdRv3CFQlAj48nMmTNtWmKQMNIj2kvyyg/vQmNA/iAXYyZcpvIT0mSMxcpqhDRogHziDx482L4vDY/0ogknv1EjeddYl678nl9cz2d1D4b5GqMCrbcvLFZkWT5jnQ4dOtjD9BpiibOGDA6IamQYd02ePNmcddZZ1tOdMdjWrVvNf/7zHzNu3DibLgSiojO+ady4saEn+uSTT+xYj/EUvQx+hImEfOHgyzYC9BoYTPjDiJIoPzVr1jQHH3ywHd9BLHoe8hVPyB/p0SiQPxoAnIMhG+9w7rnnWnJi3BG10EydOtWcc845RlRdOy7jfiTstQ8pGcup7EDgf5pi9v6vW7euJ8aMHACIh7onVsIcx959911PKrYnhLBjoc6dOwfmaLG8eWIw8MRw4J100kmerEa294oRw45jxEDgMc6TSmzHMIzZGjRo4Il6aK+TntATsgbPEwOGd8UVV3hiLLH3S1Hl+Hzttde8vPLz/vvv23EQ40mxXnpCuLhjMMZzYoyxY0ixnnq8h5DGvgfvKstkPNnTwxP1144ByaBsTeBJr+sxhkTEomnzJsYi+1t6fU/2FrHf9Z+oAdkOwogRI1KaC4IUYlXLBRvHfGNJ+KSobJ6oocEhjCG+QSQ4uBNfEuWHJKVnyjdlMbEHhg0uhmiQKFlhzkv2ErGNDcYhCCvjtmRvL/bXZb0vIt4I0osZdm9CJVJJHwGxqtqbmUtT+R8CWT0GAwLmlFgN7FvztGKkjwCGGubdVP5GIOt7sL+h0G+KQMEjkPU9WMFDqikqAn8joAT7Gwv9pggUOAJKsAKHVBNUBP5GQAn2NxZOf8Mx+O2333Y6j5q53AgowXJj4uQRgjvgBqUSLQSUYNEqL81txBBQgkWswDS70UJACRat8tLcRgwBJVjECkyzGy0ElGDRKi/NbcQQUIJFrMA0u9FCQAkWrfLS3EYMASVYxApMsxstBJRg0SovzW3EEFCCRazANLvRQkAJFq3y0txGDAElWMQKTLMbLQSyel/EKBQVQc/ZFu2zzz6z++azFdtpp51m98aPQv6zPY8Z3zKAfcrVCzz9akY4IDY3DQvxOthBVyU9BAi6QSNVGJLxHkz2z7OBDfLaYLMwXjSqzyDYRFgIKgGWbBaqkjoCRMxh9+LCIljGezBaC3bK1a2UU68M/h3s4utvz00UFnYRVkkPAbb+Ztfmxx9/PL0EUrxLjRwpAlYUl7M9ty/hABL+Mf10FwElmLtlE+QsTCr2xFeJDgIZH4NFBwp3cwqpCElEaCWC/KlEBwElWATKCkMHYYROP/30CORWsxhGQAkWRsPh76iJSjCHCyhB1pwmGIG6FyxYYD766CMjETwSvEJ2HAYL4oxNmzYtO144wVsSP1pC2doY2RJSN8FV7hx2kmAEcevWrZsNyEAwNyLWVz7iCHdQK4KcHC8RYFSM+U4ammESvHD+hx/aoIEErSeipqviHMEI0wq57r3vPhs90lXgNF9Fi4AEqTfDhw0zEvDQSEBCG/WzaHMU/+lOEYyQqd27dzeThGQHHXRQ/BzrUUVAEMCbpevVV5uaYvwhlvbcuXONRBl1Dhun5sG6dOli+tx/v5LLuWriboZOPfVUq+n07dvXyUw6Q7APPvjARravX7++k0BpptxF4N/XXmsI1P7bb785l0lnCDZlyhRzXtOmzgGkGXIfgb333ttgDMOJ1zVxhmAEN6gkJlgVRSAdBHCIpg65Js4QjGDku5VwyubiWllpfvJAgFjb1CHXxBmCuQaM5kcRKAgElGAFgWKaaXzyyScZW+29fPlyM2PGjDRz5sZta9asMSyQjLI4TbDNmzcbKqH/x74Ua9eujTLeQd43bNhgrvzXv8wee+wRHCvIL7NmzTIPPvhg3CR///13s23btrjnCvogLl7sK5KXeJ5nF+U+//zzZvXq1cGl5PGKdu2sdTk4GLEvTg96Vq1aZW6SiecVK1ZYd6ltv/5qvv3mG8PyjTvuvNOULVs2YnD/nd1h4oXQqnVrU6pUqb8PFuC3mjVrJqyY7PGBQeDWW28twCfmTAovi4cfftiazlli81ac8LcQq0+fPmacEAsfQ1a/165dO0jo8MMPN1WrVjWTJ082TZo0CY5H6YvTBDvmmGPMQ1JIt/TqZSa88ILF9c8//zR9ZTK6Xdu25pVXXw2wXrp0qflQ5tJYN1W/QQNToUIFe47jqBpVqlSxFe69996zlbphw4YG825Yli1bZmbPnm2wSFG43Bte7Lhx40YzR86vkf0wfIfT8P3JfqdiPTdmjHnnnXeCW9hjA0+W/fff3/DeyPz5882WLVvsUhUcW+kJcBE64YQTzOeff25b/erVq9u8MMhHfpSecZH09Ei4stoD8u/777+3u1RtWL/ezJw50z9s0wz3pmxU9I6omL//8YdhbpJplLaCebJypqzCvvCii8xWyX+HDh3i3ga5XpMynCoOzAcccEDcazp17mwGDxqkBIuLTgYOlhBLY69bbjHHHH20VScg0v1CuMfFAbThGWeYUiVLmrt69zYDBw60hUIlGjlihCUe5GTmHyINkvPTZH8GXx7s189WohPr1TMThczvvvuuadqsWUAwfneUioLTMc8e8cQTpq5U9IceeshPIunPlStX2gq1n5DJF8g8cMAA6+4zZscuUi+99JKZ9PLL5pEhQ+wmLU+NGmWmTp1qt2wrKT0fTtC8R3vJ13XXXWeTWim9/pNPPml+EfWaHv/VUCPEBZB4rhAVz/xfQxOzkNonGORtKe5HjRs3Nps2bTK3SU/HaoZUCHbEDufsVUKweEJjRbnMERenROTiPhqThbKnS1TF6R4sEaj4oaE6oK+j6jwvm5hQCH6PRCXqcdNNlmCdpQVkzDELoknFw1+NXqGGVCgIB2GREVLYM2Xc4hc2xGTLOYQe5+quXc1QUXt8TxPSbH7BBYYxRqqrjD9duDCXcyq7HO21116mf2jcdM8999gex2ZC/g2XjVrOkUrf8tJLTceOHe3hk6RBePHFF/1L7DIOCAZJevToERz3vzSQ3h2C56UiQuTrxeEa7BB6zbohb342jXnjjTf8JINPGq9OnToFv/P6wngatXDY0KHmbVEfy5UrZ+6W96VHDgubJZXZZ5+0cA6nU1TfI0kwwFotqk758uXNxIkTrQp4snhVhwWVC3XJ7yXqyXnfGRQisv1ZeN6kmfRWp0slP+nkk82Boq7gbNxzRwVlLAiRrhOXnLCwCSjrs9q3bx8+nO/3UmLYQBVMV86QntqXgw8+2DYU/u+C+DxLFnd2Fb/Q18VLHVWZ5SADpHf1pZ6QOt6+jLFbzPnXx/tEVV20aJE5//zzbcOBek+vueDjj4NGz7+PRjCqu5JFkmBU9i2i4tBzQITWYiyg9YsVv0eLPR77G2sV4za8szELow59JOOfiy++2Mx7/31bwajIc0VNjJV0jBRHi4o5SMYV8WR7zGQpvWcmJK90aXgYF4Hz+nXrzHeiKVx11VW2MUOVZAs5FsLGCnuGYKhIRiAjKv0NN95oL0cjGT16tGEtYI0aNYIk0DYYD6ZC3uBmB77s6kAeks4CqgoFwFioTZs29j62NGM9ENtLQyj+/pCB+ShRc9ZJ5UhG6Im6S0EzLUB6LVu2NFdIr8RvpHTp0lalowLsvvvu9hn0hhgpMASkKjQMEDl2x+N9RBVaLKoT4yOE95oiFrSCFlQu9qr0Zb0YPHg3XxjXvSkq4MnSmzdv0cKqfRUlz4zHEHoU1PTYP9/Q4qeT1ycq5xIpyw9l4SQCHpRXtWrVcty2UNTpWLUxxwWO/3C6B2ONz+XSO/0qg/UqOwbN+5QpYy677DLTs2dPCy2q1lgx82LOZ1xxgLSMP4jVsMl551nDRq+bb7YbddIqY+LvLStga4kJm8p9lLS2b4rRAFLSi3WW8cOfQmIMJRgRwksgRowcaVg9Sz6wSPIseqKekn460kwcm1HBMNX7Qrq06sfVqWPHY5UrVza15XtbaUzul+UYfWQRKqrvGWIBZTwJMXhvxoOMzaYIKWgoXhbDCI0R7+TjhsXVr6g849FHH7Xvv7eoyr8JvheJxS8sGFr69+9vDhI1nF4Eg8eJJ55oL2GRI395CVMAmN/BfevWrUE+Jk2aZI6WXpDx5jPPPmu6SM+IFzzXYbyKVQXHjxtnWgjJoyrO7Ox75ZVXmkZSiAzC0xGfQBCDsVkqgrHje1GDKop5HvWQCpsoDSo1PQxjEHqzdGWVGBpatWplDSv0BGGh5+QZqKWZFHoMpjUwMISFvJWXZ4MphMYYkUrvFE4rv+9oG6ii//znP3M9g3HaBTJGw9KYH9Y0PnjUs/NxXlLYO/s63YPlBVTsOSpAJSmkdASVB3Ih+e3vQGWMrZDpPJO8YiWkdUcFDQu/Y4+FzxfUd99iGpteGEcqfiYF4mBIiSdoLuy/kR+54t3ryrFiQzBXAE0lH2foLr15wpWIeHne5NjJSBk5HMNOs6MI5IuAMwRjLOCJzq+iCKSDwF8ynUEdck2cIRhGBSxzKopAOghgEElkmEonvYK6xxmC4SEfz/2moF5U0ym+CGD1nSdO3P40gktv6gzB8MVjjRTbZKsoAqkggON18+bN7XxmKvcVxrXOWBHRnx977DHTThbYsfFoGZlQVlEE8kMAjxTWt7HawUVxpgcDHNZYsbMvXg64yKgoAnkhgKN3J1lV8Kx4hLjaIDvTg/lAsgwDp1HWNzER6gd/2DfCq5f9d9uZT7wq6OVdtJTtzHulei/BHz4Wj3sWzuJNgz8oniauinMEAyicTNlEku6fHX+nv/VW1ocvYl+SA8SLpIJUqmyWf4rHDX6Q119/vcFX03VxkmCAhn8eS975+5dsDpPtcqM48RKAj8G8SnQQcGoMFh3YNKeKQHIIKMGSw0mvUgTSQkAJlhZsepMikBwCSrDkcNKrFIG0EFCCpQWb3qQIJIeAEiw5nIrsqttvv90uOBw8eLDdhIfFh+qzWWTFkfKDlWApQ1a4N7BFG1saMNHMPhtMX7D/oEo0EFCCOV5OTLqzQYwvTLImux2df49+Fh0CSrCiwz6pJ7OddbjHCu+Vn1QCelGRIqAEK1L4k3t4mFTs26gSHQSUYBEoK59UhGtixYFKdBBw1hcxOhBmPqdEUWHraBalxu6hmPmn6xN2BgEl2M6gV0j3skSFLRVw9lWJFgJKsIiUF2qiEiwihRXKprMEI4IHca8+kOAAH0skDz8QQyjvWfWVebBMbV8dJSCJpsM4lMB8RL8hDJXL4hzBqEh4LQyVwGwERmgt+7cTatSPvugymJq3zCNAZMwFsjHSLAnlS2RTIow2atQo8w9O8wnOEexqidH1w9q1Nj5VeII1zffT24oZAlhS2XKcv/YSYqqD/N0sEW7yC/pQVDA4RbDnJdzNV199ZQido+pQUVWJ6DyXwBTjJ0ywmySxJyLhn1wTZ+bBiBF1xx13mIES+VHJ5Vo1cTc/xIe74847g3hxruXUGYIRzZH4yJmOieVaAWh+dh6Bc8891yxevNislaGFa+IMwdg48pRTTnENH81PRBDAKZodyFwTZwhGnOT8gt+5Bp7mxx0EMH5Qh1wTZwiW7RtqulYxND8Fg4AzBCuY14lWKmwmSjD2TMjy5cvNjBkzMpF0oaW5RoLZf/3114X2vEw8yGmC4b1BJfT/PvvsMycHsukUDJFkrpQNVTM1gT5r1izz4IMPxs0a4X62bdsW91xBHyTA+Zw5c/JM1pPgeezizDTNaglG7wt5vEKCgXA+quLUPFgsiKtWrTI3STCIFStWGDzKt0lQ7G/FhQrHV0yz6N1RlWHDhllPlVKlSmXkFWrWrJmwYhKNhGCHt956a0aeTaLD5f0efvhhw/TLoYceat56++1cz4I4eOmME2Kxv/yRRx5pd3L2LyRGc9WqVc3kyZNNkyZN/MOR+nSaYMccc4x5SArpll69zIQXXrDAsj9FX3GRade2rXnl1VcDsJcuXWo+FCsSY7n6DRqYChUq2HMcR9VgEpICJWgAlbphw4a5lt4vW7bMzBYXnEqy/zmFy73hxY646cyR82t++MH6w9WpUyd4fipfyMdzY8bYwAX+fT9ImkuWLDHM6/DeyPz5882WLVtMrVq1zL777mt7AvblwA/v888/t61+9erVbV78ucMfpWdcJD09wrbjsUIkyC+//NJsWL/ezJw5MzhNmuHeFNX1HVExf//jD1O/fn0zZcoU01YwT1bOFOfkCy+6yGyV/Hfo0CHubZDrNSnDqdOm2UAf8S7q1LmzGSxzo0qweOhk4FiJEiVMr1tuMcccfbRVJyASPmmPDx9uGsoGMaVKljR39e5tBg4caAuFSjRyxAhLPMjJ8nuINEjOT5s+Pcjhg/362Up0Yr16ZqKQmWmDps2aBQTjd0epKJWPOMI+m6BvdaVS4guXqqxcudJWqP2ETL5A5oEDBpg999zTerJw/KWXXjKTXn7ZPDJkiF0L9tSoUWbq1KnmCMlDSWkk6NV5j/aSL6LRICul13/yySfNL6Je0+O/GmqEOA+J54rK9ssvv5hfpXfxBVL7BIO8LS+5xDRu3Nhs2rTJ3CY93Y8//pgSwcgjskoIFk9orCiXOXPnJiQX90H8haI+RlWc7sESgcqiQ1QH9HVUnefHjrWF4G8GQyXqcdNNlmCdpQVkzDELoknFowLTK9SQCgXhICwyQgp7poxbCJmEQMzx48fb7/Q4V3ftaoaK2kNrjpBm8wsuMIwxUIFSkU8l9lmsWw+LKfG97B8aN91zzz2GHseX4Y8/bs6RSt/y0ksNYZ6Qk6RBYNWBL/SqEAyS9OjRwz8cfDaQ3h2C56UiQuTru3UzYIfQa9atWzdIY6zgHW/rOBqvTp06Bdfl9YXxNGrhMHHqflvUx3ISOeZueV965LCUlAazzD77pIVzOJ2i+h5JggHW6h1BrwnChgp4suy2FBZULtQlv5eoJ+chFwIRWeaA574vzaS3Ol0qOd4kBwrJWBbRc0cFZSwIka679lr/cvvJvMs0UW9wOk1FSslGNqiC6QpbufmC5wsNRUHKWWefbbp26WJeF+8aVGXmJwdI7+pLPSE1sblihVXXyQoNx6JFi8z5559vaDhQ7+k1F0jsL7/R89PiN0SLokSSYFT2LaLi0HNAhNayrIXWL1b8Hi32eOxvrFWM27qKJz9mYdShj2T8w3qjee+/bysYFXlunDCl6Rgpjhb1dpCMK+LJ9hDpOU/vmQnJK10aHsZF4Lx+3TrznWgKV111laExQ5Vkrd4CWaMXKwROxFCRjEBGVPobJCwTgkYyevRo88UXX5gaNWoESaBtMB5MhbzBzQ582dWBPCSdBVQVCoCxUJs2bex9rPTFj5GBO4Ti7w8ZmI8SNWedVI5khJ6ouxQ00wKk17JlS3OF9Er+Is/SpUtblY4KwM66PIPekOiKGAJSFRoGiBw7B7aPqEKLRXVifITwXlPEglbQgsqFWdyX9WLw4N18YVz35htv2ECIzVu0sGpfRckz4zGEHgU1PfbPN7T46eT1icq5RMryQ1lQi4AH5VWtWrUctxFKOFZtzHGB4z+c7sHmygD4cumdfpXBepUdg+Z9JDj6ZZddFnhPo2qNFTMv5nzGFQdIy/iDqIxNzjvPGjZ6yVqhZ555xqqDmPh73323qSUmbCr3UdLavilGAwhDL9ZZxg9/CokxlGBE6Nu3b1B8I0aONHfLveSD8RPPoifqKemnI8ShRgVjUakvpEurfpyMoxiPEcGxtnxvK43J/ZKXPvfdZ1B9zxALKONJiMF7Mx5kbDZFSEFD8bIYRmiMeCcfNyyufkXlGY8++qh9/71FVf5N8L1ILH5hYclQ//79zUHly9sxKwYPloQgbH7KX17CFADmd3rDrVu3BvmYNGmSOVp6Qd7vGYmt3EV6Rkz5XIfxKlYVHD9unGkhJI+q7CKqQmZ0kB2IoDLQWsYCFwvYlVdeaRpJITIIT0coIAgEMcpLpUhFGMN8L2pQRTHPox5SYROlQaWmh2EMQm+WrqwSQ0MrWa2NYSV2pyh6Tp6R6ZUF9BhMa2BgCAt5Ky8qMZhCaIwRqfRO4bTy+462gSrK2q7YZzBOu0DGaFga88Oaxod43vktvJwulmOMNI/LuK8wxOkeLBUAKJxKUkjpCCoP5ELyczimMsZWyHSeSV6xEtK6o4KGhd+xx8LnC+q7bzGNTS+MIxU/kwJxMKTEEzSXYTL9kh+54t3ryrFiQzBXAE0lHyx7V0mMQCLiJb7DvTORMnK4B5/mSBHIGwElWN746FlFYKcQcIZg6NlYk1QUgXQQwDCVnyEtnXR39h5nCMb8B/MiKopAOggwPxrrfpZOOgV9jzMEu0D8+l4QJ1tMwyqKQCoIMCeJqR/nZ9fEGYIddthhBh83HFVVFIFUEPjPf/5j17bFzqOlkkamrnWGYLwgngOjn3rKrtnK1AtrusULgcfEI2VXmSz3Xedcezun5sFYVIibz4UXXmhdhrqLG5Bun+1alXEjP6iEd8pGtcgYWbzq6qZJThEMsBiosriR/SROlMV2uCTh84cjbDYLbk04GLseTSTTZYTrFmvJcG9DNcTdzEXV0MfBOYKRMZxvfb2axYF4Wvse5n7Gs+1zlKwOYJzKCt9sFty7WC3NSnZXe61w+ThJMD+DzI3Ro7lofvXzWFif7MyEB3vz5s0L65H6nAJAwCkjRwG8jyahCDiFgBLMqeLQzBQ3BJRgxa1E9X2cQkAJ5lRxaGaKGwJOGzmKG9jpvA+bj2JJJfInzqy4khEEPNMLIdPJq96TGwElWG5MnDrCHvM33HCDzdMrr7xiPz+SIOBKMKeKKWFmVEVMCI0bJ8Jbd5Mj5oFcdGp1Ay33cqEEc69McuQILxZ/n31OsOmoy54LOTKvP4wSzPFKgLcC0WR8ie3R/OP66SYCSjA3yyVHrsKkYmNUleggoEaOCJQVpKInw2VMjRsRKLBQFpVgITBc/coGpOwJf/rpp7uaRc1XAgSUYAmAce0wvZgSzLVSyT8/zhOMraxXSAhZomxksxAwggB5zItlsxCLADWZJU1RECcJxmI69g4nQAHbcVWR0DaFsZW06wX2wY5IJK7nM5P5W7d2rV0fyNo4Akw0atQok4/b6bSdIxjB9IjLRWQR4jLvTKC6nUZHE3AWAcI83XbbbWbChAnmkUcecXJPRMBzykxPIITzJOzQlRLSZoDEqFJyOVu/izxjhECaKKFz2Uahi0TjdFWcIhgt0jnnnhvZiPKuFnJxzRdTF7fLxjc4QxMw3kVxhmDEgiKi47///W8XcdI8OYoAJOtz//12D5cMh7pLCwFnCPaidPctZLu2KMeCSqsE9KadRoDxOlv+LV68eKfTKugEnCHY559/niP4dUG/qKZXvBEgcDp1yDVxhmBEM2TAqqIIpIMAc4QuRudxhmDo0iqKQHFDwBmCFTdg03mf1RKIna0BMiFM2BO9hqDjrgpzoGwyW5wkUgTbvHmz+eSTT4I/tlBeKzP7xUVuvPFGQyXLhGzbts10kfnFjRs35koe8nG+MIQ95dlENZ6QhyvatTMuWgPj5TeZY855cuSV6VWrVpmbJCAEvoksm98m47Zvv/nGLki84847TdmyZfO63elzixYtMrgBnXrqqRnJZ6lSpcy1114bN5jGc889Z4ixhetRpmT4sGHm4YcftuMk/CrfevvtXI8i6HlVcYubPHlysZkLjRTBWLLxkBTSLb16WTcqSgi/xb4yD9KubVvzyquvBoVGSz1n9myzRoIFsAtTnTp17Dmch6nMmHUpzLnSmtJr4KlesVKl4H6+LFu2zMyWNCrJcQp/6dKlJrz4kR2eaI05TqUhjXQNNaMkLlqnTp2C5xPkYMmSJdabhfdG2GEKp+datWrZ/PNc8s46MVr99957z0Ckhg0b5nCG5R3Ia0PZbiA2f8w/fvnll2bD+vVm5syZwfPZAx/DgS/g/KH4QhJJ8oS6dc06ub5ixYrWpc2/Jq/PM2U1wIUXXWS2Sv47dOiQ8NJOnTubwYMGKcESIlTIJ0qUKGF63XKLOUb2rmAMw/4VRGfpKIVYWYIEcHzEE0+YulJhHnroIbNGKhQFiKp50EEHmWpHHmnKCtl69uxpZoqnOoEFkAf79TNTpkwxJ0pQwIkydiHNps2aBQQjGMUl4jO5VqKeNKhf37wh1xJOZ5Ls/ES6qcqCBQvMNaFJdsgzcMAAS4gx0sMgeCtMkvBOjwwZYk477TRLiJEjRtjFmBCA3o9GYZC4mU2bPj3IwlMSc43zM6TXmPf+++bAAw8MzkFiGhne59dQjGxI7RMM8p4tBDlMGpkDZdOdYUOH2rHSCHk2c1DJiI/rqnxWRUDshZ9+mkySkbgmUj1YIkR322032xtBMBYnXt21qxkqKkl9qfgIY4zmEqIW/R8ftsFCtLNkn4uR0mscKQRDft60ySxcuDAgGJUHwrGLE0LrPn78ePudfw888IANqzRZSODL4MGDrSHh6quv9g8l9YnhAWLQU/oCgYiN1l/COPlyzz33GHocXzpLa8+7zZK88S70TvRwNeQdIRSND8LKBORkCR4RKw0aNLCuRnmpiPSMhE0KRx/Fra2EBOdAMEz897//jU3aPt9/dq6TCQ6w92MZCVVFWaEVRF2KBcEohNVS8cqXL28Yp1E418l4Iyw//fSTmTZtmmnfvr09TNwxn1wc4N7t27fbc/xrJr3V6VLJTzr5ZNtq0yv17NEjOI/6yViQNH1hHoZdoFIlGA0Ejs18piP1hDi+6sc6KchQkLGumcSF2OBxbO3aVj0laL2/GQ89YseOHXNlPd33oWGAaMVBigXBINQWUXFo8bA00ovNFZUuVhifJCNYs+pLy95VeiJaZ8ZtH8n4h2U0qFgIhMTRNDZeVzqVim3YypUrZysxeQ/L9pig8JmysOWVLuO84dILMleJlrBR8CCqpN/r4SSAihsrYHGyNFCpCD3wzz//nEONTeV+167d1bUMpZIfehwG3Yy3/Bi9LMxk0D969Gjr10iLTuv+zjvvmHdmzEgqeXq77mIyh6ws1W/ZsqW5Qno+fvvSqHFjM0TWIaGi8Qz+6NEwVqQj9HyMkcJCVE/WPfnBB3GGniIWtoIWVLJPQ+Oe9WLAAD9f3pLxHGPSw2SRI8uJ2ohBiQZos6jVCL0lZIr9232Hiuqnk8wnanr16tWTuTQS10SqB5s7d665vHVrQ4tZZYcxYp8yZcxll11mjRQ+4iNGjjR33323vQay0dJSgXvefLNdcs9cC2SpKarPp2JRxHpHxX1aKhXXQih6sc5y/E8hcSlRV0pK79e3b1//EaadpEGLTphb1DvyhGrTMWQJDC5O4guOzkPEeNFK3s8X8o7l7zixgDIew6BQW763bdPG3C95+Vh6jWeeecZWcKYress716pZ0/YAR8nY8s2pU83y5ctN1x3rpTYJIeoef7xteK655hpzgzQiCM9g9Tj37C3q5W/yLheJxS8sTIDXO/FE27NskXV7lcXgMUjGnAjqM+nlJUwBjHv+eZtX1v355Tdp0iQ7LvbvHT9unGnRooX/M/Kfu4hq4GXyLRjn0Drmp1NfeeWVhl6BQXdBCS0xrT/jrVS89DEQfC+qEGZ71EN6KVTCeEJlQYXCGLKz2xo0kbVwLL2I3RqbxoD3iFUf4+VnZ44RB5pGA3U1LGBANWGeERWRT3rsghbGeRecf76ZIw1pKuVFPvrcd5857rjjzOWXX55ntqZLbzx27NjA8JPnxQVwMlI9WKrvS0WJrSzJpEFP5M+J7bfffnne4vcseV6U5El6hO1C7liBuDtL3tg04/32Laax58IYZNKyhxYwbPjwlMkVm1+XfhdrgrkEdDJ5wTKXzcJkfnGTSBs5ilth6PsUPwScIViGh4LFr+T0jSKBgDMEY4zxs5jHVRSBdBDAQloY49RU8+YMweqKA+l78+almn+9XhGwCMyTuoNTt2viDMHOF/MsE5o/btjgGkaaH8cRwE8UJ2+mY1wTZwjGvAoe7TfLUhQVRSBZBJgjvF0cj/uJp4mL4gzBAIfJ5pLioc2sP5O9KopAXgig7eDVgnN1TfFgcVGcIhheBLj+7C+Tu41lU3/2HccbQ0URCCPA0p7HxLWradOmllwub1br3EQzLjJ9+vQxrVq1MuNk/VW3bt2sPx3+cdksuGvhde+v8cpWLEqLYzLud6yqJpRTOotbCxM75wjmvzzL4vlT+R8CbIjDlgTNmzdXSCKEgFMqYoRw06wqAkkhoARLCia9SBFIDwElWHq46V2KQFIIKMGSgkkvUgTSQ0AJlh5uepcikBQChWJFZCFdQe5ylNSbFbOLmHhnezewVEkfAaY7ClMyvmVAkyZN7GYwhflSxfFZ7PTL6mkXPcajhjf7jbDHZGFIxglWGC+RDc/QebBolrKOwaJZbprriCCgBItIQWk2o4mAEiya5aa5jggCSrCIFJRmM5oIKMGiWW6a64ggoASLSEFpNqOJgBIsmuWmuY4IAkqwiBSUZjOaCCjBollumuuIIKAEi0hBaTajiYC6SjlebvjMPSKB/ghfxH4lROl89tlnbWBAx7Ou2RMECsWbXpFOHwFC1K5duzZIAJLFhq0NTuoX5xBQFdG5IsmZodMk8Hg4tjTkIrSsSjQQUII5Xk4sUQkHEj/77LMdz7FmL4yAEiyMhqPfw6QiKLtKdBBQgkWgrHxSoRqeKIHIVaKDgBo5IlBWBPcmTvKpp56a9Tv7RqC4cmRRCZYDDjd/7LbbbuaMM86wO/u6mUPNVSIElGCJkHHsOGoiW2erRAsBnWiOSHkRZaZcuXIRya1m00dACeYjoZ+KQAYQUCtiBkDVJBUBHwElmI+EfioCGUBACZYBUDVJRcBHQAnmI1FIn2yBvW3btkJ6mj6mqBFQghVSCXz00UfmlFNOMf/4xz9MmTJlrMmdeNTJCNtm9+3bN5lLE15TEGkkTFxPJERACZYQmoI7sWDBAlOvXj1z2GGHmffee898+OGHpn79+uaKK64wY8aMyfdBL774YlLX5ZVQQaSRV/p6LgECnkrGEWjQoIHXsGHDXM+5/fbbvT333NOTiB/ehAkTvJdeeim4ZsqUKd7TTz/tffPNN17jxo29/fff35NezPv666+9fv36eS+88ILXqVMnb9CgQd6PP/5o71uyZInXu3fvII1vv/3Wu+2227yVK1fmSCO4QL9kHAHtwRI0PAV1ePv27Wbu3LmmY8eOuZJs3769HY99/PHH5rXXXjOvvvpqcM3bb79thHTW91BIaEqWLGnXga1YscL07NnTdOvWzRx66KHmscceM5dcconhOcuWLTMDBgwI0lizZo259957zS677GLCaQQX6JeMI6AEyzDEVHJiUh1yyCG5nlS5cmW7DcCiRYtynfMPlC9f3kgPZg444ADTpUsXe1iaXSO9m7nrrrvM+PHjzfTp0w1qaCI56KCDcqWR6Fo9XrAIKMEKFs9cqUEQDBvr1q3LdW7jxo02qF716tVznYNEiWSPPfYIFmHWrFnTetrnRdJE6ejxzCOgBMswxnjCs4Zr9OjRuZ701FNPGcjCcpRdd93V/Pbbb8E18Qjpn+Q6yIlwHd8rVKhgVcFwGuG9PPx79bNwEVCCFQLeYoiw47CuXbvaaJ847jJ2EiOHHTMxvkIFnD17tt3g5tNPP7VjMj9rbBuwYcMGg6kdoXdjrPXzzz8bMXhYs3/dunVtGoSYff311+25oUOH+knY6JjhNIIT+iWzCGTcjKIPsAiIocNa8rAaSol6otp5QrIAHTFQeEceeaQ9V7ZsWe/888/3mjdvbs8vXrzYEzXTkx2lvKlTp9pratWq5Umv51WqVMmTMViQTuvWrT0xathrL7/8cnut9GpeOA2Z7A6u1y+ZRUC96TPbfuVKHRVuy5YtdtyU66QcoJeiN0NlDAv3EQT9/fffN+edd561PqICHnjggeHL7PdNmzYZVNO99947xzk/DcaEKoWDgC64LBycg6ewBVt4G7bgxI4vWPziSbz74pGLexNt6xYvjXjP0mMFh0DOZrLg0tWUMoRAtWrVzAMPPJCh1DXZgkZAVcSCRlTTUwRCCGgPFgJDvyoCBY2AEiwNRDdv3pxjziqNJCJxy08//ZQV75nJwlCCpYguPn9sZb18+fIU70x8ecWKFY2Y3xNfEOfMO++8Yw4++OA4Z4zhnG8Aufbaaw1/CK5Z4kRs/vrrLzuPtnr16rj3+wfHjh1rfR793/qZOgJKsBQxe+KJJ6xnxlFHHZXinYkvp0dkIWYqgn8j98WTqlWrGsIeIUwJMPmM3HrrrYZ84/nRvXt3GxLJnkjwr3Pnzpasn3/+eYIr9HB+CKiZPj+EQueprDjYvvLKK/boyy+/bOer8LyQJSHWofbCCy+051h/JVOYtoLS0/Tq1ct89dVX5rnnnjP0HOeee66RyeQg9S+++MJMnjzZptehQwdz7LHH2nPEBYPUPIO5sRYtWpgmTZoE98myFeu5Qe903XXXmdKlS1tCxeudcDxmLm3IkCH2frxArr76auswzL34TSLkAxesdu3a2TVrN998s5k0aZI9p/9SQ0B7sBTwmjVrlp3APf744+1dqFuQBG92VimzgPLRRx+156ikLVu2NAsXLrTEmjdvnu09IAq9D+f69+8fPJ0lKPQ0S5cutYszIRxC+k8++aShV2JMxCQzk80IhL/++uvtxDTXsDkppGZJSzxT/sCBA42sGQvmydiOm0ltVEG8832BULhzITyfpTRbt271T+tnKghk1lGkeKXOQsfwwklZPuLJxLAnYxr7oiygPPzww+33f/3rX16NGjUCAFq1auW1adMm+M21Qkr7m0/pQYJzVapU8YQ4nhDOk8ruCdnsOfEltPeMHDnSe/PNN60blPgv2nOyJYH9PWfOHOs6JU7E9rj0hp6oeva7EMqT3tcT8thrWaCJsEgT1ytElr14JUqU8KS3s79ZDIpL1vz58+1v/ZcaAtqDpdAaMRbBaz0sQjjrxc6xBg0aWOMHPQsiBLOf/Js4caIJhyFq1KiRdcj1Pd79CCpcy3YCX375pfX44B56NyGufTYqoz9ewxWKrQiQ2rVr216UHjBVQRWkZ+UPr3/Wn/keJUTUxGBCz6eSOgJKsBQwYywVu4yEcY0vkGLfffcNfABZRewL6ljY8sjqY7zkZSsAewnqny+yLYBV3RjXMVY74ogj7NhNtgYw4ghs1UCuZXcq/AsR8oUPIipfqsJeITQUxH5GXUTV9QWrKc/1x2f+cf1MDgElWHI42atYt+WPjfzb2A5gxowZ1sgxatSohMHJ6RWowJ988old2j98+HBr7scpF6HngDCY60XNs4YMf0HmZZddZuMycw1jI59UmNsff/xxex9jLsaBJ510kp+1hJ8QG6FBwOiBYFgZPHiwTStsfKFRYMzIu6ukjoASLAXMqGSyCY1t0f3bUBmpkDJusvteUOER9sEICxY7LH116tSxxg7WgPk7SmEdhDT0fvRY11xzjTWCoPZR8eldODdu3DhLIH/1MoSC1Dj38gmB6Sl5dqw3fjgv9Kyolk2bNg2sg1g/UQchc9gZmf1C6EF5lkoaCKQ2ZNOrzznnHE/mmCwQGDlk/OJJLxDs7JQfQqLGefzFE1ETPRm/5Tol4y5PFlfmOu4fwCAhqpz/M6lPDDPsRuUbaPjOWjXZUi7H/TKutLtY5TioP5JGQJ19U2yUMHSceeaZhnHSjTfeaM3XLP2PsvTp08c8//zzdvwW9ihhakEsn+azzz6zu1pF+R2LKu9KsKJCXp+bFQjoGCwrillfsqgQUIIVFfL63KxAQAmWFcWsL1lUCCjBigp5fW5WIKAEy4pi1pcsKgSUYEWFvD43KxBQgmVFMetLFhUCSrCiQl6fmxUIKMGyopj1JYsKASVYUSGvz80KBJRgWVHM+pJFhYASrKiQ1+dmBQJKsKwoZn3JokJACVZUyOtzswIBJVhWFLO+ZFEhoAQrKuT1uVmBgBIsK4pZX7KoEFCCFRXy+tysQOD/ATfIiu14Ph2JAAAAAElFTkSuQmCC)"
      ],
      "metadata": {
        "id": "bXK0qCwNLn95"
      }
    },
    {
      "cell_type": "markdown",
      "source": [
        "### Model Definition"
      ],
      "metadata": {
        "id": "szb3WMwHWNrA"
      }
    },
    {
      "cell_type": "code",
      "source": [
        "## NN model \n",
        "\n",
        "from tensorflow import keras\n",
        "from tensorflow.keras import layers \n",
        "\n",
        "model = keras.Sequential([\n",
        "    layers.Dense(16, activation=\"relu\"),\n",
        "    layers.Dense(16, activation=\"relu\"),\n",
        "    layers.Dense(1, activation=\"sigmoid\")    \n",
        "\n",
        "])\n"
      ],
      "metadata": {
        "id": "fTmum6kxJil0"
      },
      "execution_count": null,
      "outputs": []
    },
    {
      "cell_type": "markdown",
      "source": [
        "### Model Compilation"
      ],
      "metadata": {
        "id": "zCU9g401WRbf"
      }
    },
    {
      "cell_type": "code",
      "source": [
        "model.compile(optimizer=\"rmsprop\",\n",
        "              loss=\"binary_crossentropy\",\n",
        "              metrics=[\"accuracy\"])"
      ],
      "metadata": {
        "id": "n0oI5bzCOesQ"
      },
      "execution_count": null,
      "outputs": []
    },
    {
      "cell_type": "markdown",
      "source": [
        "## Validating the approach"
      ],
      "metadata": {
        "id": "pFTb-9E-W3jJ"
      }
    },
    {
      "cell_type": "markdown",
      "source": [
        "### Creating a validation set"
      ],
      "metadata": {
        "id": "d22bQ5zfW67O"
      }
    },
    {
      "cell_type": "code",
      "source": [
        "len(x_train)"
      ],
      "metadata": {
        "colab": {
          "base_uri": "https://localhost:8080/"
        },
        "id": "xxuUKgQ2YvXB",
        "outputId": "aef06893-71c8-4a38-95e9-b990fe4e3f7b"
      },
      "execution_count": null,
      "outputs": [
        {
          "output_type": "execute_result",
          "data": {
            "text/plain": [
              "25000"
            ]
          },
          "metadata": {},
          "execution_count": 13
        }
      ]
    },
    {
      "cell_type": "code",
      "source": [
        "x_val = x_train[:10000]\n",
        "partial_x_train = x_train[10000:]\n",
        "y_val = y_train[:10000]\n",
        "partial_y_train = y_train[10000:]\n"
      ],
      "metadata": {
        "id": "gziN0xE4Yols"
      },
      "execution_count": null,
      "outputs": []
    },
    {
      "cell_type": "markdown",
      "source": [
        "## Training the Model"
      ],
      "metadata": {
        "id": "SiFzlTpzZj8l"
      }
    },
    {
      "cell_type": "code",
      "source": [
        "t1 = time.time()\n",
        "history = model.fit(partial_x_train,\n",
        "                    partial_y_train,\n",
        "                    epochs=20,\n",
        "                    batch_size=512,\n",
        "                    validation_data=(x_val,y_val))\n",
        "\n",
        "print(\"Took:{0:.2f} secs to train\".format(time.time() - t1))"
      ],
      "metadata": {
        "colab": {
          "base_uri": "https://localhost:8080/"
        },
        "id": "rTGAnRxVZt06",
        "outputId": "01353e8a-023d-49f9-b1b7-5f764355cfa7"
      },
      "execution_count": null,
      "outputs": [
        {
          "output_type": "stream",
          "name": "stdout",
          "text": [
            "Epoch 1/20\n",
            "30/30 [==============================] - 8s 76ms/step - loss: 0.5302 - accuracy: 0.7875 - val_loss: 0.4140 - val_accuracy: 0.8575\n",
            "Epoch 2/20\n",
            "30/30 [==============================] - 1s 29ms/step - loss: 0.3367 - accuracy: 0.8915 - val_loss: 0.3222 - val_accuracy: 0.8791\n",
            "Epoch 3/20\n",
            "30/30 [==============================] - 1s 22ms/step - loss: 0.2507 - accuracy: 0.9169 - val_loss: 0.2896 - val_accuracy: 0.8864\n",
            "Epoch 4/20\n",
            "30/30 [==============================] - 1s 25ms/step - loss: 0.2010 - accuracy: 0.9325 - val_loss: 0.2932 - val_accuracy: 0.8795\n",
            "Epoch 5/20\n",
            "30/30 [==============================] - 1s 26ms/step - loss: 0.1712 - accuracy: 0.9444 - val_loss: 0.2751 - val_accuracy: 0.8876\n",
            "Epoch 6/20\n",
            "30/30 [==============================] - 1s 25ms/step - loss: 0.1456 - accuracy: 0.9533 - val_loss: 0.2813 - val_accuracy: 0.8882\n",
            "Epoch 7/20\n",
            "30/30 [==============================] - 1s 25ms/step - loss: 0.1298 - accuracy: 0.9589 - val_loss: 0.2912 - val_accuracy: 0.8847\n",
            "Epoch 8/20\n",
            "30/30 [==============================] - 1s 23ms/step - loss: 0.1114 - accuracy: 0.9655 - val_loss: 0.3043 - val_accuracy: 0.8814\n",
            "Epoch 9/20\n",
            "30/30 [==============================] - 1s 23ms/step - loss: 0.0982 - accuracy: 0.9714 - val_loss: 0.3171 - val_accuracy: 0.8833\n",
            "Epoch 10/20\n",
            "30/30 [==============================] - 1s 25ms/step - loss: 0.0849 - accuracy: 0.9761 - val_loss: 0.3394 - val_accuracy: 0.8755\n",
            "Epoch 11/20\n",
            "30/30 [==============================] - 1s 25ms/step - loss: 0.0739 - accuracy: 0.9798 - val_loss: 0.3664 - val_accuracy: 0.8768\n",
            "Epoch 12/20\n",
            "30/30 [==============================] - 1s 25ms/step - loss: 0.0664 - accuracy: 0.9825 - val_loss: 0.3880 - val_accuracy: 0.8751\n",
            "Epoch 13/20\n",
            "30/30 [==============================] - 1s 23ms/step - loss: 0.0572 - accuracy: 0.9870 - val_loss: 0.3822 - val_accuracy: 0.8775\n",
            "Epoch 14/20\n",
            "30/30 [==============================] - 1s 24ms/step - loss: 0.0502 - accuracy: 0.9879 - val_loss: 0.4042 - val_accuracy: 0.8786\n",
            "Epoch 15/20\n",
            "30/30 [==============================] - 1s 23ms/step - loss: 0.0421 - accuracy: 0.9921 - val_loss: 0.4283 - val_accuracy: 0.8753\n",
            "Epoch 16/20\n",
            "30/30 [==============================] - 1s 37ms/step - loss: 0.0416 - accuracy: 0.9899 - val_loss: 0.4511 - val_accuracy: 0.8710\n",
            "Epoch 17/20\n",
            "30/30 [==============================] - 1s 29ms/step - loss: 0.0292 - accuracy: 0.9958 - val_loss: 0.4702 - val_accuracy: 0.8715\n",
            "Epoch 18/20\n",
            "30/30 [==============================] - 1s 29ms/step - loss: 0.0283 - accuracy: 0.9946 - val_loss: 0.5214 - val_accuracy: 0.8684\n",
            "Epoch 19/20\n",
            "30/30 [==============================] - 1s 23ms/step - loss: 0.0274 - accuracy: 0.9940 - val_loss: 0.5115 - val_accuracy: 0.8721\n",
            "Epoch 20/20\n",
            "30/30 [==============================] - 1s 23ms/step - loss: 0.0186 - accuracy: 0.9980 - val_loss: 0.5341 - val_accuracy: 0.8703\n",
            "Took:42.88 secs to train\n"
          ]
        }
      ]
    },
    {
      "cell_type": "code",
      "source": [
        "history_dict = history.history\n",
        "history_dict.keys()"
      ],
      "metadata": {
        "colab": {
          "base_uri": "https://localhost:8080/"
        },
        "id": "J_v0Pt1xdXbP",
        "outputId": "7aef3193-ec6a-4c71-8270-8676dbb1a6af"
      },
      "execution_count": null,
      "outputs": [
        {
          "output_type": "execute_result",
          "data": {
            "text/plain": [
              "dict_keys(['loss', 'accuracy', 'val_loss', 'val_accuracy'])"
            ]
          },
          "metadata": {},
          "execution_count": 35
        }
      ]
    },
    {
      "cell_type": "markdown",
      "source": [
        "### Plotting the training and validation loss"
      ],
      "metadata": {
        "id": "66z7n4AXdjA8"
      }
    },
    {
      "cell_type": "code",
      "source": [
        "import matplotlib.pyplot as plt\n",
        "history_dict = history.history\n",
        "loss_values = history_dict[\"loss\"]\n",
        "val_loss_values = history_dict[\"val_loss\"]\n",
        "epochs = range(1, len(loss_values) + 1)\n",
        "plt.plot(epochs, loss_values, \"bo\", label=\"Training loss\")\n",
        "plt.plot(epochs, val_loss_values, \"b\", label=\"Validation loss\")\n",
        "plt.title(\"Training and validation loss\")\n",
        "plt.xlabel(\"Epochs\")\n",
        "plt.ylabel(\"Loss\")\n",
        "plt.legend()\n",
        "plt.show()"
      ],
      "metadata": {
        "colab": {
          "base_uri": "https://localhost:8080/",
          "height": 472
        },
        "id": "G4Cq5oTNdpDm",
        "outputId": "7744f8b8-8b5b-414c-b927-c8072a9abc97"
      },
      "execution_count": null,
      "outputs": [
        {
          "output_type": "display_data",
          "data": {
            "text/plain": [
              "<Figure size 640x480 with 1 Axes>"
            ],
            "image/png": "[encoded data removed]"
          },
          "metadata": {}
        }
      ]
    },
    {
      "cell_type": "markdown",
      "source": [
        "### Plotting the training and validation loss"
      ],
      "metadata": {
        "id": "ZMPdIUGXf9UA"
      }
    },
    {
      "cell_type": "code",
      "source": [
        "plt.clf()\n",
        "acc = history_dict[\"accuracy\"]\n",
        "val_acc = history_dict[\"val_accuracy\"]\n",
        "plt.plot(epochs, acc, \"bo\", label=\"Training acc\")\n",
        "plt.plot(epochs, val_acc, \"b\", label=\"Validation acc\")\n",
        "plt.title(\"Training and validation accuracy\")\n",
        "plt.xlabel(\"Epochs\")\n",
        "plt.ylabel(\"Accuracy\")\n",
        "plt.legend()\n",
        "plt.show()"
      ],
      "metadata": {
        "colab": {
          "base_uri": "https://localhost:8080/",
          "height": 472
        },
        "id": "L7QA5j2Ef-op",
        "outputId": "a01d40f4-c55b-44b7-d8d7-25c1146ba4e8"
      },
      "execution_count": null,
      "outputs": [
        {
          "output_type": "display_data",
          "data": {
            "text/plain": [
              "<Figure size 640x480 with 1 Axes>"
            ],
            "image/png": "[encoded data removed]"
          },
          "metadata": {}
        }
      ]
    },
    {
      "cell_type": "markdown",
      "source": [
        "**Overfitting**\n",
        "\n",
        "the training loss decreases with every epoch, and the training accuracy increases with every epoch. That’s what you would expect when running gradient- descent optimization—the quantity you’re trying to minimize should be less with every iteration. But that isn’t the case for the validation loss and accuracy: they seem to peak at the fourth epoch. This is an example of what we warned against earlier: a model that performs better on the training data isn’t necessarily a model that will do better on data it has never seen before. In precise terms, what you’re seeing is overfitting: after the fourth epoch, you’re overoptimizing on the training data, and you end up learning representations that are specific to the training data and don’t gener- alize to data outside of the training set.\n",
        "In this case, to prevent overfitting, you could stop training after four epochs"
      ],
      "metadata": {
        "id": "lGeelRm6jjGM"
      }
    },
    {
      "cell_type": "markdown",
      "source": [
        "### Retraining a model from Scratch\n"
      ],
      "metadata": {
        "id": "K78E7VdNk8in"
      }
    },
    {
      "cell_type": "code",
      "source": [
        "model = keras.Sequential([\n",
        "    layers.Dense(16, activation=\"relu\"),\n",
        "    layers.Dense(16, activation=\"relu\"),\n",
        "    layers.Dense(1, activation=\"sigmoid\")\n",
        "])\n",
        "model.compile(optimizer=\"rmsprop\",\n",
        "              loss=\"binary_crossentropy\",\n",
        "              metrics=[\"accuracy\"],\n",
        "              )\n",
        "model.fit(x_train, y_train, epochs=4, batch_size=512, validation_data=(x_val,y_val))\n",
        "results = model.evaluate(x_test, y_test)"
      ],
      "metadata": {
        "colab": {
          "base_uri": "https://localhost:8080/"
        },
        "id": "O3AjE6jjlF6s",
        "outputId": "8fef691d-2fab-442a-d29b-08910b0b6a83"
      },
      "execution_count": null,
      "outputs": [
        {
          "output_type": "stream",
          "name": "stdout",
          "text": [
            "Epoch 1/4\n",
            "49/49 [==============================] - 3s 39ms/step - loss: 0.4926 - accuracy: 0.7946 - val_loss: 0.3156 - val_accuracy: 0.9075\n",
            "Epoch 2/4\n",
            "49/49 [==============================] - 1s 21ms/step - loss: 0.2875 - accuracy: 0.9021 - val_loss: 0.2197 - val_accuracy: 0.9325\n",
            "Epoch 3/4\n",
            "49/49 [==============================] - 1s 21ms/step - loss: 0.2251 - accuracy: 0.9201 - val_loss: 0.1786 - val_accuracy: 0.9453\n",
            "Epoch 4/4\n",
            "49/49 [==============================] - 1s 21ms/step - loss: 0.1856 - accuracy: 0.9344 - val_loss: 0.1537 - val_accuracy: 0.9515\n",
            "782/782 [==============================] - 3s 3ms/step - loss: 0.2970 - accuracy: 0.8800\n"
          ]
        }
      ]
    },
    {
      "cell_type": "code",
      "source": [
        "results\n",
        "\n",
        "# The first number, 0.29, is the test loss, and the second number, 0.88, is the test accuracy."
      ],
      "metadata": {
        "colab": {
          "base_uri": "https://localhost:8080/"
        },
        "id": "bQ77aaHdmIz8",
        "outputId": "c278a407-fe53-4afb-ca34-3b90a624f6ca"
      },
      "execution_count": null,
      "outputs": [
        {
          "output_type": "execute_result",
          "data": {
            "text/plain": [
              "[0.2969951331615448, 0.8800399899482727]"
            ]
          },
          "metadata": {},
          "execution_count": 39
        }
      ]
    },
    {
      "cell_type": "markdown",
      "source": [
        "## Using a trained model to generate predictions on new data"
      ],
      "metadata": {
        "id": "fdMDkLo6mbDi"
      }
    },
    {
      "cell_type": "code",
      "source": [
        "model.predict(x_test)"
      ],
      "metadata": {
        "id": "160l-vTxmjY5"
      },
      "execution_count": null,
      "outputs": []
    },
    {
      "cell_type": "markdown",
      "source": [
        "*Output shows the likelihood of reviews being positive*"
      ],
      "metadata": {
        "id": "yt4FjXJIm61j"
      }
    },
    {
      "cell_type": "markdown",
      "source": [
        "## Changing model layers "
      ],
      "metadata": {
        "id": "l64NObmNoMIv"
      }
    },
    {
      "cell_type": "code",
      "source": [
        "# 4 layers, 32 Neurons\n",
        "from tensorflow import keras\n",
        "from tensorflow.keras import layers \n",
        "\n",
        "model = keras.Sequential([\n",
        "    layers.Dense(32, activation=\"relu\"),\n",
        "    layers.Dense(32, activation=\"relu\"),\n",
        "    layers.Dense(32, activation=\"relu\"),\n",
        "    layers.Dense(1, activation=\"sigmoid\")\n",
        "])\n",
        "model.compile(optimizer=\"rmsprop\",\n",
        "              loss=\"binary_crossentropy\",\n",
        "              metrics=[\"accuracy\"],\n",
        "              )\n",
        "history = model.fit(x_train, y_train, epochs=20, batch_size=512, validation_data=(x_val,y_val))\n"
      ],
      "metadata": {
        "colab": {
          "base_uri": "https://localhost:8080/"
        },
        "id": "QEyzXlGeoR14",
        "outputId": "17f66491-e1d4-4530-bc40-7fb0c883d091"
      },
      "execution_count": null,
      "outputs": [
        {
          "output_type": "stream",
          "name": "stdout",
          "text": [
            "Epoch 1/20\n",
            "49/49 [==============================] - 3s 37ms/step - loss: 0.4621 - accuracy: 0.7940 - val_loss: 0.2875 - val_accuracy: 0.8971\n",
            "Epoch 2/20\n",
            "49/49 [==============================] - 1s 19ms/step - loss: 0.2649 - accuracy: 0.8988 - val_loss: 0.2042 - val_accuracy: 0.9246\n",
            "Epoch 3/20\n",
            "49/49 [==============================] - 1s 20ms/step - loss: 0.2097 - accuracy: 0.9202 - val_loss: 0.1552 - val_accuracy: 0.9491\n",
            "Epoch 4/20\n",
            "49/49 [==============================] - 1s 19ms/step - loss: 0.1727 - accuracy: 0.9372 - val_loss: 0.1461 - val_accuracy: 0.9488\n",
            "Epoch 5/20\n",
            "49/49 [==============================] - 1s 20ms/step - loss: 0.1402 - accuracy: 0.9483 - val_loss: 0.1405 - val_accuracy: 0.9459\n",
            "Epoch 6/20\n",
            "49/49 [==============================] - 1s 18ms/step - loss: 0.1239 - accuracy: 0.9539 - val_loss: 0.0778 - val_accuracy: 0.9774\n",
            "Epoch 7/20\n",
            "49/49 [==============================] - 1s 19ms/step - loss: 0.1007 - accuracy: 0.9636 - val_loss: 0.0580 - val_accuracy: 0.9856\n",
            "Epoch 8/20\n",
            "49/49 [==============================] - 1s 30ms/step - loss: 0.0792 - accuracy: 0.9733 - val_loss: 0.0599 - val_accuracy: 0.9820\n",
            "Epoch 9/20\n",
            "49/49 [==============================] - 1s 21ms/step - loss: 0.0617 - accuracy: 0.9799 - val_loss: 0.0355 - val_accuracy: 0.9921\n",
            "Epoch 10/20\n",
            "49/49 [==============================] - 1s 19ms/step - loss: 0.0546 - accuracy: 0.9819 - val_loss: 0.0288 - val_accuracy: 0.9956\n",
            "Epoch 11/20\n",
            "49/49 [==============================] - 1s 20ms/step - loss: 0.0321 - accuracy: 0.9909 - val_loss: 0.0137 - val_accuracy: 0.9974\n",
            "Epoch 12/20\n",
            "49/49 [==============================] - 1s 19ms/step - loss: 0.0274 - accuracy: 0.9920 - val_loss: 0.0088 - val_accuracy: 0.9983\n",
            "Epoch 13/20\n",
            "49/49 [==============================] - 1s 20ms/step - loss: 0.0213 - accuracy: 0.9937 - val_loss: 0.0058 - val_accuracy: 0.9989\n",
            "Epoch 14/20\n",
            "49/49 [==============================] - 1s 19ms/step - loss: 0.0268 - accuracy: 0.9928 - val_loss: 0.0051 - val_accuracy: 0.9991\n",
            "Epoch 15/20\n",
            "49/49 [==============================] - 1s 19ms/step - loss: 0.0037 - accuracy: 0.9994 - val_loss: 0.0024 - val_accuracy: 0.9994\n",
            "Epoch 16/20\n",
            "49/49 [==============================] - 1s 19ms/step - loss: 0.0197 - accuracy: 0.9942 - val_loss: 0.0019 - val_accuracy: 0.9996\n",
            "Epoch 17/20\n",
            "49/49 [==============================] - 1s 19ms/step - loss: 0.0249 - accuracy: 0.9939 - val_loss: 0.0018 - val_accuracy: 0.9998\n",
            "Epoch 18/20\n",
            "49/49 [==============================] - 1s 19ms/step - loss: 0.0013 - accuracy: 0.9998 - val_loss: 9.6699e-04 - val_accuracy: 0.9998\n",
            "Epoch 19/20\n",
            "49/49 [==============================] - 1s 20ms/step - loss: 0.0219 - accuracy: 0.9940 - val_loss: 0.0012 - val_accuracy: 0.9999\n",
            "Epoch 20/20\n",
            "49/49 [==============================] - 1s 31ms/step - loss: 8.0665e-04 - accuracy: 1.0000 - val_loss: 6.0050e-04 - val_accuracy: 0.9999\n"
          ]
        }
      ]
    },
    {
      "cell_type": "code",
      "source": [
        "import matplotlib.pyplot as plt\n",
        "plt.clf()\n",
        "import matplotlib.pyplot as plt\n",
        "history_dict = history.history\n",
        "loss_values = history_dict[\"loss\"]\n",
        "val_loss_values = history_dict[\"val_loss\"]\n",
        "epochs = range(1, len(loss_values) + 1)\n",
        "plt.plot(epochs, loss_values, \"bo\", label=\"Training loss\")\n",
        "plt.plot(epochs, val_loss_values, \"b\", label=\"Validation loss\")\n",
        "plt.title(\"Training and validation loss\")\n",
        "plt.xlabel(\"Epochs\")\n",
        "plt.ylabel(\"Loss\")\n",
        "plt.legend()\n",
        "plt.show()"
      ],
      "metadata": {
        "colab": {
          "base_uri": "https://localhost:8080/",
          "height": 472
        },
        "id": "UeZANprwoj2Z",
        "outputId": "dfca18c4-487e-4da3-8492-7cc24731ec29"
      },
      "execution_count": null,
      "outputs": [
        {
          "output_type": "display_data",
          "data": {
            "text/plain": [
              "<Figure size 640x480 with 1 Axes>"
            ],
            "image/png": "[encoded data removed]"
          },
          "metadata": {}
        }
      ]
    },
    {
      "cell_type": "code",
      "source": [
        "plt.clf()\n",
        "acc = history_dict[\"accuracy\"]\n",
        "val_acc = history_dict[\"val_accuracy\"]\n",
        "plt.plot(epochs, acc, \"bo\", label=\"Training acc\")\n",
        "plt.plot(epochs, val_acc, \"b\", label=\"Validation acc\")\n",
        "plt.title(\"Training and validation accuracy\")\n",
        "plt.xlabel(\"Epochs\")\n",
        "plt.ylabel(\"Accuracy\")\n",
        "plt.legend()\n",
        "plt.show()"
      ],
      "metadata": {
        "colab": {
          "base_uri": "https://localhost:8080/",
          "height": 472
        },
        "id": "CpPK_Mazoez7",
        "outputId": "f630c46a-d9be-46a5-c94f-dd0a420b670b"
      },
      "execution_count": null,
      "outputs": [
        {
          "output_type": "display_data",
          "data": {
            "text/plain": [
              "<Figure size 640x480 with 1 Axes>"
            ],
            "image/png": "[encoded data removed]"
          },
          "metadata": {}
        }
      ]
    },
    {
      "cell_type": "code",
      "source": [
        "results = model.evaluate(x_test, y_test)\n",
        "print(results)"
      ],
      "metadata": {
        "colab": {
          "base_uri": "https://localhost:8080/"
        },
        "id": "C6vBreyyrCm5",
        "outputId": "6af69a25-ffb3-48f1-c7fd-6c48e6ee4dfd"
      },
      "execution_count": null,
      "outputs": [
        {
          "output_type": "stream",
          "name": "stdout",
          "text": [
            "782/782 [==============================] - 2s 3ms/step - loss: 0.8673 - accuracy: 0.8614\n",
            "[0.8673160076141357, 0.8614000082015991]\n"
          ]
        }
      ]
    },
    {
      "cell_type": "markdown",
      "source": [
        "Training and validation loss decreased, but accuracy decreased too ???"
      ],
      "metadata": {
        "id": "gQ6XTRATsi-o"
      }
    },
    {
      "cell_type": "markdown",
      "source": [
        "# Multiclass classification : Classifying newswires\n",
        "Reuters Dataset\n",
        "\n"
      ],
      "metadata": {
        "id": "XlHDIrjpynX9"
      }
    },
    {
      "cell_type": "markdown",
      "source": [
        "***Single labelled multiclass classification*** is a type of classification problem where **each input data point is associated with one and only one label, and there are multiple possible labels**. This is also known as a ***multiclass classification problem with a single label***.\n",
        "\n",
        "In single labelled multiclass classification, *the goal is to build a model that can accurately predict the correct label for each input data point*. The model takes in a set of features as input, and then predicts a single label from a set of possible labels. The set of possible labels can be binary (i.e. two possible labels) or multiclass (i.e. more than two possible labels).\n",
        "\n",
        "Common examples of single labelled multiclass classification problems include:\n",
        "\n",
        "- Predicting the species of a flower based on its petal and sepal dimensions (where the possible labels are the different species of flowers)\n",
        "- Identifying the type of handwritten digit in an image (where the possible labels are the numbers 0-9)\n",
        "- Predicting the genre of a book based on its plot summary and other metadata (where the possible labels are the different genres of books)\n",
        "\n",
        "Single labelled multiclass classification can be tackled using a variety of machine learning algorithms, including logistic regression, support vector machines (SVMs), decision trees, random forests, and neural networks. The choice of algorithm depends on the specific problem and the amount of data available, as well as the desired level of accuracy and interpretability of the model."
      ],
      "metadata": {
        "id": "5-y5hsdazbIZ"
      }
    },
    {
      "cell_type": "markdown",
      "source": [
        "## Loading the Dataset "
      ],
      "metadata": {
        "id": "HH-1a1qE0H6y"
      }
    },
    {
      "cell_type": "code",
      "source": [
        "from tensorflow.keras.datasets import reuters\n",
        "(train_data, train_labels), (test_data, test_labels) = reuters.load_data(num_words=10000)"
      ],
      "metadata": {
        "colab": {
          "base_uri": "https://localhost:8080/"
        },
        "id": "Puutnr9k0KWp",
        "outputId": "929119c3-6bc3-4c6a-94d4-e00c2588db34"
      },
      "execution_count": 2,
      "outputs": [
        {
          "output_type": "stream",
          "name": "stdout",
          "text": [
            "Downloading data from https://storage.googleapis.com/tensorflow/tf-keras-datasets/reuters.npz\n",
            "2110848/2110848 [==============================] - 0s 0us/step\n"
          ]
        }
      ]
    },
    {
      "cell_type": "code",
      "source": [
        "len(train_data)"
      ],
      "metadata": {
        "colab": {
          "base_uri": "https://localhost:8080/"
        },
        "id": "KkbWIzCV0buv",
        "outputId": "8f2000ed-acfb-4013-82d3-2988133afdc4"
      },
      "execution_count": 3,
      "outputs": [
        {
          "output_type": "execute_result",
          "data": {
            "text/plain": [
              "8982"
            ]
          },
          "metadata": {},
          "execution_count": 3
        }
      ]
    },
    {
      "cell_type": "code",
      "source": [
        "len(test_data)"
      ],
      "metadata": {
        "colab": {
          "base_uri": "https://localhost:8080/"
        },
        "id": "To1Xq1VE0fUb",
        "outputId": "39cdc889-920e-4a02-a4f1-bdf1b15998bc"
      },
      "execution_count": 4,
      "outputs": [
        {
          "output_type": "execute_result",
          "data": {
            "text/plain": [
              "2246"
            ]
          },
          "metadata": {},
          "execution_count": 4
        }
      ]
    },
    {
      "cell_type": "markdown",
      "source": [
        "### Decoding the data to text"
      ],
      "metadata": {
        "id": "mBH2Otel00do"
      }
    },
    {
      "cell_type": "code",
      "source": [
        "word_index = reuters.get_word_index()\n",
        "reverse_word_index = dict([(value, key) for (key, value) in word_index.items()])\n",
        "decoded_newswire = \" \".join([reverse_word_index.get(i - 3, \"?\") for i in\n",
        "    train_data[0]])\n",
        "print(decoded_newswire)"
      ],
      "metadata": {
        "colab": {
          "base_uri": "https://localhost:8080/"
        },
        "id": "RBDtOhBD03yj",
        "outputId": "d82ebe2f-6915-4568-a125-3789e1474737"
      },
      "execution_count": 5,
      "outputs": [
        {
          "output_type": "stream",
          "name": "stdout",
          "text": [
            "Downloading data from https://storage.googleapis.com/tensorflow/tf-keras-datasets/reuters_word_index.json\n",
            "550378/550378 [==============================] - 0s 0us/step\n",
            "? ? ? said as a result of its december acquisition of space co it expects earnings per share in 1987 of 1 15 to 1 30 dlrs per share up from 70 cts in 1986 the company said pretax net should rise to nine to 10 mln dlrs from six mln dlrs in 1986 and rental operation revenues to 19 to 22 mln dlrs from 12 5 mln dlrs it said cash flow per share this year should be 2 50 to three dlrs reuter 3\n"
          ]
        }
      ]
    },
    {
      "cell_type": "markdown",
      "source": [
        "## Preparing the Data"
      ],
      "metadata": {
        "id": "V0XK1QtX1Lc6"
      }
    },
    {
      "cell_type": "markdown",
      "source": [
        "### Encoding the input data"
      ],
      "metadata": {
        "id": "mEDzR6rh1xfE"
      }
    },
    {
      "cell_type": "code",
      "source": [
        "import numpy as np\n",
        "def vectorize_sequences(sequences, dimension=10000):\n",
        "  results = np.zeros((len(sequences), dimension))\n",
        "  for i,sequence in enumerate(sequences):\n",
        "    for j in sequence:\n",
        "      results[i,j] = 1.\n",
        "  return results \n",
        "\n",
        "x_train = vectorize_sequences(train_data)\n",
        "x_test = vectorize_sequences(test_data)\n"
      ],
      "metadata": {
        "id": "y9KthmYt1mHZ"
      },
      "execution_count": 6,
      "outputs": []
    },
    {
      "cell_type": "markdown",
      "source": [
        "### Encoding the labels"
      ],
      "metadata": {
        "id": "MwymS47H11nh"
      }
    },
    {
      "cell_type": "code",
      "source": [
        "def to_one_hot(labels, dimension=46):\n",
        "    results = np.zeros((len(labels), dimension))\n",
        "    for i, label in enumerate(labels):\n",
        "        results[i, label] = 1.\n",
        "    return results\n",
        "y_train = to_one_hot(train_labels)\n",
        "y_test = to_one_hot(test_labels)"
      ],
      "metadata": {
        "id": "1m4QTHW92F8q"
      },
      "execution_count": 35,
      "outputs": []
    },
    {
      "cell_type": "code",
      "source": [
        "y_train[0]"
      ],
      "metadata": {
        "colab": {
          "base_uri": "https://localhost:8080/"
        },
        "id": "dY4kg8p_2LAF",
        "outputId": "a7730325-64ac-42ab-bc4d-c00c5db74116"
      },
      "execution_count": 8,
      "outputs": [
        {
          "output_type": "execute_result",
          "data": {
            "text/plain": [
              "array([0., 0., 0., 1., 0., 0., 0., 0., 0., 0., 0., 0., 0., 0., 0., 0., 0.,\n",
              "       0., 0., 0., 0., 0., 0., 0., 0., 0., 0., 0., 0., 0., 0., 0., 0., 0.,\n",
              "       0., 0., 0., 0., 0., 0., 0., 0., 0., 0., 0., 0.])"
            ]
          },
          "metadata": {},
          "execution_count": 8
        }
      ]
    },
    {
      "cell_type": "markdown",
      "source": [
        "#### Encoding using built in function"
      ],
      "metadata": {
        "id": "bwV7Qeki2OxN"
      }
    },
    {
      "cell_type": "code",
      "source": [
        "from tensorflow.keras.utils import to_categorical\n",
        "to_categorical??"
      ],
      "metadata": {
        "id": "kkIEzWcE2Rtm"
      },
      "execution_count": 9,
      "outputs": []
    },
    {
      "cell_type": "code",
      "source": [
        "y_train = to_categorical(train_labels)\n",
        "y_test = to_categorical(test_labels)\n",
        "y_train[0]"
      ],
      "metadata": {
        "colab": {
          "base_uri": "https://localhost:8080/"
        },
        "id": "HGaUyB3j28Wz",
        "outputId": "d7c49650-193f-4c54-ec78-b56b8cfa9467"
      },
      "execution_count": 10,
      "outputs": [
        {
          "output_type": "execute_result",
          "data": {
            "text/plain": [
              "array([0., 0., 0., 1., 0., 0., 0., 0., 0., 0., 0., 0., 0., 0., 0., 0., 0.,\n",
              "       0., 0., 0., 0., 0., 0., 0., 0., 0., 0., 0., 0., 0., 0., 0., 0., 0.,\n",
              "       0., 0., 0., 0., 0., 0., 0., 0., 0., 0., 0., 0.], dtype=float32)"
            ]
          },
          "metadata": {},
          "execution_count": 10
        }
      ]
    },
    {
      "cell_type": "markdown",
      "source": [
        "## Building Model"
      ],
      "metadata": {
        "id": "SkVTOcCi44n-"
      }
    },
    {
      "cell_type": "markdown",
      "source": [
        "In a stack of Dense layers like those we’ve been using, each layer can only access information present in the output of the previous layer. If one layer drops some information relevant to the classification problem, this information can never be recovered by later layers: each layer can potentially become an information bottle- neck. In the previous example, we used 16-dimensional intermediate layers, but a 16-dimensional space may be too limited to learn to separate 46 different classes: such small layers may act as information bottlenecks, permanently dropping rele- vant information.\n",
        "For this reason we’ll use larger layers. Let’s go with 64 units.\n"
      ],
      "metadata": {
        "id": "GWj0HPYT45st"
      }
    },
    {
      "cell_type": "code",
      "source": [
        "from tensorflow import keras\n",
        "from tensorflow.keras import layers\n",
        "\n",
        "model = keras.Sequential([\n",
        "    layers.Dense(64, activation=\"relu\"),\n",
        "    layers.Dense(64, activation=\"relu\"),\n",
        "    layers.Dense(46, activation=\"softmax\")\n",
        "])\n"
      ],
      "metadata": {
        "id": "zWE9Wioz3WlA"
      },
      "execution_count": 11,
      "outputs": []
    },
    {
      "cell_type": "markdown",
      "source": [
        "There are two other things you should note about this architecture.\n",
        "First, we end the model with a Dense layer of size 46. This means for each input sample, the network will output a 46-dimensional vector. Each entry in this vector\n",
        "(each dimension) will encode a different output class.\n",
        "Second, the last layer uses a softmax activation. You saw this pattern in the MNIST\n",
        "example. It means the model will output a probability distribution over the 46 different output classes—for every input sample, the model will produce a 46-dimensional out- put vector, where output[i] is the probability that the sample belongs to class i. The 46 scores will sum to 1."
      ],
      "metadata": {
        "id": "tY6wh5Cv5KLR"
      }
    },
    {
      "cell_type": "markdown",
      "source": [
        "### Compiling the model"
      ],
      "metadata": {
        "id": "PTZw0Kcy5yWk"
      }
    },
    {
      "cell_type": "code",
      "source": [
        "model.compile(optimizer=\"rmsprop\",\n",
        "              loss=\"categorical_crossentropy\",\n",
        "              metrics=[\"accuracy\"])"
      ],
      "metadata": {
        "id": "A7_tbTsH5NU0"
      },
      "execution_count": 12,
      "outputs": []
    },
    {
      "cell_type": "markdown",
      "source": [
        "categorical_crossentropy. It mea- sures the distance between two probability distributions: here, between the probability distribution output by the model and the true distribution of the labels. By minimizing the distance between these two distributions, you train the model to output something as close as possible to the true labels.\n"
      ],
      "metadata": {
        "id": "7eZ7jiba5eM3"
      }
    },
    {
      "cell_type": "markdown",
      "source": [
        "### Validation Set"
      ],
      "metadata": {
        "id": "EGzM3DCw53KZ"
      }
    },
    {
      "cell_type": "code",
      "source": [
        "x_val = x_train[:1000]\n",
        "partial_x_train = x_train[1000:]\n",
        "y_val = y_train[:1000]\n",
        "partial_y_train = y_train[1000:]"
      ],
      "metadata": {
        "id": "BwXWc3Bl55rc"
      },
      "execution_count": 13,
      "outputs": []
    },
    {
      "cell_type": "markdown",
      "source": [
        "### Training the model"
      ],
      "metadata": {
        "id": "4qS3vm405-ks"
      }
    },
    {
      "cell_type": "code",
      "source": [
        "import time\n",
        "t2 = time.time()\n",
        "history = model.fit(partial_x_train,\n",
        "                    partial_y_train,\n",
        "                    epochs=20,\n",
        "                    batch_size=512,\n",
        "                    validation_data=(x_val, y_val))\n",
        "\n",
        "print(F\"took: {time.time()-t2:.2f} secs to train\")"
      ],
      "metadata": {
        "colab": {
          "base_uri": "https://localhost:8080/"
        },
        "id": "24na0qiA6DZB",
        "outputId": "010605eb-6366-4fca-c015-c0ebd481ad21"
      },
      "execution_count": 14,
      "outputs": [
        {
          "output_type": "stream",
          "name": "stdout",
          "text": [
            "Epoch 1/20\n",
            "16/16 [==============================] - 1s 44ms/step - loss: 2.7379 - accuracy: 0.4979 - val_loss: 1.8278 - val_accuracy: 0.6380\n",
            "Epoch 2/20\n",
            "16/16 [==============================] - 0s 30ms/step - loss: 1.5157 - accuracy: 0.6893 - val_loss: 1.3675 - val_accuracy: 0.6980\n",
            "Epoch 3/20\n",
            "16/16 [==============================] - 0s 31ms/step - loss: 1.1498 - accuracy: 0.7554 - val_loss: 1.1760 - val_accuracy: 0.7420\n",
            "Epoch 4/20\n",
            "16/16 [==============================] - 0s 30ms/step - loss: 0.9291 - accuracy: 0.8047 - val_loss: 1.0876 - val_accuracy: 0.7570\n",
            "Epoch 5/20\n",
            "16/16 [==============================] - 0s 30ms/step - loss: 0.7657 - accuracy: 0.8379 - val_loss: 0.9974 - val_accuracy: 0.7910\n",
            "Epoch 6/20\n",
            "16/16 [==============================] - 0s 30ms/step - loss: 0.6328 - accuracy: 0.8670 - val_loss: 0.9742 - val_accuracy: 0.7870\n",
            "Epoch 7/20\n",
            "16/16 [==============================] - 0s 29ms/step - loss: 0.5316 - accuracy: 0.8850 - val_loss: 0.9130 - val_accuracy: 0.8140\n",
            "Epoch 8/20\n",
            "16/16 [==============================] - 0s 30ms/step - loss: 0.4426 - accuracy: 0.9058 - val_loss: 0.8840 - val_accuracy: 0.8150\n",
            "Epoch 9/20\n",
            "16/16 [==============================] - 1s 38ms/step - loss: 0.3718 - accuracy: 0.9206 - val_loss: 0.8770 - val_accuracy: 0.8230\n",
            "Epoch 10/20\n",
            "16/16 [==============================] - 1s 47ms/step - loss: 0.3177 - accuracy: 0.9315 - val_loss: 0.9030 - val_accuracy: 0.8040\n",
            "Epoch 11/20\n",
            "16/16 [==============================] - 1s 48ms/step - loss: 0.2750 - accuracy: 0.9374 - val_loss: 0.8828 - val_accuracy: 0.8210\n",
            "Epoch 12/20\n",
            "16/16 [==============================] - 0s 30ms/step - loss: 0.2399 - accuracy: 0.9458 - val_loss: 0.8945 - val_accuracy: 0.8190\n",
            "Epoch 13/20\n",
            "16/16 [==============================] - 0s 31ms/step - loss: 0.2143 - accuracy: 0.9484 - val_loss: 0.9002 - val_accuracy: 0.8110\n",
            "Epoch 14/20\n",
            "16/16 [==============================] - 0s 31ms/step - loss: 0.1951 - accuracy: 0.9505 - val_loss: 0.8949 - val_accuracy: 0.8250\n",
            "Epoch 15/20\n",
            "16/16 [==============================] - 0s 31ms/step - loss: 0.1755 - accuracy: 0.9519 - val_loss: 0.8997 - val_accuracy: 0.8150\n",
            "Epoch 16/20\n",
            "16/16 [==============================] - 0s 30ms/step - loss: 0.1656 - accuracy: 0.9508 - val_loss: 0.9186 - val_accuracy: 0.8170\n",
            "Epoch 17/20\n",
            "16/16 [==============================] - 0s 31ms/step - loss: 0.1518 - accuracy: 0.9536 - val_loss: 0.9383 - val_accuracy: 0.8150\n",
            "Epoch 18/20\n",
            "16/16 [==============================] - 0s 30ms/step - loss: 0.1466 - accuracy: 0.9563 - val_loss: 0.9300 - val_accuracy: 0.8120\n",
            "Epoch 19/20\n",
            "16/16 [==============================] - 0s 31ms/step - loss: 0.1398 - accuracy: 0.9548 - val_loss: 0.9423 - val_accuracy: 0.8080\n",
            "Epoch 20/20\n",
            "16/16 [==============================] - 0s 31ms/step - loss: 0.1322 - accuracy: 0.9590 - val_loss: 0.9232 - val_accuracy: 0.8190\n",
            "took: 21.32 secs to train\n"
          ]
        }
      ]
    },
    {
      "cell_type": "markdown",
      "source": [
        "### Plotting the training and validation loss"
      ],
      "metadata": {
        "id": "RweE7ye2Cxj3"
      }
    },
    {
      "cell_type": "code",
      "source": [
        "import matplotlib.pyplot as plt\n",
        "plt.clf()\n",
        "loss = history.history[\"loss\"]\n",
        "val_loss = history.history[\"val_loss\"]\n",
        "epochs = range(1, len(loss) + 1)\n",
        "plt.plot(epochs, loss, \"bo\", label=\"Training loss\")\n",
        "plt.plot(epochs, val_loss, \"b\", label=\"Validation loss\")\n",
        "plt.title(\"Training and validation loss\")\n",
        "plt.xlabel(\"Epochs\")\n",
        "plt.ylabel(\"Loss\")\n",
        "plt.legend()\n",
        "plt.show()"
      ],
      "metadata": {
        "colab": {
          "base_uri": "https://localhost:8080/",
          "height": 472
        },
        "id": "Bn4tUI7pC7cj",
        "outputId": "9e69e211-ecd7-4898-c8e1-c1178b82d20e"
      },
      "execution_count": 15,
      "outputs": [
        {
          "output_type": "display_data",
          "data": {
            "text/plain": [
              "<Figure size 640x480 with 1 Axes>"
            ],
            "image/png": "[encoded data removed]"
          },
          "metadata": {}
        }
      ]
    },
    {
      "cell_type": "markdown",
      "source": [
        "### Plotting the training and validation accuracy"
      ],
      "metadata": {
        "id": "Cxsw2KI2DOoW"
      }
    },
    {
      "cell_type": "code",
      "source": [
        "plt.clf()\n",
        "acc = history.history[\"accuracy\"]\n",
        "val_acc = history.history[\"val_accuracy\"]\n",
        "plt.plot(epochs, acc, \"bo\", label=\"Training accuracy\")\n",
        "plt.plot(epochs, val_acc, \"b\", label=\"Validation accuracy\")\n",
        "plt.title(\"Training and validation accuracy\")\n",
        "plt.xlabel(\"Epochs\")\n",
        "plt.ylabel(\"Accuracy\")\n",
        "plt.legend()\n",
        "plt.show()"
      ],
      "metadata": {
        "colab": {
          "base_uri": "https://localhost:8080/",
          "height": 472
        },
        "id": "ReVP00tVDQKA",
        "outputId": "52d13c7e-0a0c-4c5f-8481-ab9e756d5427"
      },
      "execution_count": 16,
      "outputs": [
        {
          "output_type": "display_data",
          "data": {
            "text/plain": [
              "<Figure size 640x480 with 1 Axes>"
            ],
            "image/png": "[encoded data removed]"
          },
          "metadata": {}
        }
      ]
    },
    {
      "cell_type": "markdown",
      "source": [
        "## Retraining the model \n",
        "The model begins to overfit after nine epochs. Let’s train a new model from scratch for nine epochs and then evaluate it on the test set."
      ],
      "metadata": {
        "id": "lThw-f5wFZHs"
      }
    },
    {
      "cell_type": "code",
      "source": [
        "model = keras.Sequential([\n",
        "  layers.Dense(64, activation=\"relu\"),\n",
        "  layers.Dense(64, activation=\"relu\"),\n",
        "  layers.Dense(46, activation=\"softmax\")\n",
        "])\n",
        "model.compile(optimizer=\"rmsprop\",\n",
        "              loss=\"categorical_crossentropy\",\n",
        "              metrics=[\"accuracy\"])\n",
        "model.fit(x_train,\n",
        "          y_train,\n",
        "          epochs=9,\n",
        "          batch_size=512)\n",
        "results = model.evaluate(x_test, y_test)"
      ],
      "metadata": {
        "colab": {
          "base_uri": "https://localhost:8080/"
        },
        "id": "2D3jRmzrFYxq",
        "outputId": "83f8f77c-8312-402a-9b6d-3ce9c1b9ff54"
      },
      "execution_count": 17,
      "outputs": [
        {
          "output_type": "stream",
          "name": "stdout",
          "text": [
            "Epoch 1/9\n",
            "18/18 [==============================] - 1s 35ms/step - loss: 2.5723 - accuracy: 0.5275\n",
            "Epoch 2/9\n",
            "18/18 [==============================] - 1s 28ms/step - loss: 1.4315 - accuracy: 0.6963\n",
            "Epoch 3/9\n",
            "18/18 [==============================] - 0s 27ms/step - loss: 1.1013 - accuracy: 0.7617\n",
            "Epoch 4/9\n",
            "18/18 [==============================] - 0s 27ms/step - loss: 0.8940 - accuracy: 0.8078\n",
            "Epoch 5/9\n",
            "18/18 [==============================] - 1s 28ms/step - loss: 0.7310 - accuracy: 0.8440\n",
            "Epoch 6/9\n",
            "18/18 [==============================] - 1s 28ms/step - loss: 0.6062 - accuracy: 0.8717\n",
            "Epoch 7/9\n",
            "18/18 [==============================] - 0s 27ms/step - loss: 0.5011 - accuracy: 0.8930\n",
            "Epoch 8/9\n",
            "18/18 [==============================] - 1s 29ms/step - loss: 0.4167 - accuracy: 0.9123\n",
            "Epoch 9/9\n",
            "18/18 [==============================] - 1s 28ms/step - loss: 0.3561 - accuracy: 0.9247\n",
            "71/71 [==============================] - 0s 2ms/step - loss: 0.9183 - accuracy: 0.7934\n"
          ]
        }
      ]
    },
    {
      "cell_type": "code",
      "source": [
        "results"
      ],
      "metadata": {
        "colab": {
          "base_uri": "https://localhost:8080/"
        },
        "id": "fqXqGGzgFlmX",
        "outputId": "9e48b5be-ab21-4ce6-a713-14aa89bf86c1"
      },
      "execution_count": 18,
      "outputs": [
        {
          "output_type": "execute_result",
          "data": {
            "text/plain": [
              "[0.9183318018913269, 0.7934104800224304]"
            ]
          },
          "metadata": {},
          "execution_count": 18
        }
      ]
    },
    {
      "cell_type": "markdown",
      "source": [
        "This approach reaches an accuracy of ~80%. With a balanced binary classification problem, the accuracy reached by a purely random classifier would be 50%. But in this case, we have 46 classes, and they may not be equally represented."
      ],
      "metadata": {
        "id": "dfq0svdUFnci"
      }
    },
    {
      "cell_type": "markdown",
      "source": [
        "### Emperical Classification check"
      ],
      "metadata": {
        "id": "dqNXtZFyFyJB"
      }
    },
    {
      "cell_type": "markdown",
      "source": [
        "What would be the accuracy of a random baseline? We could try quickly implementing one to check this empirically:\n"
      ],
      "metadata": {
        "id": "Jq8V930uF5SB"
      }
    },
    {
      "cell_type": "code",
      "source": [
        "import numpy as np\n",
        "import copy\n",
        "test_labels_copy = copy.copy(test_labels)\n",
        "np.random.shuffle(test_labels_copy)\n",
        "hits_array = np.array(test_labels) == np.array(test_labels_copy)\n",
        "hits_array.mean()"
      ],
      "metadata": {
        "colab": {
          "base_uri": "https://localhost:8080/"
        },
        "id": "Qc23AiaMF8Uj",
        "outputId": "196d7ef5-f4c8-4aa0-c798-e5d540a20a51"
      },
      "execution_count": 21,
      "outputs": [
        {
          "output_type": "execute_result",
          "data": {
            "text/plain": [
              "0.18388245770258238"
            ]
          },
          "metadata": {},
          "execution_count": 21
        }
      ]
    },
    {
      "cell_type": "markdown",
      "source": [
        "a random classifier would score around 19% classification accuracy, so the results of our model seem pretty good in that light.\n"
      ],
      "metadata": {
        "id": "i4LBXD5ZHHPb"
      }
    },
    {
      "cell_type": "markdown",
      "source": [
        "**Code explanation** of the above code from ChatGPT\n",
        "\n",
        "This code is performing a simple experiment to evaluate the performance of a model.\n",
        "\n",
        "First, it creates a copy of the test_labels array using copy.copy() method from the copy module to ensure that the original array is not modified during the experiment.\n",
        "Next, it shuffles the elements of the test_labels_copy array randomly using np.random.shuffle().\n",
        "Then, it creates a Boolean array hits_array by comparing each element of the original test_labels array with the corresponding element of the shuffled test_labels_copy array. The == operator performs element-wise comparison and returns a Boolean array of the same shape as the input arrays.\n",
        "Finally, it calculates the mean of hits_array to get the fraction of correctly classified samples by the model.\n",
        "**The idea behind this experiment is to measure the baseline performance of the model by randomly guessing the class labels. If the model is not able to achieve accuracy better than this baseline, it may indicate that the model is not performing well and needs improvement.**"
      ],
      "metadata": {
        "id": "DzTJYjPYGdP7"
      }
    },
    {
      "cell_type": "markdown",
      "source": [
        "### Generating predictions on new data"
      ],
      "metadata": {
        "id": "DHAXRwnbItsX"
      }
    },
    {
      "cell_type": "code",
      "source": [
        "# Calling the model’s predict method on new samples returns \n",
        "# a class probability distribution over all 46 topics for each sample\n",
        "predictions = model.predict(x_test)"
      ],
      "metadata": {
        "colab": {
          "base_uri": "https://localhost:8080/"
        },
        "id": "UogjTBFOIvxP",
        "outputId": "a7532525-931e-4ace-8bbc-188d3fb9c236"
      },
      "execution_count": 22,
      "outputs": [
        {
          "output_type": "stream",
          "name": "stdout",
          "text": [
            "71/71 [==============================] - 0s 2ms/step\n"
          ]
        }
      ]
    },
    {
      "cell_type": "code",
      "source": [
        "# Each entry in “predictions” is a vector of length 46:\n",
        "predictions[0].shape"
      ],
      "metadata": {
        "colab": {
          "base_uri": "https://localhost:8080/"
        },
        "id": "zIJLHzZQJE9e",
        "outputId": "9dd93ccd-ba1f-46b1-cf91-c8572431d055"
      },
      "execution_count": 23,
      "outputs": [
        {
          "output_type": "execute_result",
          "data": {
            "text/plain": [
              "(46,)"
            ]
          },
          "metadata": {},
          "execution_count": 23
        }
      ]
    },
    {
      "cell_type": "code",
      "source": [
        "# The coefficients in this vector sum to 1, \n",
        "# as they form a probability distribution:\n",
        "np.sum(predictions[0])"
      ],
      "metadata": {
        "colab": {
          "base_uri": "https://localhost:8080/"
        },
        "id": "npdCZJMqJPXc",
        "outputId": "2c5a3c7b-6489-4630-a0f4-aaddf919b6ad"
      },
      "execution_count": 24,
      "outputs": [
        {
          "output_type": "execute_result",
          "data": {
            "text/plain": [
              "0.99999994"
            ]
          },
          "metadata": {},
          "execution_count": 24
        }
      ]
    },
    {
      "cell_type": "code",
      "source": [
        "# The largest entry is the predicted class—the class with the highest probability:\n",
        "np.argmax(predictions[0])"
      ],
      "metadata": {
        "colab": {
          "base_uri": "https://localhost:8080/"
        },
        "id": "yTCkj-XmJXbo",
        "outputId": "e58c38d8-d034-47b9-af20-74a42a90c9f0"
      },
      "execution_count": 25,
      "outputs": [
        {
          "output_type": "execute_result",
          "data": {
            "text/plain": [
              "3"
            ]
          },
          "metadata": {},
          "execution_count": 25
        }
      ]
    },
    {
      "cell_type": "code",
      "source": [
        "y_train[0]"
      ],
      "metadata": {
        "colab": {
          "base_uri": "https://localhost:8080/"
        },
        "id": "XeUa02kMJ-Ti",
        "outputId": "4aae33fe-2ec8-41a3-ba71-f30ba3fd69e6"
      },
      "execution_count": 27,
      "outputs": [
        {
          "output_type": "execute_result",
          "data": {
            "text/plain": [
              "array([0., 0., 0., 1., 0., 0., 0., 0., 0., 0., 0., 0., 0., 0., 0., 0., 0.,\n",
              "       0., 0., 0., 0., 0., 0., 0., 0., 0., 0., 0., 0., 0., 0., 0., 0., 0.,\n",
              "       0., 0., 0., 0., 0., 0., 0., 0., 0., 0., 0., 0.], dtype=float32)"
            ]
          },
          "metadata": {},
          "execution_count": 27
        }
      ]
    },
    {
      "cell_type": "markdown",
      "source": [
        "### A different way to handle the labels and the loss"
      ],
      "metadata": {
        "id": "BaYWdsD8K57c"
      }
    },
    {
      "cell_type": "code",
      "source": [
        "y_train = np.array(train_labels)\n",
        "y_test = np.array(test_labels)"
      ],
      "metadata": {
        "id": "-uzYx148K3Oz"
      },
      "execution_count": 28,
      "outputs": []
    },
    {
      "cell_type": "code",
      "source": [
        "y_train[0]"
      ],
      "metadata": {
        "colab": {
          "base_uri": "https://localhost:8080/"
        },
        "id": "uu4Eg-ctLBmZ",
        "outputId": "146249d3-d3dd-4de6-da62-dd7415f12470"
      },
      "execution_count": 32,
      "outputs": [
        {
          "output_type": "execute_result",
          "data": {
            "text/plain": [
              "3"
            ]
          },
          "metadata": {},
          "execution_count": 32
        }
      ]
    },
    {
      "cell_type": "markdown",
      "source": [
        "The only thing this approach would change is the choice of the loss function. The loss function used in listing 4.21, categorical_crossentropy, expects the labels to follow a categorical encoding.\n",
        "\n",
        "With integer labels, you should use sparse_categorical_ crossentropy:"
      ],
      "metadata": {
        "id": "YgG3zndSLTgr"
      }
    },
    {
      "cell_type": "code",
      "source": [
        "model.compile(optimizer=\"rmsprop\",\n",
        "              loss=\"sparse_categorical_crossentropy\",\n",
        "              metrics=[\"accuracy\"])"
      ],
      "metadata": {
        "id": "3-v_u99gLXtR"
      },
      "execution_count": null,
      "outputs": []
    },
    {
      "cell_type": "markdown",
      "source": [
        "**Sparse Categorical Crossentropy** is a loss function used in machine learning for multi-class classification tasks, where the targets are provided as integers rather than one-hot encoded vectors. It is similar to Categorical Crossentropy, but it saves memory by avoiding the creation of a one-hot encoded matrix."
      ],
      "metadata": {
        "id": "l5jyfO3iL7MZ"
      }
    },
    {
      "cell_type": "markdown",
      "source": [
        "## Information Bottlenecking"
      ],
      "metadata": {
        "id": "90ZRDNKFMj07"
      }
    },
    {
      "cell_type": "code",
      "source": [
        "model = keras.Sequential([\n",
        "    layers.Dense(64, activation=\"relu\"),\n",
        "    layers.Dense(4, activation=\"relu\"),\n",
        "    layers.Dense(46, activation=\"softmax\")\n",
        "])\n",
        "model.compile(optimizer=\"rmsprop\",\n",
        "              loss=\"categorical_crossentropy\",\n",
        "              metrics=[\"accuracy\"])\n",
        "model.fit(partial_x_train,\n",
        "          partial_y_train,\n",
        "          epochs=20,\n",
        "          batch_size=128,\n",
        "          validation_data=(x_val, y_val))\n"
      ],
      "metadata": {
        "colab": {
          "base_uri": "https://localhost:8080/"
        },
        "id": "whGJabENMMvG",
        "outputId": "ec501b21-051e-40de-e5dd-3b93beff4b59"
      },
      "execution_count": 34,
      "outputs": [
        {
          "output_type": "stream",
          "name": "stdout",
          "text": [
            "Epoch 1/20\n",
            "63/63 [==============================] - 2s 20ms/step - loss: 3.2581 - accuracy: 0.1997 - val_loss: 2.6394 - val_accuracy: 0.5570\n",
            "Epoch 2/20\n",
            "63/63 [==============================] - 1s 16ms/step - loss: 2.1231 - accuracy: 0.5945 - val_loss: 1.7755 - val_accuracy: 0.6100\n",
            "Epoch 3/20\n",
            "63/63 [==============================] - 1s 17ms/step - loss: 1.5751 - accuracy: 0.6319 - val_loss: 1.5385 - val_accuracy: 0.6360\n",
            "Epoch 4/20\n",
            "63/63 [==============================] - 1s 12ms/step - loss: 1.3471 - accuracy: 0.6540 - val_loss: 1.4256 - val_accuracy: 0.6650\n",
            "Epoch 5/20\n",
            "63/63 [==============================] - 1s 15ms/step - loss: 1.1915 - accuracy: 0.6952 - val_loss: 1.3670 - val_accuracy: 0.6790\n",
            "Epoch 6/20\n",
            "63/63 [==============================] - 1s 14ms/step - loss: 1.0812 - accuracy: 0.7318 - val_loss: 1.3700 - val_accuracy: 0.6900\n",
            "Epoch 7/20\n",
            "63/63 [==============================] - 1s 11ms/step - loss: 1.0026 - accuracy: 0.7466 - val_loss: 1.3179 - val_accuracy: 0.6970\n",
            "Epoch 8/20\n",
            "63/63 [==============================] - 1s 11ms/step - loss: 0.9343 - accuracy: 0.7556 - val_loss: 1.3324 - val_accuracy: 0.7020\n",
            "Epoch 9/20\n",
            "63/63 [==============================] - 1s 11ms/step - loss: 0.8770 - accuracy: 0.7640 - val_loss: 1.3296 - val_accuracy: 0.7010\n",
            "Epoch 10/20\n",
            "63/63 [==============================] - 1s 11ms/step - loss: 0.8273 - accuracy: 0.7729 - val_loss: 1.3401 - val_accuracy: 0.7050\n",
            "Epoch 11/20\n",
            "63/63 [==============================] - 1s 11ms/step - loss: 0.7824 - accuracy: 0.7825 - val_loss: 1.3524 - val_accuracy: 0.7050\n",
            "Epoch 12/20\n",
            "63/63 [==============================] - 1s 11ms/step - loss: 0.7441 - accuracy: 0.7879 - val_loss: 1.3638 - val_accuracy: 0.7010\n",
            "Epoch 13/20\n",
            "63/63 [==============================] - 1s 10ms/step - loss: 0.7080 - accuracy: 0.7999 - val_loss: 1.4051 - val_accuracy: 0.6970\n",
            "Epoch 14/20\n",
            "63/63 [==============================] - 1s 11ms/step - loss: 0.6769 - accuracy: 0.8061 - val_loss: 1.4562 - val_accuracy: 0.7010\n",
            "Epoch 15/20\n",
            "63/63 [==============================] - 1s 11ms/step - loss: 0.6438 - accuracy: 0.8121 - val_loss: 1.4621 - val_accuracy: 0.6960\n",
            "Epoch 16/20\n",
            "63/63 [==============================] - 1s 11ms/step - loss: 0.6192 - accuracy: 0.8203 - val_loss: 1.4950 - val_accuracy: 0.6950\n",
            "Epoch 17/20\n",
            "63/63 [==============================] - 1s 11ms/step - loss: 0.5963 - accuracy: 0.8309 - val_loss: 1.5219 - val_accuracy: 0.6990\n",
            "Epoch 18/20\n",
            "63/63 [==============================] - 1s 11ms/step - loss: 0.5719 - accuracy: 0.8391 - val_loss: 1.5643 - val_accuracy: 0.7050\n",
            "Epoch 19/20\n",
            "63/63 [==============================] - 1s 11ms/step - loss: 0.5482 - accuracy: 0.8431 - val_loss: 1.6045 - val_accuracy: 0.7050\n",
            "Epoch 20/20\n",
            "63/63 [==============================] - 1s 11ms/step - loss: 0.5307 - accuracy: 0.8497 - val_loss: 1.6406 - val_accuracy: 0.6970\n"
          ]
        },
        {
          "output_type": "execute_result",
          "data": {
            "text/plain": [
              "<keras.callbacks.History at 0x7f25d83c0f10>"
            ]
          },
          "metadata": {},
          "execution_count": 34
        }
      ]
    },
    {
      "cell_type": "code",
      "source": [
        "y_test = to_one_hot(test_labels)\n",
        "results = model.evaluate(x_test, y_test)"
      ],
      "metadata": {
        "colab": {
          "base_uri": "https://localhost:8080/"
        },
        "id": "hxxlj7C-NPlP",
        "outputId": "f600d576-eed4-4d01-c046-d7b7e2701c6b"
      },
      "execution_count": 38,
      "outputs": [
        {
          "output_type": "stream",
          "name": "stdout",
          "text": [
            "71/71 [==============================] - 0s 3ms/step - loss: 1.9244 - accuracy: 0.6839\n"
          ]
        }
      ]
    },
    {
      "cell_type": "code",
      "source": [
        "print(results)"
      ],
      "metadata": {
        "colab": {
          "base_uri": "https://localhost:8080/"
        },
        "id": "b4epKRAuNrtv",
        "outputId": "e15da1fd-7312-4dc5-8833-3d162c02861a"
      },
      "execution_count": 39,
      "outputs": [
        {
          "output_type": "stream",
          "name": "stdout",
          "text": [
            "[1.9243696928024292, 0.683882474899292]\n"
          ]
        }
      ]
    },
    {
      "cell_type": "markdown",
      "source": [
        "The model now peaks at ~68% validation accuracy, an 11% absolute drop. This drop is mostly due to the fact that we’re trying to compress a lot of information (enough information to recover the separation hyperplanes of 46 classes) into an intermediate space that is too low-dimensional. The model is able to cram most of the necessary information into these four-dimensional representations, but not all of it.\n"
      ],
      "metadata": {
        "id": "sYiFL1Y4N3kw"
      }
    },
    {
      "cell_type": "markdown",
      "source": [
        "## Experiments \n",
        "\n",
        "1. 128 neurons\n",
        "2. 3 intermediate layers "
      ],
      "metadata": {
        "id": "MQhd5iokOO9H"
      }
    },
    {
      "cell_type": "markdown",
      "source": [
        "### 128 neurons / layer"
      ],
      "metadata": {
        "id": "gV_sobCyOrxV"
      }
    },
    {
      "cell_type": "code",
      "source": [
        "# Loading Data\n",
        "from tensorflow.keras.datasets import reuters\n",
        "(train_data, train_labels), (test_data, test_labels) = reuters.load_data(num_words=10000)\n",
        "\n",
        "# Encoding the input data\n",
        "import numpy as np\n",
        "def vectorize_sequences(sequences, dimension=10000):\n",
        "    results = np.zeros((len(sequences), dimension))\n",
        "    for i, sequence in enumerate(sequences):\n",
        "        for j in sequence:\n",
        "            results[i, j] = 1.\n",
        "    return results\n",
        "x_train = vectorize_sequences(train_data)\n",
        "x_test = vectorize_sequences(test_data)\n",
        "\n",
        "# Encoding the labels\n",
        "from tensorflow.keras.utils import to_categorical\n",
        "y_train = to_categorical(train_labels)\n",
        "y_test = to_categorical(test_labels)\n",
        "\n",
        "# Model definition\n",
        "from tensorflow import keras\n",
        "from tensorflow.keras import layers\n",
        "model = keras.Sequential([\n",
        "    layers.Dense(128, activation=\"relu\"),\n",
        "    layers.Dense(128, activation=\"relu\"),\n",
        "    layers.Dense(46, activation=\"softmax\")\n",
        "])\n",
        "\n",
        "# Model Compilation\n",
        "model.compile(optimizer=\"rmsprop\",\n",
        "              loss=\"categorical_crossentropy\",\n",
        "              metrics=[\"accuracy\"])\n",
        "# Validation set \n",
        "x_val = x_train[:1000]\n",
        "partial_x_train = x_train[1000:]\n",
        "y_val = y_train[:1000]\n",
        "partial_y_train = y_train[1000:]\n",
        "\n",
        "# Model training\n",
        "history = model.fit(partial_x_train,\n",
        "            partial_y_train,\n",
        "            epochs=20,\n",
        "            batch_size=128,\n",
        "            validation_data=(x_val, y_val))\n",
        "\n",
        "# Plotting the training and validation loss\n",
        "import matplotlib.pyplot as plt\n",
        "plt.clf()\n",
        "loss = history.history[\"loss\"]\n",
        "val_loss = history.history[\"val_loss\"]\n",
        "epochs = range(1, len(loss) + 1)\n",
        "plt.plot(epochs, loss, \"bo\", label=\"Training loss\")\n",
        "plt.plot(epochs, val_loss, \"b\", label=\"Validation loss\")\n",
        "plt.title(\"Training and validation loss\")\n",
        "plt.xlabel(\"Epochs\")\n",
        "plt.ylabel(\"Loss\")\n",
        "plt.legend()\n",
        "plt.show()\n",
        "\n",
        "#Plotting the training and validation accuracy\n",
        "plt.clf()\n",
        "acc = history.history[\"accuracy\"]\n",
        "val_acc = history.history[\"val_accuracy\"]\n",
        "plt.plot(epochs, acc, \"bo\", label=\"Training accuracy\")\n",
        "plt.plot(epochs, val_acc, \"b\", label=\"Validation accuracy\")\n",
        "plt.title(\"Training and validation accuracy\")\n",
        "plt.xlabel(\"Epochs\")\n",
        "plt.ylabel(\"Accuracy\")\n",
        "plt.legend()\n",
        "plt.show()\n",
        "\n",
        "# getting results \n",
        "results = model.evaluate(x_test, y_test)\n",
        "print(results)"
      ],
      "metadata": {
        "colab": {
          "base_uri": "https://localhost:8080/",
          "height": 1000
        },
        "id": "EiJ8tE9xO6DP",
        "outputId": "868625d3-e040-4eb3-c293-cee14a764d84"
      },
      "execution_count": 40,
      "outputs": [
        {
          "output_type": "stream",
          "name": "stdout",
          "text": [
            "Epoch 1/20\n",
            "63/63 [==============================] - 2s 19ms/step - loss: 1.6294 - accuracy: 0.6542 - val_loss: 1.1373 - val_accuracy: 0.7300\n",
            "Epoch 2/20\n",
            "63/63 [==============================] - 1s 17ms/step - loss: 0.8217 - accuracy: 0.8221 - val_loss: 0.9111 - val_accuracy: 0.8070\n",
            "Epoch 3/20\n",
            "63/63 [==============================] - 1s 17ms/step - loss: 0.5072 - accuracy: 0.8887 - val_loss: 0.8798 - val_accuracy: 0.7930\n",
            "Epoch 4/20\n",
            "63/63 [==============================] - 1s 17ms/step - loss: 0.3383 - accuracy: 0.9262 - val_loss: 0.9528 - val_accuracy: 0.8010\n",
            "Epoch 5/20\n",
            "63/63 [==============================] - 1s 16ms/step - loss: 0.2526 - accuracy: 0.9429 - val_loss: 0.8615 - val_accuracy: 0.8180\n",
            "Epoch 6/20\n",
            "63/63 [==============================] - 1s 23ms/step - loss: 0.2133 - accuracy: 0.9471 - val_loss: 0.8953 - val_accuracy: 0.8100\n",
            "Epoch 7/20\n",
            "63/63 [==============================] - 1s 20ms/step - loss: 0.1778 - accuracy: 0.9533 - val_loss: 0.9460 - val_accuracy: 0.8100\n",
            "Epoch 8/20\n",
            "63/63 [==============================] - 1s 16ms/step - loss: 0.1632 - accuracy: 0.9550 - val_loss: 0.9129 - val_accuracy: 0.8150\n",
            "Epoch 9/20\n",
            "63/63 [==============================] - 1s 16ms/step - loss: 0.1567 - accuracy: 0.9534 - val_loss: 0.9619 - val_accuracy: 0.8000\n",
            "Epoch 10/20\n",
            "63/63 [==============================] - 1s 17ms/step - loss: 0.1455 - accuracy: 0.9536 - val_loss: 0.9698 - val_accuracy: 0.8070\n",
            "Epoch 11/20\n",
            "63/63 [==============================] - 1s 17ms/step - loss: 0.1387 - accuracy: 0.9559 - val_loss: 0.9871 - val_accuracy: 0.8030\n",
            "Epoch 12/20\n",
            "63/63 [==============================] - 1s 16ms/step - loss: 0.1310 - accuracy: 0.9550 - val_loss: 0.9610 - val_accuracy: 0.8130\n",
            "Epoch 13/20\n",
            "63/63 [==============================] - 1s 17ms/step - loss: 0.1275 - accuracy: 0.9554 - val_loss: 0.9894 - val_accuracy: 0.8030\n",
            "Epoch 14/20\n",
            "63/63 [==============================] - 1s 17ms/step - loss: 0.1194 - accuracy: 0.9578 - val_loss: 1.0373 - val_accuracy: 0.8100\n",
            "Epoch 15/20\n",
            "63/63 [==============================] - 1s 17ms/step - loss: 0.1187 - accuracy: 0.9567 - val_loss: 0.9808 - val_accuracy: 0.8150\n",
            "Epoch 16/20\n",
            "63/63 [==============================] - 1s 18ms/step - loss: 0.1146 - accuracy: 0.9555 - val_loss: 1.0238 - val_accuracy: 0.8060\n",
            "Epoch 17/20\n",
            "63/63 [==============================] - 2s 26ms/step - loss: 0.1126 - accuracy: 0.9559 - val_loss: 0.9929 - val_accuracy: 0.8100\n",
            "Epoch 18/20\n",
            "63/63 [==============================] - 1s 17ms/step - loss: 0.1109 - accuracy: 0.9555 - val_loss: 0.9802 - val_accuracy: 0.8120\n",
            "Epoch 19/20\n",
            "63/63 [==============================] - 1s 16ms/step - loss: 0.1048 - accuracy: 0.9578 - val_loss: 0.9909 - val_accuracy: 0.8040\n",
            "Epoch 20/20\n",
            "63/63 [==============================] - 1s 16ms/step - loss: 0.1030 - accuracy: 0.9587 - val_loss: 1.0542 - val_accuracy: 0.8070\n"
          ]
        },
        {
          "output_type": "display_data",
          "data": {
            "text/plain": [
              "<Figure size 640x480 with 1 Axes>"
            ],
            "image/png": "[encoded data removed]"
          },
          "metadata": {}
        },
        {
          "output_type": "display_data",
          "data": {
            "text/plain": [
              "<Figure size 640x480 with 1 Axes>"
            ],
            "image/png": "[encoded data removed]"
          },
          "metadata": {}
        },
        {
          "output_type": "stream",
          "name": "stdout",
          "text": [
            "71/71 [==============================] - 0s 3ms/step - loss: 1.2348 - accuracy: 0.7841\n",
            "[1.2347971200942993, 0.784060537815094]\n"
          ]
        }
      ]
    },
    {
      "cell_type": "markdown",
      "source": [
        "78 % accuracy with 128 neurons. Less than before"
      ],
      "metadata": {
        "id": "Cx8PBHbbRQXn"
      }
    },
    {
      "cell_type": "markdown",
      "source": [
        "## 3 layers instead of 2"
      ],
      "metadata": {
        "id": "Yj5Qr5hwRwct"
      }
    },
    {
      "cell_type": "code",
      "source": [
        "# Loading Data\n",
        "from tensorflow.keras.datasets import reuters\n",
        "(train_data, train_labels), (test_data, test_labels) = reuters.load_data(num_words=10000)\n",
        "\n",
        "# Encoding the input data\n",
        "import numpy as np\n",
        "def vectorize_sequences(sequences, dimension=10000):\n",
        "    results = np.zeros((len(sequences), dimension))\n",
        "    for i, sequence in enumerate(sequences):\n",
        "        for j in sequence:\n",
        "            results[i, j] = 1.\n",
        "    return results\n",
        "x_train = vectorize_sequences(train_data)\n",
        "x_test = vectorize_sequences(test_data)\n",
        "\n",
        "# Encoding the labels\n",
        "from tensorflow.keras.utils import to_categorical\n",
        "y_train = to_categorical(train_labels)\n",
        "y_test = to_categorical(test_labels)\n",
        "\n",
        "# Model definition\n",
        "from tensorflow import keras\n",
        "from tensorflow.keras import layers\n",
        "model = keras.Sequential([\n",
        "    layers.Dense(64, activation=\"relu\"),\n",
        "    layers.Dense(64, activation=\"relu\"),\n",
        "    layers.Dense(64, activation=\"relu\"),\n",
        "    layers.Dense(46, activation=\"softmax\")\n",
        "])\n",
        "\n",
        "# Model Compilation\n",
        "model.compile(optimizer=\"rmsprop\",\n",
        "              loss=\"categorical_crossentropy\",\n",
        "              metrics=[\"accuracy\"])\n",
        "# Validation set \n",
        "x_val = x_train[:1000]\n",
        "partial_x_train = x_train[1000:]\n",
        "y_val = y_train[:1000]\n",
        "partial_y_train = y_train[1000:]\n",
        "\n",
        "# Model training\n",
        "history = model.fit(partial_x_train,\n",
        "            partial_y_train,\n",
        "            epochs=20,\n",
        "            batch_size=128,\n",
        "            validation_data=(x_val, y_val))\n",
        "\n",
        "# Plotting the training and validation loss\n",
        "import matplotlib.pyplot as plt\n",
        "plt.clf()\n",
        "loss = history.history[\"loss\"]\n",
        "val_loss = history.history[\"val_loss\"]\n",
        "epochs = range(1, len(loss) + 1)\n",
        "plt.plot(epochs, loss, \"bo\", label=\"Training loss\")\n",
        "plt.plot(epochs, val_loss, \"b\", label=\"Validation loss\")\n",
        "plt.title(\"Training and validation loss\")\n",
        "plt.xlabel(\"Epochs\")\n",
        "plt.ylabel(\"Loss\")\n",
        "plt.legend()\n",
        "plt.show()\n",
        "\n",
        "#Plotting the training and validation accuracy\n",
        "plt.clf()\n",
        "acc = history.history[\"accuracy\"]\n",
        "val_acc = history.history[\"val_accuracy\"]\n",
        "plt.plot(epochs, acc, \"bo\", label=\"Training accuracy\")\n",
        "plt.plot(epochs, val_acc, \"b\", label=\"Validation accuracy\")\n",
        "plt.title(\"Training and validation accuracy\")\n",
        "plt.xlabel(\"Epochs\")\n",
        "plt.ylabel(\"Accuracy\")\n",
        "plt.legend()\n",
        "plt.show()\n",
        "\n",
        "# getting results \n",
        "results = model.evaluate(x_test, y_test)\n",
        "print(results)"
      ],
      "metadata": {
        "colab": {
          "base_uri": "https://localhost:8080/",
          "height": 1000
        },
        "id": "moCUkrHVRzIm",
        "outputId": "e73777a0-c9ee-47fc-cc0e-8f2def9e1151"
      },
      "execution_count": 41,
      "outputs": [
        {
          "output_type": "stream",
          "name": "stdout",
          "text": [
            "Epoch 1/20\n",
            "63/63 [==============================] - 1s 14ms/step - loss: 1.9582 - accuracy: 0.5918 - val_loss: 1.2514 - val_accuracy: 0.7040\n",
            "Epoch 2/20\n",
            "63/63 [==============================] - 1s 11ms/step - loss: 1.0424 - accuracy: 0.7586 - val_loss: 1.0506 - val_accuracy: 0.7640\n",
            "Epoch 3/20\n",
            "63/63 [==============================] - 1s 11ms/step - loss: 0.7264 - accuracy: 0.8343 - val_loss: 0.9935 - val_accuracy: 0.7990\n",
            "Epoch 4/20\n",
            "63/63 [==============================] - 1s 11ms/step - loss: 0.5228 - accuracy: 0.8846 - val_loss: 0.9323 - val_accuracy: 0.8000\n",
            "Epoch 5/20\n",
            "63/63 [==============================] - 1s 11ms/step - loss: 0.3817 - accuracy: 0.9177 - val_loss: 1.0032 - val_accuracy: 0.7940\n",
            "Epoch 6/20\n",
            "63/63 [==============================] - 1s 10ms/step - loss: 0.2939 - accuracy: 0.9360 - val_loss: 0.9458 - val_accuracy: 0.8060\n",
            "Epoch 7/20\n",
            "63/63 [==============================] - 1s 10ms/step - loss: 0.2396 - accuracy: 0.9466 - val_loss: 0.9951 - val_accuracy: 0.8090\n",
            "Epoch 8/20\n",
            "63/63 [==============================] - 1s 11ms/step - loss: 0.2057 - accuracy: 0.9510 - val_loss: 1.0520 - val_accuracy: 0.8020\n",
            "Epoch 9/20\n",
            "63/63 [==============================] - 1s 11ms/step - loss: 0.1842 - accuracy: 0.9528 - val_loss: 1.0683 - val_accuracy: 0.7920\n",
            "Epoch 10/20\n",
            "63/63 [==============================] - 1s 11ms/step - loss: 0.1732 - accuracy: 0.9541 - val_loss: 1.0637 - val_accuracy: 0.8080\n",
            "Epoch 11/20\n",
            "63/63 [==============================] - 1s 15ms/step - loss: 0.1657 - accuracy: 0.9539 - val_loss: 1.1260 - val_accuracy: 0.7880\n",
            "Epoch 12/20\n",
            "63/63 [==============================] - 1s 16ms/step - loss: 0.1525 - accuracy: 0.9536 - val_loss: 1.0405 - val_accuracy: 0.7950\n",
            "Epoch 13/20\n",
            "63/63 [==============================] - 1s 11ms/step - loss: 0.1459 - accuracy: 0.9546 - val_loss: 1.0701 - val_accuracy: 0.8040\n",
            "Epoch 14/20\n",
            "63/63 [==============================] - 1s 11ms/step - loss: 0.1394 - accuracy: 0.9549 - val_loss: 1.0263 - val_accuracy: 0.8060\n",
            "Epoch 15/20\n",
            "63/63 [==============================] - 1s 12ms/step - loss: 0.1380 - accuracy: 0.9539 - val_loss: 1.0424 - val_accuracy: 0.8020\n",
            "Epoch 16/20\n",
            "63/63 [==============================] - 1s 11ms/step - loss: 0.1288 - accuracy: 0.9564 - val_loss: 1.0432 - val_accuracy: 0.8010\n",
            "Epoch 17/20\n",
            "63/63 [==============================] - 1s 11ms/step - loss: 0.1240 - accuracy: 0.9569 - val_loss: 1.1226 - val_accuracy: 0.7950\n",
            "Epoch 18/20\n",
            "63/63 [==============================] - 1s 11ms/step - loss: 0.1203 - accuracy: 0.9562 - val_loss: 1.1346 - val_accuracy: 0.7900\n",
            "Epoch 19/20\n",
            "63/63 [==============================] - 1s 11ms/step - loss: 0.1185 - accuracy: 0.9579 - val_loss: 1.1241 - val_accuracy: 0.7900\n",
            "Epoch 20/20\n",
            "63/63 [==============================] - 1s 11ms/step - loss: 0.1163 - accuracy: 0.9557 - val_loss: 1.0564 - val_accuracy: 0.7990\n"
          ]
        },
        {
          "output_type": "display_data",
          "data": {
            "text/plain": [
              "<Figure size 640x480 with 1 Axes>"
            ],
            "image/png": "[encoded data removed]"
          },
          "metadata": {}
        },
        {
          "output_type": "display_data",
          "data": {
            "text/plain": [
              "<Figure size 640x480 with 1 Axes>"
            ],
            "image/png": "[encoded data removed]"
          },
          "metadata": {}
        },
        {
          "output_type": "stream",
          "name": "stdout",
          "text": [
            "71/71 [==============================] - 0s 2ms/step - loss: 1.2190 - accuracy: 0.7796\n",
            "[1.2189527750015259, 0.7796081900596619]\n"
          ]
        }
      ]
    },
    {
      "cell_type": "markdown",
      "source": [
        "Similar accuracy, still less than the OG 79"
      ],
      "metadata": {
        "id": "Jpc6CUOYSIEO"
      }
    },
    {
      "cell_type": "markdown",
      "source": [
        "# Regression\n",
        "\n",
        "Boston housing data"
      ],
      "metadata": {
        "id": "aVO_nPLagC8O"
      }
    },
    {
      "cell_type": "markdown",
      "source": [
        "## Loading the dataset"
      ],
      "metadata": {
        "id": "jymGaR9WjIo1"
      }
    },
    {
      "cell_type": "code",
      "source": [
        "from tensorflow.keras.datasets import boston_housing \n",
        "\n",
        "(train_data, train_targets), (test_data, test_targets) = boston_housing.load_data()\n",
        "print(train_data.shape)\n",
        "print(test_data.shape)\n",
        "\n",
        "# Relative few data points , only 404"
      ],
      "metadata": {
        "colab": {
          "base_uri": "https://localhost:8080/"
        },
        "id": "YyWPJqFhjLFQ",
        "outputId": "bf74b500-8cd7-4ae3-d15a-5b6246cceb54"
      },
      "execution_count": 1,
      "outputs": [
        {
          "output_type": "stream",
          "name": "stdout",
          "text": [
            "Downloading data from https://storage.googleapis.com/tensorflow/tf-keras-datasets/boston_housing.npz\n",
            "57026/57026 [==============================] - 0s 0us/step\n",
            "(404, 13)\n",
            "(102, 13)\n"
          ]
        }
      ]
    },
    {
      "cell_type": "code",
      "source": [
        "train_targets\n",
        "\n",
        "# The targets are the median values of owner-occupied homes, in thousands of dollars:"
      ],
      "metadata": {
        "colab": {
          "base_uri": "https://localhost:8080/"
        },
        "id": "Rux0d0Z-jsIU",
        "outputId": "cec323cf-14c5-4c27-e1cc-eda2b04a381a"
      },
      "execution_count": 2,
      "outputs": [
        {
          "output_type": "execute_result",
          "data": {
            "text/plain": [
              "array([15.2, 42.3, 50. , 21.1, 17.7, 18.5, 11.3, 15.6, 15.6, 14.4, 12.1,\n",
              "       17.9, 23.1, 19.9, 15.7,  8.8, 50. , 22.5, 24.1, 27.5, 10.9, 30.8,\n",
              "       32.9, 24. , 18.5, 13.3, 22.9, 34.7, 16.6, 17.5, 22.3, 16.1, 14.9,\n",
              "       23.1, 34.9, 25. , 13.9, 13.1, 20.4, 20. , 15.2, 24.7, 22.2, 16.7,\n",
              "       12.7, 15.6, 18.4, 21. , 30.1, 15.1, 18.7,  9.6, 31.5, 24.8, 19.1,\n",
              "       22. , 14.5, 11. , 32. , 29.4, 20.3, 24.4, 14.6, 19.5, 14.1, 14.3,\n",
              "       15.6, 10.5,  6.3, 19.3, 19.3, 13.4, 36.4, 17.8, 13.5, 16.5,  8.3,\n",
              "       14.3, 16. , 13.4, 28.6, 43.5, 20.2, 22. , 23. , 20.7, 12.5, 48.5,\n",
              "       14.6, 13.4, 23.7, 50. , 21.7, 39.8, 38.7, 22.2, 34.9, 22.5, 31.1,\n",
              "       28.7, 46. , 41.7, 21. , 26.6, 15. , 24.4, 13.3, 21.2, 11.7, 21.7,\n",
              "       19.4, 50. , 22.8, 19.7, 24.7, 36.2, 14.2, 18.9, 18.3, 20.6, 24.6,\n",
              "       18.2,  8.7, 44. , 10.4, 13.2, 21.2, 37. , 30.7, 22.9, 20. , 19.3,\n",
              "       31.7, 32. , 23.1, 18.8, 10.9, 50. , 19.6,  5. , 14.4, 19.8, 13.8,\n",
              "       19.6, 23.9, 24.5, 25. , 19.9, 17.2, 24.6, 13.5, 26.6, 21.4, 11.9,\n",
              "       22.6, 19.6,  8.5, 23.7, 23.1, 22.4, 20.5, 23.6, 18.4, 35.2, 23.1,\n",
              "       27.9, 20.6, 23.7, 28. , 13.6, 27.1, 23.6, 20.6, 18.2, 21.7, 17.1,\n",
              "        8.4, 25.3, 13.8, 22.2, 18.4, 20.7, 31.6, 30.5, 20.3,  8.8, 19.2,\n",
              "       19.4, 23.1, 23. , 14.8, 48.8, 22.6, 33.4, 21.1, 13.6, 32.2, 13.1,\n",
              "       23.4, 18.9, 23.9, 11.8, 23.3, 22.8, 19.6, 16.7, 13.4, 22.2, 20.4,\n",
              "       21.8, 26.4, 14.9, 24.1, 23.8, 12.3, 29.1, 21. , 19.5, 23.3, 23.8,\n",
              "       17.8, 11.5, 21.7, 19.9, 25. , 33.4, 28.5, 21.4, 24.3, 27.5, 33.1,\n",
              "       16.2, 23.3, 48.3, 22.9, 22.8, 13.1, 12.7, 22.6, 15. , 15.3, 10.5,\n",
              "       24. , 18.5, 21.7, 19.5, 33.2, 23.2,  5. , 19.1, 12.7, 22.3, 10.2,\n",
              "       13.9, 16.3, 17. , 20.1, 29.9, 17.2, 37.3, 45.4, 17.8, 23.2, 29. ,\n",
              "       22. , 18. , 17.4, 34.6, 20.1, 25. , 15.6, 24.8, 28.2, 21.2, 21.4,\n",
              "       23.8, 31. , 26.2, 17.4, 37.9, 17.5, 20. ,  8.3, 23.9,  8.4, 13.8,\n",
              "        7.2, 11.7, 17.1, 21.6, 50. , 16.1, 20.4, 20.6, 21.4, 20.6, 36.5,\n",
              "        8.5, 24.8, 10.8, 21.9, 17.3, 18.9, 36.2, 14.9, 18.2, 33.3, 21.8,\n",
              "       19.7, 31.6, 24.8, 19.4, 22.8,  7.5, 44.8, 16.8, 18.7, 50. , 50. ,\n",
              "       19.5, 20.1, 50. , 17.2, 20.8, 19.3, 41.3, 20.4, 20.5, 13.8, 16.5,\n",
              "       23.9, 20.6, 31.5, 23.3, 16.8, 14. , 33.8, 36.1, 12.8, 18.3, 18.7,\n",
              "       19.1, 29. , 30.1, 50. , 50. , 22. , 11.9, 37.6, 50. , 22.7, 20.8,\n",
              "       23.5, 27.9, 50. , 19.3, 23.9, 22.6, 15.2, 21.7, 19.2, 43.8, 20.3,\n",
              "       33.2, 19.9, 22.5, 32.7, 22. , 17.1, 19. , 15. , 16.1, 25.1, 23.7,\n",
              "       28.7, 37.2, 22.6, 16.4, 25. , 29.8, 22.1, 17.4, 18.1, 30.3, 17.5,\n",
              "       24.7, 12.6, 26.5, 28.7, 13.3, 10.4, 24.4, 23. , 20. , 17.8,  7. ,\n",
              "       11.8, 24.4, 13.8, 19.4, 25.2, 19.4, 19.4, 29.1])"
            ]
          },
          "metadata": {},
          "execution_count": 2
        }
      ]
    },
    {
      "cell_type": "markdown",
      "source": [
        "## Preparing the Data "
      ],
      "metadata": {
        "id": "_uWf6Jm4kN88"
      }
    },
    {
      "cell_type": "markdown",
      "source": [
        "### Data Normalization using Numpy"
      ],
      "metadata": {
        "id": "5kKZEhS_kTHQ"
      }
    },
    {
      "cell_type": "code",
      "source": [
        "type(train_targets)"
      ],
      "metadata": {
        "colab": {
          "base_uri": "https://localhost:8080/"
        },
        "id": "kJMnp1r5khKV",
        "outputId": "6b278b85-0e90-4cd2-d6ee-371f65cabf99"
      },
      "execution_count": 3,
      "outputs": [
        {
          "output_type": "execute_result",
          "data": {
            "text/plain": [
              "numpy.ndarray"
            ]
          },
          "metadata": {},
          "execution_count": 3
        }
      ]
    },
    {
      "cell_type": "markdown",
      "source": [
        "It would be problematic to feed into a neural network values that all take wildly differ- ent ranges. The model might be able to automatically adapt to such heterogeneous data, but it would definitely make learning more difficult. "
      ],
      "metadata": {
        "id": "UluJRCoJkxiS"
      }
    },
    {
      "cell_type": "code",
      "source": [
        "import numpy as np\n",
        "mean = train_data.mean(axis=0)\n",
        "train_data -= mean\n",
        "std = train_data.std(axis=0)\n",
        "train_data /= std\n",
        "test_data -= mean\n",
        "test_data /= std"
      ],
      "metadata": {
        "id": "S_SNKdkmkQ4V"
      },
      "execution_count": 4,
      "outputs": []
    },
    {
      "cell_type": "markdown",
      "source": [
        "## Building the Model"
      ],
      "metadata": {
        "id": "I2-uuVIWk_V8"
      }
    },
    {
      "cell_type": "markdown",
      "source": [
        "The less training data you have, the worse overfitting will be, and using a small model is one way to mitigate overfitting."
      ],
      "metadata": {
        "id": "fM4z7QAblIms"
      }
    },
    {
      "cell_type": "code",
      "source": [
        "from tensorflow import keras\n",
        "from tensorflow.keras import layers\n",
        "def build_model():\n",
        "    model = keras.Sequential([\n",
        "        layers.Dense(64, activation=\"relu\"),\n",
        "        layers.Dense(64, activation=\"relu\"),\n",
        "        layers.Dense(1), # End with single unit w/o any activation for Regression\n",
        "        ])\n",
        "    model.compile(optimizer=\"rmsprop\",\n",
        "        loss='mse', # MSE loss function Mean Squared Error\n",
        "        metrics=[\"mae\"] # Mean Absolute error\n",
        "        )\n",
        "    return model\n",
        "\n"
      ],
      "metadata": {
        "id": "dzw5-0VGlBxb"
      },
      "execution_count": 5,
      "outputs": []
    },
    {
      "cell_type": "markdown",
      "source": [
        "The model ends with a single unit and no activation (it will be a linear layer). This is a typical setup for scalar regression (a regression where you’re trying to predict a single continuous value). Applying an activation function would constrain the range the out- put can take; for instance, if you applied a sigmoid activation function to the last layer, the model could only learn to predict values between 0 and 1. Here, because the last layer is purely linear, the model is free to learn to predict values in any range."
      ],
      "metadata": {
        "id": "wwMKFCEWoUfQ"
      }
    },
    {
      "cell_type": "markdown",
      "source": [
        "Note that we compile the model with the mse loss function—mean squared error, the square of the difference between the predictions and the targets. This is a widely used loss function for regression problems.\n",
        "We’re also monitoring a new metric during training: mean absolute error (MAE). It’s the absolute value of the difference between the predictions and the targets. For instance, an MAE of 0.5 on this problem would mean your predictions are off by $500 on average"
      ],
      "metadata": {
        "id": "wkxKJUHpohIN"
      }
    },
    {
      "cell_type": "markdown",
      "source": [
        "## Validation using K-fold validation"
      ],
      "metadata": {
        "id": "kjxXUxoqo5nh"
      }
    },
    {
      "cell_type": "markdown",
      "source": [
        "Because we have so few data points, the validation set would end up being very small (for instance, about 100 examples). As a consequence, the validation scores might change a lot depending on which data points we chose for validation and which we chose for training:"
      ],
      "metadata": {
        "id": "_qsBqtdSo-Es"
      }
    },
    {
      "cell_type": "markdown",
      "source": [
        "**K-fold-validation**\n",
        "\n",
        "![k-fold-validation.png](data:image/png;base64,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)"
      ],
      "metadata": {
        "id": "Px0995xipXlJ"
      }
    },
    {
      "cell_type": "markdown",
      "source": [
        "It consists of splitting the available data into K partitions (typically K = 4 or 5), instanti- ating K identical models, and training each one on K – 1 partitions while evaluating on the remaining partition. The validation score for the model used is then the aver- age of the K validation scores obtained"
      ],
      "metadata": {
        "id": "AAew3tWupeGQ"
      }
    },
    {
      "cell_type": "code",
      "source": [
        "# K-fold Code\n",
        "import numpy as np\n",
        "\n",
        "k = 4\n",
        "num_val_samples = len(train_data)//k # //  It returns the largest integer value less than or equal to the result of dividing the two operands.\n",
        "print(F\"len train_data:{len(train_data)}\")\n",
        "print(F\"num_val_samples:{num_val_samples} \\n\\n\")\n",
        "num_epochs = 100\n",
        "all_scores = []\n",
        "\n",
        "for i in range(k):\n",
        "    print(F\"Processing fold :{i}\")\n",
        "    val_data = train_data[i*num_val_samples : (i+1)*num_val_samples]\n",
        "    print(F\"len val_data: {len(val_data)}\")\n",
        "    print(F\"val_data indices:{(i*num_val_samples,(i+1)*num_val_samples)}\")\n",
        "    val_targets = train_targets[i*num_val_samples : (i+1)*num_val_samples]\n",
        "    print(F\"len val_targets: {len(val_targets)}\")\n",
        "    print(F\"val_target indices:{(i*num_val_samples,(i+1)*num_val_samples)}\")\n",
        "\n",
        "    partial_train_data = np.concatenate(\n",
        "        [\n",
        "        train_data[:i*num_val_samples],\n",
        "        train_data[(i+1)*num_val_samples:]\n",
        "          ],\n",
        "         axis=0)\n",
        "    print(F\"len partial_train_data: {len(partial_train_data)}\")\n",
        "    print(F\"partial_train_data indices: (:{i*num_val_samples}) + ({(i+1)*num_val_samples}:)\")\n",
        "    partial_train_targets = np.concatenate(\n",
        "        [\n",
        "            train_targets[:i*num_val_samples],\n",
        "            train_targets[(i+1)*num_val_samples:]\n",
        "        ],\n",
        "         axis=0)\n",
        "    print(F\"len partial_train_targets: {len(partial_train_targets)}\")\n",
        "    model = build_model()\n",
        "    model.fit(partial_train_data, partial_train_targets,\n",
        "              epochs=num_epochs, batch_size=16, verbose=0) # verbose parameter is used to control the amount of logging output during training and evaluation of the model.\n",
        "    val_mse, val_mae = model.evaluate(val_data, val_targets, verbose=0)\n",
        "    print(F\"Val_mae :{val_mae} \\n\")\n",
        "    \n",
        "    all_scores.append(val_mae)\n",
        "    "
      ],
      "metadata": {
        "colab": {
          "base_uri": "https://localhost:8080/"
        },
        "id": "fd8EBpizpmnj",
        "outputId": "6273bd1e-4779-44f8-fa8a-eee71bbbe685"
      },
      "execution_count": 9,
      "outputs": [
        {
          "output_type": "stream",
          "name": "stdout",
          "text": [
            "len train_data:404\n",
            "num_val_samples:101 \n",
            "\n",
            "\n",
            "Processing fold :0\n",
            "len val_data: 101\n",
            "val_data indices:(0, 101)\n",
            "len val_targets: 101\n",
            "val_target indices:(0, 101)\n",
            "len partial_train_data: 303\n",
            "partial_train_data indices: (:0) + (101:)\n",
            "len partial_train_targets: 303\n",
            "Val_mae :2.033750057220459 \n",
            "\n",
            "Processing fold :1\n",
            "len val_data: 101\n",
            "val_data indices:(101, 202)\n",
            "len val_targets: 101\n",
            "val_target indices:(101, 202)\n",
            "len partial_train_data: 303\n",
            "partial_train_data indices: (:101) + (202:)\n",
            "len partial_train_targets: 303\n",
            "Val_mae :2.5737099647521973 \n",
            "\n",
            "Processing fold :2\n",
            "len val_data: 101\n",
            "val_data indices:(202, 303)\n",
            "len val_targets: 101\n",
            "val_target indices:(202, 303)\n",
            "len partial_train_data: 303\n",
            "partial_train_data indices: (:202) + (303:)\n",
            "len partial_train_targets: 303\n",
            "Val_mae :2.30653977394104 \n",
            "\n",
            "Processing fold :3\n",
            "len val_data: 101\n",
            "val_data indices:(303, 404)\n",
            "len val_targets: 101\n",
            "val_target indices:(303, 404)\n",
            "len partial_train_data: 303\n",
            "partial_train_data indices: (:303) + (404:)\n",
            "len partial_train_targets: 303\n",
            "Val_mae :2.3779871463775635 \n",
            "\n"
          ]
        }
      ]
    },
    {
      "cell_type": "code",
      "source": [
        "all_scores"
      ],
      "metadata": {
        "colab": {
          "base_uri": "https://localhost:8080/"
        },
        "id": "Q7uTc7hrcop2",
        "outputId": "2cc9d137-7a9a-4e04-9b8b-ec10f1e5cfc6"
      },
      "execution_count": 10,
      "outputs": [
        {
          "output_type": "execute_result",
          "data": {
            "text/plain": [
              "[2.033750057220459, 2.5737099647521973, 2.30653977394104, 2.3779871463775635]"
            ]
          },
          "metadata": {},
          "execution_count": 10
        }
      ]
    },
    {
      "cell_type": "code",
      "source": [
        "np.mean(all_scores)"
      ],
      "metadata": {
        "colab": {
          "base_uri": "https://localhost:8080/"
        },
        "id": "cRhMQjPXcs-z",
        "outputId": "530d1d02-35da-44f8-de88-cd19f3c44b23"
      },
      "execution_count": 11,
      "outputs": [
        {
          "output_type": "execute_result",
          "data": {
            "text/plain": [
              "2.322996735572815"
            ]
          },
          "metadata": {},
          "execution_count": 11
        }
      ]
    },
    {
      "cell_type": "markdown",
      "source": [
        "The average (2.3) is a much more reliable metric than any single score—that’s the entire point of K-fold cross-validation. In this case, we’re off by USD 2,300 on average, which is significant considering that the prices range from 10,000 to 50,000."
      ],
      "metadata": {
        "id": "L1q3NDdZc7T_"
      }
    },
    {
      "cell_type": "markdown",
      "source": [
        "### Saving the validation logs at each fold "
      ],
      "metadata": {
        "id": "0RSDBbXQdUxP"
      }
    },
    {
      "cell_type": "code",
      "source": [
        "num_epochs = 500\n",
        "all_mae_histories = []\n",
        "for i in range(k):\n",
        "    print(f\"Processing fold :{i}\")\n",
        "    val_data = train_data[i * num_val_samples: (i + 1) * num_val_samples]\n",
        "    val_targets = train_targets[i * num_val_samples: (i + 1) * num_val_samples]\n",
        "    partial_train_data = np.concatenate(\n",
        "        [train_data[:i * num_val_samples],\n",
        "         train_data[(i + 1) * num_val_samples:]],\n",
        "        axis=0)\n",
        "    partial_train_targets = np.concatenate(\n",
        "        [train_targets[:i * num_val_samples],\n",
        "         train_targets[(i + 1) * num_val_samples:]],\n",
        "        axis=0)\n",
        "    model = build_model()\n",
        "    history = model.fit(partial_train_data, partial_train_targets,\n",
        "                        validation_data=(val_data, val_targets),\n",
        "                        epochs=num_epochs, batch_size=16, verbose=0)\n",
        "    mae_history = history.history[\"val_mae\"]\n",
        "    all_mae_histories.append(mae_history)"
      ],
      "metadata": {
        "colab": {
          "base_uri": "https://localhost:8080/"
        },
        "id": "uBIhX8hhhNHe",
        "outputId": "da7fb8bd-e18e-4b0f-cb72-30f4021a44b7"
      },
      "execution_count": 14,
      "outputs": [
        {
          "output_type": "stream",
          "name": "stdout",
          "text": [
            "Processing fold :0\n",
            "Processing fold :1\n",
            "Processing fold :2\n",
            "Processing fold :3\n"
          ]
        }
      ]
    },
    {
      "cell_type": "markdown",
      "source": [
        "### Building the history of successive mean K-fold validation scores"
      ],
      "metadata": {
        "id": "_kMJGc5Gh7F-"
      }
    },
    {
      "cell_type": "code",
      "source": [
        "average_mae_history = [\n",
        "    np.mean([x[i] for x in all_mae_histories]) for i in range(num_epochs)]"
      ],
      "metadata": {
        "id": "ic669D9Eh9AS"
      },
      "execution_count": 15,
      "outputs": []
    },
    {
      "cell_type": "markdown",
      "source": [
        "### Plotting validation scores"
      ],
      "metadata": {
        "id": "IPd-x2EEiXDS"
      }
    },
    {
      "cell_type": "code",
      "source": [
        "import matplotlib.pyplot as plt\n",
        "\n",
        "plt.plot(range(1, len(average_mae_history) + 1), average_mae_history)\n",
        "plt.xlabel(\"Epochs\")\n",
        "plt.ylabel(\"Validation MAE\")\n",
        "plt.show()"
      ],
      "metadata": {
        "colab": {
          "base_uri": "https://localhost:8080/",
          "height": 449
        },
        "id": "rw1DxgEOiZPg",
        "outputId": "6b281b03-e7b9-46d8-b519-4c164a905463"
      },
      "execution_count": 18,
      "outputs": [
        {
          "output_type": "display_data",
          "data": {
            "text/plain": [
              "<Figure size 640x480 with 1 Axes>"
            ],
            "image/png": "[encoded data removed]"
          },
          "metadata": {}
        }
      ]
    },
    {
      "cell_type": "markdown",
      "source": [
        "It may be a little difficult to read the plot, due to a scaling issue: the validation MAE for the first few epochs is dramatically higher than the values that follow. Let’s omit the first 10 data points, which are on a different scale than the rest of the curve."
      ],
      "metadata": {
        "id": "hirtozpKii6C"
      }
    },
    {
      "cell_type": "markdown",
      "source": [
        "### Plotting validation scores, excluding the first 10 data points"
      ],
      "metadata": {
        "id": "-0RuI0JWijz4"
      }
    },
    {
      "cell_type": "code",
      "source": [
        "truncated_mae_history = average_mae_history[10:]\n",
        "plt.plot(range(1, len(truncated_mae_history) + 1), truncated_mae_history)\n",
        "plt.xlabel(\"Epochs\")\n",
        "plt.ylabel(\"Validation MAE\")\n",
        "plt.show()"
      ],
      "metadata": {
        "colab": {
          "base_uri": "https://localhost:8080/",
          "height": 449
        },
        "id": "cNi8e39Vinap",
        "outputId": "42a84078-9a33-4f8e-9c09-997dc74cd381"
      },
      "execution_count": 19,
      "outputs": [
        {
          "output_type": "display_data",
          "data": {
            "text/plain": [
              "<Figure size 640x480 with 1 Axes>"
            ],
            "image/png": "[encoded data removed]"
          },
          "metadata": {}
        }
      ]
    },
    {
      "cell_type": "markdown",
      "source": [
        "validation MAE stops improving significantly after 120–140 epochs (this number includes the 10 epochs we omitted). Past that point, we start overfitting."
      ],
      "metadata": {
        "id": "gEqlHnKdiutl"
      }
    },
    {
      "cell_type": "markdown",
      "source": [
        "Once you’re finished tuning other parameters of the model (in addition to the number of epochs, you could also adjust the size of the intermediate layers), you can train a final production model on all of the training data, with the best parameters, and then look at its performance on the test data."
      ],
      "metadata": {
        "id": "x6OWL5BgjXge"
      }
    },
    {
      "cell_type": "markdown",
      "source": [
        "## Training Final Model"
      ],
      "metadata": {
        "id": "q9hRH-v6jmx4"
      }
    },
    {
      "cell_type": "code",
      "source": [
        "model = build_model()\n",
        "model.fit(train_data, train_targets,\n",
        "          epochs=130, batch_size=16, verbose=0)\n",
        "test_mse_score, test_mae_score = model.evaluate(test_data, test_targets)"
      ],
      "metadata": {
        "colab": {
          "base_uri": "https://localhost:8080/"
        },
        "id": "f5gfCS1tjmUf",
        "outputId": "8c086363-03c7-449e-b82e-06589cf06a20"
      },
      "execution_count": 20,
      "outputs": [
        {
          "output_type": "stream",
          "name": "stdout",
          "text": [
            "4/4 [==============================] - 0s 4ms/step - loss: 15.6716 - mae: 2.4737\n"
          ]
        }
      ]
    },
    {
      "cell_type": "code",
      "source": [
        "test_mae_score"
      ],
      "metadata": {
        "colab": {
          "base_uri": "https://localhost:8080/"
        },
        "id": "19Qa-7IlkWHL",
        "outputId": "d33e9307-b224-4f25-81db-d296f956aee4"
      },
      "execution_count": 21,
      "outputs": [
        {
          "output_type": "execute_result",
          "data": {
            "text/plain": [
              "2.4736976623535156"
            ]
          },
          "metadata": {},
          "execution_count": 21
        }
      ]
    },
    {
      "cell_type": "markdown",
      "source": [
        "Still off by about USD 2500"
      ],
      "metadata": {
        "id": "GgIxQ9UQklaU"
      }
    },
    {
      "cell_type": "markdown",
      "source": [
        "## generating prediction on New Data"
      ],
      "metadata": {
        "id": "peW1MK27kwiK"
      }
    },
    {
      "cell_type": "markdown",
      "source": [
        " This scalar regression model, predict() returns the model’s guess for the sample’s price in thousands of dollars:"
      ],
      "metadata": {
        "id": "eyao0oD2k0r0"
      }
    },
    {
      "cell_type": "code",
      "source": [
        "predictions = model.predict(test_data)\n",
        "predictions[0]"
      ],
      "metadata": {
        "colab": {
          "base_uri": "https://localhost:8080/"
        },
        "id": "aHVG_v1QkwB7",
        "outputId": "5de034d5-5b67-46e5-a19e-4cee74daf137"
      },
      "execution_count": 22,
      "outputs": [
        {
          "output_type": "stream",
          "name": "stdout",
          "text": [
            "4/4 [==============================] - 0s 3ms/step\n"
          ]
        },
        {
          "output_type": "execute_result",
          "data": {
            "text/plain": [
              "array([8.136138], dtype=float32)"
            ]
          },
          "metadata": {},
          "execution_count": 22
        }
      ]
    },
    {
      "cell_type": "code",
      "source": [
        "test_targets[0]"
      ],
      "metadata": {
        "colab": {
          "base_uri": "https://localhost:8080/"
        },
        "id": "EmVpLMwwlBRY",
        "outputId": "35e3710b-cc64-46eb-d7b4-5ac3762aa6e9"
      },
      "execution_count": 25,
      "outputs": [
        {
          "output_type": "execute_result",
          "data": {
            "text/plain": [
              "7.2"
            ]
          },
          "metadata": {},
          "execution_count": 25
        }
      ]
    },
    {
      "cell_type": "code",
      "source": [
        "# End timing code \n",
        "import datetime\n",
        "import pytz\n",
        "now_utc = datetime.datetime.utcnow()\n",
        "ist_tz = pytz.timezone('Asia/Kolkata')\n",
        "now_ist = now_utc.astimezone(ist_tz)\n",
        "\n",
        "print(\"Current time in IST:\", now_ist.strftime(\"%Y-%m-%d %H:%M:%S %Z%z\"))"
      ],
      "metadata": {
        "colab": {
          "base_uri": "https://localhost:8080/"
        },
        "id": "dwzrFakVlgNO",
        "outputId": "4bec817e-8b97-4692-d270-604db5c73133"
      },
      "execution_count": 26,
      "outputs": [
        {
          "output_type": "stream",
          "name": "stdout",
          "text": [
            "Current time in IST: 2023-04-18 14:28:46 IST+0530\n"
          ]
        }
      ]
    }
  ]
}