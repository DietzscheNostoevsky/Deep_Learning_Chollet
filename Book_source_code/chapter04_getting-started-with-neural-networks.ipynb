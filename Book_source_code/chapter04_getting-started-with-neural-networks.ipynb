{
 "cells": [
  {
   "cell_type": "markdown",
   "id": "4fc2ec59",
   "metadata": {
    "papermill": {
     "duration": 0.017285,
     "end_time": "2023-04-17T10:55:56.073956",
     "exception": false,
     "start_time": "2023-04-17T10:55:56.056671",
     "status": "completed"
    },
    "tags": []
   },
   "source": [
    "This is a companion notebook for the book [Deep Learning with Python, Second Edition](https://www.manning.com/books/deep-learning-with-python-second-edition?a_aid=keras&a_bid=76564dff). For readability, it only contains runnable code blocks and section titles, and omits everything else in the book: text paragraphs, figures, and pseudocode.\n",
    "\n",
    "**If you want to be able to follow what's going on, I recommend reading the notebook side by side with your copy of the book.**\n",
    "\n",
    "This notebook was generated for TensorFlow 2.6."
   ]
  },
  {
   "cell_type": "code",
   "execution_count": 1,
   "id": "8eb7b49d",
   "metadata": {
    "execution": {
     "iopub.execute_input": "2023-04-17T10:55:56.110125Z",
     "iopub.status.busy": "2023-04-17T10:55:56.109269Z",
     "iopub.status.idle": "2023-04-17T10:55:56.157260Z",
     "shell.execute_reply": "2023-04-17T10:55:56.156107Z"
    },
    "papermill": {
     "duration": 0.070006,
     "end_time": "2023-04-17T10:55:56.160157",
     "exception": false,
     "start_time": "2023-04-17T10:55:56.090151",
     "status": "completed"
    },
    "tags": []
   },
   "outputs": [
    {
     "name": "stdout",
     "output_type": "stream",
     "text": [
      "Current time in IST: 2023-04-17 16:25:56 IST+0530\n"
     ]
    }
   ],
   "source": [
    "# Timing Code\n",
    "import pytz\n",
    "import time\n",
    "import datetime\n",
    "\n",
    "t0 = time.time()\n",
    "now_utc = datetime.datetime.utcnow()\n",
    "ist_tz = pytz.timezone('Asia/Kolkata')\n",
    "now_ist = now_utc.astimezone(ist_tz)\n",
    "print(\"Current time in IST:\", now_ist.strftime(\"%Y-%m-%d %H:%M:%S %Z%z\"))"
   ]
  },
  {
   "cell_type": "markdown",
   "id": "e6626d60",
   "metadata": {
    "papermill": {
     "duration": 0.015664,
     "end_time": "2023-04-17T10:55:56.191861",
     "exception": false,
     "start_time": "2023-04-17T10:55:56.176197",
     "status": "completed"
    },
    "tags": []
   },
   "source": [
    "# Getting started with neural networks: Classification and regression"
   ]
  },
  {
   "cell_type": "markdown",
   "id": "12630c68",
   "metadata": {
    "papermill": {
     "duration": 0.01527,
     "end_time": "2023-04-17T10:55:56.223345",
     "exception": false,
     "start_time": "2023-04-17T10:55:56.208075",
     "status": "completed"
    },
    "tags": []
   },
   "source": [
    "## Classifying movie reviews: A binary classification example"
   ]
  },
  {
   "cell_type": "markdown",
   "id": "f3eaebf1",
   "metadata": {
    "papermill": {
     "duration": 0.017011,
     "end_time": "2023-04-17T10:55:56.256525",
     "exception": false,
     "start_time": "2023-04-17T10:55:56.239514",
     "status": "completed"
    },
    "tags": []
   },
   "source": [
    "### The IMDB dataset"
   ]
  },
  {
   "cell_type": "markdown",
   "id": "e5f19dfe",
   "metadata": {
    "papermill": {
     "duration": 0.016025,
     "end_time": "2023-04-17T10:55:56.289009",
     "exception": false,
     "start_time": "2023-04-17T10:55:56.272984",
     "status": "completed"
    },
    "tags": []
   },
   "source": [
    "**Loading the IMDB dataset**"
   ]
  },
  {
   "cell_type": "code",
   "execution_count": 2,
   "id": "3b3f078d",
   "metadata": {
    "execution": {
     "iopub.execute_input": "2023-04-17T10:55:56.322848Z",
     "iopub.status.busy": "2023-04-17T10:55:56.322495Z",
     "iopub.status.idle": "2023-04-17T10:56:09.639531Z",
     "shell.execute_reply": "2023-04-17T10:56:09.638475Z"
    },
    "papermill": {
     "duration": 13.337479,
     "end_time": "2023-04-17T10:56:09.642489",
     "exception": false,
     "start_time": "2023-04-17T10:55:56.305010",
     "status": "completed"
    },
    "tags": []
   },
   "outputs": [
    {
     "name": "stdout",
     "output_type": "stream",
     "text": [
      "Downloading data from https://storage.googleapis.com/tensorflow/tf-keras-datasets/imdb.npz\n",
      "17464789/17464789 [==============================] - 0s 0us/step\n"
     ]
    }
   ],
   "source": [
    "from tensorflow.keras.datasets import imdb\n",
    "(train_data, train_labels), (test_data, test_labels) = imdb.load_data(\n",
    "    num_words=10000)"
   ]
  },
  {
   "cell_type": "code",
   "execution_count": 3,
   "id": "73c50668",
   "metadata": {
    "execution": {
     "iopub.execute_input": "2023-04-17T10:56:09.678497Z",
     "iopub.status.busy": "2023-04-17T10:56:09.677595Z",
     "iopub.status.idle": "2023-04-17T10:56:09.688685Z",
     "shell.execute_reply": "2023-04-17T10:56:09.687571Z"
    },
    "papermill": {
     "duration": 0.032303,
     "end_time": "2023-04-17T10:56:09.692063",
     "exception": false,
     "start_time": "2023-04-17T10:56:09.659760",
     "status": "completed"
    },
    "tags": []
   },
   "outputs": [
    {
     "data": {
      "text/plain": [
       "[1,\n",
       " 14,\n",
       " 22,\n",
       " 16,\n",
       " 43,\n",
       " 530,\n",
       " 973,\n",
       " 1622,\n",
       " 1385,\n",
       " 65,\n",
       " 458,\n",
       " 4468,\n",
       " 66,\n",
       " 3941,\n",
       " 4,\n",
       " 173,\n",
       " 36,\n",
       " 256,\n",
       " 5,\n",
       " 25,\n",
       " 100,\n",
       " 43,\n",
       " 838,\n",
       " 112,\n",
       " 50,\n",
       " 670,\n",
       " 2,\n",
       " 9,\n",
       " 35,\n",
       " 480,\n",
       " 284,\n",
       " 5,\n",
       " 150,\n",
       " 4,\n",
       " 172,\n",
       " 112,\n",
       " 167,\n",
       " 2,\n",
       " 336,\n",
       " 385,\n",
       " 39,\n",
       " 4,\n",
       " 172,\n",
       " 4536,\n",
       " 1111,\n",
       " 17,\n",
       " 546,\n",
       " 38,\n",
       " 13,\n",
       " 447,\n",
       " 4,\n",
       " 192,\n",
       " 50,\n",
       " 16,\n",
       " 6,\n",
       " 147,\n",
       " 2025,\n",
       " 19,\n",
       " 14,\n",
       " 22,\n",
       " 4,\n",
       " 1920,\n",
       " 4613,\n",
       " 469,\n",
       " 4,\n",
       " 22,\n",
       " 71,\n",
       " 87,\n",
       " 12,\n",
       " 16,\n",
       " 43,\n",
       " 530,\n",
       " 38,\n",
       " 76,\n",
       " 15,\n",
       " 13,\n",
       " 1247,\n",
       " 4,\n",
       " 22,\n",
       " 17,\n",
       " 515,\n",
       " 17,\n",
       " 12,\n",
       " 16,\n",
       " 626,\n",
       " 18,\n",
       " 2,\n",
       " 5,\n",
       " 62,\n",
       " 386,\n",
       " 12,\n",
       " 8,\n",
       " 316,\n",
       " 8,\n",
       " 106,\n",
       " 5,\n",
       " 4,\n",
       " 2223,\n",
       " 5244,\n",
       " 16,\n",
       " 480,\n",
       " 66,\n",
       " 3785,\n",
       " 33,\n",
       " 4,\n",
       " 130,\n",
       " 12,\n",
       " 16,\n",
       " 38,\n",
       " 619,\n",
       " 5,\n",
       " 25,\n",
       " 124,\n",
       " 51,\n",
       " 36,\n",
       " 135,\n",
       " 48,\n",
       " 25,\n",
       " 1415,\n",
       " 33,\n",
       " 6,\n",
       " 22,\n",
       " 12,\n",
       " 215,\n",
       " 28,\n",
       " 77,\n",
       " 52,\n",
       " 5,\n",
       " 14,\n",
       " 407,\n",
       " 16,\n",
       " 82,\n",
       " 2,\n",
       " 8,\n",
       " 4,\n",
       " 107,\n",
       " 117,\n",
       " 5952,\n",
       " 15,\n",
       " 256,\n",
       " 4,\n",
       " 2,\n",
       " 7,\n",
       " 3766,\n",
       " 5,\n",
       " 723,\n",
       " 36,\n",
       " 71,\n",
       " 43,\n",
       " 530,\n",
       " 476,\n",
       " 26,\n",
       " 400,\n",
       " 317,\n",
       " 46,\n",
       " 7,\n",
       " 4,\n",
       " 2,\n",
       " 1029,\n",
       " 13,\n",
       " 104,\n",
       " 88,\n",
       " 4,\n",
       " 381,\n",
       " 15,\n",
       " 297,\n",
       " 98,\n",
       " 32,\n",
       " 2071,\n",
       " 56,\n",
       " 26,\n",
       " 141,\n",
       " 6,\n",
       " 194,\n",
       " 7486,\n",
       " 18,\n",
       " 4,\n",
       " 226,\n",
       " 22,\n",
       " 21,\n",
       " 134,\n",
       " 476,\n",
       " 26,\n",
       " 480,\n",
       " 5,\n",
       " 144,\n",
       " 30,\n",
       " 5535,\n",
       " 18,\n",
       " 51,\n",
       " 36,\n",
       " 28,\n",
       " 224,\n",
       " 92,\n",
       " 25,\n",
       " 104,\n",
       " 4,\n",
       " 226,\n",
       " 65,\n",
       " 16,\n",
       " 38,\n",
       " 1334,\n",
       " 88,\n",
       " 12,\n",
       " 16,\n",
       " 283,\n",
       " 5,\n",
       " 16,\n",
       " 4472,\n",
       " 113,\n",
       " 103,\n",
       " 32,\n",
       " 15,\n",
       " 16,\n",
       " 5345,\n",
       " 19,\n",
       " 178,\n",
       " 32]"
      ]
     },
     "execution_count": 3,
     "metadata": {},
     "output_type": "execute_result"
    }
   ],
   "source": [
    "train_data[0]"
   ]
  },
  {
   "cell_type": "code",
   "execution_count": 4,
   "id": "df9d79be",
   "metadata": {
    "execution": {
     "iopub.execute_input": "2023-04-17T10:56:09.728076Z",
     "iopub.status.busy": "2023-04-17T10:56:09.727126Z",
     "iopub.status.idle": "2023-04-17T10:56:09.733681Z",
     "shell.execute_reply": "2023-04-17T10:56:09.732640Z"
    },
    "papermill": {
     "duration": 0.026847,
     "end_time": "2023-04-17T10:56:09.735746",
     "exception": false,
     "start_time": "2023-04-17T10:56:09.708899",
     "status": "completed"
    },
    "tags": []
   },
   "outputs": [
    {
     "data": {
      "text/plain": [
       "1"
      ]
     },
     "execution_count": 4,
     "metadata": {},
     "output_type": "execute_result"
    }
   ],
   "source": [
    "train_labels[0]"
   ]
  },
  {
   "cell_type": "code",
   "execution_count": 5,
   "id": "81222cb2",
   "metadata": {
    "execution": {
     "iopub.execute_input": "2023-04-17T10:56:09.773571Z",
     "iopub.status.busy": "2023-04-17T10:56:09.773244Z",
     "iopub.status.idle": "2023-04-17T10:56:09.899347Z",
     "shell.execute_reply": "2023-04-17T10:56:09.897600Z"
    },
    "papermill": {
     "duration": 0.149103,
     "end_time": "2023-04-17T10:56:09.901737",
     "exception": false,
     "start_time": "2023-04-17T10:56:09.752634",
     "status": "completed"
    },
    "tags": []
   },
   "outputs": [
    {
     "data": {
      "text/plain": [
       "9999"
      ]
     },
     "execution_count": 5,
     "metadata": {},
     "output_type": "execute_result"
    }
   ],
   "source": [
    "max([max(sequence) for sequence in train_data])"
   ]
  },
  {
   "cell_type": "markdown",
   "id": "50e35be0",
   "metadata": {
    "papermill": {
     "duration": 0.016244,
     "end_time": "2023-04-17T10:56:09.935055",
     "exception": false,
     "start_time": "2023-04-17T10:56:09.918811",
     "status": "completed"
    },
    "tags": []
   },
   "source": [
    "**Decoding reviews back to text**"
   ]
  },
  {
   "cell_type": "code",
   "execution_count": 6,
   "id": "e62ea73c",
   "metadata": {
    "execution": {
     "iopub.execute_input": "2023-04-17T10:56:09.970920Z",
     "iopub.status.busy": "2023-04-17T10:56:09.970553Z",
     "iopub.status.idle": "2023-04-17T10:56:10.125977Z",
     "shell.execute_reply": "2023-04-17T10:56:10.124824Z"
    },
    "papermill": {
     "duration": 0.176638,
     "end_time": "2023-04-17T10:56:10.129062",
     "exception": false,
     "start_time": "2023-04-17T10:56:09.952424",
     "status": "completed"
    },
    "tags": []
   },
   "outputs": [
    {
     "name": "stdout",
     "output_type": "stream",
     "text": [
      "Downloading data from https://storage.googleapis.com/tensorflow/tf-keras-datasets/imdb_word_index.json\n",
      "1641221/1641221 [==============================] - 0s 0us/step\n"
     ]
    }
   ],
   "source": [
    "word_index = imdb.get_word_index()\n",
    "reverse_word_index = dict(\n",
    "    [(value, key) for (key, value) in word_index.items()])\n",
    "decoded_review = \" \".join(\n",
    "    [reverse_word_index.get(i - 3, \"?\") for i in train_data[0]])"
   ]
  },
  {
   "cell_type": "markdown",
   "id": "9ea66112",
   "metadata": {
    "papermill": {
     "duration": 0.017863,
     "end_time": "2023-04-17T10:56:10.165193",
     "exception": false,
     "start_time": "2023-04-17T10:56:10.147330",
     "status": "completed"
    },
    "tags": []
   },
   "source": [
    "### Preparing the data"
   ]
  },
  {
   "cell_type": "markdown",
   "id": "91355ebe",
   "metadata": {
    "papermill": {
     "duration": 0.017757,
     "end_time": "2023-04-17T10:56:10.200759",
     "exception": false,
     "start_time": "2023-04-17T10:56:10.183002",
     "status": "completed"
    },
    "tags": []
   },
   "source": [
    "**Encoding the integer sequences via multi-hot encoding**"
   ]
  },
  {
   "cell_type": "code",
   "execution_count": 7,
   "id": "8eb0abf2",
   "metadata": {
    "execution": {
     "iopub.execute_input": "2023-04-17T10:56:10.238018Z",
     "iopub.status.busy": "2023-04-17T10:56:10.237239Z",
     "iopub.status.idle": "2023-04-17T10:56:13.777243Z",
     "shell.execute_reply": "2023-04-17T10:56:13.776078Z"
    },
    "papermill": {
     "duration": 3.56223,
     "end_time": "2023-04-17T10:56:13.780452",
     "exception": false,
     "start_time": "2023-04-17T10:56:10.218222",
     "status": "completed"
    },
    "tags": []
   },
   "outputs": [],
   "source": [
    "import numpy as np\n",
    "def vectorize_sequences(sequences, dimension=10000):\n",
    "    results = np.zeros((len(sequences), dimension))\n",
    "    for i, sequence in enumerate(sequences):\n",
    "        for j in sequence:\n",
    "            results[i, j] = 1.\n",
    "    return results\n",
    "x_train = vectorize_sequences(train_data)\n",
    "x_test = vectorize_sequences(test_data)"
   ]
  },
  {
   "cell_type": "code",
   "execution_count": 8,
   "id": "edd3739b",
   "metadata": {
    "execution": {
     "iopub.execute_input": "2023-04-17T10:56:13.818332Z",
     "iopub.status.busy": "2023-04-17T10:56:13.817984Z",
     "iopub.status.idle": "2023-04-17T10:56:13.825492Z",
     "shell.execute_reply": "2023-04-17T10:56:13.824357Z"
    },
    "papermill": {
     "duration": 0.02906,
     "end_time": "2023-04-17T10:56:13.828031",
     "exception": false,
     "start_time": "2023-04-17T10:56:13.798971",
     "status": "completed"
    },
    "tags": []
   },
   "outputs": [
    {
     "data": {
      "text/plain": [
       "array([0., 1., 1., ..., 0., 0., 0.])"
      ]
     },
     "execution_count": 8,
     "metadata": {},
     "output_type": "execute_result"
    }
   ],
   "source": [
    "x_train[0]"
   ]
  },
  {
   "cell_type": "code",
   "execution_count": 9,
   "id": "2bf1b8e7",
   "metadata": {
    "execution": {
     "iopub.execute_input": "2023-04-17T10:56:13.868021Z",
     "iopub.status.busy": "2023-04-17T10:56:13.867163Z",
     "iopub.status.idle": "2023-04-17T10:56:13.872610Z",
     "shell.execute_reply": "2023-04-17T10:56:13.871745Z"
    },
    "papermill": {
     "duration": 0.02818,
     "end_time": "2023-04-17T10:56:13.874703",
     "exception": false,
     "start_time": "2023-04-17T10:56:13.846523",
     "status": "completed"
    },
    "tags": []
   },
   "outputs": [],
   "source": [
    "y_train = np.asarray(train_labels).astype(\"float32\")\n",
    "y_test = np.asarray(test_labels).astype(\"float32\")"
   ]
  },
  {
   "cell_type": "markdown",
   "id": "b4ef7197",
   "metadata": {
    "papermill": {
     "duration": 0.018409,
     "end_time": "2023-04-17T10:56:13.910552",
     "exception": false,
     "start_time": "2023-04-17T10:56:13.892143",
     "status": "completed"
    },
    "tags": []
   },
   "source": [
    "### Building your model"
   ]
  },
  {
   "cell_type": "markdown",
   "id": "7e23aac9",
   "metadata": {
    "papermill": {
     "duration": 0.017844,
     "end_time": "2023-04-17T10:56:13.946911",
     "exception": false,
     "start_time": "2023-04-17T10:56:13.929067",
     "status": "completed"
    },
    "tags": []
   },
   "source": [
    "**Model definition**"
   ]
  },
  {
   "cell_type": "code",
   "execution_count": 10,
   "id": "e462cefc",
   "metadata": {
    "execution": {
     "iopub.execute_input": "2023-04-17T10:56:13.986987Z",
     "iopub.status.busy": "2023-04-17T10:56:13.985788Z",
     "iopub.status.idle": "2023-04-17T10:56:16.764450Z",
     "shell.execute_reply": "2023-04-17T10:56:16.763306Z"
    },
    "papermill": {
     "duration": 2.803169,
     "end_time": "2023-04-17T10:56:16.768200",
     "exception": false,
     "start_time": "2023-04-17T10:56:13.965031",
     "status": "completed"
    },
    "tags": []
   },
   "outputs": [],
   "source": [
    "from tensorflow import keras\n",
    "from tensorflow.keras import layers\n",
    "\n",
    "model = keras.Sequential([\n",
    "    layers.Dense(16, activation=\"relu\"),\n",
    "    layers.Dense(16, activation=\"relu\"),\n",
    "    layers.Dense(1, activation=\"sigmoid\")\n",
    "])"
   ]
  },
  {
   "cell_type": "markdown",
   "id": "bb7e7460",
   "metadata": {
    "papermill": {
     "duration": 0.018412,
     "end_time": "2023-04-17T10:56:16.805569",
     "exception": false,
     "start_time": "2023-04-17T10:56:16.787157",
     "status": "completed"
    },
    "tags": []
   },
   "source": [
    "**Compiling the model**"
   ]
  },
  {
   "cell_type": "code",
   "execution_count": 11,
   "id": "99891437",
   "metadata": {
    "execution": {
     "iopub.execute_input": "2023-04-17T10:56:16.845216Z",
     "iopub.status.busy": "2023-04-17T10:56:16.844024Z",
     "iopub.status.idle": "2023-04-17T10:56:16.871444Z",
     "shell.execute_reply": "2023-04-17T10:56:16.870408Z"
    },
    "papermill": {
     "duration": 0.049804,
     "end_time": "2023-04-17T10:56:16.873817",
     "exception": false,
     "start_time": "2023-04-17T10:56:16.824013",
     "status": "completed"
    },
    "tags": []
   },
   "outputs": [],
   "source": [
    "model.compile(optimizer=\"rmsprop\",\n",
    "              loss=\"binary_crossentropy\",\n",
    "              metrics=[\"accuracy\"])"
   ]
  },
  {
   "cell_type": "markdown",
   "id": "bcd7b233",
   "metadata": {
    "papermill": {
     "duration": 0.017633,
     "end_time": "2023-04-17T10:56:16.909497",
     "exception": false,
     "start_time": "2023-04-17T10:56:16.891864",
     "status": "completed"
    },
    "tags": []
   },
   "source": [
    "### Validating your approach"
   ]
  },
  {
   "cell_type": "markdown",
   "id": "8cb1d576",
   "metadata": {
    "papermill": {
     "duration": 0.017587,
     "end_time": "2023-04-17T10:56:16.945216",
     "exception": false,
     "start_time": "2023-04-17T10:56:16.927629",
     "status": "completed"
    },
    "tags": []
   },
   "source": [
    "**Setting aside a validation set**"
   ]
  },
  {
   "cell_type": "code",
   "execution_count": 12,
   "id": "c8c5c2df",
   "metadata": {
    "execution": {
     "iopub.execute_input": "2023-04-17T10:56:16.983976Z",
     "iopub.status.busy": "2023-04-17T10:56:16.983614Z",
     "iopub.status.idle": "2023-04-17T10:56:16.988951Z",
     "shell.execute_reply": "2023-04-17T10:56:16.987726Z"
    },
    "papermill": {
     "duration": 0.027316,
     "end_time": "2023-04-17T10:56:16.991283",
     "exception": false,
     "start_time": "2023-04-17T10:56:16.963967",
     "status": "completed"
    },
    "tags": []
   },
   "outputs": [],
   "source": [
    "x_val = x_train[:10000]\n",
    "partial_x_train = x_train[10000:]\n",
    "y_val = y_train[:10000]\n",
    "partial_y_train = y_train[10000:]"
   ]
  },
  {
   "cell_type": "markdown",
   "id": "cf573360",
   "metadata": {
    "papermill": {
     "duration": 0.018648,
     "end_time": "2023-04-17T10:56:17.028251",
     "exception": false,
     "start_time": "2023-04-17T10:56:17.009603",
     "status": "completed"
    },
    "tags": []
   },
   "source": [
    "**Training your model**"
   ]
  },
  {
   "cell_type": "code",
   "execution_count": 13,
   "id": "158293e9",
   "metadata": {
    "execution": {
     "iopub.execute_input": "2023-04-17T10:56:17.066514Z",
     "iopub.status.busy": "2023-04-17T10:56:17.066151Z",
     "iopub.status.idle": "2023-04-17T10:56:39.971775Z",
     "shell.execute_reply": "2023-04-17T10:56:39.970560Z"
    },
    "papermill": {
     "duration": 22.928158,
     "end_time": "2023-04-17T10:56:39.974467",
     "exception": false,
     "start_time": "2023-04-17T10:56:17.046309",
     "status": "completed"
    },
    "tags": []
   },
   "outputs": [
    {
     "name": "stdout",
     "output_type": "stream",
     "text": [
      "Epoch 1/20\n",
      "30/30 [==============================] - 6s 67ms/step - loss: 0.5107 - accuracy: 0.7845 - val_loss: 0.4093 - val_accuracy: 0.8335\n",
      "Epoch 2/20\n",
      "30/30 [==============================] - 1s 25ms/step - loss: 0.3112 - accuracy: 0.8941 - val_loss: 0.3435 - val_accuracy: 0.8566\n",
      "Epoch 3/20\n",
      "30/30 [==============================] - 1s 24ms/step - loss: 0.2328 - accuracy: 0.9199 - val_loss: 0.2821 - val_accuracy: 0.8879\n",
      "Epoch 4/20\n",
      "30/30 [==============================] - 1s 25ms/step - loss: 0.1865 - accuracy: 0.9392 - val_loss: 0.2826 - val_accuracy: 0.8849\n",
      "Epoch 5/20\n",
      "30/30 [==============================] - 1s 28ms/step - loss: 0.1579 - accuracy: 0.9481 - val_loss: 0.2818 - val_accuracy: 0.8882\n",
      "Epoch 6/20\n",
      "30/30 [==============================] - 1s 24ms/step - loss: 0.1345 - accuracy: 0.9570 - val_loss: 0.3108 - val_accuracy: 0.8775\n",
      "Epoch 7/20\n",
      "30/30 [==============================] - 1s 25ms/step - loss: 0.1141 - accuracy: 0.9643 - val_loss: 0.3083 - val_accuracy: 0.8796\n",
      "Epoch 8/20\n",
      "30/30 [==============================] - 1s 25ms/step - loss: 0.0998 - accuracy: 0.9694 - val_loss: 0.3271 - val_accuracy: 0.8809\n",
      "Epoch 9/20\n",
      "30/30 [==============================] - 1s 26ms/step - loss: 0.0843 - accuracy: 0.9749 - val_loss: 0.3417 - val_accuracy: 0.8752\n",
      "Epoch 10/20\n",
      "30/30 [==============================] - 1s 39ms/step - loss: 0.0748 - accuracy: 0.9796 - val_loss: 0.3710 - val_accuracy: 0.8715\n",
      "Epoch 11/20\n",
      "30/30 [==============================] - 1s 32ms/step - loss: 0.0661 - accuracy: 0.9819 - val_loss: 0.3657 - val_accuracy: 0.8779\n",
      "Epoch 12/20\n",
      "30/30 [==============================] - 1s 27ms/step - loss: 0.0557 - accuracy: 0.9860 - val_loss: 0.3948 - val_accuracy: 0.8778\n",
      "Epoch 13/20\n",
      "30/30 [==============================] - 1s 26ms/step - loss: 0.0466 - accuracy: 0.9895 - val_loss: 0.4120 - val_accuracy: 0.8760\n",
      "Epoch 14/20\n",
      "30/30 [==============================] - 1s 27ms/step - loss: 0.0416 - accuracy: 0.9905 - val_loss: 0.4776 - val_accuracy: 0.8659\n",
      "Epoch 15/20\n",
      "30/30 [==============================] - 1s 25ms/step - loss: 0.0361 - accuracy: 0.9930 - val_loss: 0.4663 - val_accuracy: 0.8687\n",
      "Epoch 16/20\n",
      "30/30 [==============================] - 1s 25ms/step - loss: 0.0280 - accuracy: 0.9961 - val_loss: 0.4973 - val_accuracy: 0.8656\n",
      "Epoch 17/20\n",
      "30/30 [==============================] - 1s 25ms/step - loss: 0.0275 - accuracy: 0.9941 - val_loss: 0.5007 - val_accuracy: 0.8676\n",
      "Epoch 18/20\n",
      "30/30 [==============================] - 1s 25ms/step - loss: 0.0220 - accuracy: 0.9966 - val_loss: 0.5246 - val_accuracy: 0.8687\n",
      "Epoch 19/20\n",
      "30/30 [==============================] - 1s 26ms/step - loss: 0.0217 - accuracy: 0.9960 - val_loss: 0.5436 - val_accuracy: 0.8698\n",
      "Epoch 20/20\n",
      "30/30 [==============================] - 1s 24ms/step - loss: 0.0188 - accuracy: 0.9963 - val_loss: 0.5719 - val_accuracy: 0.8672\n"
     ]
    }
   ],
   "source": [
    "history = model.fit(partial_x_train,\n",
    "                    partial_y_train,\n",
    "                    epochs=20,\n",
    "                    batch_size=512,\n",
    "                    validation_data=(x_val, y_val))"
   ]
  },
  {
   "cell_type": "code",
   "execution_count": 14,
   "id": "c0313895",
   "metadata": {
    "execution": {
     "iopub.execute_input": "2023-04-17T10:56:40.036649Z",
     "iopub.status.busy": "2023-04-17T10:56:40.035525Z",
     "iopub.status.idle": "2023-04-17T10:56:40.043259Z",
     "shell.execute_reply": "2023-04-17T10:56:40.041995Z"
    },
    "papermill": {
     "duration": 0.041537,
     "end_time": "2023-04-17T10:56:40.046293",
     "exception": false,
     "start_time": "2023-04-17T10:56:40.004756",
     "status": "completed"
    },
    "tags": []
   },
   "outputs": [
    {
     "data": {
      "text/plain": [
       "dict_keys(['loss', 'accuracy', 'val_loss', 'val_accuracy'])"
      ]
     },
     "execution_count": 14,
     "metadata": {},
     "output_type": "execute_result"
    }
   ],
   "source": [
    "history_dict = history.history\n",
    "history_dict.keys()"
   ]
  },
  {
   "cell_type": "markdown",
   "id": "561daf5b",
   "metadata": {
    "papermill": {
     "duration": 0.029294,
     "end_time": "2023-04-17T10:56:40.104624",
     "exception": false,
     "start_time": "2023-04-17T10:56:40.075330",
     "status": "completed"
    },
    "tags": []
   },
   "source": [
    "**Plotting the training and validation loss**"
   ]
  },
  {
   "cell_type": "code",
   "execution_count": 15,
   "id": "b5e62f41",
   "metadata": {
    "execution": {
     "iopub.execute_input": "2023-04-17T10:56:40.166129Z",
     "iopub.status.busy": "2023-04-17T10:56:40.164631Z",
     "iopub.status.idle": "2023-04-17T10:56:40.430018Z",
     "shell.execute_reply": "2023-04-17T10:56:40.428957Z"
    },
    "papermill": {
     "duration": 0.298199,
     "end_time": "2023-04-17T10:56:40.432331",
     "exception": false,
     "start_time": "2023-04-17T10:56:40.134132",
     "status": "completed"
    },
    "tags": []
   },
   "outputs": [
    {
     "data": {
      "image/png": "[encoded data removed]",
      "text/plain": [
       "<Figure size 640x480 with 1 Axes>"
      ]
     },
     "metadata": {},
     "output_type": "display_data"
    }
   ],
   "source": [
    "import matplotlib.pyplot as plt\n",
    "history_dict = history.history\n",
    "loss_values = history_dict[\"loss\"]\n",
    "val_loss_values = history_dict[\"val_loss\"]\n",
    "epochs = range(1, len(loss_values) + 1)\n",
    "plt.plot(epochs, loss_values, \"bo\", label=\"Training loss\")\n",
    "plt.plot(epochs, val_loss_values, \"b\", label=\"Validation loss\")\n",
    "plt.title(\"Training and validation loss\")\n",
    "plt.xlabel(\"Epochs\")\n",
    "plt.ylabel(\"Loss\")\n",
    "plt.legend()\n",
    "plt.show()"
   ]
  },
  {
   "cell_type": "markdown",
   "id": "93b54398",
   "metadata": {
    "papermill": {
     "duration": 0.028284,
     "end_time": "2023-04-17T10:56:40.489794",
     "exception": false,
     "start_time": "2023-04-17T10:56:40.461510",
     "status": "completed"
    },
    "tags": []
   },
   "source": [
    "**Plotting the training and validation accuracy**"
   ]
  },
  {
   "cell_type": "code",
   "execution_count": 16,
   "id": "38091d16",
   "metadata": {
    "execution": {
     "iopub.execute_input": "2023-04-17T10:56:40.550539Z",
     "iopub.status.busy": "2023-04-17T10:56:40.548549Z",
     "iopub.status.idle": "2023-04-17T10:56:40.780486Z",
     "shell.execute_reply": "2023-04-17T10:56:40.779455Z"
    },
    "papermill": {
     "duration": 0.264459,
     "end_time": "2023-04-17T10:56:40.782677",
     "exception": false,
     "start_time": "2023-04-17T10:56:40.518218",
     "status": "completed"
    },
    "tags": []
   },
   "outputs": [
    {
     "data": {
      "image/png": "[encoded data removed]",
      "text/plain": [
       "<Figure size 640x480 with 1 Axes>"
      ]
     },
     "metadata": {},
     "output_type": "display_data"
    }
   ],
   "source": [
    "plt.clf()\n",
    "acc = history_dict[\"accuracy\"]\n",
    "val_acc = history_dict[\"val_accuracy\"]\n",
    "plt.plot(epochs, acc, \"bo\", label=\"Training acc\")\n",
    "plt.plot(epochs, val_acc, \"b\", label=\"Validation acc\")\n",
    "plt.title(\"Training and validation accuracy\")\n",
    "plt.xlabel(\"Epochs\")\n",
    "plt.ylabel(\"Accuracy\")\n",
    "plt.legend()\n",
    "plt.show()"
   ]
  },
  {
   "cell_type": "markdown",
   "id": "c6e5db9a",
   "metadata": {
    "papermill": {
     "duration": 0.031505,
     "end_time": "2023-04-17T10:56:40.845157",
     "exception": false,
     "start_time": "2023-04-17T10:56:40.813652",
     "status": "completed"
    },
    "tags": []
   },
   "source": [
    "**Retraining a model from scratch**"
   ]
  },
  {
   "cell_type": "code",
   "execution_count": 17,
   "id": "af596603",
   "metadata": {
    "execution": {
     "iopub.execute_input": "2023-04-17T10:56:40.910730Z",
     "iopub.status.busy": "2023-04-17T10:56:40.909662Z",
     "iopub.status.idle": "2023-04-17T10:56:52.368428Z",
     "shell.execute_reply": "2023-04-17T10:56:52.367220Z"
    },
    "papermill": {
     "duration": 11.493689,
     "end_time": "2023-04-17T10:56:52.371153",
     "exception": false,
     "start_time": "2023-04-17T10:56:40.877464",
     "status": "completed"
    },
    "tags": []
   },
   "outputs": [
    {
     "name": "stdout",
     "output_type": "stream",
     "text": [
      "Epoch 1/4\n",
      "49/49 [==============================] - 2s 16ms/step - loss: 0.5209 - accuracy: 0.8000\n",
      "Epoch 2/4\n",
      "49/49 [==============================] - 1s 14ms/step - loss: 0.3174 - accuracy: 0.8958\n",
      "Epoch 3/4\n",
      "49/49 [==============================] - 1s 14ms/step - loss: 0.2411 - accuracy: 0.9154\n",
      "Epoch 4/4\n",
      "49/49 [==============================] - 1s 14ms/step - loss: 0.2000 - accuracy: 0.9285\n",
      "782/782 [==============================] - 2s 3ms/step - loss: 0.2801 - accuracy: 0.8877\n"
     ]
    }
   ],
   "source": [
    "model = keras.Sequential([\n",
    "    layers.Dense(16, activation=\"relu\"),\n",
    "    layers.Dense(16, activation=\"relu\"),\n",
    "    layers.Dense(1, activation=\"sigmoid\")\n",
    "])\n",
    "model.compile(optimizer=\"rmsprop\",\n",
    "              loss=\"binary_crossentropy\",\n",
    "              metrics=[\"accuracy\"])\n",
    "model.fit(x_train, y_train, epochs=4, batch_size=512)\n",
    "results = model.evaluate(x_test, y_test)"
   ]
  },
  {
   "cell_type": "code",
   "execution_count": 18,
   "id": "26cd03a9",
   "metadata": {
    "execution": {
     "iopub.execute_input": "2023-04-17T10:56:52.449576Z",
     "iopub.status.busy": "2023-04-17T10:56:52.448483Z",
     "iopub.status.idle": "2023-04-17T10:56:52.456322Z",
     "shell.execute_reply": "2023-04-17T10:56:52.455041Z"
    },
    "papermill": {
     "duration": 0.05069,
     "end_time": "2023-04-17T10:56:52.459333",
     "exception": false,
     "start_time": "2023-04-17T10:56:52.408643",
     "status": "completed"
    },
    "tags": []
   },
   "outputs": [
    {
     "data": {
      "text/plain": [
       "[0.28005966544151306, 0.887719988822937]"
      ]
     },
     "execution_count": 18,
     "metadata": {},
     "output_type": "execute_result"
    }
   ],
   "source": [
    "results"
   ]
  },
  {
   "cell_type": "markdown",
   "id": "dbb03cd1",
   "metadata": {
    "papermill": {
     "duration": 0.037727,
     "end_time": "2023-04-17T10:56:52.535158",
     "exception": false,
     "start_time": "2023-04-17T10:56:52.497431",
     "status": "completed"
    },
    "tags": []
   },
   "source": [
    "### Using a trained model to generate predictions on new data"
   ]
  },
  {
   "cell_type": "code",
   "execution_count": 19,
   "id": "48a7c333",
   "metadata": {
    "execution": {
     "iopub.execute_input": "2023-04-17T10:56:52.610560Z",
     "iopub.status.busy": "2023-04-17T10:56:52.610153Z",
     "iopub.status.idle": "2023-04-17T10:56:57.624377Z",
     "shell.execute_reply": "2023-04-17T10:56:57.622979Z"
    },
    "papermill": {
     "duration": 5.055326,
     "end_time": "2023-04-17T10:56:57.626991",
     "exception": false,
     "start_time": "2023-04-17T10:56:52.571665",
     "status": "completed"
    },
    "tags": []
   },
   "outputs": [
    {
     "name": "stdout",
     "output_type": "stream",
     "text": [
      "782/782 [==============================] - 2s 2ms/step\n"
     ]
    },
    {
     "data": {
      "text/plain": [
       "array([[0.2905566 ],\n",
       "       [0.99975187],\n",
       "       [0.8646673 ],\n",
       "       ...,\n",
       "       [0.14101663],\n",
       "       [0.12711042],\n",
       "       [0.71836203]], dtype=float32)"
      ]
     },
     "execution_count": 19,
     "metadata": {},
     "output_type": "execute_result"
    }
   ],
   "source": [
    "model.predict(x_test)"
   ]
  },
  {
   "cell_type": "markdown",
   "id": "e6703c99",
   "metadata": {
    "papermill": {
     "duration": 0.039805,
     "end_time": "2023-04-17T10:56:57.708599",
     "exception": false,
     "start_time": "2023-04-17T10:56:57.668794",
     "status": "completed"
    },
    "tags": []
   },
   "source": [
    "### Further experiments"
   ]
  },
  {
   "cell_type": "markdown",
   "id": "a565914c",
   "metadata": {
    "papermill": {
     "duration": 0.038529,
     "end_time": "2023-04-17T10:56:57.787658",
     "exception": false,
     "start_time": "2023-04-17T10:56:57.749129",
     "status": "completed"
    },
    "tags": []
   },
   "source": [
    "### Wrapping up"
   ]
  },
  {
   "cell_type": "markdown",
   "id": "143d79fa",
   "metadata": {
    "papermill": {
     "duration": 0.039016,
     "end_time": "2023-04-17T10:56:57.866423",
     "exception": false,
     "start_time": "2023-04-17T10:56:57.827407",
     "status": "completed"
    },
    "tags": []
   },
   "source": [
    "## Classifying newswires: A multiclass classification example"
   ]
  },
  {
   "cell_type": "markdown",
   "id": "be50eced",
   "metadata": {
    "papermill": {
     "duration": 0.038486,
     "end_time": "2023-04-17T10:56:57.943596",
     "exception": false,
     "start_time": "2023-04-17T10:56:57.905110",
     "status": "completed"
    },
    "tags": []
   },
   "source": [
    "### The Reuters dataset"
   ]
  },
  {
   "cell_type": "markdown",
   "id": "8112d76b",
   "metadata": {
    "papermill": {
     "duration": 0.040059,
     "end_time": "2023-04-17T10:56:58.023018",
     "exception": false,
     "start_time": "2023-04-17T10:56:57.982959",
     "status": "completed"
    },
    "tags": []
   },
   "source": [
    "**Loading the Reuters dataset**"
   ]
  },
  {
   "cell_type": "code",
   "execution_count": 20,
   "id": "941a6c61",
   "metadata": {
    "execution": {
     "iopub.execute_input": "2023-04-17T10:56:58.104747Z",
     "iopub.status.busy": "2023-04-17T10:56:58.104338Z",
     "iopub.status.idle": "2023-04-17T10:56:58.977609Z",
     "shell.execute_reply": "2023-04-17T10:56:58.976402Z"
    },
    "papermill": {
     "duration": 0.917281,
     "end_time": "2023-04-17T10:56:58.980594",
     "exception": false,
     "start_time": "2023-04-17T10:56:58.063313",
     "status": "completed"
    },
    "tags": []
   },
   "outputs": [
    {
     "name": "stdout",
     "output_type": "stream",
     "text": [
      "Downloading data from https://storage.googleapis.com/tensorflow/tf-keras-datasets/reuters.npz\n",
      "2110848/2110848 [==============================] - 0s 0us/step\n"
     ]
    }
   ],
   "source": [
    "from tensorflow.keras.datasets import reuters\n",
    "(train_data, train_labels), (test_data, test_labels) = reuters.load_data(\n",
    "    num_words=10000)"
   ]
  },
  {
   "cell_type": "code",
   "execution_count": 21,
   "id": "d6d7f18a",
   "metadata": {
    "execution": {
     "iopub.execute_input": "2023-04-17T10:56:59.065677Z",
     "iopub.status.busy": "2023-04-17T10:56:59.064692Z",
     "iopub.status.idle": "2023-04-17T10:56:59.074364Z",
     "shell.execute_reply": "2023-04-17T10:56:59.073276Z"
    },
    "papermill": {
     "duration": 0.054854,
     "end_time": "2023-04-17T10:56:59.076955",
     "exception": false,
     "start_time": "2023-04-17T10:56:59.022101",
     "status": "completed"
    },
    "tags": []
   },
   "outputs": [
    {
     "data": {
      "text/plain": [
       "8982"
      ]
     },
     "execution_count": 21,
     "metadata": {},
     "output_type": "execute_result"
    }
   ],
   "source": [
    "len(train_data)"
   ]
  },
  {
   "cell_type": "code",
   "execution_count": 22,
   "id": "e5a9b803",
   "metadata": {
    "execution": {
     "iopub.execute_input": "2023-04-17T10:56:59.158779Z",
     "iopub.status.busy": "2023-04-17T10:56:59.158412Z",
     "iopub.status.idle": "2023-04-17T10:56:59.165808Z",
     "shell.execute_reply": "2023-04-17T10:56:59.164650Z"
    },
    "papermill": {
     "duration": 0.051163,
     "end_time": "2023-04-17T10:56:59.168250",
     "exception": false,
     "start_time": "2023-04-17T10:56:59.117087",
     "status": "completed"
    },
    "tags": []
   },
   "outputs": [
    {
     "data": {
      "text/plain": [
       "2246"
      ]
     },
     "execution_count": 22,
     "metadata": {},
     "output_type": "execute_result"
    }
   ],
   "source": [
    "len(test_data)"
   ]
  },
  {
   "cell_type": "code",
   "execution_count": 23,
   "id": "a5892101",
   "metadata": {
    "execution": {
     "iopub.execute_input": "2023-04-17T10:56:59.247494Z",
     "iopub.status.busy": "2023-04-17T10:56:59.247124Z",
     "iopub.status.idle": "2023-04-17T10:56:59.254197Z",
     "shell.execute_reply": "2023-04-17T10:56:59.253154Z"
    },
    "papermill": {
     "duration": 0.049679,
     "end_time": "2023-04-17T10:56:59.256498",
     "exception": false,
     "start_time": "2023-04-17T10:56:59.206819",
     "status": "completed"
    },
    "tags": []
   },
   "outputs": [
    {
     "data": {
      "text/plain": [
       "[1,\n",
       " 245,\n",
       " 273,\n",
       " 207,\n",
       " 156,\n",
       " 53,\n",
       " 74,\n",
       " 160,\n",
       " 26,\n",
       " 14,\n",
       " 46,\n",
       " 296,\n",
       " 26,\n",
       " 39,\n",
       " 74,\n",
       " 2979,\n",
       " 3554,\n",
       " 14,\n",
       " 46,\n",
       " 4689,\n",
       " 4329,\n",
       " 86,\n",
       " 61,\n",
       " 3499,\n",
       " 4795,\n",
       " 14,\n",
       " 61,\n",
       " 451,\n",
       " 4329,\n",
       " 17,\n",
       " 12]"
      ]
     },
     "execution_count": 23,
     "metadata": {},
     "output_type": "execute_result"
    }
   ],
   "source": [
    "train_data[10]"
   ]
  },
  {
   "cell_type": "markdown",
   "id": "1ffca37e",
   "metadata": {
    "papermill": {
     "duration": 0.045364,
     "end_time": "2023-04-17T10:56:59.342291",
     "exception": false,
     "start_time": "2023-04-17T10:56:59.296927",
     "status": "completed"
    },
    "tags": []
   },
   "source": [
    "**Decoding newswires back to text**"
   ]
  },
  {
   "cell_type": "code",
   "execution_count": 24,
   "id": "f11f64fb",
   "metadata": {
    "execution": {
     "iopub.execute_input": "2023-04-17T10:56:59.423624Z",
     "iopub.status.busy": "2023-04-17T10:56:59.423187Z",
     "iopub.status.idle": "2023-04-17T10:56:59.522262Z",
     "shell.execute_reply": "2023-04-17T10:56:59.521135Z"
    },
    "papermill": {
     "duration": 0.142131,
     "end_time": "2023-04-17T10:56:59.525235",
     "exception": false,
     "start_time": "2023-04-17T10:56:59.383104",
     "status": "completed"
    },
    "tags": []
   },
   "outputs": [
    {
     "name": "stdout",
     "output_type": "stream",
     "text": [
      "Downloading data from https://storage.googleapis.com/tensorflow/tf-keras-datasets/reuters_word_index.json\n",
      "550378/550378 [==============================] - 0s 0us/step\n"
     ]
    }
   ],
   "source": [
    "word_index = reuters.get_word_index()\n",
    "reverse_word_index = dict([(value, key) for (key, value) in word_index.items()])\n",
    "decoded_newswire = \" \".join([reverse_word_index.get(i - 3, \"?\") for i in\n",
    "    train_data[0]])"
   ]
  },
  {
   "cell_type": "code",
   "execution_count": 25,
   "id": "617e1c76",
   "metadata": {
    "execution": {
     "iopub.execute_input": "2023-04-17T10:56:59.609788Z",
     "iopub.status.busy": "2023-04-17T10:56:59.609114Z",
     "iopub.status.idle": "2023-04-17T10:56:59.616687Z",
     "shell.execute_reply": "2023-04-17T10:56:59.615468Z"
    },
    "papermill": {
     "duration": 0.053021,
     "end_time": "2023-04-17T10:56:59.619074",
     "exception": false,
     "start_time": "2023-04-17T10:56:59.566053",
     "status": "completed"
    },
    "tags": []
   },
   "outputs": [
    {
     "data": {
      "text/plain": [
       "3"
      ]
     },
     "execution_count": 25,
     "metadata": {},
     "output_type": "execute_result"
    }
   ],
   "source": [
    "train_labels[10]"
   ]
  },
  {
   "cell_type": "markdown",
   "id": "3eb70ba9",
   "metadata": {
    "papermill": {
     "duration": 0.039743,
     "end_time": "2023-04-17T10:56:59.698976",
     "exception": false,
     "start_time": "2023-04-17T10:56:59.659233",
     "status": "completed"
    },
    "tags": []
   },
   "source": [
    "### Preparing the data"
   ]
  },
  {
   "cell_type": "markdown",
   "id": "7ad03771",
   "metadata": {
    "papermill": {
     "duration": 0.041582,
     "end_time": "2023-04-17T10:56:59.783041",
     "exception": false,
     "start_time": "2023-04-17T10:56:59.741459",
     "status": "completed"
    },
    "tags": []
   },
   "source": [
    "**Encoding the input data**"
   ]
  },
  {
   "cell_type": "code",
   "execution_count": 26,
   "id": "a13986b5",
   "metadata": {
    "execution": {
     "iopub.execute_input": "2023-04-17T10:56:59.866069Z",
     "iopub.status.busy": "2023-04-17T10:56:59.865385Z",
     "iopub.status.idle": "2023-04-17T10:57:00.603948Z",
     "shell.execute_reply": "2023-04-17T10:57:00.602826Z"
    },
    "papermill": {
     "duration": 0.782691,
     "end_time": "2023-04-17T10:57:00.607149",
     "exception": false,
     "start_time": "2023-04-17T10:56:59.824458",
     "status": "completed"
    },
    "tags": []
   },
   "outputs": [],
   "source": [
    "x_train = vectorize_sequences(train_data)\n",
    "x_test = vectorize_sequences(test_data)"
   ]
  },
  {
   "cell_type": "markdown",
   "id": "dd2418e2",
   "metadata": {
    "papermill": {
     "duration": 0.040565,
     "end_time": "2023-04-17T10:57:00.687679",
     "exception": false,
     "start_time": "2023-04-17T10:57:00.647114",
     "status": "completed"
    },
    "tags": []
   },
   "source": [
    "**Encoding the labels**"
   ]
  },
  {
   "cell_type": "code",
   "execution_count": 27,
   "id": "25d06e92",
   "metadata": {
    "execution": {
     "iopub.execute_input": "2023-04-17T10:57:00.771074Z",
     "iopub.status.busy": "2023-04-17T10:57:00.770696Z",
     "iopub.status.idle": "2023-04-17T10:57:00.781325Z",
     "shell.execute_reply": "2023-04-17T10:57:00.780167Z"
    },
    "papermill": {
     "duration": 0.055736,
     "end_time": "2023-04-17T10:57:00.784180",
     "exception": false,
     "start_time": "2023-04-17T10:57:00.728444",
     "status": "completed"
    },
    "tags": []
   },
   "outputs": [],
   "source": [
    "def to_one_hot(labels, dimension=46):\n",
    "    results = np.zeros((len(labels), dimension))\n",
    "    for i, label in enumerate(labels):\n",
    "        results[i, label] = 1.\n",
    "    return results\n",
    "y_train = to_one_hot(train_labels)\n",
    "y_test = to_one_hot(test_labels)"
   ]
  },
  {
   "cell_type": "code",
   "execution_count": 28,
   "id": "595a9722",
   "metadata": {
    "execution": {
     "iopub.execute_input": "2023-04-17T10:57:00.868642Z",
     "iopub.status.busy": "2023-04-17T10:57:00.867511Z",
     "iopub.status.idle": "2023-04-17T10:57:00.875094Z",
     "shell.execute_reply": "2023-04-17T10:57:00.874027Z"
    },
    "papermill": {
     "duration": 0.052551,
     "end_time": "2023-04-17T10:57:00.877620",
     "exception": false,
     "start_time": "2023-04-17T10:57:00.825069",
     "status": "completed"
    },
    "tags": []
   },
   "outputs": [],
   "source": [
    "from tensorflow.keras.utils import to_categorical\n",
    "y_train = to_categorical(train_labels)\n",
    "y_test = to_categorical(test_labels)"
   ]
  },
  {
   "cell_type": "markdown",
   "id": "7ffe6092",
   "metadata": {
    "papermill": {
     "duration": 0.041375,
     "end_time": "2023-04-17T10:57:00.960171",
     "exception": false,
     "start_time": "2023-04-17T10:57:00.918796",
     "status": "completed"
    },
    "tags": []
   },
   "source": [
    "### Building your model"
   ]
  },
  {
   "cell_type": "markdown",
   "id": "dba3c0ec",
   "metadata": {
    "papermill": {
     "duration": 0.041495,
     "end_time": "2023-04-17T10:57:01.043445",
     "exception": false,
     "start_time": "2023-04-17T10:57:01.001950",
     "status": "completed"
    },
    "tags": []
   },
   "source": [
    "**Model definition**"
   ]
  },
  {
   "cell_type": "code",
   "execution_count": 29,
   "id": "4dab61b6",
   "metadata": {
    "execution": {
     "iopub.execute_input": "2023-04-17T10:57:01.128241Z",
     "iopub.status.busy": "2023-04-17T10:57:01.127187Z",
     "iopub.status.idle": "2023-04-17T10:57:01.140100Z",
     "shell.execute_reply": "2023-04-17T10:57:01.139043Z"
    },
    "papermill": {
     "duration": 0.05746,
     "end_time": "2023-04-17T10:57:01.142509",
     "exception": false,
     "start_time": "2023-04-17T10:57:01.085049",
     "status": "completed"
    },
    "tags": []
   },
   "outputs": [],
   "source": [
    "model = keras.Sequential([\n",
    "    layers.Dense(64, activation=\"relu\"),\n",
    "    layers.Dense(64, activation=\"relu\"),\n",
    "    layers.Dense(46, activation=\"softmax\")\n",
    "])"
   ]
  },
  {
   "cell_type": "markdown",
   "id": "0cb10579",
   "metadata": {
    "papermill": {
     "duration": 0.04205,
     "end_time": "2023-04-17T10:57:01.224522",
     "exception": false,
     "start_time": "2023-04-17T10:57:01.182472",
     "status": "completed"
    },
    "tags": []
   },
   "source": [
    "**Compiling the model**"
   ]
  },
  {
   "cell_type": "code",
   "execution_count": 30,
   "id": "48b59943",
   "metadata": {
    "execution": {
     "iopub.execute_input": "2023-04-17T10:57:01.312077Z",
     "iopub.status.busy": "2023-04-17T10:57:01.311449Z",
     "iopub.status.idle": "2023-04-17T10:57:01.324521Z",
     "shell.execute_reply": "2023-04-17T10:57:01.323462Z"
    },
    "papermill": {
     "duration": 0.060788,
     "end_time": "2023-04-17T10:57:01.327109",
     "exception": false,
     "start_time": "2023-04-17T10:57:01.266321",
     "status": "completed"
    },
    "tags": []
   },
   "outputs": [],
   "source": [
    "model.compile(optimizer=\"rmsprop\",\n",
    "              loss=\"categorical_crossentropy\",\n",
    "              metrics=[\"accuracy\"])"
   ]
  },
  {
   "cell_type": "markdown",
   "id": "2e8c6e33",
   "metadata": {
    "papermill": {
     "duration": 0.043139,
     "end_time": "2023-04-17T10:57:01.413595",
     "exception": false,
     "start_time": "2023-04-17T10:57:01.370456",
     "status": "completed"
    },
    "tags": []
   },
   "source": [
    "### Validating your approach"
   ]
  },
  {
   "cell_type": "markdown",
   "id": "8c5e9449",
   "metadata": {
    "papermill": {
     "duration": 0.040496,
     "end_time": "2023-04-17T10:57:01.496370",
     "exception": false,
     "start_time": "2023-04-17T10:57:01.455874",
     "status": "completed"
    },
    "tags": []
   },
   "source": [
    "**Setting aside a validation set**"
   ]
  },
  {
   "cell_type": "code",
   "execution_count": 31,
   "id": "6fee681e",
   "metadata": {
    "execution": {
     "iopub.execute_input": "2023-04-17T10:57:01.580397Z",
     "iopub.status.busy": "2023-04-17T10:57:01.579973Z",
     "iopub.status.idle": "2023-04-17T10:57:01.585763Z",
     "shell.execute_reply": "2023-04-17T10:57:01.584437Z"
    },
    "papermill": {
     "duration": 0.051117,
     "end_time": "2023-04-17T10:57:01.588018",
     "exception": false,
     "start_time": "2023-04-17T10:57:01.536901",
     "status": "completed"
    },
    "tags": []
   },
   "outputs": [],
   "source": [
    "x_val = x_train[:1000]\n",
    "partial_x_train = x_train[1000:]\n",
    "y_val = y_train[:1000]\n",
    "partial_y_train = y_train[1000:]"
   ]
  },
  {
   "cell_type": "markdown",
   "id": "8b05cc5d",
   "metadata": {
    "papermill": {
     "duration": 0.038573,
     "end_time": "2023-04-17T10:57:01.666628",
     "exception": false,
     "start_time": "2023-04-17T10:57:01.628055",
     "status": "completed"
    },
    "tags": []
   },
   "source": [
    "**Training the model**"
   ]
  },
  {
   "cell_type": "code",
   "execution_count": 32,
   "id": "49268ce0",
   "metadata": {
    "execution": {
     "iopub.execute_input": "2023-04-17T10:57:01.751080Z",
     "iopub.status.busy": "2023-04-17T10:57:01.749989Z",
     "iopub.status.idle": "2023-04-17T10:57:10.461317Z",
     "shell.execute_reply": "2023-04-17T10:57:10.460154Z"
    },
    "papermill": {
     "duration": 8.757619,
     "end_time": "2023-04-17T10:57:10.464752",
     "exception": false,
     "start_time": "2023-04-17T10:57:01.707133",
     "status": "completed"
    },
    "tags": []
   },
   "outputs": [
    {
     "name": "stdout",
     "output_type": "stream",
     "text": [
      "Epoch 1/20\n",
      "16/16 [==============================] - 2s 36ms/step - loss: 2.8862 - accuracy: 0.4567 - val_loss: 1.9964 - val_accuracy: 0.6000\n",
      "Epoch 2/20\n",
      "16/16 [==============================] - 0s 20ms/step - loss: 1.6472 - accuracy: 0.6679 - val_loss: 1.4223 - val_accuracy: 0.6840\n",
      "Epoch 3/20\n",
      "16/16 [==============================] - 0s 21ms/step - loss: 1.2096 - accuracy: 0.7432 - val_loss: 1.1924 - val_accuracy: 0.7470\n",
      "Epoch 4/20\n",
      "16/16 [==============================] - 0s 19ms/step - loss: 0.9677 - accuracy: 0.7949 - val_loss: 1.0946 - val_accuracy: 0.7580\n",
      "Epoch 5/20\n",
      "16/16 [==============================] - 0s 17ms/step - loss: 0.7990 - accuracy: 0.8305 - val_loss: 1.0068 - val_accuracy: 0.7950\n",
      "Epoch 6/20\n",
      "16/16 [==============================] - 0s 17ms/step - loss: 0.6661 - accuracy: 0.8593 - val_loss: 0.9356 - val_accuracy: 0.7920\n",
      "Epoch 7/20\n",
      "16/16 [==============================] - 0s 18ms/step - loss: 0.5612 - accuracy: 0.8819 - val_loss: 0.9039 - val_accuracy: 0.8110\n",
      "Epoch 8/20\n",
      "16/16 [==============================] - 0s 17ms/step - loss: 0.4694 - accuracy: 0.9017 - val_loss: 0.8896 - val_accuracy: 0.8180\n",
      "Epoch 9/20\n",
      "16/16 [==============================] - 0s 17ms/step - loss: 0.4001 - accuracy: 0.9159 - val_loss: 0.8623 - val_accuracy: 0.8220\n",
      "Epoch 10/20\n",
      "16/16 [==============================] - 0s 20ms/step - loss: 0.3388 - accuracy: 0.9291 - val_loss: 0.8978 - val_accuracy: 0.8090\n",
      "Epoch 11/20\n",
      "16/16 [==============================] - 0s 17ms/step - loss: 0.2970 - accuracy: 0.9337 - val_loss: 0.8887 - val_accuracy: 0.8140\n",
      "Epoch 12/20\n",
      "16/16 [==============================] - 0s 18ms/step - loss: 0.2612 - accuracy: 0.9429 - val_loss: 0.8739 - val_accuracy: 0.8290\n",
      "Epoch 13/20\n",
      "16/16 [==============================] - 0s 18ms/step - loss: 0.2338 - accuracy: 0.9466 - val_loss: 0.9275 - val_accuracy: 0.8060\n",
      "Epoch 14/20\n",
      "16/16 [==============================] - 0s 19ms/step - loss: 0.2089 - accuracy: 0.9495 - val_loss: 0.8714 - val_accuracy: 0.8270\n",
      "Epoch 15/20\n",
      "16/16 [==============================] - 0s 17ms/step - loss: 0.1888 - accuracy: 0.9523 - val_loss: 0.8932 - val_accuracy: 0.8270\n",
      "Epoch 16/20\n",
      "16/16 [==============================] - 0s 18ms/step - loss: 0.1741 - accuracy: 0.9548 - val_loss: 0.8798 - val_accuracy: 0.8330\n",
      "Epoch 17/20\n",
      "16/16 [==============================] - 0s 19ms/step - loss: 0.1592 - accuracy: 0.9555 - val_loss: 0.9387 - val_accuracy: 0.8090\n",
      "Epoch 18/20\n",
      "16/16 [==============================] - 0s 17ms/step - loss: 0.1507 - accuracy: 0.9573 - val_loss: 0.9263 - val_accuracy: 0.8170\n",
      "Epoch 19/20\n",
      "16/16 [==============================] - 0s 17ms/step - loss: 0.1439 - accuracy: 0.9574 - val_loss: 0.9199 - val_accuracy: 0.8220\n",
      "Epoch 20/20\n",
      "16/16 [==============================] - 0s 19ms/step - loss: 0.1374 - accuracy: 0.9558 - val_loss: 0.9020 - val_accuracy: 0.8230\n"
     ]
    }
   ],
   "source": [
    "history = model.fit(partial_x_train,\n",
    "                    partial_y_train,\n",
    "                    epochs=20,\n",
    "                    batch_size=512,\n",
    "                    validation_data=(x_val, y_val))"
   ]
  },
  {
   "cell_type": "markdown",
   "id": "df31e21e",
   "metadata": {
    "papermill": {
     "duration": 0.048815,
     "end_time": "2023-04-17T10:57:10.561900",
     "exception": false,
     "start_time": "2023-04-17T10:57:10.513085",
     "status": "completed"
    },
    "tags": []
   },
   "source": [
    "**Plotting the training and validation loss**"
   ]
  },
  {
   "cell_type": "code",
   "execution_count": 33,
   "id": "74288033",
   "metadata": {
    "execution": {
     "iopub.execute_input": "2023-04-17T10:57:10.660512Z",
     "iopub.status.busy": "2023-04-17T10:57:10.660124Z",
     "iopub.status.idle": "2023-04-17T10:57:10.906475Z",
     "shell.execute_reply": "2023-04-17T10:57:10.905334Z"
    },
    "papermill": {
     "duration": 0.299635,
     "end_time": "2023-04-17T10:57:10.909353",
     "exception": false,
     "start_time": "2023-04-17T10:57:10.609718",
     "status": "completed"
    },
    "tags": []
   },
   "outputs": [
    {
     "data": {
      "image/png": "[encoded data removed]",
      "text/plain": [
       "<Figure size 640x480 with 1 Axes>"
      ]
     },
     "metadata": {},
     "output_type": "display_data"
    }
   ],
   "source": [
    "loss = history.history[\"loss\"]\n",
    "val_loss = history.history[\"val_loss\"]\n",
    "epochs = range(1, len(loss) + 1)\n",
    "plt.plot(epochs, loss, \"bo\", label=\"Training loss\")\n",
    "plt.plot(epochs, val_loss, \"b\", label=\"Validation loss\")\n",
    "plt.title(\"Training and validation loss\")\n",
    "plt.xlabel(\"Epochs\")\n",
    "plt.ylabel(\"Loss\")\n",
    "plt.legend()\n",
    "plt.show()"
   ]
  },
  {
   "cell_type": "markdown",
   "id": "4b3d8543",
   "metadata": {
    "papermill": {
     "duration": 0.048041,
     "end_time": "2023-04-17T10:57:11.006100",
     "exception": false,
     "start_time": "2023-04-17T10:57:10.958059",
     "status": "completed"
    },
    "tags": []
   },
   "source": [
    "**Plotting the training and validation accuracy**"
   ]
  },
  {
   "cell_type": "code",
   "execution_count": 34,
   "id": "bd223d57",
   "metadata": {
    "execution": {
     "iopub.execute_input": "2023-04-17T10:57:11.102597Z",
     "iopub.status.busy": "2023-04-17T10:57:11.101450Z",
     "iopub.status.idle": "2023-04-17T10:57:11.345165Z",
     "shell.execute_reply": "2023-04-17T10:57:11.343801Z"
    },
    "papermill": {
     "duration": 0.29871,
     "end_time": "2023-04-17T10:57:11.352524",
     "exception": false,
     "start_time": "2023-04-17T10:57:11.053814",
     "status": "completed"
    },
    "tags": []
   },
   "outputs": [
    {
     "data": {
      "image/png": "[encoded data removed]",
      "text/plain": [
       "<Figure size 640x480 with 1 Axes>"
      ]
     },
     "metadata": {},
     "output_type": "display_data"
    }
   ],
   "source": [
    "plt.clf()\n",
    "acc = history.history[\"accuracy\"]\n",
    "val_acc = history.history[\"val_accuracy\"]\n",
    "plt.plot(epochs, acc, \"bo\", label=\"Training accuracy\")\n",
    "plt.plot(epochs, val_acc, \"b\", label=\"Validation accuracy\")\n",
    "plt.title(\"Training and validation accuracy\")\n",
    "plt.xlabel(\"Epochs\")\n",
    "plt.ylabel(\"Accuracy\")\n",
    "plt.legend()\n",
    "plt.show()"
   ]
  },
  {
   "cell_type": "markdown",
   "id": "8cc66f8a",
   "metadata": {
    "papermill": {
     "duration": 0.08775,
     "end_time": "2023-04-17T10:57:11.540352",
     "exception": false,
     "start_time": "2023-04-17T10:57:11.452602",
     "status": "completed"
    },
    "tags": []
   },
   "source": [
    "**Retraining a model from scratch**"
   ]
  },
  {
   "cell_type": "code",
   "execution_count": 35,
   "id": "f6a28dc7",
   "metadata": {
    "execution": {
     "iopub.execute_input": "2023-04-17T10:57:11.640087Z",
     "iopub.status.busy": "2023-04-17T10:57:11.639700Z",
     "iopub.status.idle": "2023-04-17T10:57:18.828855Z",
     "shell.execute_reply": "2023-04-17T10:57:18.827740Z"
    },
    "papermill": {
     "duration": 7.241676,
     "end_time": "2023-04-17T10:57:18.831513",
     "exception": false,
     "start_time": "2023-04-17T10:57:11.589837",
     "status": "completed"
    },
    "tags": []
   },
   "outputs": [
    {
     "name": "stdout",
     "output_type": "stream",
     "text": [
      "Epoch 1/9\n",
      "18/18 [==============================] - 1s 14ms/step - loss: 2.8222 - accuracy: 0.4864\n",
      "Epoch 2/9\n",
      "18/18 [==============================] - 0s 14ms/step - loss: 1.5723 - accuracy: 0.6687\n",
      "Epoch 3/9\n",
      "18/18 [==============================] - 0s 14ms/step - loss: 1.1740 - accuracy: 0.7439\n",
      "Epoch 4/9\n",
      "18/18 [==============================] - 0s 13ms/step - loss: 0.9484 - accuracy: 0.7937\n",
      "Epoch 5/9\n",
      "18/18 [==============================] - 0s 14ms/step - loss: 0.7779 - accuracy: 0.8336\n",
      "Epoch 6/9\n",
      "18/18 [==============================] - 0s 13ms/step - loss: 0.6455 - accuracy: 0.8627\n",
      "Epoch 7/9\n",
      "18/18 [==============================] - 0s 13ms/step - loss: 0.5427 - accuracy: 0.8840\n",
      "Epoch 8/9\n",
      "18/18 [==============================] - 0s 13ms/step - loss: 0.4553 - accuracy: 0.9048\n",
      "Epoch 9/9\n",
      "18/18 [==============================] - 0s 14ms/step - loss: 0.3847 - accuracy: 0.9188\n",
      "71/71 [==============================] - 0s 3ms/step - loss: 0.9025 - accuracy: 0.7903\n"
     ]
    }
   ],
   "source": [
    "model = keras.Sequential([\n",
    "  layers.Dense(64, activation=\"relu\"),\n",
    "  layers.Dense(64, activation=\"relu\"),\n",
    "  layers.Dense(46, activation=\"softmax\")\n",
    "])\n",
    "model.compile(optimizer=\"rmsprop\",\n",
    "              loss=\"categorical_crossentropy\",\n",
    "              metrics=[\"accuracy\"])\n",
    "model.fit(x_train,\n",
    "          y_train,\n",
    "          epochs=9,\n",
    "          batch_size=512)\n",
    "results = model.evaluate(x_test, y_test)"
   ]
  },
  {
   "cell_type": "code",
   "execution_count": 36,
   "id": "8e4dc989",
   "metadata": {
    "execution": {
     "iopub.execute_input": "2023-04-17T10:57:18.938649Z",
     "iopub.status.busy": "2023-04-17T10:57:18.938236Z",
     "iopub.status.idle": "2023-04-17T10:57:18.946507Z",
     "shell.execute_reply": "2023-04-17T10:57:18.945384Z"
    },
    "papermill": {
     "duration": 0.065446,
     "end_time": "2023-04-17T10:57:18.948970",
     "exception": false,
     "start_time": "2023-04-17T10:57:18.883524",
     "status": "completed"
    },
    "tags": []
   },
   "outputs": [
    {
     "data": {
      "text/plain": [
       "[0.9025050401687622, 0.7902938723564148]"
      ]
     },
     "execution_count": 36,
     "metadata": {},
     "output_type": "execute_result"
    }
   ],
   "source": [
    "results"
   ]
  },
  {
   "cell_type": "code",
   "execution_count": 37,
   "id": "c60a1c24",
   "metadata": {
    "execution": {
     "iopub.execute_input": "2023-04-17T10:57:19.057670Z",
     "iopub.status.busy": "2023-04-17T10:57:19.057253Z",
     "iopub.status.idle": "2023-04-17T10:57:19.066568Z",
     "shell.execute_reply": "2023-04-17T10:57:19.065483Z"
    },
    "papermill": {
     "duration": 0.066573,
     "end_time": "2023-04-17T10:57:19.069177",
     "exception": false,
     "start_time": "2023-04-17T10:57:19.002604",
     "status": "completed"
    },
    "tags": []
   },
   "outputs": [
    {
     "data": {
      "text/plain": [
       "0.16874443455031166"
      ]
     },
     "execution_count": 37,
     "metadata": {},
     "output_type": "execute_result"
    }
   ],
   "source": [
    "import copy\n",
    "test_labels_copy = copy.copy(test_labels)\n",
    "np.random.shuffle(test_labels_copy)\n",
    "hits_array = np.array(test_labels) == np.array(test_labels_copy)\n",
    "hits_array.mean()"
   ]
  },
  {
   "cell_type": "markdown",
   "id": "2070dfc8",
   "metadata": {
    "papermill": {
     "duration": 0.051412,
     "end_time": "2023-04-17T10:57:19.173748",
     "exception": false,
     "start_time": "2023-04-17T10:57:19.122336",
     "status": "completed"
    },
    "tags": []
   },
   "source": [
    "### Generating predictions on new data"
   ]
  },
  {
   "cell_type": "code",
   "execution_count": 38,
   "id": "9935e08a",
   "metadata": {
    "execution": {
     "iopub.execute_input": "2023-04-17T10:57:19.278783Z",
     "iopub.status.busy": "2023-04-17T10:57:19.278385Z",
     "iopub.status.idle": "2023-04-17T10:57:19.765155Z",
     "shell.execute_reply": "2023-04-17T10:57:19.764047Z"
    },
    "papermill": {
     "duration": 0.542133,
     "end_time": "2023-04-17T10:57:19.767967",
     "exception": false,
     "start_time": "2023-04-17T10:57:19.225834",
     "status": "completed"
    },
    "tags": []
   },
   "outputs": [
    {
     "name": "stdout",
     "output_type": "stream",
     "text": [
      "71/71 [==============================] - 0s 2ms/step\n"
     ]
    }
   ],
   "source": [
    "predictions = model.predict(x_test)"
   ]
  },
  {
   "cell_type": "code",
   "execution_count": 39,
   "id": "94446acb",
   "metadata": {
    "execution": {
     "iopub.execute_input": "2023-04-17T10:57:19.872073Z",
     "iopub.status.busy": "2023-04-17T10:57:19.870001Z",
     "iopub.status.idle": "2023-04-17T10:57:19.879775Z",
     "shell.execute_reply": "2023-04-17T10:57:19.878662Z"
    },
    "papermill": {
     "duration": 0.063875,
     "end_time": "2023-04-17T10:57:19.882338",
     "exception": false,
     "start_time": "2023-04-17T10:57:19.818463",
     "status": "completed"
    },
    "tags": []
   },
   "outputs": [
    {
     "data": {
      "text/plain": [
       "(46,)"
      ]
     },
     "execution_count": 39,
     "metadata": {},
     "output_type": "execute_result"
    }
   ],
   "source": [
    "predictions[0].shape"
   ]
  },
  {
   "cell_type": "code",
   "execution_count": 40,
   "id": "d988d131",
   "metadata": {
    "execution": {
     "iopub.execute_input": "2023-04-17T10:57:19.987628Z",
     "iopub.status.busy": "2023-04-17T10:57:19.987228Z",
     "iopub.status.idle": "2023-04-17T10:57:19.995393Z",
     "shell.execute_reply": "2023-04-17T10:57:19.994180Z"
    },
    "papermill": {
     "duration": 0.06385,
     "end_time": "2023-04-17T10:57:19.998023",
     "exception": false,
     "start_time": "2023-04-17T10:57:19.934173",
     "status": "completed"
    },
    "tags": []
   },
   "outputs": [
    {
     "data": {
      "text/plain": [
       "0.99999994"
      ]
     },
     "execution_count": 40,
     "metadata": {},
     "output_type": "execute_result"
    }
   ],
   "source": [
    "np.sum(predictions[0])"
   ]
  },
  {
   "cell_type": "code",
   "execution_count": 41,
   "id": "306f3abd",
   "metadata": {
    "execution": {
     "iopub.execute_input": "2023-04-17T10:57:20.168633Z",
     "iopub.status.busy": "2023-04-17T10:57:20.167504Z",
     "iopub.status.idle": "2023-04-17T10:57:20.175867Z",
     "shell.execute_reply": "2023-04-17T10:57:20.174636Z"
    },
    "papermill": {
     "duration": 0.126826,
     "end_time": "2023-04-17T10:57:20.178896",
     "exception": false,
     "start_time": "2023-04-17T10:57:20.052070",
     "status": "completed"
    },
    "tags": []
   },
   "outputs": [
    {
     "data": {
      "text/plain": [
       "3"
      ]
     },
     "execution_count": 41,
     "metadata": {},
     "output_type": "execute_result"
    }
   ],
   "source": [
    "np.argmax(predictions[0])"
   ]
  },
  {
   "cell_type": "markdown",
   "id": "44aef5ac",
   "metadata": {
    "papermill": {
     "duration": 0.053023,
     "end_time": "2023-04-17T10:57:20.284995",
     "exception": false,
     "start_time": "2023-04-17T10:57:20.231972",
     "status": "completed"
    },
    "tags": []
   },
   "source": [
    "### A different way to handle the labels and the loss"
   ]
  },
  {
   "cell_type": "code",
   "execution_count": 42,
   "id": "53165447",
   "metadata": {
    "execution": {
     "iopub.execute_input": "2023-04-17T10:57:20.395731Z",
     "iopub.status.busy": "2023-04-17T10:57:20.394486Z",
     "iopub.status.idle": "2023-04-17T10:57:20.400656Z",
     "shell.execute_reply": "2023-04-17T10:57:20.399463Z"
    },
    "papermill": {
     "duration": 0.063761,
     "end_time": "2023-04-17T10:57:20.403089",
     "exception": false,
     "start_time": "2023-04-17T10:57:20.339328",
     "status": "completed"
    },
    "tags": []
   },
   "outputs": [],
   "source": [
    "y_train = np.array(train_labels)\n",
    "y_test = np.array(test_labels)"
   ]
  },
  {
   "cell_type": "code",
   "execution_count": 43,
   "id": "f8ad108e",
   "metadata": {
    "execution": {
     "iopub.execute_input": "2023-04-17T10:57:20.511458Z",
     "iopub.status.busy": "2023-04-17T10:57:20.511106Z",
     "iopub.status.idle": "2023-04-17T10:57:20.524836Z",
     "shell.execute_reply": "2023-04-17T10:57:20.523815Z"
    },
    "papermill": {
     "duration": 0.070924,
     "end_time": "2023-04-17T10:57:20.527237",
     "exception": false,
     "start_time": "2023-04-17T10:57:20.456313",
     "status": "completed"
    },
    "tags": []
   },
   "outputs": [],
   "source": [
    "model.compile(optimizer=\"rmsprop\",\n",
    "              loss=\"sparse_categorical_crossentropy\",\n",
    "              metrics=[\"accuracy\"])"
   ]
  },
  {
   "cell_type": "markdown",
   "id": "c296014d",
   "metadata": {
    "papermill": {
     "duration": 0.052991,
     "end_time": "2023-04-17T10:57:20.634629",
     "exception": false,
     "start_time": "2023-04-17T10:57:20.581638",
     "status": "completed"
    },
    "tags": []
   },
   "source": [
    "### The importance of having sufficiently large intermediate layers"
   ]
  },
  {
   "cell_type": "markdown",
   "id": "0c6b84e5",
   "metadata": {
    "papermill": {
     "duration": 0.051484,
     "end_time": "2023-04-17T10:57:20.737623",
     "exception": false,
     "start_time": "2023-04-17T10:57:20.686139",
     "status": "completed"
    },
    "tags": []
   },
   "source": [
    "**A model with an information bottleneck**"
   ]
  },
  {
   "cell_type": "code",
   "execution_count": 44,
   "id": "0b969a88",
   "metadata": {
    "execution": {
     "iopub.execute_input": "2023-04-17T10:57:20.837171Z",
     "iopub.status.busy": "2023-04-17T10:57:20.836815Z",
     "iopub.status.idle": "2023-04-17T10:57:32.340494Z",
     "shell.execute_reply": "2023-04-17T10:57:32.337998Z"
    },
    "papermill": {
     "duration": 11.561734,
     "end_time": "2023-04-17T10:57:32.347780",
     "exception": false,
     "start_time": "2023-04-17T10:57:20.786046",
     "status": "completed"
    },
    "tags": []
   },
   "outputs": [
    {
     "name": "stdout",
     "output_type": "stream",
     "text": [
      "Epoch 1/20\n",
      "63/63 [==============================] - 2s 10ms/step - loss: 2.7817 - accuracy: 0.3716 - val_loss: 2.0328 - val_accuracy: 0.5990\n",
      "Epoch 2/20\n",
      "63/63 [==============================] - 0s 6ms/step - loss: 1.6793 - accuracy: 0.6445 - val_loss: 1.5105 - val_accuracy: 0.6530\n",
      "Epoch 3/20\n",
      "63/63 [==============================] - 0s 6ms/step - loss: 1.3313 - accuracy: 0.6775 - val_loss: 1.3587 - val_accuracy: 0.6800\n",
      "Epoch 4/20\n",
      "63/63 [==============================] - 0s 6ms/step - loss: 1.1668 - accuracy: 0.7162 - val_loss: 1.3056 - val_accuracy: 0.6910\n",
      "Epoch 5/20\n",
      "63/63 [==============================] - 0s 6ms/step - loss: 1.0482 - accuracy: 0.7439 - val_loss: 1.2728 - val_accuracy: 0.6880\n",
      "Epoch 6/20\n",
      "63/63 [==============================] - 0s 6ms/step - loss: 0.9602 - accuracy: 0.7566 - val_loss: 1.2641 - val_accuracy: 0.7030\n",
      "Epoch 7/20\n",
      "63/63 [==============================] - 0s 6ms/step - loss: 0.8890 - accuracy: 0.7719 - val_loss: 1.2532 - val_accuracy: 0.7110\n",
      "Epoch 8/20\n",
      "63/63 [==============================] - 0s 6ms/step - loss: 0.8300 - accuracy: 0.7835 - val_loss: 1.2670 - val_accuracy: 0.7050\n",
      "Epoch 9/20\n",
      "63/63 [==============================] - 0s 6ms/step - loss: 0.7760 - accuracy: 0.7945 - val_loss: 1.2700 - val_accuracy: 0.7150\n",
      "Epoch 10/20\n",
      "63/63 [==============================] - 0s 6ms/step - loss: 0.7290 - accuracy: 0.8036 - val_loss: 1.2894 - val_accuracy: 0.7210\n",
      "Epoch 11/20\n",
      "63/63 [==============================] - 0s 6ms/step - loss: 0.6877 - accuracy: 0.8183 - val_loss: 1.3073 - val_accuracy: 0.7260\n",
      "Epoch 12/20\n",
      "63/63 [==============================] - 0s 6ms/step - loss: 0.6511 - accuracy: 0.8255 - val_loss: 1.3236 - val_accuracy: 0.7200\n",
      "Epoch 13/20\n",
      "63/63 [==============================] - 0s 6ms/step - loss: 0.6203 - accuracy: 0.8304 - val_loss: 1.3475 - val_accuracy: 0.7210\n",
      "Epoch 14/20\n",
      "63/63 [==============================] - 0s 6ms/step - loss: 0.5904 - accuracy: 0.8322 - val_loss: 1.3738 - val_accuracy: 0.7190\n",
      "Epoch 15/20\n",
      "63/63 [==============================] - 0s 7ms/step - loss: 0.5643 - accuracy: 0.8370 - val_loss: 1.3835 - val_accuracy: 0.7200\n",
      "Epoch 16/20\n",
      "63/63 [==============================] - 0s 6ms/step - loss: 0.5424 - accuracy: 0.8416 - val_loss: 1.4106 - val_accuracy: 0.7190\n",
      "Epoch 17/20\n",
      "63/63 [==============================] - 0s 6ms/step - loss: 0.5192 - accuracy: 0.8474 - val_loss: 1.4499 - val_accuracy: 0.7180\n",
      "Epoch 18/20\n",
      "63/63 [==============================] - 0s 7ms/step - loss: 0.4986 - accuracy: 0.8549 - val_loss: 1.4742 - val_accuracy: 0.7230\n",
      "Epoch 19/20\n",
      "63/63 [==============================] - 0s 6ms/step - loss: 0.4824 - accuracy: 0.8611 - val_loss: 1.5192 - val_accuracy: 0.7300\n",
      "Epoch 20/20\n",
      "63/63 [==============================] - 0s 7ms/step - loss: 0.4660 - accuracy: 0.8712 - val_loss: 1.5393 - val_accuracy: 0.7290\n"
     ]
    },
    {
     "data": {
      "text/plain": [
       "<keras.callbacks.History at 0x74bef77e4790>"
      ]
     },
     "execution_count": 44,
     "metadata": {},
     "output_type": "execute_result"
    }
   ],
   "source": [
    "model = keras.Sequential([\n",
    "    layers.Dense(64, activation=\"relu\"),\n",
    "    layers.Dense(4, activation=\"relu\"),\n",
    "    layers.Dense(46, activation=\"softmax\")\n",
    "])\n",
    "model.compile(optimizer=\"rmsprop\",\n",
    "              loss=\"categorical_crossentropy\",\n",
    "              metrics=[\"accuracy\"])\n",
    "model.fit(partial_x_train,\n",
    "          partial_y_train,\n",
    "          epochs=20,\n",
    "          batch_size=128,\n",
    "          validation_data=(x_val, y_val))"
   ]
  },
  {
   "cell_type": "markdown",
   "id": "872ffd02",
   "metadata": {
    "papermill": {
     "duration": 0.063335,
     "end_time": "2023-04-17T10:57:32.485141",
     "exception": false,
     "start_time": "2023-04-17T10:57:32.421806",
     "status": "completed"
    },
    "tags": []
   },
   "source": [
    "### Further experiments"
   ]
  },
  {
   "cell_type": "markdown",
   "id": "42a47aa8",
   "metadata": {
    "papermill": {
     "duration": 0.06336,
     "end_time": "2023-04-17T10:57:32.610499",
     "exception": false,
     "start_time": "2023-04-17T10:57:32.547139",
     "status": "completed"
    },
    "tags": []
   },
   "source": [
    "### Wrapping up"
   ]
  },
  {
   "cell_type": "markdown",
   "id": "473d426e",
   "metadata": {
    "papermill": {
     "duration": 0.064985,
     "end_time": "2023-04-17T10:57:32.739802",
     "exception": false,
     "start_time": "2023-04-17T10:57:32.674817",
     "status": "completed"
    },
    "tags": []
   },
   "source": [
    "## Predicting house prices: A regression example"
   ]
  },
  {
   "cell_type": "markdown",
   "id": "d1c2dc32",
   "metadata": {
    "papermill": {
     "duration": 0.063707,
     "end_time": "2023-04-17T10:57:32.868213",
     "exception": false,
     "start_time": "2023-04-17T10:57:32.804506",
     "status": "completed"
    },
    "tags": []
   },
   "source": [
    "### The Boston Housing Price dataset"
   ]
  },
  {
   "cell_type": "markdown",
   "id": "c8c78669",
   "metadata": {
    "papermill": {
     "duration": 0.064293,
     "end_time": "2023-04-17T10:57:32.997019",
     "exception": false,
     "start_time": "2023-04-17T10:57:32.932726",
     "status": "completed"
    },
    "tags": []
   },
   "source": [
    "**Loading the Boston housing dataset**"
   ]
  },
  {
   "cell_type": "code",
   "execution_count": 45,
   "id": "dffd8f64",
   "metadata": {
    "execution": {
     "iopub.execute_input": "2023-04-17T10:57:33.124600Z",
     "iopub.status.busy": "2023-04-17T10:57:33.123558Z",
     "iopub.status.idle": "2023-04-17T10:57:33.202637Z",
     "shell.execute_reply": "2023-04-17T10:57:33.201513Z"
    },
    "papermill": {
     "duration": 0.145254,
     "end_time": "2023-04-17T10:57:33.205354",
     "exception": false,
     "start_time": "2023-04-17T10:57:33.060100",
     "status": "completed"
    },
    "tags": []
   },
   "outputs": [
    {
     "name": "stdout",
     "output_type": "stream",
     "text": [
      "Downloading data from https://storage.googleapis.com/tensorflow/tf-keras-datasets/boston_housing.npz\n",
      "57026/57026 [==============================] - 0s 0us/step\n"
     ]
    }
   ],
   "source": [
    "from tensorflow.keras.datasets import boston_housing\n",
    "(train_data, train_targets), (test_data, test_targets) = boston_housing.load_data()"
   ]
  },
  {
   "cell_type": "code",
   "execution_count": 46,
   "id": "86883c81",
   "metadata": {
    "execution": {
     "iopub.execute_input": "2023-04-17T10:57:33.341755Z",
     "iopub.status.busy": "2023-04-17T10:57:33.341308Z",
     "iopub.status.idle": "2023-04-17T10:57:33.349081Z",
     "shell.execute_reply": "2023-04-17T10:57:33.347630Z"
    },
    "papermill": {
     "duration": 0.08168,
     "end_time": "2023-04-17T10:57:33.354101",
     "exception": false,
     "start_time": "2023-04-17T10:57:33.272421",
     "status": "completed"
    },
    "tags": []
   },
   "outputs": [
    {
     "data": {
      "text/plain": [
       "(404, 13)"
      ]
     },
     "execution_count": 46,
     "metadata": {},
     "output_type": "execute_result"
    }
   ],
   "source": [
    "train_data.shape"
   ]
  },
  {
   "cell_type": "code",
   "execution_count": 47,
   "id": "e12faf04",
   "metadata": {
    "execution": {
     "iopub.execute_input": "2023-04-17T10:57:33.582499Z",
     "iopub.status.busy": "2023-04-17T10:57:33.582116Z",
     "iopub.status.idle": "2023-04-17T10:57:33.588872Z",
     "shell.execute_reply": "2023-04-17T10:57:33.587808Z"
    },
    "papermill": {
     "duration": 0.102201,
     "end_time": "2023-04-17T10:57:33.591124",
     "exception": false,
     "start_time": "2023-04-17T10:57:33.488923",
     "status": "completed"
    },
    "tags": []
   },
   "outputs": [
    {
     "data": {
      "text/plain": [
       "(102, 13)"
      ]
     },
     "execution_count": 47,
     "metadata": {},
     "output_type": "execute_result"
    }
   ],
   "source": [
    "test_data.shape"
   ]
  },
  {
   "cell_type": "code",
   "execution_count": 48,
   "id": "4c55a170",
   "metadata": {
    "execution": {
     "iopub.execute_input": "2023-04-17T10:57:33.721535Z",
     "iopub.status.busy": "2023-04-17T10:57:33.719261Z",
     "iopub.status.idle": "2023-04-17T10:57:33.737459Z",
     "shell.execute_reply": "2023-04-17T10:57:33.736318Z"
    },
    "papermill": {
     "duration": 0.086344,
     "end_time": "2023-04-17T10:57:33.740543",
     "exception": false,
     "start_time": "2023-04-17T10:57:33.654199",
     "status": "completed"
    },
    "tags": []
   },
   "outputs": [
    {
     "data": {
      "text/plain": [
       "array([15.2, 42.3, 50. , 21.1, 17.7, 18.5, 11.3, 15.6, 15.6, 14.4, 12.1,\n",
       "       17.9, 23.1, 19.9, 15.7,  8.8, 50. , 22.5, 24.1, 27.5, 10.9, 30.8,\n",
       "       32.9, 24. , 18.5, 13.3, 22.9, 34.7, 16.6, 17.5, 22.3, 16.1, 14.9,\n",
       "       23.1, 34.9, 25. , 13.9, 13.1, 20.4, 20. , 15.2, 24.7, 22.2, 16.7,\n",
       "       12.7, 15.6, 18.4, 21. , 30.1, 15.1, 18.7,  9.6, 31.5, 24.8, 19.1,\n",
       "       22. , 14.5, 11. , 32. , 29.4, 20.3, 24.4, 14.6, 19.5, 14.1, 14.3,\n",
       "       15.6, 10.5,  6.3, 19.3, 19.3, 13.4, 36.4, 17.8, 13.5, 16.5,  8.3,\n",
       "       14.3, 16. , 13.4, 28.6, 43.5, 20.2, 22. , 23. , 20.7, 12.5, 48.5,\n",
       "       14.6, 13.4, 23.7, 50. , 21.7, 39.8, 38.7, 22.2, 34.9, 22.5, 31.1,\n",
       "       28.7, 46. , 41.7, 21. , 26.6, 15. , 24.4, 13.3, 21.2, 11.7, 21.7,\n",
       "       19.4, 50. , 22.8, 19.7, 24.7, 36.2, 14.2, 18.9, 18.3, 20.6, 24.6,\n",
       "       18.2,  8.7, 44. , 10.4, 13.2, 21.2, 37. , 30.7, 22.9, 20. , 19.3,\n",
       "       31.7, 32. , 23.1, 18.8, 10.9, 50. , 19.6,  5. , 14.4, 19.8, 13.8,\n",
       "       19.6, 23.9, 24.5, 25. , 19.9, 17.2, 24.6, 13.5, 26.6, 21.4, 11.9,\n",
       "       22.6, 19.6,  8.5, 23.7, 23.1, 22.4, 20.5, 23.6, 18.4, 35.2, 23.1,\n",
       "       27.9, 20.6, 23.7, 28. , 13.6, 27.1, 23.6, 20.6, 18.2, 21.7, 17.1,\n",
       "        8.4, 25.3, 13.8, 22.2, 18.4, 20.7, 31.6, 30.5, 20.3,  8.8, 19.2,\n",
       "       19.4, 23.1, 23. , 14.8, 48.8, 22.6, 33.4, 21.1, 13.6, 32.2, 13.1,\n",
       "       23.4, 18.9, 23.9, 11.8, 23.3, 22.8, 19.6, 16.7, 13.4, 22.2, 20.4,\n",
       "       21.8, 26.4, 14.9, 24.1, 23.8, 12.3, 29.1, 21. , 19.5, 23.3, 23.8,\n",
       "       17.8, 11.5, 21.7, 19.9, 25. , 33.4, 28.5, 21.4, 24.3, 27.5, 33.1,\n",
       "       16.2, 23.3, 48.3, 22.9, 22.8, 13.1, 12.7, 22.6, 15. , 15.3, 10.5,\n",
       "       24. , 18.5, 21.7, 19.5, 33.2, 23.2,  5. , 19.1, 12.7, 22.3, 10.2,\n",
       "       13.9, 16.3, 17. , 20.1, 29.9, 17.2, 37.3, 45.4, 17.8, 23.2, 29. ,\n",
       "       22. , 18. , 17.4, 34.6, 20.1, 25. , 15.6, 24.8, 28.2, 21.2, 21.4,\n",
       "       23.8, 31. , 26.2, 17.4, 37.9, 17.5, 20. ,  8.3, 23.9,  8.4, 13.8,\n",
       "        7.2, 11.7, 17.1, 21.6, 50. , 16.1, 20.4, 20.6, 21.4, 20.6, 36.5,\n",
       "        8.5, 24.8, 10.8, 21.9, 17.3, 18.9, 36.2, 14.9, 18.2, 33.3, 21.8,\n",
       "       19.7, 31.6, 24.8, 19.4, 22.8,  7.5, 44.8, 16.8, 18.7, 50. , 50. ,\n",
       "       19.5, 20.1, 50. , 17.2, 20.8, 19.3, 41.3, 20.4, 20.5, 13.8, 16.5,\n",
       "       23.9, 20.6, 31.5, 23.3, 16.8, 14. , 33.8, 36.1, 12.8, 18.3, 18.7,\n",
       "       19.1, 29. , 30.1, 50. , 50. , 22. , 11.9, 37.6, 50. , 22.7, 20.8,\n",
       "       23.5, 27.9, 50. , 19.3, 23.9, 22.6, 15.2, 21.7, 19.2, 43.8, 20.3,\n",
       "       33.2, 19.9, 22.5, 32.7, 22. , 17.1, 19. , 15. , 16.1, 25.1, 23.7,\n",
       "       28.7, 37.2, 22.6, 16.4, 25. , 29.8, 22.1, 17.4, 18.1, 30.3, 17.5,\n",
       "       24.7, 12.6, 26.5, 28.7, 13.3, 10.4, 24.4, 23. , 20. , 17.8,  7. ,\n",
       "       11.8, 24.4, 13.8, 19.4, 25.2, 19.4, 19.4, 29.1])"
      ]
     },
     "execution_count": 48,
     "metadata": {},
     "output_type": "execute_result"
    }
   ],
   "source": [
    "train_targets"
   ]
  },
  {
   "cell_type": "markdown",
   "id": "d6c0472d",
   "metadata": {
    "papermill": {
     "duration": 0.063608,
     "end_time": "2023-04-17T10:57:33.868409",
     "exception": false,
     "start_time": "2023-04-17T10:57:33.804801",
     "status": "completed"
    },
    "tags": []
   },
   "source": [
    "### Preparing the data"
   ]
  },
  {
   "cell_type": "markdown",
   "id": "74e9ef7d",
   "metadata": {
    "papermill": {
     "duration": 0.064665,
     "end_time": "2023-04-17T10:57:33.996902",
     "exception": false,
     "start_time": "2023-04-17T10:57:33.932237",
     "status": "completed"
    },
    "tags": []
   },
   "source": [
    "**Normalizing the data**"
   ]
  },
  {
   "cell_type": "code",
   "execution_count": 49,
   "id": "ca96a7f1",
   "metadata": {
    "execution": {
     "iopub.execute_input": "2023-04-17T10:57:34.127591Z",
     "iopub.status.busy": "2023-04-17T10:57:34.126391Z",
     "iopub.status.idle": "2023-04-17T10:57:34.134915Z",
     "shell.execute_reply": "2023-04-17T10:57:34.133756Z"
    },
    "papermill": {
     "duration": 0.07578,
     "end_time": "2023-04-17T10:57:34.137645",
     "exception": false,
     "start_time": "2023-04-17T10:57:34.061865",
     "status": "completed"
    },
    "tags": []
   },
   "outputs": [],
   "source": [
    "mean = train_data.mean(axis=0)\n",
    "train_data -= mean\n",
    "std = train_data.std(axis=0)\n",
    "train_data /= std\n",
    "test_data -= mean\n",
    "test_data /= std"
   ]
  },
  {
   "cell_type": "markdown",
   "id": "3d4123f4",
   "metadata": {
    "papermill": {
     "duration": 0.066629,
     "end_time": "2023-04-17T10:57:34.268396",
     "exception": false,
     "start_time": "2023-04-17T10:57:34.201767",
     "status": "completed"
    },
    "tags": []
   },
   "source": [
    "### Building your model"
   ]
  },
  {
   "cell_type": "markdown",
   "id": "756e43c0",
   "metadata": {
    "papermill": {
     "duration": 0.083207,
     "end_time": "2023-04-17T10:57:34.416809",
     "exception": false,
     "start_time": "2023-04-17T10:57:34.333602",
     "status": "completed"
    },
    "tags": []
   },
   "source": [
    "**Model definition**"
   ]
  },
  {
   "cell_type": "code",
   "execution_count": 50,
   "id": "e9076fa9",
   "metadata": {
    "execution": {
     "iopub.execute_input": "2023-04-17T10:57:34.637557Z",
     "iopub.status.busy": "2023-04-17T10:57:34.637093Z",
     "iopub.status.idle": "2023-04-17T10:57:34.645941Z",
     "shell.execute_reply": "2023-04-17T10:57:34.644846Z"
    },
    "papermill": {
     "duration": 0.111581,
     "end_time": "2023-04-17T10:57:34.649078",
     "exception": false,
     "start_time": "2023-04-17T10:57:34.537497",
     "status": "completed"
    },
    "tags": []
   },
   "outputs": [],
   "source": [
    "def build_model():\n",
    "    model = keras.Sequential([\n",
    "        layers.Dense(64, activation=\"relu\"),\n",
    "        layers.Dense(64, activation=\"relu\"),\n",
    "        layers.Dense(1)\n",
    "    ])\n",
    "    model.compile(optimizer=\"rmsprop\", loss=\"mse\", metrics=[\"mae\"])\n",
    "    return model"
   ]
  },
  {
   "cell_type": "markdown",
   "id": "6764c0f7",
   "metadata": {
    "papermill": {
     "duration": 0.098362,
     "end_time": "2023-04-17T10:57:34.845452",
     "exception": false,
     "start_time": "2023-04-17T10:57:34.747090",
     "status": "completed"
    },
    "tags": []
   },
   "source": [
    "### Validating your approach using K-fold validation"
   ]
  },
  {
   "cell_type": "markdown",
   "id": "d1698a6e",
   "metadata": {
    "papermill": {
     "duration": 0.098165,
     "end_time": "2023-04-17T10:57:35.043894",
     "exception": false,
     "start_time": "2023-04-17T10:57:34.945729",
     "status": "completed"
    },
    "tags": []
   },
   "source": [
    "**K-fold validation**"
   ]
  },
  {
   "cell_type": "code",
   "execution_count": 51,
   "id": "429ec15c",
   "metadata": {
    "execution": {
     "iopub.execute_input": "2023-04-17T10:57:35.256532Z",
     "iopub.status.busy": "2023-04-17T10:57:35.256081Z",
     "iopub.status.idle": "2023-04-17T10:58:19.712188Z",
     "shell.execute_reply": "2023-04-17T10:58:19.711058Z"
    },
    "papermill": {
     "duration": 44.564054,
     "end_time": "2023-04-17T10:58:19.715205",
     "exception": false,
     "start_time": "2023-04-17T10:57:35.151151",
     "status": "completed"
    },
    "tags": []
   },
   "outputs": [
    {
     "name": "stdout",
     "output_type": "stream",
     "text": [
      "Processing fold #0\n",
      "Processing fold #1\n",
      "Processing fold #2\n",
      "Processing fold #3\n"
     ]
    }
   ],
   "source": [
    "k = 4\n",
    "num_val_samples = len(train_data) // k\n",
    "num_epochs = 100\n",
    "all_scores = []\n",
    "for i in range(k):\n",
    "    print(f\"Processing fold #{i}\")\n",
    "    val_data = train_data[i * num_val_samples: (i + 1) * num_val_samples]\n",
    "    val_targets = train_targets[i * num_val_samples: (i + 1) * num_val_samples]\n",
    "    partial_train_data = np.concatenate(\n",
    "        [train_data[:i * num_val_samples],\n",
    "         train_data[(i + 1) * num_val_samples:]],\n",
    "        axis=0)\n",
    "    partial_train_targets = np.concatenate(\n",
    "        [train_targets[:i * num_val_samples],\n",
    "         train_targets[(i + 1) * num_val_samples:]],\n",
    "        axis=0)\n",
    "    model = build_model()\n",
    "    model.fit(partial_train_data, partial_train_targets,\n",
    "              epochs=num_epochs, batch_size=16, verbose=0)\n",
    "    val_mse, val_mae = model.evaluate(val_data, val_targets, verbose=0)\n",
    "    all_scores.append(val_mae)"
   ]
  },
  {
   "cell_type": "code",
   "execution_count": 52,
   "id": "6a6179e2",
   "metadata": {
    "execution": {
     "iopub.execute_input": "2023-04-17T10:58:19.844644Z",
     "iopub.status.busy": "2023-04-17T10:58:19.844236Z",
     "iopub.status.idle": "2023-04-17T10:58:19.850845Z",
     "shell.execute_reply": "2023-04-17T10:58:19.849882Z"
    },
    "papermill": {
     "duration": 0.073394,
     "end_time": "2023-04-17T10:58:19.853381",
     "exception": false,
     "start_time": "2023-04-17T10:58:19.779987",
     "status": "completed"
    },
    "tags": []
   },
   "outputs": [
    {
     "data": {
      "text/plain": [
       "[1.9449541568756104, 2.468658208847046, 2.475843906402588, 2.454298496246338]"
      ]
     },
     "execution_count": 52,
     "metadata": {},
     "output_type": "execute_result"
    }
   ],
   "source": [
    "all_scores"
   ]
  },
  {
   "cell_type": "code",
   "execution_count": 53,
   "id": "91913611",
   "metadata": {
    "execution": {
     "iopub.execute_input": "2023-04-17T10:58:19.983634Z",
     "iopub.status.busy": "2023-04-17T10:58:19.982369Z",
     "iopub.status.idle": "2023-04-17T10:58:19.990359Z",
     "shell.execute_reply": "2023-04-17T10:58:19.989126Z"
    },
    "papermill": {
     "duration": 0.076853,
     "end_time": "2023-04-17T10:58:19.994201",
     "exception": false,
     "start_time": "2023-04-17T10:58:19.917348",
     "status": "completed"
    },
    "tags": []
   },
   "outputs": [
    {
     "data": {
      "text/plain": [
       "2.3359386920928955"
      ]
     },
     "execution_count": 53,
     "metadata": {},
     "output_type": "execute_result"
    }
   ],
   "source": [
    "np.mean(all_scores)"
   ]
  },
  {
   "cell_type": "markdown",
   "id": "eeec508a",
   "metadata": {
    "papermill": {
     "duration": 0.060735,
     "end_time": "2023-04-17T10:58:20.120329",
     "exception": false,
     "start_time": "2023-04-17T10:58:20.059594",
     "status": "completed"
    },
    "tags": []
   },
   "source": [
    "**Saving the validation logs at each fold**"
   ]
  },
  {
   "cell_type": "code",
   "execution_count": 54,
   "id": "4b390299",
   "metadata": {
    "execution": {
     "iopub.execute_input": "2023-04-17T10:58:20.251657Z",
     "iopub.status.busy": "2023-04-17T10:58:20.250587Z",
     "iopub.status.idle": "2023-04-17T11:03:15.946547Z",
     "shell.execute_reply": "2023-04-17T11:03:15.945361Z"
    },
    "papermill": {
     "duration": 295.765418,
     "end_time": "2023-04-17T11:03:15.949889",
     "exception": false,
     "start_time": "2023-04-17T10:58:20.184471",
     "status": "completed"
    },
    "tags": []
   },
   "outputs": [
    {
     "name": "stdout",
     "output_type": "stream",
     "text": [
      "Processing fold #0\n",
      "Processing fold #1\n",
      "Processing fold #2\n",
      "Processing fold #3\n"
     ]
    }
   ],
   "source": [
    "num_epochs = 500\n",
    "all_mae_histories = []\n",
    "for i in range(k):\n",
    "    print(f\"Processing fold #{i}\")\n",
    "    val_data = train_data[i * num_val_samples: (i + 1) * num_val_samples]\n",
    "    val_targets = train_targets[i * num_val_samples: (i + 1) * num_val_samples]\n",
    "    partial_train_data = np.concatenate(\n",
    "        [train_data[:i * num_val_samples],\n",
    "         train_data[(i + 1) * num_val_samples:]],\n",
    "        axis=0)\n",
    "    partial_train_targets = np.concatenate(\n",
    "        [train_targets[:i * num_val_samples],\n",
    "         train_targets[(i + 1) * num_val_samples:]],\n",
    "        axis=0)\n",
    "    model = build_model()\n",
    "    history = model.fit(partial_train_data, partial_train_targets,\n",
    "                        validation_data=(val_data, val_targets),\n",
    "                        epochs=num_epochs, batch_size=16, verbose=0)\n",
    "    mae_history = history.history[\"val_mae\"]\n",
    "    all_mae_histories.append(mae_history)"
   ]
  },
  {
   "cell_type": "markdown",
   "id": "f0ad0b60",
   "metadata": {
    "papermill": {
     "duration": 0.065427,
     "end_time": "2023-04-17T11:03:16.082439",
     "exception": false,
     "start_time": "2023-04-17T11:03:16.017012",
     "status": "completed"
    },
    "tags": []
   },
   "source": [
    "**Building the history of successive mean K-fold validation scores**"
   ]
  },
  {
   "cell_type": "code",
   "execution_count": 55,
   "id": "f217b544",
   "metadata": {
    "execution": {
     "iopub.execute_input": "2023-04-17T11:03:16.263868Z",
     "iopub.status.busy": "2023-04-17T11:03:16.262705Z",
     "iopub.status.idle": "2023-04-17T11:03:16.274448Z",
     "shell.execute_reply": "2023-04-17T11:03:16.273294Z"
    },
    "papermill": {
     "duration": 0.079484,
     "end_time": "2023-04-17T11:03:16.276897",
     "exception": false,
     "start_time": "2023-04-17T11:03:16.197413",
     "status": "completed"
    },
    "tags": []
   },
   "outputs": [],
   "source": [
    "average_mae_history = [\n",
    "    np.mean([x[i] for x in all_mae_histories]) for i in range(num_epochs)]"
   ]
  },
  {
   "cell_type": "markdown",
   "id": "b2170566",
   "metadata": {
    "papermill": {
     "duration": 0.06405,
     "end_time": "2023-04-17T11:03:16.404068",
     "exception": false,
     "start_time": "2023-04-17T11:03:16.340018",
     "status": "completed"
    },
    "tags": []
   },
   "source": [
    "**Plotting validation scores**"
   ]
  },
  {
   "cell_type": "code",
   "execution_count": 56,
   "id": "822140f5",
   "metadata": {
    "execution": {
     "iopub.execute_input": "2023-04-17T11:03:16.535626Z",
     "iopub.status.busy": "2023-04-17T11:03:16.535200Z",
     "iopub.status.idle": "2023-04-17T11:03:16.752611Z",
     "shell.execute_reply": "2023-04-17T11:03:16.751555Z"
    },
    "papermill": {
     "duration": 0.285139,
     "end_time": "2023-04-17T11:03:16.755107",
     "exception": false,
     "start_time": "2023-04-17T11:03:16.469968",
     "status": "completed"
    },
    "tags": []
   },
   "outputs": [
    {
     "data": {
      "image/png": "[encoded data removed]",
      "text/plain": [
       "<Figure size 640x480 with 1 Axes>"
      ]
     },
     "metadata": {},
     "output_type": "display_data"
    }
   ],
   "source": [
    "plt.plot(range(1, len(average_mae_history) + 1), average_mae_history)\n",
    "plt.xlabel(\"Epochs\")\n",
    "plt.ylabel(\"Validation MAE\")\n",
    "plt.show()"
   ]
  },
  {
   "cell_type": "markdown",
   "id": "5c3b33c1",
   "metadata": {
    "papermill": {
     "duration": 0.063841,
     "end_time": "2023-04-17T11:03:16.883343",
     "exception": false,
     "start_time": "2023-04-17T11:03:16.819502",
     "status": "completed"
    },
    "tags": []
   },
   "source": [
    "**Plotting validation scores, excluding the first 10 data points**"
   ]
  },
  {
   "cell_type": "code",
   "execution_count": 57,
   "id": "1b2af509",
   "metadata": {
    "execution": {
     "iopub.execute_input": "2023-04-17T11:03:17.013483Z",
     "iopub.status.busy": "2023-04-17T11:03:17.012406Z",
     "iopub.status.idle": "2023-04-17T11:03:17.223705Z",
     "shell.execute_reply": "2023-04-17T11:03:17.222518Z"
    },
    "papermill": {
     "duration": 0.279217,
     "end_time": "2023-04-17T11:03:17.226305",
     "exception": false,
     "start_time": "2023-04-17T11:03:16.947088",
     "status": "completed"
    },
    "tags": []
   },
   "outputs": [
    {
     "data": {
      "image/png": "[encoded data removed]",
      "text/plain": [
       "<Figure size 640x480 with 1 Axes>"
      ]
     },
     "metadata": {},
     "output_type": "display_data"
    }
   ],
   "source": [
    "truncated_mae_history = average_mae_history[10:]\n",
    "plt.plot(range(1, len(truncated_mae_history) + 1), truncated_mae_history)\n",
    "plt.xlabel(\"Epochs\")\n",
    "plt.ylabel(\"Validation MAE\")\n",
    "plt.show()"
   ]
  },
  {
   "cell_type": "markdown",
   "id": "0dbbbea8",
   "metadata": {
    "papermill": {
     "duration": 0.063092,
     "end_time": "2023-04-17T11:03:17.354743",
     "exception": false,
     "start_time": "2023-04-17T11:03:17.291651",
     "status": "completed"
    },
    "tags": []
   },
   "source": [
    "**Training the final model**"
   ]
  },
  {
   "cell_type": "code",
   "execution_count": 58,
   "id": "a3a7403c",
   "metadata": {
    "execution": {
     "iopub.execute_input": "2023-04-17T11:03:17.490988Z",
     "iopub.status.busy": "2023-04-17T11:03:17.490608Z",
     "iopub.status.idle": "2023-04-17T11:03:28.593863Z",
     "shell.execute_reply": "2023-04-17T11:03:28.592728Z"
    },
    "papermill": {
     "duration": 11.173289,
     "end_time": "2023-04-17T11:03:28.596503",
     "exception": false,
     "start_time": "2023-04-17T11:03:17.423214",
     "status": "completed"
    },
    "tags": []
   },
   "outputs": [
    {
     "name": "stdout",
     "output_type": "stream",
     "text": [
      "4/4 [==============================] - 0s 4ms/step - loss: 15.8869 - mae: 2.6312\n"
     ]
    }
   ],
   "source": [
    "model = build_model()\n",
    "model.fit(train_data, train_targets,\n",
    "          epochs=130, batch_size=16, verbose=0)\n",
    "test_mse_score, test_mae_score = model.evaluate(test_data, test_targets)"
   ]
  },
  {
   "cell_type": "code",
   "execution_count": 59,
   "id": "7df8d99f",
   "metadata": {
    "execution": {
     "iopub.execute_input": "2023-04-17T11:03:28.728393Z",
     "iopub.status.busy": "2023-04-17T11:03:28.728007Z",
     "iopub.status.idle": "2023-04-17T11:03:28.734759Z",
     "shell.execute_reply": "2023-04-17T11:03:28.733633Z"
    },
    "papermill": {
     "duration": 0.075042,
     "end_time": "2023-04-17T11:03:28.737000",
     "exception": false,
     "start_time": "2023-04-17T11:03:28.661958",
     "status": "completed"
    },
    "tags": []
   },
   "outputs": [
    {
     "data": {
      "text/plain": [
       "2.6312294006347656"
      ]
     },
     "execution_count": 59,
     "metadata": {},
     "output_type": "execute_result"
    }
   ],
   "source": [
    "test_mae_score"
   ]
  },
  {
   "cell_type": "markdown",
   "id": "0ce0e258",
   "metadata": {
    "papermill": {
     "duration": 0.066393,
     "end_time": "2023-04-17T11:03:28.867953",
     "exception": false,
     "start_time": "2023-04-17T11:03:28.801560",
     "status": "completed"
    },
    "tags": []
   },
   "source": [
    "### Generating predictions on new data"
   ]
  },
  {
   "cell_type": "code",
   "execution_count": 60,
   "id": "57959a93",
   "metadata": {
    "execution": {
     "iopub.execute_input": "2023-04-17T11:03:28.999618Z",
     "iopub.status.busy": "2023-04-17T11:03:28.998842Z",
     "iopub.status.idle": "2023-04-17T11:03:29.118590Z",
     "shell.execute_reply": "2023-04-17T11:03:29.117414Z"
    },
    "papermill": {
     "duration": 0.187707,
     "end_time": "2023-04-17T11:03:29.121221",
     "exception": false,
     "start_time": "2023-04-17T11:03:28.933514",
     "status": "completed"
    },
    "tags": []
   },
   "outputs": [
    {
     "name": "stdout",
     "output_type": "stream",
     "text": [
      "4/4 [==============================] - 0s 2ms/step\n"
     ]
    },
    {
     "data": {
      "text/plain": [
       "array([9.347973], dtype=float32)"
      ]
     },
     "execution_count": 60,
     "metadata": {},
     "output_type": "execute_result"
    }
   ],
   "source": [
    "predictions = model.predict(test_data)\n",
    "predictions[0]"
   ]
  },
  {
   "cell_type": "markdown",
   "id": "2ca0a876",
   "metadata": {
    "papermill": {
     "duration": 0.064305,
     "end_time": "2023-04-17T11:03:29.253115",
     "exception": false,
     "start_time": "2023-04-17T11:03:29.188810",
     "status": "completed"
    },
    "tags": []
   },
   "source": [
    "### Wrapping up"
   ]
  },
  {
   "cell_type": "markdown",
   "id": "aeb3359f",
   "metadata": {
    "papermill": {
     "duration": 0.064386,
     "end_time": "2023-04-17T11:03:29.379588",
     "exception": false,
     "start_time": "2023-04-17T11:03:29.315202",
     "status": "completed"
    },
    "tags": []
   },
   "source": [
    "## Summary"
   ]
  },
  {
   "cell_type": "code",
   "execution_count": 61,
   "id": "538f0125",
   "metadata": {
    "execution": {
     "iopub.execute_input": "2023-04-17T11:03:29.516128Z",
     "iopub.status.busy": "2023-04-17T11:03:29.515382Z",
     "iopub.status.idle": "2023-04-17T11:03:29.522525Z",
     "shell.execute_reply": "2023-04-17T11:03:29.521381Z"
    },
    "papermill": {
     "duration": 0.078792,
     "end_time": "2023-04-17T11:03:29.525767",
     "exception": false,
     "start_time": "2023-04-17T11:03:29.446975",
     "status": "completed"
    },
    "tags": []
   },
   "outputs": [
    {
     "name": "stdout",
     "output_type": "stream",
     "text": [
      "Took:453.40s\n",
      "Current time in IST: 2023-04-17 16:33:29 IST+0530\n"
     ]
    }
   ],
   "source": [
    "# End Timing Code \n",
    "print(\"Took:{0:.2f}s\".format(time.time() - t0))\n",
    "now_utc = datetime.datetime.utcnow()\n",
    "ist_tz = pytz.timezone('Asia/Kolkata')\n",
    "now_ist = now_utc.astimezone(ist_tz)\n",
    "print(\"Current time in IST:\", now_ist.strftime(\"%Y-%m-%d %H:%M:%S %Z%z\"))"
   ]
  }
 ],
 "metadata": {
  "kernelspec": {
   "display_name": "Python 3",
   "language": "python",
   "name": "python3"
  },
  "language_info": {
   "codemirror_mode": {
    "name": "ipython",
    "version": 3
   },
   "file_extension": ".py",
   "mimetype": "text/x-python",
   "name": "python",
   "nbconvert_exporter": "python",
   "pygments_lexer": "ipython3",
   "version": "3.7.12"
  },
  "papermill": {
   "default_parameters": {},
   "duration": 466.37884,
   "end_time": "2023-04-17T11:03:32.486962",
   "environment_variables": {},
   "exception": null,
   "input_path": "__notebook__.ipynb",
   "output_path": "__notebook__.ipynb",
   "parameters": {},
   "start_time": "2023-04-17T10:55:46.108122",
   "version": "2.4.0"
  }
 },
 "nbformat": 4,
 "nbformat_minor": 5
}
