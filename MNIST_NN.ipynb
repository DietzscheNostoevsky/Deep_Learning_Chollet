{
 "cells": [
  {
   "attachments": {},
   "cell_type": "markdown",
   "metadata": {},
   "source": [
    "# Create a neural network to solve the MNIST problem using Keras using ChatGPT"
   ]
  },
  {
   "cell_type": "code",
   "execution_count": 1,
   "metadata": {},
   "outputs": [
    {
     "name": "stderr",
     "output_type": "stream",
     "text": [
      "2023-02-17 09:20:13.488303: I tensorflow/core/platform/cpu_feature_guard.cc:193] This TensorFlow binary is optimized with oneAPI Deep Neural Network Library (oneDNN) to use the following CPU instructions in performance-critical operations:  AVX2 FMA\n",
      "To enable them in other operations, rebuild TensorFlow with the appropriate compiler flags.\n"
     ]
    },
    {
     "name": "stdout",
     "output_type": "stream",
     "text": [
      "Epoch 1/10\n",
      "1875/1875 [==============================] - 99s 52ms/step - loss: 0.1448 - accuracy: 0.9554 - val_loss: 0.0758 - val_accuracy: 0.9770\n",
      "Epoch 2/10\n",
      "1875/1875 [==============================] - 96s 51ms/step - loss: 0.0491 - accuracy: 0.9854 - val_loss: 0.0624 - val_accuracy: 0.9780\n",
      "Epoch 3/10\n",
      "1875/1875 [==============================] - 103s 55ms/step - loss: 0.0312 - accuracy: 0.9904 - val_loss: 0.0495 - val_accuracy: 0.9840\n",
      "Epoch 4/10\n",
      "1875/1875 [==============================] - 105s 56ms/step - loss: 0.0232 - accuracy: 0.9929 - val_loss: 0.0505 - val_accuracy: 0.9835\n",
      "Epoch 5/10\n",
      "1875/1875 [==============================] - 104s 55ms/step - loss: 0.0158 - accuracy: 0.9949 - val_loss: 0.0517 - val_accuracy: 0.9840\n",
      "Epoch 6/10\n",
      "1875/1875 [==============================] - 104s 55ms/step - loss: 0.0115 - accuracy: 0.9965 - val_loss: 0.0506 - val_accuracy: 0.9845\n",
      "Epoch 7/10\n",
      "1875/1875 [==============================] - 103s 55ms/step - loss: 0.0092 - accuracy: 0.9972 - val_loss: 0.0541 - val_accuracy: 0.9830\n",
      "Epoch 8/10\n",
      "1875/1875 [==============================] - 103s 55ms/step - loss: 0.0064 - accuracy: 0.9980 - val_loss: 0.0731 - val_accuracy: 0.9820\n",
      "Epoch 9/10\n",
      "1875/1875 [==============================] - 105s 56ms/step - loss: 0.0055 - accuracy: 0.9984 - val_loss: 0.0809 - val_accuracy: 0.9845\n",
      "Epoch 10/10\n",
      "1875/1875 [==============================] - 102s 54ms/step - loss: 0.0047 - accuracy: 0.9984 - val_loss: 0.0661 - val_accuracy: 0.9800\n"
     ]
    }
   ],
   "source": [
    "import numpy as np\n",
    "import matplotlib.pyplot as plt\n",
    "\n",
    "from keras.datasets import mnist\n",
    "from keras.models import Sequential\n",
    "from keras.layers import Dense, Dropout, Flatten, Conv2D, MaxPooling2D\n",
    "\n",
    "# load the MNIST dataset\n",
    "(X_train, y_train), (X_test, y_test) = mnist.load_data()\n",
    "\n",
    "# normalize the pixel values (0-255) to be between 0 and 1\n",
    "X_train = X_train.astype(\"float32\") / 255\n",
    "X_test = X_test.astype(\"float32\") / 255\n",
    "\n",
    "# define the model architecture\n",
    "model = Sequential()\n",
    "model.add(Conv2D(32, kernel_size=(3, 3),\n",
    "          activation='relu', input_shape=(28, 28, 1)))\n",
    "model.add(MaxPooling2D(pool_size=(2, 2)))\n",
    "model.add(Flatten())\n",
    "model.add(Dense(512, activation='relu'))\n",
    "model.add(Dropout(0.2))\n",
    "model.add(Dense(10, activation='softmax'))\n",
    "\n",
    "# compile the model\n",
    "model.compile(optimizer='rmsprop',\n",
    "              loss='sparse_categorical_crossentropy', metrics=['accuracy'])\n",
    "\n",
    "X_val = X_test[:2000]\n",
    "y_val = y_test[:2000]\n",
    "X_test = X_test[2000:]\n",
    "y_test = y_test[2000:]\n",
    "\n",
    "# train the model\n",
    "history = model.fit(X_train, y_train, batch_size=32,\n",
    "                    epochs=10, validation_data=(X_val, y_val))\n"
   ]
  },
  {
   "cell_type": "code",
   "execution_count": 2,
   "metadata": {},
   "outputs": [
    {
     "name": "stdout",
     "output_type": "stream",
     "text": [
      "250/250 [==============================] - 4s 15ms/step - loss: 0.0396 - accuracy: 0.9912\n",
      "Test accuracy: 0.9912499785423279\n"
     ]
    }
   ],
   "source": [
    "test_loss, test_acc = model.evaluate(X_test, y_test)\n",
    "print('Test accuracy:', test_acc)\n"
   ]
  }
 ],
 "metadata": {
  "kernelspec": {
   "display_name": "Python 3",
   "language": "python",
   "name": "python3"
  },
  "language_info": {
   "codemirror_mode": {
    "name": "ipython",
    "version": 3
   },
   "file_extension": ".py",
   "mimetype": "text/x-python",
   "name": "python",
   "nbconvert_exporter": "python",
   "pygments_lexer": "ipython3",
   "version": "3.9.6"
  },
  "orig_nbformat": 4,
  "vscode": {
   "interpreter": {
    "hash": "aee8b7b246df8f9039afb4144a1f6fd8d2ca17a180786b69acc140d282b71a49"
   }
  }
 },
 "nbformat": 4,
 "nbformat_minor": 2
}
