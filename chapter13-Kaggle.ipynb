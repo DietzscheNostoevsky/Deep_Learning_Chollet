{
 "cells": [
  {
   "cell_type": "markdown",
   "id": "3520dc60",
   "metadata": {
    "papermill": {
     "duration": 0.007136,
     "end_time": "2023-04-16T17:32:59.528661",
     "exception": false,
     "start_time": "2023-04-16T17:32:59.521525",
     "status": "completed"
    },
    "tags": []
   },
   "source": [
    "This is a companion notebook for the book [Deep Learning with Python, Second Edition](https://www.manning.com/books/deep-learning-with-python-second-edition?a_aid=keras&a_bid=76564dff). For readability, it only contains runnable code blocks and section titles, and omits everything else in the book: text paragraphs, figures, and pseudocode.\n",
    "\n",
    "**If you want to be able to follow what's going on, I recommend reading the notebook side by side with your copy of the book.**\n",
    "\n",
    "This notebook was generated for TensorFlow 2.6."
   ]
  },
  {
   "cell_type": "code",
   "execution_count": 1,
   "id": "52479034",
   "metadata": {
    "execution": {
     "iopub.execute_input": "2023-04-16T17:32:59.542712Z",
     "iopub.status.busy": "2023-04-16T17:32:59.541588Z",
     "iopub.status.idle": "2023-04-16T17:32:59.554629Z",
     "shell.execute_reply": "2023-04-16T17:32:59.553303Z"
    },
    "papermill": {
     "duration": 0.022314,
     "end_time": "2023-04-16T17:32:59.556794",
     "exception": false,
     "start_time": "2023-04-16T17:32:59.534480",
     "status": "completed"
    },
    "tags": []
   },
   "outputs": [
    {
     "name": "stdout",
     "output_type": "stream",
     "text": [
      "Current time: 2023-04-16 17:32:59.550955\n"
     ]
    }
   ],
   "source": [
    "# Timing Code \n",
    "import time\n",
    "import datetime\n",
    "t0 = time.time()\n",
    "now = datetime.datetime.now()\n",
    "print(\"Current time:\", now)"
   ]
  },
  {
   "cell_type": "markdown",
   "id": "39a80a14",
   "metadata": {
    "papermill": {
     "duration": 0.005402,
     "end_time": "2023-04-16T17:32:59.567923",
     "exception": false,
     "start_time": "2023-04-16T17:32:59.562521",
     "status": "completed"
    },
    "tags": []
   },
   "source": [
    "# Best practices for the real world"
   ]
  },
  {
   "cell_type": "markdown",
   "id": "b49742b7",
   "metadata": {
    "papermill": {
     "duration": 0.005446,
     "end_time": "2023-04-16T17:32:59.578935",
     "exception": false,
     "start_time": "2023-04-16T17:32:59.573489",
     "status": "completed"
    },
    "tags": []
   },
   "source": [
    "## Getting the most out of your models"
   ]
  },
  {
   "cell_type": "markdown",
   "id": "75a4d8fb",
   "metadata": {
    "papermill": {
     "duration": 0.00558,
     "end_time": "2023-04-16T17:32:59.590078",
     "exception": false,
     "start_time": "2023-04-16T17:32:59.584498",
     "status": "completed"
    },
    "tags": []
   },
   "source": [
    "### Hyperparameter optimization"
   ]
  },
  {
   "cell_type": "markdown",
   "id": "f47c2ea2",
   "metadata": {
    "papermill": {
     "duration": 0.005369,
     "end_time": "2023-04-16T17:32:59.601033",
     "exception": false,
     "start_time": "2023-04-16T17:32:59.595664",
     "status": "completed"
    },
    "tags": []
   },
   "source": [
    "#### Using KerasTuner"
   ]
  },
  {
   "cell_type": "code",
   "execution_count": 2,
   "id": "fd5738f0",
   "metadata": {
    "execution": {
     "iopub.execute_input": "2023-04-16T17:32:59.613822Z",
     "iopub.status.busy": "2023-04-16T17:32:59.613224Z",
     "iopub.status.idle": "2023-04-16T17:33:09.932600Z",
     "shell.execute_reply": "2023-04-16T17:33:09.931364Z"
    },
    "papermill": {
     "duration": 10.328607,
     "end_time": "2023-04-16T17:33:09.935212",
     "exception": false,
     "start_time": "2023-04-16T17:32:59.606605",
     "status": "completed"
    },
    "tags": []
   },
   "outputs": [
    {
     "name": "stdout",
     "output_type": "stream",
     "text": [
      "\u001b[33mWARNING: Running pip as the 'root' user can result in broken permissions and conflicting behaviour with the system package manager. It is recommended to use a virtual environment instead: https://pip.pypa.io/warnings/venv\u001b[0m\u001b[33m\r\n",
      "\u001b[0m"
     ]
    }
   ],
   "source": [
    "!pip install keras-tuner -q"
   ]
  },
  {
   "cell_type": "markdown",
   "id": "bafa0641",
   "metadata": {
    "papermill": {
     "duration": 0.006486,
     "end_time": "2023-04-16T17:33:09.947948",
     "exception": false,
     "start_time": "2023-04-16T17:33:09.941462",
     "status": "completed"
    },
    "tags": []
   },
   "source": [
    "**A KerasTuner model-building function**"
   ]
  },
  {
   "cell_type": "code",
   "execution_count": 3,
   "id": "7e3e705d",
   "metadata": {
    "execution": {
     "iopub.execute_input": "2023-04-16T17:33:09.961677Z",
     "iopub.status.busy": "2023-04-16T17:33:09.961275Z",
     "iopub.status.idle": "2023-04-16T17:33:17.004096Z",
     "shell.execute_reply": "2023-04-16T17:33:17.002972Z"
    },
    "papermill": {
     "duration": 7.05278,
     "end_time": "2023-04-16T17:33:17.006706",
     "exception": false,
     "start_time": "2023-04-16T17:33:09.953926",
     "status": "completed"
    },
    "tags": []
   },
   "outputs": [],
   "source": [
    "from tensorflow import keras\n",
    "from tensorflow.keras import layers\n",
    "\n",
    "def build_model(hp):\n",
    "    units = hp.Int(name=\"units\", min_value=16, max_value=64, step=16)\n",
    "    model = keras.Sequential([\n",
    "        layers.Dense(units, activation=\"relu\"),\n",
    "        layers.Dense(10, activation=\"softmax\")\n",
    "    ])\n",
    "    optimizer = hp.Choice(name=\"optimizer\", values=[\"rmsprop\", \"adam\"])\n",
    "    model.compile(\n",
    "        optimizer=optimizer,\n",
    "        loss=\"sparse_categorical_crossentropy\",\n",
    "        metrics=[\"accuracy\"])\n",
    "    return model"
   ]
  },
  {
   "cell_type": "markdown",
   "id": "2b7454c6",
   "metadata": {
    "papermill": {
     "duration": 0.005631,
     "end_time": "2023-04-16T17:33:17.018419",
     "exception": false,
     "start_time": "2023-04-16T17:33:17.012788",
     "status": "completed"
    },
    "tags": []
   },
   "source": [
    "**A KerasTuner `HyperModel`**"
   ]
  },
  {
   "cell_type": "code",
   "execution_count": 4,
   "id": "195f62d4",
   "metadata": {
    "execution": {
     "iopub.execute_input": "2023-04-16T17:33:17.031643Z",
     "iopub.status.busy": "2023-04-16T17:33:17.030982Z",
     "iopub.status.idle": "2023-04-16T17:33:17.724042Z",
     "shell.execute_reply": "2023-04-16T17:33:17.722957Z"
    },
    "papermill": {
     "duration": 0.702427,
     "end_time": "2023-04-16T17:33:17.726489",
     "exception": false,
     "start_time": "2023-04-16T17:33:17.024062",
     "status": "completed"
    },
    "tags": []
   },
   "outputs": [
    {
     "name": "stderr",
     "output_type": "stream",
     "text": [
      "/opt/conda/lib/python3.7/site-packages/ipykernel_launcher.py:1: DeprecationWarning: `import kerastuner` is deprecated, please use `import keras_tuner`.\n",
      "  \"\"\"Entry point for launching an IPython kernel.\n"
     ]
    }
   ],
   "source": [
    "import kerastuner as kt\n",
    "\n",
    "class SimpleMLP(kt.HyperModel):\n",
    "    def __init__(self, num_classes):\n",
    "        self.num_classes = num_classes\n",
    "\n",
    "    def build(self, hp):\n",
    "        units = hp.Int(name=\"units\", min_value=16, max_value=64, step=16)\n",
    "        model = keras.Sequential([\n",
    "            layers.Dense(units, activation=\"relu\"),\n",
    "            layers.Dense(self.num_classes, activation=\"softmax\")\n",
    "        ])\n",
    "        optimizer = hp.Choice(name=\"optimizer\", values=[\"rmsprop\", \"adam\"])\n",
    "        model.compile(\n",
    "            optimizer=optimizer,\n",
    "            loss=\"sparse_categorical_crossentropy\",\n",
    "            metrics=[\"accuracy\"])\n",
    "        return model\n",
    "\n",
    "hypermodel = SimpleMLP(num_classes=10)"
   ]
  },
  {
   "cell_type": "code",
   "execution_count": 5,
   "id": "76870ae0",
   "metadata": {
    "execution": {
     "iopub.execute_input": "2023-04-16T17:33:17.740957Z",
     "iopub.status.busy": "2023-04-16T17:33:17.739258Z",
     "iopub.status.idle": "2023-04-16T17:33:20.270899Z",
     "shell.execute_reply": "2023-04-16T17:33:20.269823Z"
    },
    "papermill": {
     "duration": 2.541369,
     "end_time": "2023-04-16T17:33:20.273734",
     "exception": false,
     "start_time": "2023-04-16T17:33:17.732365",
     "status": "completed"
    },
    "tags": []
   },
   "outputs": [],
   "source": [
    "tuner = kt.BayesianOptimization(\n",
    "    build_model,\n",
    "    objective=\"val_accuracy\",\n",
    "    max_trials=100,\n",
    "    executions_per_trial=2,\n",
    "    directory=\"mnist_kt_test\",\n",
    "    overwrite=True,\n",
    ")"
   ]
  },
  {
   "cell_type": "code",
   "execution_count": 6,
   "id": "7a7048bf",
   "metadata": {
    "execution": {
     "iopub.execute_input": "2023-04-16T17:33:20.287049Z",
     "iopub.status.busy": "2023-04-16T17:33:20.286747Z",
     "iopub.status.idle": "2023-04-16T17:33:20.292229Z",
     "shell.execute_reply": "2023-04-16T17:33:20.291131Z"
    },
    "papermill": {
     "duration": 0.016188,
     "end_time": "2023-04-16T17:33:20.296138",
     "exception": false,
     "start_time": "2023-04-16T17:33:20.279950",
     "status": "completed"
    },
    "tags": []
   },
   "outputs": [
    {
     "name": "stdout",
     "output_type": "stream",
     "text": [
      "Search space summary\n",
      "Default search space size: 2\n",
      "units (Int)\n",
      "{'default': None, 'conditions': [], 'min_value': 16, 'max_value': 64, 'step': 16, 'sampling': None}\n",
      "optimizer (Choice)\n",
      "{'default': 'rmsprop', 'conditions': [], 'values': ['rmsprop', 'adam'], 'ordered': False}\n"
     ]
    }
   ],
   "source": [
    "tuner.search_space_summary()"
   ]
  },
  {
   "cell_type": "code",
   "execution_count": 7,
   "id": "27475ab3",
   "metadata": {
    "execution": {
     "iopub.execute_input": "2023-04-16T17:33:20.309126Z",
     "iopub.status.busy": "2023-04-16T17:33:20.308860Z",
     "iopub.status.idle": "2023-04-16T19:26:48.158353Z",
     "shell.execute_reply": "2023-04-16T19:26:48.157368Z"
    },
    "papermill": {
     "duration": 6807.858619,
     "end_time": "2023-04-16T19:26:48.160440",
     "exception": false,
     "start_time": "2023-04-16T17:33:20.301821",
     "status": "completed"
    },
    "tags": []
   },
   "outputs": [
    {
     "name": "stdout",
     "output_type": "stream",
     "text": [
      "Trial 100 Complete [00h 00m 52s]\n",
      "val_accuracy: 0.97325000166893\n",
      "\n",
      "Best val_accuracy So Far: 0.9760999977588654\n",
      "Total elapsed time: 01h 53m 26s\n"
     ]
    }
   ],
   "source": [
    "(x_train, y_train), (x_test, y_test) = keras.datasets.mnist.load_data()\n",
    "x_train = x_train.reshape((-1, 28 * 28)).astype(\"float32\") / 255\n",
    "x_test = x_test.reshape((-1, 28 * 28)).astype(\"float32\") / 255\n",
    "x_train_full = x_train[:]\n",
    "y_train_full = y_train[:]\n",
    "num_val_samples = 10000\n",
    "x_train, x_val = x_train[:-num_val_samples], x_train[-num_val_samples:]\n",
    "y_train, y_val = y_train[:-num_val_samples], y_train[-num_val_samples:]\n",
    "callbacks = [\n",
    "    keras.callbacks.EarlyStopping(monitor=\"val_loss\", patience=5),\n",
    "]\n",
    "tuner.search(\n",
    "    x_train, y_train,\n",
    "    batch_size=128,\n",
    "    epochs=100,\n",
    "    validation_data=(x_val, y_val),\n",
    "    callbacks=callbacks,\n",
    "    verbose=2,\n",
    ")"
   ]
  },
  {
   "cell_type": "markdown",
   "id": "4966fb51",
   "metadata": {
    "papermill": {
     "duration": 0.005747,
     "end_time": "2023-04-16T19:26:48.172289",
     "exception": false,
     "start_time": "2023-04-16T19:26:48.166542",
     "status": "completed"
    },
    "tags": []
   },
   "source": [
    "**Querying the best hyperparameter configurations**"
   ]
  },
  {
   "cell_type": "code",
   "execution_count": 8,
   "id": "260ed2de",
   "metadata": {
    "execution": {
     "iopub.execute_input": "2023-04-16T19:26:48.185841Z",
     "iopub.status.busy": "2023-04-16T19:26:48.184998Z",
     "iopub.status.idle": "2023-04-16T19:26:48.190159Z",
     "shell.execute_reply": "2023-04-16T19:26:48.189120Z"
    },
    "papermill": {
     "duration": 0.014037,
     "end_time": "2023-04-16T19:26:48.192264",
     "exception": false,
     "start_time": "2023-04-16T19:26:48.178227",
     "status": "completed"
    },
    "tags": []
   },
   "outputs": [],
   "source": [
    "top_n = 4\n",
    "best_hps = tuner.get_best_hyperparameters(top_n)"
   ]
  },
  {
   "cell_type": "code",
   "execution_count": 9,
   "id": "ba2b3835",
   "metadata": {
    "execution": {
     "iopub.execute_input": "2023-04-16T19:26:48.205225Z",
     "iopub.status.busy": "2023-04-16T19:26:48.204943Z",
     "iopub.status.idle": "2023-04-16T19:26:48.211198Z",
     "shell.execute_reply": "2023-04-16T19:26:48.210083Z"
    },
    "papermill": {
     "duration": 0.015605,
     "end_time": "2023-04-16T19:26:48.213658",
     "exception": false,
     "start_time": "2023-04-16T19:26:48.198053",
     "status": "completed"
    },
    "tags": []
   },
   "outputs": [],
   "source": [
    "def get_best_epoch(hp):\n",
    "    model = build_model(hp)\n",
    "    callbacks=[\n",
    "        keras.callbacks.EarlyStopping(\n",
    "            monitor=\"val_loss\", mode=\"min\", patience=10)\n",
    "    ]\n",
    "    history = model.fit(\n",
    "        x_train, y_train,\n",
    "        validation_data=(x_val, y_val),\n",
    "        epochs=100,\n",
    "        batch_size=128,\n",
    "        callbacks=callbacks)\n",
    "    val_loss_per_epoch = history.history[\"val_loss\"]\n",
    "    best_epoch = val_loss_per_epoch.index(min(val_loss_per_epoch)) + 1\n",
    "    print(f\"Best epoch: {best_epoch}\")\n",
    "    return best_epoch"
   ]
  },
  {
   "cell_type": "code",
   "execution_count": 10,
   "id": "4645250e",
   "metadata": {
    "execution": {
     "iopub.execute_input": "2023-04-16T19:26:48.226506Z",
     "iopub.status.busy": "2023-04-16T19:26:48.226241Z",
     "iopub.status.idle": "2023-04-16T19:31:46.539115Z",
     "shell.execute_reply": "2023-04-16T19:31:46.538074Z"
    },
    "papermill": {
     "duration": 298.321996,
     "end_time": "2023-04-16T19:31:46.541526",
     "exception": false,
     "start_time": "2023-04-16T19:26:48.219530",
     "status": "completed"
    },
    "tags": []
   },
   "outputs": [
    {
     "name": "stdout",
     "output_type": "stream",
     "text": [
      "Epoch 1/100\n",
      "391/391 [==============================] - 2s 4ms/step - loss: 0.4652 - accuracy: 0.8728 - val_loss: 0.2511 - val_accuracy: 0.9292\n",
      "Epoch 2/100\n",
      "391/391 [==============================] - 1s 3ms/step - loss: 0.2302 - accuracy: 0.9346 - val_loss: 0.1855 - val_accuracy: 0.9496\n",
      "Epoch 3/100\n",
      "391/391 [==============================] - 1s 3ms/step - loss: 0.1788 - accuracy: 0.9489 - val_loss: 0.1602 - val_accuracy: 0.9548\n",
      "Epoch 4/100\n",
      "391/391 [==============================] - 1s 4ms/step - loss: 0.1464 - accuracy: 0.9588 - val_loss: 0.1358 - val_accuracy: 0.9630\n",
      "Epoch 5/100\n",
      "391/391 [==============================] - 1s 4ms/step - loss: 0.1248 - accuracy: 0.9636 - val_loss: 0.1238 - val_accuracy: 0.9661\n",
      "Epoch 6/100\n",
      "391/391 [==============================] - 1s 4ms/step - loss: 0.1072 - accuracy: 0.9686 - val_loss: 0.1183 - val_accuracy: 0.9660\n",
      "Epoch 7/100\n",
      "391/391 [==============================] - 1s 3ms/step - loss: 0.0941 - accuracy: 0.9732 - val_loss: 0.1115 - val_accuracy: 0.9682\n",
      "Epoch 8/100\n",
      "391/391 [==============================] - 1s 3ms/step - loss: 0.0839 - accuracy: 0.9763 - val_loss: 0.1063 - val_accuracy: 0.9699\n",
      "Epoch 9/100\n",
      "391/391 [==============================] - 1s 3ms/step - loss: 0.0752 - accuracy: 0.9775 - val_loss: 0.1030 - val_accuracy: 0.9699\n",
      "Epoch 10/100\n",
      "391/391 [==============================] - 1s 3ms/step - loss: 0.0680 - accuracy: 0.9804 - val_loss: 0.1024 - val_accuracy: 0.9716\n",
      "Epoch 11/100\n",
      "391/391 [==============================] - 1s 3ms/step - loss: 0.0618 - accuracy: 0.9821 - val_loss: 0.1008 - val_accuracy: 0.9702\n",
      "Epoch 12/100\n",
      "391/391 [==============================] - 1s 4ms/step - loss: 0.0546 - accuracy: 0.9846 - val_loss: 0.0957 - val_accuracy: 0.9727\n",
      "Epoch 13/100\n",
      "391/391 [==============================] - 1s 3ms/step - loss: 0.0502 - accuracy: 0.9855 - val_loss: 0.0939 - val_accuracy: 0.9737\n",
      "Epoch 14/100\n",
      "391/391 [==============================] - 1s 3ms/step - loss: 0.0453 - accuracy: 0.9869 - val_loss: 0.0936 - val_accuracy: 0.9716\n",
      "Epoch 15/100\n",
      "391/391 [==============================] - 1s 4ms/step - loss: 0.0413 - accuracy: 0.9887 - val_loss: 0.0966 - val_accuracy: 0.9721\n",
      "Epoch 16/100\n",
      "391/391 [==============================] - 1s 3ms/step - loss: 0.0375 - accuracy: 0.9896 - val_loss: 0.0954 - val_accuracy: 0.9731\n",
      "Epoch 17/100\n",
      "391/391 [==============================] - 1s 3ms/step - loss: 0.0333 - accuracy: 0.9915 - val_loss: 0.0976 - val_accuracy: 0.9735\n",
      "Epoch 18/100\n",
      "391/391 [==============================] - 2s 4ms/step - loss: 0.0303 - accuracy: 0.9923 - val_loss: 0.0968 - val_accuracy: 0.9735\n",
      "Epoch 19/100\n",
      "391/391 [==============================] - 1s 3ms/step - loss: 0.0272 - accuracy: 0.9934 - val_loss: 0.0952 - val_accuracy: 0.9735\n",
      "Epoch 20/100\n",
      "391/391 [==============================] - 1s 3ms/step - loss: 0.0253 - accuracy: 0.9936 - val_loss: 0.1001 - val_accuracy: 0.9729\n",
      "Epoch 21/100\n",
      "391/391 [==============================] - 1s 3ms/step - loss: 0.0232 - accuracy: 0.9942 - val_loss: 0.1032 - val_accuracy: 0.9739\n",
      "Epoch 22/100\n",
      "391/391 [==============================] - 1s 4ms/step - loss: 0.0203 - accuracy: 0.9956 - val_loss: 0.0989 - val_accuracy: 0.9737\n",
      "Epoch 23/100\n",
      "391/391 [==============================] - 1s 3ms/step - loss: 0.0190 - accuracy: 0.9958 - val_loss: 0.1008 - val_accuracy: 0.9741\n",
      "Epoch 24/100\n",
      "391/391 [==============================] - 1s 4ms/step - loss: 0.0167 - accuracy: 0.9968 - val_loss: 0.1006 - val_accuracy: 0.9744\n",
      "Best epoch: 14\n",
      "Epoch 1/16\n",
      "469/469 [==============================] - 2s 3ms/step - loss: 0.4198 - accuracy: 0.8846\n",
      "Epoch 2/16\n",
      "469/469 [==============================] - 1s 3ms/step - loss: 0.2058 - accuracy: 0.9415\n",
      "Epoch 3/16\n",
      "469/469 [==============================] - 1s 3ms/step - loss: 0.1573 - accuracy: 0.9551\n",
      "Epoch 4/16\n",
      "469/469 [==============================] - 1s 3ms/step - loss: 0.1275 - accuracy: 0.9633\n",
      "Epoch 5/16\n",
      "469/469 [==============================] - 1s 3ms/step - loss: 0.1066 - accuracy: 0.9691\n",
      "Epoch 6/16\n",
      "469/469 [==============================] - 1s 3ms/step - loss: 0.0918 - accuracy: 0.9734\n",
      "Epoch 7/16\n",
      "469/469 [==============================] - 1s 3ms/step - loss: 0.0804 - accuracy: 0.9764\n",
      "Epoch 8/16\n",
      "469/469 [==============================] - 1s 3ms/step - loss: 0.0707 - accuracy: 0.9795\n",
      "Epoch 9/16\n",
      "469/469 [==============================] - 1s 3ms/step - loss: 0.0626 - accuracy: 0.9816\n",
      "Epoch 10/16\n",
      "469/469 [==============================] - 1s 3ms/step - loss: 0.0561 - accuracy: 0.9838\n",
      "Epoch 11/16\n",
      "469/469 [==============================] - 2s 3ms/step - loss: 0.0514 - accuracy: 0.9847\n",
      "Epoch 12/16\n",
      "469/469 [==============================] - 1s 3ms/step - loss: 0.0451 - accuracy: 0.9872\n",
      "Epoch 13/16\n",
      "469/469 [==============================] - 1s 3ms/step - loss: 0.0416 - accuracy: 0.9878\n",
      "Epoch 14/16\n",
      "469/469 [==============================] - 1s 3ms/step - loss: 0.0375 - accuracy: 0.9895\n",
      "Epoch 15/16\n",
      "469/469 [==============================] - 1s 3ms/step - loss: 0.0343 - accuracy: 0.9904\n",
      "Epoch 16/16\n",
      "469/469 [==============================] - 1s 3ms/step - loss: 0.0309 - accuracy: 0.9918\n",
      "313/313 [==============================] - 1s 2ms/step - loss: 0.0830 - accuracy: 0.9756\n",
      "Epoch 1/100\n",
      "391/391 [==============================] - 2s 4ms/step - loss: 0.4697 - accuracy: 0.8725 - val_loss: 0.2413 - val_accuracy: 0.9332\n",
      "Epoch 2/100\n",
      "391/391 [==============================] - 1s 4ms/step - loss: 0.2233 - accuracy: 0.9362 - val_loss: 0.1903 - val_accuracy: 0.9480\n",
      "Epoch 3/100\n",
      "391/391 [==============================] - 1s 3ms/step - loss: 0.1747 - accuracy: 0.9505 - val_loss: 0.1595 - val_accuracy: 0.9564\n",
      "Epoch 4/100\n",
      "391/391 [==============================] - 1s 3ms/step - loss: 0.1452 - accuracy: 0.9589 - val_loss: 0.1395 - val_accuracy: 0.9612\n",
      "Epoch 5/100\n",
      "391/391 [==============================] - 1s 4ms/step - loss: 0.1233 - accuracy: 0.9644 - val_loss: 0.1273 - val_accuracy: 0.9650\n",
      "Epoch 6/100\n",
      "391/391 [==============================] - 1s 3ms/step - loss: 0.1071 - accuracy: 0.9697 - val_loss: 0.1221 - val_accuracy: 0.9656\n",
      "Epoch 7/100\n",
      "391/391 [==============================] - 1s 3ms/step - loss: 0.0955 - accuracy: 0.9723 - val_loss: 0.1112 - val_accuracy: 0.9702\n",
      "Epoch 8/100\n",
      "391/391 [==============================] - 1s 3ms/step - loss: 0.0851 - accuracy: 0.9759 - val_loss: 0.1116 - val_accuracy: 0.9673\n",
      "Epoch 9/100\n",
      "391/391 [==============================] - 1s 3ms/step - loss: 0.0766 - accuracy: 0.9778 - val_loss: 0.1024 - val_accuracy: 0.9709\n",
      "Epoch 10/100\n",
      "391/391 [==============================] - 1s 3ms/step - loss: 0.0691 - accuracy: 0.9805 - val_loss: 0.0983 - val_accuracy: 0.9718\n",
      "Epoch 11/100\n",
      "391/391 [==============================] - 1s 3ms/step - loss: 0.0625 - accuracy: 0.9819 - val_loss: 0.0999 - val_accuracy: 0.9722\n",
      "Epoch 12/100\n",
      "391/391 [==============================] - 1s 3ms/step - loss: 0.0568 - accuracy: 0.9837 - val_loss: 0.0959 - val_accuracy: 0.9721\n",
      "Epoch 13/100\n",
      "391/391 [==============================] - 1s 3ms/step - loss: 0.0517 - accuracy: 0.9855 - val_loss: 0.0953 - val_accuracy: 0.9717\n",
      "Epoch 14/100\n",
      "391/391 [==============================] - 1s 3ms/step - loss: 0.0467 - accuracy: 0.9872 - val_loss: 0.0931 - val_accuracy: 0.9732\n",
      "Epoch 15/100\n",
      "391/391 [==============================] - 1s 3ms/step - loss: 0.0425 - accuracy: 0.9882 - val_loss: 0.0951 - val_accuracy: 0.9735\n",
      "Epoch 16/100\n",
      "391/391 [==============================] - 1s 4ms/step - loss: 0.0380 - accuracy: 0.9895 - val_loss: 0.0972 - val_accuracy: 0.9734\n",
      "Epoch 17/100\n",
      "391/391 [==============================] - 1s 3ms/step - loss: 0.0341 - accuracy: 0.9915 - val_loss: 0.0935 - val_accuracy: 0.9720\n",
      "Epoch 18/100\n",
      "391/391 [==============================] - 2s 4ms/step - loss: 0.0318 - accuracy: 0.9917 - val_loss: 0.0917 - val_accuracy: 0.9740\n",
      "Epoch 19/100\n",
      "391/391 [==============================] - 1s 3ms/step - loss: 0.0283 - accuracy: 0.9928 - val_loss: 0.0957 - val_accuracy: 0.9729\n",
      "Epoch 20/100\n",
      "391/391 [==============================] - 1s 3ms/step - loss: 0.0260 - accuracy: 0.9941 - val_loss: 0.0965 - val_accuracy: 0.9742\n",
      "Epoch 21/100\n",
      "391/391 [==============================] - 1s 3ms/step - loss: 0.0234 - accuracy: 0.9948 - val_loss: 0.0965 - val_accuracy: 0.9739\n",
      "Epoch 22/100\n",
      "391/391 [==============================] - 1s 3ms/step - loss: 0.0216 - accuracy: 0.9948 - val_loss: 0.0984 - val_accuracy: 0.9730\n",
      "Epoch 23/100\n",
      "391/391 [==============================] - 1s 3ms/step - loss: 0.0199 - accuracy: 0.9953 - val_loss: 0.0983 - val_accuracy: 0.9740\n",
      "Epoch 24/100\n",
      "391/391 [==============================] - 1s 3ms/step - loss: 0.0178 - accuracy: 0.9961 - val_loss: 0.1036 - val_accuracy: 0.9732\n",
      "Epoch 25/100\n",
      "391/391 [==============================] - 1s 3ms/step - loss: 0.0168 - accuracy: 0.9965 - val_loss: 0.0977 - val_accuracy: 0.9750\n",
      "Epoch 26/100\n",
      "391/391 [==============================] - 1s 4ms/step - loss: 0.0139 - accuracy: 0.9976 - val_loss: 0.0994 - val_accuracy: 0.9738\n",
      "Epoch 27/100\n",
      "391/391 [==============================] - 1s 4ms/step - loss: 0.0132 - accuracy: 0.9977 - val_loss: 0.1107 - val_accuracy: 0.9729\n",
      "Epoch 28/100\n",
      "391/391 [==============================] - 1s 4ms/step - loss: 0.0121 - accuracy: 0.9980 - val_loss: 0.1017 - val_accuracy: 0.9753\n",
      "Best epoch: 18\n",
      "Epoch 1/21\n",
      "469/469 [==============================] - 2s 3ms/step - loss: 0.4206 - accuracy: 0.8861\n",
      "Epoch 2/21\n",
      "469/469 [==============================] - 1s 3ms/step - loss: 0.2048 - accuracy: 0.9412\n",
      "Epoch 3/21\n",
      "469/469 [==============================] - 1s 3ms/step - loss: 0.1570 - accuracy: 0.9550\n",
      "Epoch 4/21\n",
      "469/469 [==============================] - 1s 3ms/step - loss: 0.1274 - accuracy: 0.9630\n",
      "Epoch 5/21\n",
      "469/469 [==============================] - 1s 3ms/step - loss: 0.1070 - accuracy: 0.9693\n",
      "Epoch 6/21\n",
      "469/469 [==============================] - 1s 3ms/step - loss: 0.0920 - accuracy: 0.9735\n",
      "Epoch 7/21\n",
      "469/469 [==============================] - 1s 3ms/step - loss: 0.0806 - accuracy: 0.9773\n",
      "Epoch 8/21\n",
      "469/469 [==============================] - 1s 3ms/step - loss: 0.0712 - accuracy: 0.9798\n",
      "Epoch 9/21\n",
      "469/469 [==============================] - 1s 3ms/step - loss: 0.0631 - accuracy: 0.9823\n",
      "Epoch 10/21\n",
      "469/469 [==============================] - 2s 4ms/step - loss: 0.0564 - accuracy: 0.9839\n",
      "Epoch 11/21\n",
      "469/469 [==============================] - 1s 3ms/step - loss: 0.0510 - accuracy: 0.9852\n",
      "Epoch 12/21\n",
      "469/469 [==============================] - 1s 3ms/step - loss: 0.0456 - accuracy: 0.9866\n",
      "Epoch 13/21\n",
      "469/469 [==============================] - 1s 3ms/step - loss: 0.0411 - accuracy: 0.9888\n",
      "Epoch 14/21\n",
      "469/469 [==============================] - 1s 3ms/step - loss: 0.0373 - accuracy: 0.9894\n",
      "Epoch 15/21\n",
      "469/469 [==============================] - 1s 3ms/step - loss: 0.0330 - accuracy: 0.9907\n",
      "Epoch 16/21\n",
      "469/469 [==============================] - 1s 3ms/step - loss: 0.0306 - accuracy: 0.9915\n",
      "Epoch 17/21\n",
      "469/469 [==============================] - 1s 3ms/step - loss: 0.0281 - accuracy: 0.9923\n",
      "Epoch 18/21\n",
      "469/469 [==============================] - 1s 3ms/step - loss: 0.0247 - accuracy: 0.9937\n",
      "Epoch 19/21\n",
      "469/469 [==============================] - 1s 3ms/step - loss: 0.0226 - accuracy: 0.9940\n",
      "Epoch 20/21\n",
      "469/469 [==============================] - 1s 3ms/step - loss: 0.0209 - accuracy: 0.9946\n",
      "Epoch 21/21\n",
      "469/469 [==============================] - 1s 3ms/step - loss: 0.0184 - accuracy: 0.9955\n",
      "313/313 [==============================] - 1s 2ms/step - loss: 0.0819 - accuracy: 0.9771\n",
      "Epoch 1/100\n",
      "391/391 [==============================] - 2s 4ms/step - loss: 0.4609 - accuracy: 0.8742 - val_loss: 0.2439 - val_accuracy: 0.9327\n",
      "Epoch 2/100\n",
      "391/391 [==============================] - 2s 4ms/step - loss: 0.2315 - accuracy: 0.9334 - val_loss: 0.1966 - val_accuracy: 0.9450\n",
      "Epoch 3/100\n",
      "391/391 [==============================] - 1s 4ms/step - loss: 0.1795 - accuracy: 0.9482 - val_loss: 0.1573 - val_accuracy: 0.9560\n",
      "Epoch 4/100\n",
      "391/391 [==============================] - 1s 3ms/step - loss: 0.1474 - accuracy: 0.9570 - val_loss: 0.1398 - val_accuracy: 0.9604\n",
      "Epoch 5/100\n",
      "391/391 [==============================] - 1s 3ms/step - loss: 0.1237 - accuracy: 0.9636 - val_loss: 0.1236 - val_accuracy: 0.9633\n",
      "Epoch 6/100\n",
      "391/391 [==============================] - 1s 3ms/step - loss: 0.1065 - accuracy: 0.9689 - val_loss: 0.1193 - val_accuracy: 0.9649\n",
      "Epoch 7/100\n",
      "391/391 [==============================] - 1s 4ms/step - loss: 0.0931 - accuracy: 0.9725 - val_loss: 0.1075 - val_accuracy: 0.9680\n",
      "Epoch 8/100\n",
      "391/391 [==============================] - 1s 4ms/step - loss: 0.0822 - accuracy: 0.9764 - val_loss: 0.1070 - val_accuracy: 0.9690\n",
      "Epoch 9/100\n",
      "391/391 [==============================] - 1s 4ms/step - loss: 0.0734 - accuracy: 0.9785 - val_loss: 0.1034 - val_accuracy: 0.9688\n",
      "Epoch 10/100\n",
      "391/391 [==============================] - 1s 3ms/step - loss: 0.0657 - accuracy: 0.9815 - val_loss: 0.0969 - val_accuracy: 0.9707\n",
      "Epoch 11/100\n",
      "391/391 [==============================] - 1s 4ms/step - loss: 0.0590 - accuracy: 0.9830 - val_loss: 0.0990 - val_accuracy: 0.9701\n",
      "Epoch 12/100\n",
      "391/391 [==============================] - 1s 3ms/step - loss: 0.0526 - accuracy: 0.9852 - val_loss: 0.1004 - val_accuracy: 0.9714\n",
      "Epoch 13/100\n",
      "391/391 [==============================] - 1s 3ms/step - loss: 0.0483 - accuracy: 0.9868 - val_loss: 0.0967 - val_accuracy: 0.9707\n",
      "Epoch 14/100\n",
      "391/391 [==============================] - 1s 3ms/step - loss: 0.0434 - accuracy: 0.9881 - val_loss: 0.0934 - val_accuracy: 0.9724\n",
      "Epoch 15/100\n",
      "391/391 [==============================] - 1s 3ms/step - loss: 0.0390 - accuracy: 0.9894 - val_loss: 0.0963 - val_accuracy: 0.9706\n",
      "Epoch 16/100\n",
      "391/391 [==============================] - 1s 3ms/step - loss: 0.0356 - accuracy: 0.9909 - val_loss: 0.0953 - val_accuracy: 0.9730\n",
      "Epoch 17/100\n",
      "391/391 [==============================] - 1s 3ms/step - loss: 0.0321 - accuracy: 0.9920 - val_loss: 0.0934 - val_accuracy: 0.9718\n",
      "Epoch 18/100\n",
      "391/391 [==============================] - 1s 3ms/step - loss: 0.0294 - accuracy: 0.9926 - val_loss: 0.0948 - val_accuracy: 0.9725\n",
      "Epoch 19/100\n",
      "391/391 [==============================] - 1s 4ms/step - loss: 0.0264 - accuracy: 0.9937 - val_loss: 0.0933 - val_accuracy: 0.9728\n",
      "Epoch 20/100\n",
      "391/391 [==============================] - 1s 4ms/step - loss: 0.0248 - accuracy: 0.9938 - val_loss: 0.0993 - val_accuracy: 0.9716\n",
      "Epoch 21/100\n",
      "391/391 [==============================] - 1s 3ms/step - loss: 0.0217 - accuracy: 0.9951 - val_loss: 0.0976 - val_accuracy: 0.9720\n",
      "Epoch 22/100\n",
      "391/391 [==============================] - 1s 4ms/step - loss: 0.0199 - accuracy: 0.9953 - val_loss: 0.1004 - val_accuracy: 0.9715\n",
      "Epoch 23/100\n",
      "391/391 [==============================] - 1s 4ms/step - loss: 0.0175 - accuracy: 0.9966 - val_loss: 0.1018 - val_accuracy: 0.9725\n",
      "Epoch 24/100\n",
      "391/391 [==============================] - 1s 4ms/step - loss: 0.0167 - accuracy: 0.9966 - val_loss: 0.1040 - val_accuracy: 0.9708\n",
      "Epoch 25/100\n",
      "391/391 [==============================] - 1s 4ms/step - loss: 0.0151 - accuracy: 0.9971 - val_loss: 0.0984 - val_accuracy: 0.9731\n",
      "Epoch 26/100\n",
      "391/391 [==============================] - 1s 4ms/step - loss: 0.0129 - accuracy: 0.9977 - val_loss: 0.1022 - val_accuracy: 0.9715\n",
      "Epoch 27/100\n",
      "391/391 [==============================] - 1s 3ms/step - loss: 0.0123 - accuracy: 0.9977 - val_loss: 0.1074 - val_accuracy: 0.9727\n",
      "Epoch 28/100\n",
      "391/391 [==============================] - 1s 4ms/step - loss: 0.0104 - accuracy: 0.9983 - val_loss: 0.1055 - val_accuracy: 0.9719\n",
      "Epoch 29/100\n",
      "391/391 [==============================] - 1s 4ms/step - loss: 0.0098 - accuracy: 0.9985 - val_loss: 0.1081 - val_accuracy: 0.9719\n",
      "Best epoch: 19\n",
      "Epoch 1/22\n",
      "469/469 [==============================] - 2s 3ms/step - loss: 0.4195 - accuracy: 0.8849\n",
      "Epoch 2/22\n",
      "469/469 [==============================] - 1s 3ms/step - loss: 0.2080 - accuracy: 0.9407\n",
      "Epoch 3/22\n",
      "469/469 [==============================] - 1s 3ms/step - loss: 0.1599 - accuracy: 0.9530\n",
      "Epoch 4/22\n",
      "469/469 [==============================] - 1s 3ms/step - loss: 0.1296 - accuracy: 0.9625\n",
      "Epoch 5/22\n",
      "469/469 [==============================] - 1s 3ms/step - loss: 0.1098 - accuracy: 0.9678\n",
      "Epoch 6/22\n",
      "469/469 [==============================] - 1s 3ms/step - loss: 0.0942 - accuracy: 0.9727\n",
      "Epoch 7/22\n",
      "469/469 [==============================] - 1s 3ms/step - loss: 0.0825 - accuracy: 0.9761\n",
      "Epoch 8/22\n",
      "469/469 [==============================] - 1s 3ms/step - loss: 0.0730 - accuracy: 0.9785\n",
      "Epoch 9/22\n",
      "469/469 [==============================] - 1s 3ms/step - loss: 0.0656 - accuracy: 0.9810\n",
      "Epoch 10/22\n",
      "469/469 [==============================] - 1s 3ms/step - loss: 0.0588 - accuracy: 0.9828\n",
      "Epoch 11/22\n",
      "469/469 [==============================] - 1s 3ms/step - loss: 0.0526 - accuracy: 0.9843\n",
      "Epoch 12/22\n",
      "469/469 [==============================] - 1s 3ms/step - loss: 0.0465 - accuracy: 0.9864\n",
      "Epoch 13/22\n",
      "469/469 [==============================] - 1s 3ms/step - loss: 0.0424 - accuracy: 0.9876\n",
      "Epoch 14/22\n",
      "469/469 [==============================] - 1s 3ms/step - loss: 0.0388 - accuracy: 0.9891\n",
      "Epoch 15/22\n",
      "469/469 [==============================] - 1s 3ms/step - loss: 0.0347 - accuracy: 0.9904\n",
      "Epoch 16/22\n",
      "469/469 [==============================] - 1s 3ms/step - loss: 0.0315 - accuracy: 0.9916\n",
      "Epoch 17/22\n",
      "469/469 [==============================] - 1s 3ms/step - loss: 0.0287 - accuracy: 0.9926\n",
      "Epoch 18/22\n",
      "469/469 [==============================] - 1s 3ms/step - loss: 0.0252 - accuracy: 0.9933\n",
      "Epoch 19/22\n",
      "469/469 [==============================] - 2s 3ms/step - loss: 0.0239 - accuracy: 0.9936\n",
      "Epoch 20/22\n",
      "469/469 [==============================] - 1s 3ms/step - loss: 0.0211 - accuracy: 0.9951\n",
      "Epoch 21/22\n",
      "469/469 [==============================] - 1s 3ms/step - loss: 0.0194 - accuracy: 0.9954\n",
      "Epoch 22/22\n",
      "469/469 [==============================] - 1s 3ms/step - loss: 0.0175 - accuracy: 0.9962\n",
      "313/313 [==============================] - 1s 2ms/step - loss: 0.0882 - accuracy: 0.9750\n",
      "Epoch 1/100\n",
      "391/391 [==============================] - 2s 4ms/step - loss: 0.4584 - accuracy: 0.8734 - val_loss: 0.2375 - val_accuracy: 0.9352\n",
      "Epoch 2/100\n",
      "391/391 [==============================] - 1s 3ms/step - loss: 0.2218 - accuracy: 0.9370 - val_loss: 0.1817 - val_accuracy: 0.9500\n",
      "Epoch 3/100\n",
      "391/391 [==============================] - 1s 3ms/step - loss: 0.1747 - accuracy: 0.9499 - val_loss: 0.1548 - val_accuracy: 0.9576\n",
      "Epoch 4/100\n",
      "391/391 [==============================] - 1s 4ms/step - loss: 0.1435 - accuracy: 0.9584 - val_loss: 0.1393 - val_accuracy: 0.9610\n",
      "Epoch 5/100\n",
      "391/391 [==============================] - 1s 3ms/step - loss: 0.1235 - accuracy: 0.9642 - val_loss: 0.1323 - val_accuracy: 0.9626\n",
      "Epoch 6/100\n",
      "391/391 [==============================] - 1s 3ms/step - loss: 0.1073 - accuracy: 0.9691 - val_loss: 0.1177 - val_accuracy: 0.9653\n",
      "Epoch 7/100\n",
      "391/391 [==============================] - 1s 3ms/step - loss: 0.0950 - accuracy: 0.9723 - val_loss: 0.1104 - val_accuracy: 0.9685\n",
      "Epoch 8/100\n",
      "391/391 [==============================] - 1s 3ms/step - loss: 0.0849 - accuracy: 0.9754 - val_loss: 0.1069 - val_accuracy: 0.9685\n",
      "Epoch 9/100\n",
      "391/391 [==============================] - 1s 3ms/step - loss: 0.0762 - accuracy: 0.9784 - val_loss: 0.1080 - val_accuracy: 0.9670\n",
      "Epoch 10/100\n",
      "391/391 [==============================] - 1s 4ms/step - loss: 0.0678 - accuracy: 0.9802 - val_loss: 0.1016 - val_accuracy: 0.9705\n",
      "Epoch 11/100\n",
      "391/391 [==============================] - 1s 3ms/step - loss: 0.0622 - accuracy: 0.9821 - val_loss: 0.0984 - val_accuracy: 0.9712\n",
      "Epoch 12/100\n",
      "391/391 [==============================] - 1s 4ms/step - loss: 0.0551 - accuracy: 0.9847 - val_loss: 0.1021 - val_accuracy: 0.9713\n",
      "Epoch 13/100\n",
      "391/391 [==============================] - 1s 3ms/step - loss: 0.0501 - accuracy: 0.9860 - val_loss: 0.1001 - val_accuracy: 0.9706\n",
      "Epoch 14/100\n",
      "391/391 [==============================] - 1s 4ms/step - loss: 0.0463 - accuracy: 0.9868 - val_loss: 0.0972 - val_accuracy: 0.9717\n",
      "Epoch 15/100\n",
      "391/391 [==============================] - 1s 3ms/step - loss: 0.0409 - accuracy: 0.9888 - val_loss: 0.0986 - val_accuracy: 0.9697\n",
      "Epoch 16/100\n",
      "391/391 [==============================] - 1s 3ms/step - loss: 0.0373 - accuracy: 0.9899 - val_loss: 0.0933 - val_accuracy: 0.9729\n",
      "Epoch 17/100\n",
      "391/391 [==============================] - 1s 3ms/step - loss: 0.0336 - accuracy: 0.9912 - val_loss: 0.0987 - val_accuracy: 0.9709\n",
      "Epoch 18/100\n",
      "391/391 [==============================] - 1s 3ms/step - loss: 0.0310 - accuracy: 0.9919 - val_loss: 0.0943 - val_accuracy: 0.9731\n",
      "Epoch 19/100\n",
      "391/391 [==============================] - 2s 4ms/step - loss: 0.0277 - accuracy: 0.9931 - val_loss: 0.0946 - val_accuracy: 0.9727\n",
      "Epoch 20/100\n",
      "391/391 [==============================] - 1s 3ms/step - loss: 0.0251 - accuracy: 0.9941 - val_loss: 0.1035 - val_accuracy: 0.9704\n",
      "Epoch 21/100\n",
      "391/391 [==============================] - 1s 3ms/step - loss: 0.0234 - accuracy: 0.9942 - val_loss: 0.0976 - val_accuracy: 0.9734\n",
      "Epoch 22/100\n",
      "391/391 [==============================] - 1s 3ms/step - loss: 0.0208 - accuracy: 0.9952 - val_loss: 0.0973 - val_accuracy: 0.9732\n",
      "Epoch 23/100\n",
      "391/391 [==============================] - 1s 3ms/step - loss: 0.0188 - accuracy: 0.9958 - val_loss: 0.1014 - val_accuracy: 0.9720\n",
      "Epoch 24/100\n",
      "391/391 [==============================] - 1s 4ms/step - loss: 0.0177 - accuracy: 0.9962 - val_loss: 0.1012 - val_accuracy: 0.9726\n",
      "Epoch 25/100\n",
      "391/391 [==============================] - 1s 3ms/step - loss: 0.0152 - accuracy: 0.9969 - val_loss: 0.1037 - val_accuracy: 0.9723\n",
      "Epoch 26/100\n",
      "391/391 [==============================] - 1s 3ms/step - loss: 0.0140 - accuracy: 0.9973 - val_loss: 0.1049 - val_accuracy: 0.9722\n",
      "Best epoch: 16\n",
      "Epoch 1/19\n",
      "469/469 [==============================] - 2s 3ms/step - loss: 0.4148 - accuracy: 0.8881\n",
      "Epoch 2/19\n",
      "469/469 [==============================] - 1s 3ms/step - loss: 0.1970 - accuracy: 0.9442\n",
      "Epoch 3/19\n",
      "469/469 [==============================] - 1s 3ms/step - loss: 0.1519 - accuracy: 0.9564\n",
      "Epoch 4/19\n",
      "469/469 [==============================] - 1s 3ms/step - loss: 0.1238 - accuracy: 0.9643\n",
      "Epoch 5/19\n",
      "469/469 [==============================] - 1s 3ms/step - loss: 0.1050 - accuracy: 0.9695\n",
      "Epoch 6/19\n",
      "469/469 [==============================] - 1s 3ms/step - loss: 0.0913 - accuracy: 0.9733\n",
      "Epoch 7/19\n",
      "469/469 [==============================] - 1s 3ms/step - loss: 0.0791 - accuracy: 0.9768\n",
      "Epoch 8/19\n",
      "469/469 [==============================] - 1s 3ms/step - loss: 0.0711 - accuracy: 0.9791\n",
      "Epoch 9/19\n",
      "469/469 [==============================] - 1s 3ms/step - loss: 0.0633 - accuracy: 0.9817\n",
      "Epoch 10/19\n",
      "469/469 [==============================] - 1s 3ms/step - loss: 0.0564 - accuracy: 0.9835\n",
      "Epoch 11/19\n",
      "469/469 [==============================] - 1s 3ms/step - loss: 0.0512 - accuracy: 0.9852\n",
      "Epoch 12/19\n",
      "469/469 [==============================] - 1s 3ms/step - loss: 0.0457 - accuracy: 0.9870\n",
      "Epoch 13/19\n",
      "469/469 [==============================] - 1s 3ms/step - loss: 0.0413 - accuracy: 0.9890\n",
      "Epoch 14/19\n",
      "469/469 [==============================] - 1s 3ms/step - loss: 0.0378 - accuracy: 0.9893\n",
      "Epoch 15/19\n",
      "469/469 [==============================] - 1s 3ms/step - loss: 0.0335 - accuracy: 0.9907\n",
      "Epoch 16/19\n",
      "469/469 [==============================] - 2s 3ms/step - loss: 0.0310 - accuracy: 0.9912\n",
      "Epoch 17/19\n",
      "469/469 [==============================] - 1s 3ms/step - loss: 0.0280 - accuracy: 0.9924\n",
      "Epoch 18/19\n",
      "469/469 [==============================] - 1s 3ms/step - loss: 0.0253 - accuracy: 0.9931\n",
      "Epoch 19/19\n",
      "469/469 [==============================] - 1s 3ms/step - loss: 0.0234 - accuracy: 0.9940\n",
      "313/313 [==============================] - 1s 2ms/step - loss: 0.0821 - accuracy: 0.9773\n"
     ]
    }
   ],
   "source": [
    "def get_best_trained_model(hp):\n",
    "    best_epoch = get_best_epoch(hp)\n",
    "    model = build_model(hp)\n",
    "    model.fit(\n",
    "        x_train_full, y_train_full,\n",
    "        batch_size=128, epochs=int(best_epoch * 1.2))\n",
    "    return model\n",
    "\n",
    "best_models = []\n",
    "for hp in best_hps:\n",
    "    model = get_best_trained_model(hp)\n",
    "    model.evaluate(x_test, y_test)\n",
    "    best_models.append(model)"
   ]
  },
  {
   "cell_type": "code",
   "execution_count": 11,
   "id": "c93d5b4a",
   "metadata": {
    "execution": {
     "iopub.execute_input": "2023-04-16T19:31:47.054767Z",
     "iopub.status.busy": "2023-04-16T19:31:47.054377Z",
     "iopub.status.idle": "2023-04-16T19:31:48.408425Z",
     "shell.execute_reply": "2023-04-16T19:31:48.407374Z"
    },
    "papermill": {
     "duration": 1.609587,
     "end_time": "2023-04-16T19:31:48.411215",
     "exception": false,
     "start_time": "2023-04-16T19:31:46.801628",
     "status": "completed"
    },
    "tags": []
   },
   "outputs": [],
   "source": [
    "best_models = tuner.get_best_models(top_n)"
   ]
  },
  {
   "cell_type": "markdown",
   "id": "85208327",
   "metadata": {
    "papermill": {
     "duration": 0.254042,
     "end_time": "2023-04-16T19:31:48.923421",
     "exception": false,
     "start_time": "2023-04-16T19:31:48.669379",
     "status": "completed"
    },
    "tags": []
   },
   "source": [
    "#### The art of crafting the right search space"
   ]
  },
  {
   "cell_type": "markdown",
   "id": "e12e6b05",
   "metadata": {
    "papermill": {
     "duration": 0.273811,
     "end_time": "2023-04-16T19:31:49.450517",
     "exception": false,
     "start_time": "2023-04-16T19:31:49.176706",
     "status": "completed"
    },
    "tags": []
   },
   "source": [
    "#### The future of hyperparameter tuning: automated machine learning"
   ]
  },
  {
   "cell_type": "markdown",
   "id": "a889421c",
   "metadata": {
    "papermill": {
     "duration": 0.301684,
     "end_time": "2023-04-16T19:31:50.002074",
     "exception": false,
     "start_time": "2023-04-16T19:31:49.700390",
     "status": "completed"
    },
    "tags": []
   },
   "source": [
    "### Model ensembling"
   ]
  },
  {
   "cell_type": "markdown",
   "id": "6d56b82d",
   "metadata": {
    "papermill": {
     "duration": 0.251542,
     "end_time": "2023-04-16T19:31:50.506497",
     "exception": false,
     "start_time": "2023-04-16T19:31:50.254955",
     "status": "completed"
    },
    "tags": []
   },
   "source": [
    "## Scaling-up model training"
   ]
  },
  {
   "cell_type": "markdown",
   "id": "7e619ddc",
   "metadata": {
    "papermill": {
     "duration": 0.249118,
     "end_time": "2023-04-16T19:31:51.004078",
     "exception": false,
     "start_time": "2023-04-16T19:31:50.754960",
     "status": "completed"
    },
    "tags": []
   },
   "source": [
    "### Speeding up training on GPU with mixed precision"
   ]
  },
  {
   "cell_type": "markdown",
   "id": "63f69f82",
   "metadata": {
    "papermill": {
     "duration": 0.253243,
     "end_time": "2023-04-16T19:31:51.507271",
     "exception": false,
     "start_time": "2023-04-16T19:31:51.254028",
     "status": "completed"
    },
    "tags": []
   },
   "source": [
    "#### Understanding floating-point precision"
   ]
  },
  {
   "cell_type": "code",
   "execution_count": 12,
   "id": "af35b396",
   "metadata": {
    "execution": {
     "iopub.execute_input": "2023-04-16T19:31:52.060804Z",
     "iopub.status.busy": "2023-04-16T19:31:52.060362Z",
     "iopub.status.idle": "2023-04-16T19:31:52.073831Z",
     "shell.execute_reply": "2023-04-16T19:31:52.072802Z"
    },
    "papermill": {
     "duration": 0.320087,
     "end_time": "2023-04-16T19:31:52.076557",
     "exception": false,
     "start_time": "2023-04-16T19:31:51.756470",
     "status": "completed"
    },
    "tags": []
   },
   "outputs": [
    {
     "data": {
      "text/plain": [
       "tf.float64"
      ]
     },
     "execution_count": 12,
     "metadata": {},
     "output_type": "execute_result"
    }
   ],
   "source": [
    "import tensorflow as tf\n",
    "import numpy as np\n",
    "np_array = np.zeros((2, 2))\n",
    "tf_tensor = tf.convert_to_tensor(np_array)\n",
    "tf_tensor.dtype"
   ]
  },
  {
   "cell_type": "code",
   "execution_count": 13,
   "id": "e1cba856",
   "metadata": {
    "execution": {
     "iopub.execute_input": "2023-04-16T19:31:52.608766Z",
     "iopub.status.busy": "2023-04-16T19:31:52.608314Z",
     "iopub.status.idle": "2023-04-16T19:31:52.617758Z",
     "shell.execute_reply": "2023-04-16T19:31:52.616624Z"
    },
    "papermill": {
     "duration": 0.287068,
     "end_time": "2023-04-16T19:31:52.620833",
     "exception": false,
     "start_time": "2023-04-16T19:31:52.333765",
     "status": "completed"
    },
    "tags": []
   },
   "outputs": [
    {
     "data": {
      "text/plain": [
       "tf.float32"
      ]
     },
     "execution_count": 13,
     "metadata": {},
     "output_type": "execute_result"
    }
   ],
   "source": [
    "np_array = np.zeros((2, 2))\n",
    "tf_tensor = tf.convert_to_tensor(np_array, dtype=\"float32\")\n",
    "tf_tensor.dtype"
   ]
  },
  {
   "cell_type": "markdown",
   "id": "7aae1b26",
   "metadata": {
    "papermill": {
     "duration": 0.247758,
     "end_time": "2023-04-16T19:31:53.117596",
     "exception": false,
     "start_time": "2023-04-16T19:31:52.869838",
     "status": "completed"
    },
    "tags": []
   },
   "source": [
    "#### Mixed-precision training in practice"
   ]
  },
  {
   "cell_type": "code",
   "execution_count": 14,
   "id": "22af1147",
   "metadata": {
    "execution": {
     "iopub.execute_input": "2023-04-16T19:31:53.618620Z",
     "iopub.status.busy": "2023-04-16T19:31:53.617541Z",
     "iopub.status.idle": "2023-04-16T19:31:53.623913Z",
     "shell.execute_reply": "2023-04-16T19:31:53.622907Z"
    },
    "papermill": {
     "duration": 0.260855,
     "end_time": "2023-04-16T19:31:53.626127",
     "exception": false,
     "start_time": "2023-04-16T19:31:53.365272",
     "status": "completed"
    },
    "tags": []
   },
   "outputs": [],
   "source": [
    "from tensorflow import keras\n",
    "keras.mixed_precision.set_global_policy(\"mixed_float16\")"
   ]
  },
  {
   "cell_type": "markdown",
   "id": "e4669878",
   "metadata": {
    "papermill": {
     "duration": 0.30049,
     "end_time": "2023-04-16T19:31:54.173995",
     "exception": false,
     "start_time": "2023-04-16T19:31:53.873505",
     "status": "completed"
    },
    "tags": []
   },
   "source": [
    "### Multi-GPU training"
   ]
  },
  {
   "cell_type": "markdown",
   "id": "091c73f9",
   "metadata": {
    "papermill": {
     "duration": 0.250989,
     "end_time": "2023-04-16T19:31:54.675315",
     "exception": false,
     "start_time": "2023-04-16T19:31:54.424326",
     "status": "completed"
    },
    "tags": []
   },
   "source": [
    "#### Getting your hands on two or more GPUs"
   ]
  },
  {
   "cell_type": "markdown",
   "id": "985e5688",
   "metadata": {
    "papermill": {
     "duration": 0.250265,
     "end_time": "2023-04-16T19:31:55.173894",
     "exception": false,
     "start_time": "2023-04-16T19:31:54.923629",
     "status": "completed"
    },
    "tags": []
   },
   "source": [
    "#### Single-host, multi-device synchronous training"
   ]
  },
  {
   "cell_type": "markdown",
   "id": "6f11b552",
   "metadata": {
    "papermill": {
     "duration": 0.253421,
     "end_time": "2023-04-16T19:31:55.676724",
     "exception": false,
     "start_time": "2023-04-16T19:31:55.423303",
     "status": "completed"
    },
    "tags": []
   },
   "source": [
    "### TPU training"
   ]
  },
  {
   "cell_type": "markdown",
   "id": "a7ad4106",
   "metadata": {
    "papermill": {
     "duration": 0.249739,
     "end_time": "2023-04-16T19:31:56.232766",
     "exception": false,
     "start_time": "2023-04-16T19:31:55.983027",
     "status": "completed"
    },
    "tags": []
   },
   "source": [
    "#### Using a TPU via Google Colab"
   ]
  },
  {
   "cell_type": "markdown",
   "id": "74aca51b",
   "metadata": {
    "papermill": {
     "duration": 0.251702,
     "end_time": "2023-04-16T19:31:56.735610",
     "exception": false,
     "start_time": "2023-04-16T19:31:56.483908",
     "status": "completed"
    },
    "tags": []
   },
   "source": [
    "#### Leveraging step fusing to improve TPU utilization"
   ]
  },
  {
   "cell_type": "markdown",
   "id": "8edceeed",
   "metadata": {
    "papermill": {
     "duration": 0.249423,
     "end_time": "2023-04-16T19:31:57.232942",
     "exception": false,
     "start_time": "2023-04-16T19:31:56.983519",
     "status": "completed"
    },
    "tags": []
   },
   "source": [
    "## Summary"
   ]
  },
  {
   "cell_type": "code",
   "execution_count": 15,
   "id": "12278db9",
   "metadata": {
    "execution": {
     "iopub.execute_input": "2023-04-16T19:31:57.770557Z",
     "iopub.status.busy": "2023-04-16T19:31:57.769546Z",
     "iopub.status.idle": "2023-04-16T19:31:57.775955Z",
     "shell.execute_reply": "2023-04-16T19:31:57.774782Z"
    },
    "papermill": {
     "duration": 0.288173,
     "end_time": "2023-04-16T19:31:57.779176",
     "exception": false,
     "start_time": "2023-04-16T19:31:57.491003",
     "status": "completed"
    },
    "tags": []
   },
   "outputs": [
    {
     "name": "stdout",
     "output_type": "stream",
     "text": [
      "Took:7138.22s\n",
      "Current time: 2023-04-16 19:31:57.772499\n"
     ]
    }
   ],
   "source": [
    "print(\"Took:{0:.2f}s\".format(time.time()- t0))\n",
    "now = datetime.datetime.now()\n",
    "print(\"Current time:\", now)"
   ]
  }
 ],
 "metadata": {
  "kernelspec": {
   "display_name": "Python 3",
   "language": "python",
   "name": "python3"
  },
  "language_info": {
   "codemirror_mode": {
    "name": "ipython",
    "version": 3
   },
   "file_extension": ".py",
   "mimetype": "text/x-python",
   "name": "python",
   "nbconvert_exporter": "python",
   "pygments_lexer": "ipython3",
   "version": "3.7.12"
  },
  "papermill": {
   "default_parameters": {},
   "duration": 7151.299563,
   "end_time": "2023-04-16T19:32:01.601906",
   "environment_variables": {},
   "exception": null,
   "input_path": "__notebook__.ipynb",
   "output_path": "__notebook__.ipynb",
   "parameters": {},
   "start_time": "2023-04-16T17:32:50.302343",
   "version": "2.4.0"
  }
 },
 "nbformat": 4,
 "nbformat_minor": 5
}
