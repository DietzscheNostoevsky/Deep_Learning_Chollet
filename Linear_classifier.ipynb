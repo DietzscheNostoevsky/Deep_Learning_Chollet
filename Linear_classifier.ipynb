{
 "cells": [
  {
   "attachments": {},
   "cell_type": "markdown",
   "metadata": {},
   "source": [
    "# Linear Classifier in Tensorflow from Scratch"
   ]
  },
  {
   "attachments": {},
   "cell_type": "markdown",
   "metadata": {},
   "source": [
    "### Starting with some nicely linearly separable synthetic data to work with. \n",
    "\n",
    "**Data** : two classes of points in a 2D plane. <br>\n",
    "\n",
    "We’ll generate each class of points by drawing their coordinates from a random distribution with a specific covariance matrix and a specific mean. <br>\n",
    "Intuitively, the covariance matrix describes the shape of the point cloud, and the mean describes its position in the plane. <br>\n",
    "We’ll reuse the same covariance matrix for both point clouds, but we’ll use two different mean values—the point clouds will have the same shape, but different positions.<br>\n"
   ]
  },
  {
   "cell_type": "code",
   "execution_count": 6,
   "metadata": {},
   "outputs": [],
   "source": [
    "import numpy as np\n",
    "num_samples_per_class = 1000\n",
    "\n",
    "# Generate the first class of points: 1000 random 2D points. \n",
    "# cov=[[1, 0.5],[0.5, 1]] corresponds to an oval-like point cloud \n",
    "# oriented from bottom left to top right.\n",
    "negative_samples = np.random.multivariate_normal(\n",
    "    mean=[0,3],\n",
    "    cov=[[1,0.5],[0.5,1]],\n",
    "    size=num_samples_per_class\n",
    "    )\n",
    "# Generate the other class of points with a different mean and the same covariance matrix.\n",
    "positive_samples = np.random.multivariate_normal(\n",
    "    mean=[3,0],\n",
    "    cov=[[1,0.5],[0.5,1]],\n",
    "    size=num_samples_per_class\n",
    "    )\n",
    "\n",
    "# Stacking the differn tdata into a single array \n",
    "\n",
    "inputs = np.vstack((negative_samples,positive_samples)).astype(np.float32)\n",
    "\n",
    "# \n"
   ]
  },
  {
   "cell_type": "code",
   "execution_count": 5,
   "metadata": {},
   "outputs": [
    {
     "data": {
      "text/plain": [
       "array([-0.28048058,  2.78462392])"
      ]
     },
     "execution_count": 5,
     "metadata": {},
     "output_type": "execute_result"
    }
   ],
   "source": []
  },
  {
   "cell_type": "code",
   "execution_count": null,
   "metadata": {},
   "outputs": [],
   "source": []
  }
 ],
 "metadata": {
  "kernelspec": {
   "display_name": "Python 3",
   "language": "python",
   "name": "python3"
  },
  "language_info": {
   "codemirror_mode": {
    "name": "ipython",
    "version": 3
   },
   "file_extension": ".py",
   "mimetype": "text/x-python",
   "name": "python",
   "nbconvert_exporter": "python",
   "pygments_lexer": "ipython3",
   "version": "3.9.6"
  },
  "orig_nbformat": 4,
  "vscode": {
   "interpreter": {
    "hash": "aee8b7b246df8f9039afb4144a1f6fd8d2ca17a180786b69acc140d282b71a49"
   }
  }
 },
 "nbformat": 4,
 "nbformat_minor": 2
}
