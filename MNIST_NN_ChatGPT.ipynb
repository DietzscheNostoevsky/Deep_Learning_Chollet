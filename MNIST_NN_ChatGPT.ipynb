{
  "cells": [
    {
      "cell_type": "markdown",
      "metadata": {
        "id": "LD_Vg-haQHf9"
      },
      "source": [
        "# Create a neural network to solve the MNIST problem using Keras using ChatGPT"
      ]
    },
    {
      "cell_type": "markdown",
      "metadata": {
        "id": "W6pP83etQHgF"
      },
      "source": [
        "## Data"
      ]
    },
    {
      "cell_type": "code",
      "execution_count": 8,
      "metadata": {},
      "outputs": [],
      "source": [
        "import time\n",
        "t0 = time.time()\n",
        "import numpy as np\n",
        "import matplotlib.pyplot as plt\n",
        "\n",
        "from keras.datasets import mnist\n",
        "from keras.models import Sequential\n",
        "from keras.layers import Dense, Dropout, Flatten, Conv2D, MaxPooling2D\n",
        "# Calculating notebook running time\n"
      ]
    },
    {
      "cell_type": "code",
      "execution_count": 9,
      "metadata": {
        "id": "C5GG5qtUQHgI",
        "outputId": "5c4a99f0-dfa1-4ecc-f270-733bb46c546b"
      },
      "outputs": [
        {
          "name": "stdout",
          "output_type": "stream",
          "text": [
            "Epoch 1/10\n",
            " 289/1875 [===>..........................] - ETA: 1:07 - loss: 0.4061 - accuracy: 0.8713"
          ]
        }
      ],
      "source": [
        "import numpy as np\n",
        "import matplotlib.pyplot as plt\n",
        "\n",
        "from keras.datasets import mnist\n",
        "from keras.models import Sequential\n",
        "from keras.layers import Dense, Dropout, Flatten, Conv2D, MaxPooling2D\n",
        "\n",
        "# load the MNIST dataset\n",
        "(X_train, y_train), (X_test, y_test) = mnist.load_data()\n",
        "\n",
        "# normalize the pixel values (0-255) to be between 0 and 1\n",
        "X_train = X_train.astype(\"float32\") / 255\n",
        "X_test = X_test.astype(\"float32\") / 255\n",
        "\n",
        "# define the model architecture\n",
        "model = Sequential()\n",
        "model.add(Conv2D(32, kernel_size=(3, 3),\n",
        "          activation='relu', input_shape=(28, 28, 1)))\n",
        "model.add(MaxPooling2D(pool_size=(2, 2)))\n",
        "model.add(Flatten())\n",
        "model.add(Dense(512, activation='relu'))\n",
        "model.add(Dropout(0.2))\n",
        "model.add(Dense(10, activation='softmax'))\n",
        "\n",
        "# compile the model\n",
        "model.compile(optimizer='rmsprop',\n",
        "              loss='sparse_categorical_crossentropy', metrics=['accuracy'])\n",
        "\n",
        "X_val = X_test[:2000]\n",
        "y_val = y_test[:2000]\n",
        "X_test = X_test[2000:]\n",
        "y_test = y_test[2000:]\n",
        "\n",
        "# train the model\n",
        "history = model.fit(X_train, y_train, batch_size=32,\n",
        "                    epochs=10, validation_data=(X_val, y_val))\n",
        "print(F\"Took {time.time()-t0:.2f} secs to run \")\n"
      ]
    },
    {
      "cell_type": "code",
      "execution_count": null,
      "metadata": {
        "id": "t9QJGFMHQHgJ",
        "outputId": "872092a8-c7a9-463a-bd7c-92294d057a03"
      },
      "outputs": [
        {
          "name": "stdout",
          "output_type": "stream",
          "text": [
            "250/250 [==============================] - 4s 15ms/step - loss: 0.0396 - accuracy: 0.9912\n",
            "Test accuracy: 0.9912499785423279\n"
          ]
        }
      ],
      "source": [
        "test_loss, test_acc = model.evaluate(X_test, y_test)\n",
        "print('Test accuracy:', test_acc)\n",
        "print(F\"Took {time.time()-t0:.2f} secs to run \")\n"
      ]
    },
    {
      "cell_type": "markdown",
      "metadata": {
        "id": "UlCaKOsbQHgK"
      },
      "source": [
        "## plot the training and validation loss"
      ]
    },
    {
      "cell_type": "code",
      "execution_count": null,
      "metadata": {
        "id": "ymaDMHfxQHgL",
        "outputId": "8dc68bb1-6778-4794-aa55-f9a38dea8fdf"
      },
      "outputs": [
        {
          "data": {
            "image/png": "[encoded data removed]",
            "text/plain": [
              "<Figure size 432x288 with 1 Axes>"
            ]
          },
          "metadata": {
            "needs_background": "light"
          },
          "output_type": "display_data"
        }
      ],
      "source": [
        "# plot the training and validation loss\n",
        "plt.plot(history.history['loss'])\n",
        "plt.plot(history.history['val_loss'])\n",
        "plt.title('Model loss')\n",
        "plt.ylabel('Loss')\n",
        "plt.xlabel('Epoch')\n",
        "plt.legend(['Train', 'Validation'], loc='upper right')\n",
        "plt.show()\n",
        "print(F\"Took {time.time()-t0:.2f} secs to run \")\n"
      ]
    },
    {
      "cell_type": "markdown",
      "metadata": {
        "id": "Xv5foC-yQHgM"
      },
      "source": [
        "### Summary"
      ]
    },
    {
      "cell_type": "code",
      "execution_count": null,
      "metadata": {
        "id": "12UtkSjxQHgM",
        "outputId": "a1733574-85a4-4297-822d-ac457c8d1655"
      },
      "outputs": [
        {
          "name": "stdout",
          "output_type": "stream",
          "text": [
            "Model: \"sequential\"\n",
            "_________________________________________________________________\n",
            " Layer (type)                Output Shape              Param #   \n",
            "=================================================================\n",
            " conv2d (Conv2D)             (None, 26, 26, 32)        320       \n",
            "                                                                 \n",
            " max_pooling2d (MaxPooling2D  (None, 13, 13, 32)       0         \n",
            " )                                                               \n",
            "                                                                 \n",
            " flatten (Flatten)           (None, 5408)              0         \n",
            "                                                                 \n",
            " dense (Dense)               (None, 512)               2769408   \n",
            "                                                                 \n",
            " dropout (Dropout)           (None, 512)               0         \n",
            "                                                                 \n",
            " dense_1 (Dense)             (None, 10)                5130      \n",
            "                                                                 \n",
            "=================================================================\n",
            "Total params: 2,774,858\n",
            "Trainable params: 2,774,858\n",
            "Non-trainable params: 0\n",
            "_________________________________________________________________\n"
          ]
        }
      ],
      "source": [
        "model.summary()\n",
        "print(F\"Took {time.time()-t0:.2f} secs to run \")\n"
      ]
    },
    {
      "cell_type": "code",
      "execution_count": null,
      "metadata": {
        "id": "QjFIewXfQHgM",
        "outputId": "4106f83a-0455-4811-d8f2-58cbd68cec0f"
      },
      "outputs": [
        {
          "name": "stdout",
          "output_type": "stream",
          "text": [
            "You must install pydot (`pip install pydot`) and install graphviz (see instructions at https://graphviz.gitlab.io/download/) for plot_model to work.\n"
          ]
        }
      ],
      "source": [
        "from keras.utils import plot_model\n",
        "plot_model(model, to_file='model.png', show_shapes=True, show_layer_names=True)\n"
      ]
    },
    {
      "cell_type": "markdown",
      "metadata": {
        "id": "LcEwgFELQHgN"
      },
      "source": [
        "### Save model  "
      ]
    },
    {
      "cell_type": "code",
      "execution_count": null,
      "metadata": {
        "id": "R5mH2gLFQHgN"
      },
      "outputs": [],
      "source": [
        "#model.save('model.h5')\n"
      ]
    },
    {
      "cell_type": "markdown",
      "metadata": {
        "id": "6Lenp6aoQHgN"
      },
      "source": [
        "### Prediction"
      ]
    },
    {
      "cell_type": "code",
      "execution_count": null,
      "metadata": {
        "id": "bCP0WaVMQHgO"
      },
      "outputs": [],
      "source": [
        "from keras.models import load_model\n",
        "\n",
        "\n",
        "class Predictor:\n",
        "    def __init__(self, model_path):\n",
        "        self.model_path = model_path\n",
        "        self.model = None\n",
        "\n",
        "    def predict(self, image):\n",
        "        # load the model from disk if it hasn't been loaded\n",
        "        if self.model is None:\n",
        "            self.model = load_model(self.model_path)\n",
        "\n",
        "        # predict the image\n",
        "        prediction = self.model.predict(image)\n",
        "\n",
        "        # return the predicted label\n",
        "        return np.argmax(prediction)\n"
      ]
    },
    {
      "cell_type": "code",
      "execution_count": null,
      "metadata": {
        "id": "ujuzMe-ZQHgO",
        "outputId": "0ca355e6-9d18-424d-c1f0-b54a66c115f6"
      },
      "outputs": [
        {
          "name": "stdout",
          "output_type": "stream",
          "text": [
            "1/1 [==============================] - 1s 1s/step\n",
            "True Label:  3 Predicted Label:  3\n",
            "1/1 [==============================] - 0s 58ms/step\n",
            "True Label:  4 Predicted Label:  4\n",
            "1/1 [==============================] - 0s 73ms/step\n",
            "True Label:  3 Predicted Label:  3\n",
            "1/1 [==============================] - 0s 136ms/step\n",
            "True Label:  7 Predicted Label:  7\n",
            "1/1 [==============================] - 0s 114ms/step\n",
            "True Label:  2 Predicted Label:  2\n",
            "1/1 [==============================] - 0s 184ms/step\n",
            "True Label:  4 Predicted Label:  4\n",
            "1/1 [==============================] - 0s 303ms/step\n",
            "True Label:  0 Predicted Label:  0\n",
            "1/1 [==============================] - 0s 39ms/step\n",
            "True Label:  7 Predicted Label:  7\n",
            "1/1 [==============================] - 0s 124ms/step\n",
            "True Label:  7 Predicted Label:  7\n",
            "1/1 [==============================] - 0s 129ms/step\n",
            "True Label:  7 Predicted Label:  7\n"
          ]
        }
      ],
      "source": [
        "# select 10 random images from the test set\n",
        "random_indices = np.random.randint(0, len(X_test), 10)\n",
        "random_images = X_test[random_indices]\n",
        "random_labels = y_test[random_indices]\n",
        "\n",
        "predictor = Predictor(\"model.h5\")\n",
        "\n",
        "for i in range(10):\n",
        "    predicted_label = predictor.predict(random_images[i].reshape(1, 28, 28, 1))\n",
        "    print(\"True Label: \", random_labels[i],\n",
        "          \"Predicted Label: \", predicted_label)\n"
      ]
    },
    {
      "cell_type": "code",
      "execution_count": null,
      "metadata": {
        "id": "e0SCrNqLQHgO",
        "outputId": "bf246ce6-1060-4269-9331-056ebf1be03b"
      },
      "outputs": [
        {
          "name": "stdout",
          "output_type": "stream",
          "text": [
            "250/250 [==============================] - 5s 16ms/step\n"
          ]
        },
        {
          "data": {
            "image/png": "[encoded data removed]",
            "text/plain": [
              "<Figure size 432x288 with 2 Axes>"
            ]
          },
          "metadata": {
            "needs_background": "light"
          },
          "output_type": "display_data"
        }
      ],
      "source": [
        "\n",
        "from sklearn.metrics import confusion_matrix\n",
        "import seaborn as sns\n",
        "\n",
        "# Predict the test set\n",
        "y_pred = model.predict(X_test)\n",
        "\n",
        "# Convert the predicted probabilities to class labels\n",
        "y_pred = np.argmax(y_pred, axis=1)\n",
        "\n",
        "# Create the confusion matrix\n",
        "cm = confusion_matrix(y_test, y_pred)\n",
        "\n",
        "# Plot the confusion matrix\n",
        "sns.heatmap(cm, annot=True, fmt='d')\n",
        "plt.xlabel('Predicted')\n",
        "plt.ylabel('True')\n",
        "plt.show()\n"
      ]
    },
    {
      "cell_type": "markdown",
      "metadata": {
        "id": "PxOQrpG0QeHy"
      },
      "source": [
        "### Testing Google Colab integration "
      ]
    },
    {
      "cell_type": "code",
      "execution_count": null,
      "metadata": {},
      "outputs": [],
      "source": [
        "# Integration successfull. This line is being updated from VsCode\n",
        "print(F\"Took {time.time()-t0:.2f} secs to run \")\n"
      ]
    }
  ],
  "metadata": {
    "colab": {
      "provenance": []
    },
    "kernelspec": {
      "display_name": "Python 3",
      "language": "python",
      "name": "python3"
    },
    "language_info": {
      "codemirror_mode": {
        "name": "ipython",
        "version": 3
      },
      "file_extension": ".py",
      "mimetype": "text/x-python",
      "name": "python",
      "nbconvert_exporter": "python",
      "pygments_lexer": "ipython3",
      "version": "3.9.6"
    },
    "orig_nbformat": 4,
    "vscode": {
      "interpreter": {
        "hash": "aee8b7b246df8f9039afb4144a1f6fd8d2ca17a180786b69acc140d282b71a49"
      }
    }
  },
  "nbformat": 4,
  "nbformat_minor": 0
}
